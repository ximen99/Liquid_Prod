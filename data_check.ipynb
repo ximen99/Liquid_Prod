{
 "cells": [
  {
   "cell_type": "markdown",
   "metadata": {},
   "source": [
    "# Set Date"
   ]
  },
  {
   "cell_type": "code",
   "execution_count": 1,
   "metadata": {},
   "outputs": [
    {
     "data": {
      "text/plain": [
       "WindowsPath('S:/IT IRSR Shared/RedSwan/RedSwan/Master_bcIMC/LIQUID/Liquid')"
      ]
     },
     "execution_count": 1,
     "metadata": {},
     "output_type": "execute_result"
    }
   ],
   "source": [
    "import lib\n",
    "from datetime import date, timedelta\n",
    "import warnings\n",
    "warnings.filterwarnings(\"ignore\")\n",
    "import pandas as pd\n",
    "\n",
    "pd.options.display.float_format = '{:.2f}'.format\n",
    "\n",
    "# last week's validation date \n",
    "from_date = date(2024, 2, 23)\n",
    "# new week's date to work on\n",
    "new_date = from_date + timedelta(days=6)\n",
    "# check environment, if production it should return share drive path\n",
    "lib.liquid.BASE_PATH"
   ]
  },
  {
   "cell_type": "markdown",
   "metadata": {},
   "source": [
    "# Download Data"
   ]
  },
  {
   "cell_type": "code",
   "execution_count": 2,
   "metadata": {},
   "outputs": [
    {
     "data": {
      "text/plain": [
       "array(['20230131'], dtype=object)"
      ]
     },
     "execution_count": 2,
     "metadata": {},
     "output_type": "execute_result"
    }
   ],
   "source": [
    "df = lib.liquid.get_all_liquid_except_CIBC()\n",
    "df['RiskDate'].unique()"
   ]
  },
  {
   "cell_type": "markdown",
   "metadata": {},
   "source": [
    "# CCP & Cash"
   ]
  },
  {
   "cell_type": "code",
   "execution_count": 2,
   "metadata": {},
   "outputs": [
    {
     "name": "stdout",
     "output_type": "stream",
     "text": [
      "All counter party are mapped\n"
     ]
    }
   ],
   "source": [
    "lib.liquid.counter_party_check()"
   ]
  },
  {
   "cell_type": "markdown",
   "metadata": {},
   "source": [
    "# FUT\n",
    "check month code in the link below <br>\n",
    "https://en.wikipedia.org/wiki/Delivery_month\n"
   ]
  },
  {
   "cell_type": "code",
   "execution_count": null,
   "metadata": {},
   "outputs": [],
   "source": [
    "(\n",
    "    df\n",
    "    .query(\"InstrumentTypeDesc.str.contains('Future')\", engine='python')\n",
    "    .query(\"securityName.str.contains('CAN 5YR BOND FUT')\", engine='python')\n",
    "    [[\"InstrumentTypeDesc\",\"securityName\",\"ExchangeId_Best\",\"ExchangeId_BestType\"]]\n",
    ")"
   ]
  },
  {
   "cell_type": "markdown",
   "metadata": {},
   "source": [
    "# EBS\n",
    "get_superD_BTRSEQ function will read the data from BTRSEQ file in `new_date` folder\n",
    "and create pivot summary view"
   ]
  },
  {
   "cell_type": "code",
   "execution_count": 4,
   "metadata": {},
   "outputs": [
    {
     "data": {
      "text/html": [
       "<div>\n",
       "<style scoped>\n",
       "    .dataframe tbody tr th:only-of-type {\n",
       "        vertical-align: middle;\n",
       "    }\n",
       "\n",
       "    .dataframe tbody tr th {\n",
       "        vertical-align: top;\n",
       "    }\n",
       "\n",
       "    .dataframe thead th {\n",
       "        text-align: right;\n",
       "    }\n",
       "</style>\n",
       "<table border=\"1\" class=\"dataframe\">\n",
       "  <thead>\n",
       "    <tr style=\"text-align: right;\">\n",
       "      <th></th>\n",
       "      <th>External Trade ID</th>\n",
       "      <th>Volume</th>\n",
       "    </tr>\n",
       "    <tr>\n",
       "      <th>External ID</th>\n",
       "      <th></th>\n",
       "      <th></th>\n",
       "    </tr>\n",
       "  </thead>\n",
       "  <tbody>\n",
       "    <tr>\n",
       "      <th>SW24043145</th>\n",
       "      <td>354</td>\n",
       "      <td>73603962.50</td>\n",
       "    </tr>\n",
       "    <tr>\n",
       "      <th>SW24043146</th>\n",
       "      <td>997</td>\n",
       "      <td>63917377.86</td>\n",
       "    </tr>\n",
       "    <tr>\n",
       "      <th>SW44375268</th>\n",
       "      <td>400</td>\n",
       "      <td>31430486.58</td>\n",
       "    </tr>\n",
       "    <tr>\n",
       "      <th>SW44375278</th>\n",
       "      <td>955</td>\n",
       "      <td>21925180.53</td>\n",
       "    </tr>\n",
       "  </tbody>\n",
       "</table>\n",
       "</div>"
      ],
      "text/plain": [
       "             External Trade ID      Volume\n",
       "External ID                               \n",
       "SW24043145                 354 73603962.50\n",
       "SW24043146                 997 63917377.86\n",
       "SW44375268                 400 31430486.58\n",
       "SW44375278                 955 21925180.53"
      ]
     },
     "execution_count": 4,
     "metadata": {},
     "output_type": "execute_result"
    }
   ],
   "source": [
    "lib.liquid.get_superD_BTRSEQ(new_date)"
   ]
  },
  {
   "cell_type": "markdown",
   "metadata": {},
   "source": [
    "# EIS"
   ]
  },
  {
   "cell_type": "code",
   "execution_count": 2,
   "metadata": {},
   "outputs": [],
   "source": [
    "issue_index = ['MSCIEMCAD',\n",
    "]"
   ]
  },
  {
   "cell_type": "code",
   "execution_count": 3,
   "metadata": {},
   "outputs": [
    {
     "name": "stdout",
     "output_type": "stream",
     "text": [
      "for MSCIEMCAD, find {'SecId': '70692840', 'securityName': 'EQ Index Swap EQ Leg R TRTSE60 SEP23 Royal Bank of', 'SwapIndexId': 'TRTSE60'}\n"
     ]
    },
    {
     "ename": "ValueError",
     "evalue": "Can only compare identically-labeled Series objects",
     "output_type": "error",
     "traceback": [
      "\u001b[1;31m---------------------------------------------------------------------------\u001b[0m",
      "\u001b[1;31mValueError\u001b[0m                                Traceback (most recent call last)",
      "\u001b[1;32mc:\\Users\\CXimen\\OneDrive - BCI\\Documents\\Liquid_Data_Production_Dev\\src\\data_check.ipynb Cell 13\u001b[0m in \u001b[0;36m1\n\u001b[1;32m----> <a href='vscode-notebook-cell:/c%3A/Users/CXimen/OneDrive%20-%20BCI/Documents/Liquid_Data_Production_Dev/src/data_check.ipynb#X15sZmlsZQ%3D%3D?line=0'>1</a>\u001b[0m lib\u001b[39m.\u001b[39;49mliquid\u001b[39m.\u001b[39;49mget_index_map(issue_index, new_date)\n",
      "File \u001b[1;32mc:\\Users\\CXimen\\OneDrive - BCI\\Documents\\Liquid_Data_Production_Dev\\src\\lib\\liquid.py:404\u001b[0m, in \u001b[0;36mget_index_map\u001b[1;34m(index, dt)\u001b[0m\n\u001b[0;32m    402\u001b[0m         \u001b[39mprint\u001b[39m(\u001b[39mf\u001b[39m\u001b[39m\"\u001b[39m\u001b[39mcan\u001b[39m\u001b[39m'\u001b[39m\u001b[39mt find sec_id for \u001b[39m\u001b[39m{\u001b[39;00mindex\u001b[39m}\u001b[39;00m\u001b[39m\"\u001b[39m)\n\u001b[0;32m    403\u001b[0m \u001b[39mfor\u001b[39;00m sec_id \u001b[39min\u001b[39;00m sec_id_ls:\n\u001b[1;32m--> 404\u001b[0m     df_final \u001b[39m=\u001b[39m pd\u001b[39m.\u001b[39mconcat([df_final, df_map\u001b[39m.\u001b[39;49mquery(\u001b[39m\"\u001b[39;49m\u001b[39mSEC_ID == @sec_id\u001b[39;49m\u001b[39m\"\u001b[39;49m)[\n\u001b[0;32m    405\u001b[0m         [\u001b[39m'\u001b[39m\u001b[39mSEC_ID\u001b[39m\u001b[39m'\u001b[39m, \u001b[39m'\u001b[39m\u001b[39mACC_SYS_SEC_ID\u001b[39m\u001b[39m'\u001b[39m, \u001b[39m'\u001b[39m\u001b[39mBENCHMARK_ID\u001b[39m\u001b[39m'\u001b[39m, \u001b[39m'\u001b[39m\u001b[39mINDEX_NAME\u001b[39m\u001b[39m'\u001b[39m, \u001b[39m'\u001b[39m\u001b[39mMSCI_RM_INDEX_ID\u001b[39m\u001b[39m'\u001b[39m]]])\n\u001b[0;32m    406\u001b[0m \u001b[39mreturn\u001b[39;00m df_final\n",
      "File \u001b[1;32mc:\\Users\\CXimen\\OneDrive - BCI\\Documents\\Liquid_Data_Production_Dev\\venv\\lib\\site-packages\\pandas\\util\\_decorators.py:331\u001b[0m, in \u001b[0;36mdeprecate_nonkeyword_arguments.<locals>.decorate.<locals>.wrapper\u001b[1;34m(*args, **kwargs)\u001b[0m\n\u001b[0;32m    325\u001b[0m \u001b[39mif\u001b[39;00m \u001b[39mlen\u001b[39m(args) \u001b[39m>\u001b[39m num_allow_args:\n\u001b[0;32m    326\u001b[0m     warnings\u001b[39m.\u001b[39mwarn(\n\u001b[0;32m    327\u001b[0m         msg\u001b[39m.\u001b[39mformat(arguments\u001b[39m=\u001b[39m_format_argument_list(allow_args)),\n\u001b[0;32m    328\u001b[0m         \u001b[39mFutureWarning\u001b[39;00m,\n\u001b[0;32m    329\u001b[0m         stacklevel\u001b[39m=\u001b[39mfind_stack_level(),\n\u001b[0;32m    330\u001b[0m     )\n\u001b[1;32m--> 331\u001b[0m \u001b[39mreturn\u001b[39;00m func(\u001b[39m*\u001b[39;49margs, \u001b[39m*\u001b[39;49m\u001b[39m*\u001b[39;49mkwargs)\n",
      "File \u001b[1;32mc:\\Users\\CXimen\\OneDrive - BCI\\Documents\\Liquid_Data_Production_Dev\\venv\\lib\\site-packages\\pandas\\core\\frame.py:4463\u001b[0m, in \u001b[0;36mDataFrame.query\u001b[1;34m(self, expr, inplace, **kwargs)\u001b[0m\n\u001b[0;32m   4461\u001b[0m kwargs[\u001b[39m\"\u001b[39m\u001b[39mlevel\u001b[39m\u001b[39m\"\u001b[39m] \u001b[39m=\u001b[39m kwargs\u001b[39m.\u001b[39mpop(\u001b[39m\"\u001b[39m\u001b[39mlevel\u001b[39m\u001b[39m\"\u001b[39m, \u001b[39m0\u001b[39m) \u001b[39m+\u001b[39m \u001b[39m2\u001b[39m\n\u001b[0;32m   4462\u001b[0m kwargs[\u001b[39m\"\u001b[39m\u001b[39mtarget\u001b[39m\u001b[39m\"\u001b[39m] \u001b[39m=\u001b[39m \u001b[39mNone\u001b[39;00m\n\u001b[1;32m-> 4463\u001b[0m res \u001b[39m=\u001b[39m \u001b[39mself\u001b[39;49m\u001b[39m.\u001b[39;49meval(expr, \u001b[39m*\u001b[39;49m\u001b[39m*\u001b[39;49mkwargs)\n\u001b[0;32m   4465\u001b[0m \u001b[39mtry\u001b[39;00m:\n\u001b[0;32m   4466\u001b[0m     result \u001b[39m=\u001b[39m \u001b[39mself\u001b[39m\u001b[39m.\u001b[39mloc[res]\n",
      "File \u001b[1;32mc:\\Users\\CXimen\\OneDrive - BCI\\Documents\\Liquid_Data_Production_Dev\\venv\\lib\\site-packages\\pandas\\util\\_decorators.py:331\u001b[0m, in \u001b[0;36mdeprecate_nonkeyword_arguments.<locals>.decorate.<locals>.wrapper\u001b[1;34m(*args, **kwargs)\u001b[0m\n\u001b[0;32m    325\u001b[0m \u001b[39mif\u001b[39;00m \u001b[39mlen\u001b[39m(args) \u001b[39m>\u001b[39m num_allow_args:\n\u001b[0;32m    326\u001b[0m     warnings\u001b[39m.\u001b[39mwarn(\n\u001b[0;32m    327\u001b[0m         msg\u001b[39m.\u001b[39mformat(arguments\u001b[39m=\u001b[39m_format_argument_list(allow_args)),\n\u001b[0;32m    328\u001b[0m         \u001b[39mFutureWarning\u001b[39;00m,\n\u001b[0;32m    329\u001b[0m         stacklevel\u001b[39m=\u001b[39mfind_stack_level(),\n\u001b[0;32m    330\u001b[0m     )\n\u001b[1;32m--> 331\u001b[0m \u001b[39mreturn\u001b[39;00m func(\u001b[39m*\u001b[39;49margs, \u001b[39m*\u001b[39;49m\u001b[39m*\u001b[39;49mkwargs)\n",
      "File \u001b[1;32mc:\\Users\\CXimen\\OneDrive - BCI\\Documents\\Liquid_Data_Production_Dev\\venv\\lib\\site-packages\\pandas\\core\\frame.py:4601\u001b[0m, in \u001b[0;36mDataFrame.eval\u001b[1;34m(self, expr, inplace, **kwargs)\u001b[0m\n\u001b[0;32m   4598\u001b[0m     kwargs[\u001b[39m\"\u001b[39m\u001b[39mtarget\u001b[39m\u001b[39m\"\u001b[39m] \u001b[39m=\u001b[39m \u001b[39mself\u001b[39m\n\u001b[0;32m   4599\u001b[0m kwargs[\u001b[39m\"\u001b[39m\u001b[39mresolvers\u001b[39m\u001b[39m\"\u001b[39m] \u001b[39m=\u001b[39m \u001b[39mtuple\u001b[39m(kwargs\u001b[39m.\u001b[39mget(\u001b[39m\"\u001b[39m\u001b[39mresolvers\u001b[39m\u001b[39m\"\u001b[39m, ())) \u001b[39m+\u001b[39m resolvers\n\u001b[1;32m-> 4601\u001b[0m \u001b[39mreturn\u001b[39;00m _eval(expr, inplace\u001b[39m=\u001b[39;49minplace, \u001b[39m*\u001b[39;49m\u001b[39m*\u001b[39;49mkwargs)\n",
      "File \u001b[1;32mc:\\Users\\CXimen\\OneDrive - BCI\\Documents\\Liquid_Data_Production_Dev\\venv\\lib\\site-packages\\pandas\\core\\computation\\eval.py:353\u001b[0m, in \u001b[0;36meval\u001b[1;34m(expr, parser, engine, truediv, local_dict, global_dict, resolvers, level, target, inplace)\u001b[0m\n\u001b[0;32m    344\u001b[0m \u001b[39m# get our (possibly passed-in) scope\u001b[39;00m\n\u001b[0;32m    345\u001b[0m env \u001b[39m=\u001b[39m ensure_scope(\n\u001b[0;32m    346\u001b[0m     level \u001b[39m+\u001b[39m \u001b[39m1\u001b[39m,\n\u001b[0;32m    347\u001b[0m     global_dict\u001b[39m=\u001b[39mglobal_dict,\n\u001b[1;32m   (...)\u001b[0m\n\u001b[0;32m    350\u001b[0m     target\u001b[39m=\u001b[39mtarget,\n\u001b[0;32m    351\u001b[0m )\n\u001b[1;32m--> 353\u001b[0m parsed_expr \u001b[39m=\u001b[39m Expr(expr, engine\u001b[39m=\u001b[39;49mengine, parser\u001b[39m=\u001b[39;49mparser, env\u001b[39m=\u001b[39;49menv)\n\u001b[0;32m    355\u001b[0m \u001b[39m# construct the engine and evaluate the parsed expression\u001b[39;00m\n\u001b[0;32m    356\u001b[0m eng \u001b[39m=\u001b[39m ENGINES[engine]\n",
      "File \u001b[1;32mc:\\Users\\CXimen\\OneDrive - BCI\\Documents\\Liquid_Data_Production_Dev\\venv\\lib\\site-packages\\pandas\\core\\computation\\expr.py:813\u001b[0m, in \u001b[0;36mExpr.__init__\u001b[1;34m(self, expr, engine, parser, env, level)\u001b[0m\n\u001b[0;32m    811\u001b[0m \u001b[39mself\u001b[39m\u001b[39m.\u001b[39mparser \u001b[39m=\u001b[39m parser\n\u001b[0;32m    812\u001b[0m \u001b[39mself\u001b[39m\u001b[39m.\u001b[39m_visitor \u001b[39m=\u001b[39m PARSERS[parser](\u001b[39mself\u001b[39m\u001b[39m.\u001b[39menv, \u001b[39mself\u001b[39m\u001b[39m.\u001b[39mengine, \u001b[39mself\u001b[39m\u001b[39m.\u001b[39mparser)\n\u001b[1;32m--> 813\u001b[0m \u001b[39mself\u001b[39m\u001b[39m.\u001b[39mterms \u001b[39m=\u001b[39m \u001b[39mself\u001b[39;49m\u001b[39m.\u001b[39;49mparse()\n",
      "File \u001b[1;32mc:\\Users\\CXimen\\OneDrive - BCI\\Documents\\Liquid_Data_Production_Dev\\venv\\lib\\site-packages\\pandas\\core\\computation\\expr.py:832\u001b[0m, in \u001b[0;36mExpr.parse\u001b[1;34m(self)\u001b[0m\n\u001b[0;32m    828\u001b[0m \u001b[39mdef\u001b[39;00m \u001b[39mparse\u001b[39m(\u001b[39mself\u001b[39m):\n\u001b[0;32m    829\u001b[0m     \u001b[39m\"\"\"\u001b[39;00m\n\u001b[0;32m    830\u001b[0m \u001b[39m    Parse an expression.\u001b[39;00m\n\u001b[0;32m    831\u001b[0m \u001b[39m    \"\"\"\u001b[39;00m\n\u001b[1;32m--> 832\u001b[0m     \u001b[39mreturn\u001b[39;00m \u001b[39mself\u001b[39;49m\u001b[39m.\u001b[39;49m_visitor\u001b[39m.\u001b[39;49mvisit(\u001b[39mself\u001b[39;49m\u001b[39m.\u001b[39;49mexpr)\n",
      "File \u001b[1;32mc:\\Users\\CXimen\\OneDrive - BCI\\Documents\\Liquid_Data_Production_Dev\\venv\\lib\\site-packages\\pandas\\core\\computation\\expr.py:415\u001b[0m, in \u001b[0;36mBaseExprVisitor.visit\u001b[1;34m(self, node, **kwargs)\u001b[0m\n\u001b[0;32m    413\u001b[0m method \u001b[39m=\u001b[39m \u001b[39m\"\u001b[39m\u001b[39mvisit_\u001b[39m\u001b[39m\"\u001b[39m \u001b[39m+\u001b[39m \u001b[39mtype\u001b[39m(node)\u001b[39m.\u001b[39m\u001b[39m__name__\u001b[39m\n\u001b[0;32m    414\u001b[0m visitor \u001b[39m=\u001b[39m \u001b[39mgetattr\u001b[39m(\u001b[39mself\u001b[39m, method)\n\u001b[1;32m--> 415\u001b[0m \u001b[39mreturn\u001b[39;00m visitor(node, \u001b[39m*\u001b[39;49m\u001b[39m*\u001b[39;49mkwargs)\n",
      "File \u001b[1;32mc:\\Users\\CXimen\\OneDrive - BCI\\Documents\\Liquid_Data_Production_Dev\\venv\\lib\\site-packages\\pandas\\core\\computation\\expr.py:421\u001b[0m, in \u001b[0;36mBaseExprVisitor.visit_Module\u001b[1;34m(self, node, **kwargs)\u001b[0m\n\u001b[0;32m    419\u001b[0m     \u001b[39mraise\u001b[39;00m \u001b[39mSyntaxError\u001b[39;00m(\u001b[39m\"\u001b[39m\u001b[39monly a single expression is allowed\u001b[39m\u001b[39m\"\u001b[39m)\n\u001b[0;32m    420\u001b[0m expr \u001b[39m=\u001b[39m node\u001b[39m.\u001b[39mbody[\u001b[39m0\u001b[39m]\n\u001b[1;32m--> 421\u001b[0m \u001b[39mreturn\u001b[39;00m \u001b[39mself\u001b[39;49m\u001b[39m.\u001b[39;49mvisit(expr, \u001b[39m*\u001b[39;49m\u001b[39m*\u001b[39;49mkwargs)\n",
      "File \u001b[1;32mc:\\Users\\CXimen\\OneDrive - BCI\\Documents\\Liquid_Data_Production_Dev\\venv\\lib\\site-packages\\pandas\\core\\computation\\expr.py:415\u001b[0m, in \u001b[0;36mBaseExprVisitor.visit\u001b[1;34m(self, node, **kwargs)\u001b[0m\n\u001b[0;32m    413\u001b[0m method \u001b[39m=\u001b[39m \u001b[39m\"\u001b[39m\u001b[39mvisit_\u001b[39m\u001b[39m\"\u001b[39m \u001b[39m+\u001b[39m \u001b[39mtype\u001b[39m(node)\u001b[39m.\u001b[39m\u001b[39m__name__\u001b[39m\n\u001b[0;32m    414\u001b[0m visitor \u001b[39m=\u001b[39m \u001b[39mgetattr\u001b[39m(\u001b[39mself\u001b[39m, method)\n\u001b[1;32m--> 415\u001b[0m \u001b[39mreturn\u001b[39;00m visitor(node, \u001b[39m*\u001b[39;49m\u001b[39m*\u001b[39;49mkwargs)\n",
      "File \u001b[1;32mc:\\Users\\CXimen\\OneDrive - BCI\\Documents\\Liquid_Data_Production_Dev\\venv\\lib\\site-packages\\pandas\\core\\computation\\expr.py:424\u001b[0m, in \u001b[0;36mBaseExprVisitor.visit_Expr\u001b[1;34m(self, node, **kwargs)\u001b[0m\n\u001b[0;32m    423\u001b[0m \u001b[39mdef\u001b[39;00m \u001b[39mvisit_Expr\u001b[39m(\u001b[39mself\u001b[39m, node, \u001b[39m*\u001b[39m\u001b[39m*\u001b[39mkwargs):\n\u001b[1;32m--> 424\u001b[0m     \u001b[39mreturn\u001b[39;00m \u001b[39mself\u001b[39;49m\u001b[39m.\u001b[39;49mvisit(node\u001b[39m.\u001b[39;49mvalue, \u001b[39m*\u001b[39;49m\u001b[39m*\u001b[39;49mkwargs)\n",
      "File \u001b[1;32mc:\\Users\\CXimen\\OneDrive - BCI\\Documents\\Liquid_Data_Production_Dev\\venv\\lib\\site-packages\\pandas\\core\\computation\\expr.py:415\u001b[0m, in \u001b[0;36mBaseExprVisitor.visit\u001b[1;34m(self, node, **kwargs)\u001b[0m\n\u001b[0;32m    413\u001b[0m method \u001b[39m=\u001b[39m \u001b[39m\"\u001b[39m\u001b[39mvisit_\u001b[39m\u001b[39m\"\u001b[39m \u001b[39m+\u001b[39m \u001b[39mtype\u001b[39m(node)\u001b[39m.\u001b[39m\u001b[39m__name__\u001b[39m\n\u001b[0;32m    414\u001b[0m visitor \u001b[39m=\u001b[39m \u001b[39mgetattr\u001b[39m(\u001b[39mself\u001b[39m, method)\n\u001b[1;32m--> 415\u001b[0m \u001b[39mreturn\u001b[39;00m visitor(node, \u001b[39m*\u001b[39;49m\u001b[39m*\u001b[39;49mkwargs)\n",
      "File \u001b[1;32mc:\\Users\\CXimen\\OneDrive - BCI\\Documents\\Liquid_Data_Production_Dev\\venv\\lib\\site-packages\\pandas\\core\\computation\\expr.py:723\u001b[0m, in \u001b[0;36mBaseExprVisitor.visit_Compare\u001b[1;34m(self, node, **kwargs)\u001b[0m\n\u001b[0;32m    721\u001b[0m     op \u001b[39m=\u001b[39m \u001b[39mself\u001b[39m\u001b[39m.\u001b[39mtranslate_In(ops[\u001b[39m0\u001b[39m])\n\u001b[0;32m    722\u001b[0m     binop \u001b[39m=\u001b[39m ast\u001b[39m.\u001b[39mBinOp(op\u001b[39m=\u001b[39mop, left\u001b[39m=\u001b[39mnode\u001b[39m.\u001b[39mleft, right\u001b[39m=\u001b[39mcomps[\u001b[39m0\u001b[39m])\n\u001b[1;32m--> 723\u001b[0m     \u001b[39mreturn\u001b[39;00m \u001b[39mself\u001b[39;49m\u001b[39m.\u001b[39;49mvisit(binop)\n\u001b[0;32m    725\u001b[0m \u001b[39m# recursive case: we have a chained comparison, a CMP b CMP c, etc.\u001b[39;00m\n\u001b[0;32m    726\u001b[0m left \u001b[39m=\u001b[39m node\u001b[39m.\u001b[39mleft\n",
      "File \u001b[1;32mc:\\Users\\CXimen\\OneDrive - BCI\\Documents\\Liquid_Data_Production_Dev\\venv\\lib\\site-packages\\pandas\\core\\computation\\expr.py:415\u001b[0m, in \u001b[0;36mBaseExprVisitor.visit\u001b[1;34m(self, node, **kwargs)\u001b[0m\n\u001b[0;32m    413\u001b[0m method \u001b[39m=\u001b[39m \u001b[39m\"\u001b[39m\u001b[39mvisit_\u001b[39m\u001b[39m\"\u001b[39m \u001b[39m+\u001b[39m \u001b[39mtype\u001b[39m(node)\u001b[39m.\u001b[39m\u001b[39m__name__\u001b[39m\n\u001b[0;32m    414\u001b[0m visitor \u001b[39m=\u001b[39m \u001b[39mgetattr\u001b[39m(\u001b[39mself\u001b[39m, method)\n\u001b[1;32m--> 415\u001b[0m \u001b[39mreturn\u001b[39;00m visitor(node, \u001b[39m*\u001b[39;49m\u001b[39m*\u001b[39;49mkwargs)\n",
      "File \u001b[1;32mc:\\Users\\CXimen\\OneDrive - BCI\\Documents\\Liquid_Data_Production_Dev\\venv\\lib\\site-packages\\pandas\\core\\computation\\expr.py:538\u001b[0m, in \u001b[0;36mBaseExprVisitor.visit_BinOp\u001b[1;34m(self, node, **kwargs)\u001b[0m\n\u001b[0;32m    536\u001b[0m op, op_class, left, right \u001b[39m=\u001b[39m \u001b[39mself\u001b[39m\u001b[39m.\u001b[39m_maybe_transform_eq_ne(node)\n\u001b[0;32m    537\u001b[0m left, right \u001b[39m=\u001b[39m \u001b[39mself\u001b[39m\u001b[39m.\u001b[39m_maybe_downcast_constants(left, right)\n\u001b[1;32m--> 538\u001b[0m \u001b[39mreturn\u001b[39;00m \u001b[39mself\u001b[39;49m\u001b[39m.\u001b[39;49m_maybe_evaluate_binop(op, op_class, left, right)\n",
      "File \u001b[1;32mc:\\Users\\CXimen\\OneDrive - BCI\\Documents\\Liquid_Data_Production_Dev\\venv\\lib\\site-packages\\pandas\\core\\computation\\expr.py:532\u001b[0m, in \u001b[0;36mBaseExprVisitor._maybe_evaluate_binop\u001b[1;34m(self, op, op_class, lhs, rhs, eval_in_python, maybe_eval_in_python)\u001b[0m\n\u001b[0;32m    525\u001b[0m \u001b[39melif\u001b[39;00m \u001b[39mself\u001b[39m\u001b[39m.\u001b[39mengine \u001b[39m!=\u001b[39m \u001b[39m\"\u001b[39m\u001b[39mpytables\u001b[39m\u001b[39m\"\u001b[39m:\n\u001b[0;32m    526\u001b[0m     \u001b[39mif\u001b[39;00m (\n\u001b[0;32m    527\u001b[0m         \u001b[39mgetattr\u001b[39m(lhs, \u001b[39m\"\u001b[39m\u001b[39mreturn_type\u001b[39m\u001b[39m\"\u001b[39m, \u001b[39mNone\u001b[39;00m) \u001b[39m==\u001b[39m \u001b[39mobject\u001b[39m\n\u001b[0;32m    528\u001b[0m         \u001b[39mor\u001b[39;00m \u001b[39mgetattr\u001b[39m(rhs, \u001b[39m\"\u001b[39m\u001b[39mreturn_type\u001b[39m\u001b[39m\"\u001b[39m, \u001b[39mNone\u001b[39;00m) \u001b[39m==\u001b[39m \u001b[39mobject\u001b[39m\n\u001b[0;32m    529\u001b[0m     ):\n\u001b[0;32m    530\u001b[0m         \u001b[39m# evaluate \"==\" and \"!=\" in python if either of our operands\u001b[39;00m\n\u001b[0;32m    531\u001b[0m         \u001b[39m# has an object return type\u001b[39;00m\n\u001b[1;32m--> 532\u001b[0m         \u001b[39mreturn\u001b[39;00m \u001b[39mself\u001b[39;49m\u001b[39m.\u001b[39;49m_maybe_eval(res, eval_in_python \u001b[39m+\u001b[39;49m maybe_eval_in_python)\n\u001b[0;32m    533\u001b[0m \u001b[39mreturn\u001b[39;00m res\n",
      "File \u001b[1;32mc:\\Users\\CXimen\\OneDrive - BCI\\Documents\\Liquid_Data_Production_Dev\\venv\\lib\\site-packages\\pandas\\core\\computation\\expr.py:492\u001b[0m, in \u001b[0;36mBaseExprVisitor._maybe_eval\u001b[1;34m(self, binop, eval_in_python)\u001b[0m\n\u001b[0;32m    485\u001b[0m \u001b[39mdef\u001b[39;00m \u001b[39m_maybe_eval\u001b[39m(\u001b[39mself\u001b[39m, binop, eval_in_python):\n\u001b[0;32m    486\u001b[0m     \u001b[39m# eval `in` and `not in` (for now) in \"partial\" python space\u001b[39;00m\n\u001b[0;32m    487\u001b[0m     \u001b[39m# things that can be evaluated in \"eval\" space will be turned into\u001b[39;00m\n\u001b[1;32m   (...)\u001b[0m\n\u001b[0;32m    490\u001b[0m     \u001b[39m# in that case a + 2 * b will be evaluated using numexpr, and the \"in\"\u001b[39;00m\n\u001b[0;32m    491\u001b[0m     \u001b[39m# call will be evaluated using isin (in python space)\u001b[39;00m\n\u001b[1;32m--> 492\u001b[0m     \u001b[39mreturn\u001b[39;00m binop\u001b[39m.\u001b[39;49mevaluate(\n\u001b[0;32m    493\u001b[0m         \u001b[39mself\u001b[39;49m\u001b[39m.\u001b[39;49menv, \u001b[39mself\u001b[39;49m\u001b[39m.\u001b[39;49mengine, \u001b[39mself\u001b[39;49m\u001b[39m.\u001b[39;49mparser, \u001b[39mself\u001b[39;49m\u001b[39m.\u001b[39;49mterm_type, eval_in_python\n\u001b[0;32m    494\u001b[0m     )\n",
      "File \u001b[1;32mc:\\Users\\CXimen\\OneDrive - BCI\\Documents\\Liquid_Data_Production_Dev\\venv\\lib\\site-packages\\pandas\\core\\computation\\ops.py:427\u001b[0m, in \u001b[0;36mBinOp.evaluate\u001b[1;34m(self, env, engine, parser, term_type, eval_in_python)\u001b[0m\n\u001b[0;32m    410\u001b[0m \u001b[39m\"\"\"\u001b[39;00m\n\u001b[0;32m    411\u001b[0m \u001b[39mEvaluate a binary operation *before* being passed to the engine.\u001b[39;00m\n\u001b[0;32m    412\u001b[0m \n\u001b[1;32m   (...)\u001b[0m\n\u001b[0;32m    424\u001b[0m \u001b[39m    The \"pre-evaluated\" expression as an instance of ``term_type``\u001b[39;00m\n\u001b[0;32m    425\u001b[0m \u001b[39m\"\"\"\u001b[39;00m\n\u001b[0;32m    426\u001b[0m \u001b[39mif\u001b[39;00m engine \u001b[39m==\u001b[39m \u001b[39m\"\u001b[39m\u001b[39mpython\u001b[39m\u001b[39m\"\u001b[39m:\n\u001b[1;32m--> 427\u001b[0m     res \u001b[39m=\u001b[39m \u001b[39mself\u001b[39;49m(env)\n\u001b[0;32m    428\u001b[0m \u001b[39melse\u001b[39;00m:\n\u001b[0;32m    429\u001b[0m     \u001b[39m# recurse over the left/right nodes\u001b[39;00m\n\u001b[0;32m    431\u001b[0m     left \u001b[39m=\u001b[39m \u001b[39mself\u001b[39m\u001b[39m.\u001b[39mlhs\u001b[39m.\u001b[39mevaluate(\n\u001b[0;32m    432\u001b[0m         env,\n\u001b[0;32m    433\u001b[0m         engine\u001b[39m=\u001b[39mengine,\n\u001b[1;32m   (...)\u001b[0m\n\u001b[0;32m    436\u001b[0m         eval_in_python\u001b[39m=\u001b[39meval_in_python,\n\u001b[0;32m    437\u001b[0m     )\n",
      "File \u001b[1;32mc:\\Users\\CXimen\\OneDrive - BCI\\Documents\\Liquid_Data_Production_Dev\\venv\\lib\\site-packages\\pandas\\core\\computation\\ops.py:407\u001b[0m, in \u001b[0;36mBinOp.__call__\u001b[1;34m(self, env)\u001b[0m\n\u001b[0;32m    404\u001b[0m left \u001b[39m=\u001b[39m \u001b[39mself\u001b[39m\u001b[39m.\u001b[39mlhs(env)\n\u001b[0;32m    405\u001b[0m right \u001b[39m=\u001b[39m \u001b[39mself\u001b[39m\u001b[39m.\u001b[39mrhs(env)\n\u001b[1;32m--> 407\u001b[0m \u001b[39mreturn\u001b[39;00m \u001b[39mself\u001b[39;49m\u001b[39m.\u001b[39;49mfunc(left, right)\n",
      "File \u001b[1;32mc:\\Users\\CXimen\\OneDrive - BCI\\Documents\\Liquid_Data_Production_Dev\\venv\\lib\\site-packages\\pandas\\core\\ops\\common.py:72\u001b[0m, in \u001b[0;36m_unpack_zerodim_and_defer.<locals>.new_method\u001b[1;34m(self, other)\u001b[0m\n\u001b[0;32m     68\u001b[0m             \u001b[39mreturn\u001b[39;00m \u001b[39mNotImplemented\u001b[39m\n\u001b[0;32m     70\u001b[0m other \u001b[39m=\u001b[39m item_from_zerodim(other)\n\u001b[1;32m---> 72\u001b[0m \u001b[39mreturn\u001b[39;00m method(\u001b[39mself\u001b[39;49m, other)\n",
      "File \u001b[1;32mc:\\Users\\CXimen\\OneDrive - BCI\\Documents\\Liquid_Data_Production_Dev\\venv\\lib\\site-packages\\pandas\\core\\arraylike.py:42\u001b[0m, in \u001b[0;36mOpsMixin.__eq__\u001b[1;34m(self, other)\u001b[0m\n\u001b[0;32m     40\u001b[0m \u001b[39m@unpack_zerodim_and_defer\u001b[39m(\u001b[39m\"\u001b[39m\u001b[39m__eq__\u001b[39m\u001b[39m\"\u001b[39m)\n\u001b[0;32m     41\u001b[0m \u001b[39mdef\u001b[39;00m \u001b[39m__eq__\u001b[39m(\u001b[39mself\u001b[39m, other):\n\u001b[1;32m---> 42\u001b[0m     \u001b[39mreturn\u001b[39;00m \u001b[39mself\u001b[39;49m\u001b[39m.\u001b[39;49m_cmp_method(other, operator\u001b[39m.\u001b[39;49meq)\n",
      "File \u001b[1;32mc:\\Users\\CXimen\\OneDrive - BCI\\Documents\\Liquid_Data_Production_Dev\\venv\\lib\\site-packages\\pandas\\core\\series.py:6237\u001b[0m, in \u001b[0;36mSeries._cmp_method\u001b[1;34m(self, other, op)\u001b[0m\n\u001b[0;32m   6234\u001b[0m res_name \u001b[39m=\u001b[39m ops\u001b[39m.\u001b[39mget_op_result_name(\u001b[39mself\u001b[39m, other)\n\u001b[0;32m   6236\u001b[0m \u001b[39mif\u001b[39;00m \u001b[39misinstance\u001b[39m(other, Series) \u001b[39mand\u001b[39;00m \u001b[39mnot\u001b[39;00m \u001b[39mself\u001b[39m\u001b[39m.\u001b[39m_indexed_same(other):\n\u001b[1;32m-> 6237\u001b[0m     \u001b[39mraise\u001b[39;00m \u001b[39mValueError\u001b[39;00m(\u001b[39m\"\u001b[39m\u001b[39mCan only compare identically-labeled Series objects\u001b[39m\u001b[39m\"\u001b[39m)\n\u001b[0;32m   6239\u001b[0m lvalues \u001b[39m=\u001b[39m \u001b[39mself\u001b[39m\u001b[39m.\u001b[39m_values\n\u001b[0;32m   6240\u001b[0m rvalues \u001b[39m=\u001b[39m extract_array(other, extract_numpy\u001b[39m=\u001b[39m\u001b[39mTrue\u001b[39;00m, extract_range\u001b[39m=\u001b[39m\u001b[39mTrue\u001b[39;00m)\n",
      "\u001b[1;31mValueError\u001b[0m: Can only compare identically-labeled Series objects"
     ]
    }
   ],
   "source": [
    "lib.liquid.get_index_map(issue_index, new_date)"
   ]
  },
  {
   "cell_type": "markdown",
   "metadata": {},
   "source": [
    "# EQOPT"
   ]
  },
  {
   "cell_type": "markdown",
   "metadata": {},
   "source": [
    "# GBM"
   ]
  },
  {
   "cell_type": "code",
   "execution_count": 10,
   "metadata": {},
   "outputs": [
    {
     "data": {
      "text/html": [
       "<div>\n",
       "<style scoped>\n",
       "    .dataframe tbody tr th:only-of-type {\n",
       "        vertical-align: middle;\n",
       "    }\n",
       "\n",
       "    .dataframe tbody tr th {\n",
       "        vertical-align: top;\n",
       "    }\n",
       "\n",
       "    .dataframe thead th {\n",
       "        text-align: right;\n",
       "    }\n",
       "</style>\n",
       "<table border=\"1\" class=\"dataframe\">\n",
       "  <thead>\n",
       "    <tr style=\"text-align: right;\">\n",
       "      <th></th>\n",
       "      <th>InstrumentTypeDesc</th>\n",
       "      <th>securityName</th>\n",
       "      <th>ExchangeId_Best</th>\n",
       "      <th>ExchangeId_BestType</th>\n",
       "      <th>BaseTotalMarketValue</th>\n",
       "    </tr>\n",
       "  </thead>\n",
       "  <tbody>\n",
       "    <tr>\n",
       "      <th>3627</th>\n",
       "      <td>American Depository Receipt</td>\n",
       "      <td>SEA LTD-ADR</td>\n",
       "      <td>BYWD7L4</td>\n",
       "      <td>SEDOL</td>\n",
       "      <td>234443706.71</td>\n",
       "    </tr>\n",
       "    <tr>\n",
       "      <th>434</th>\n",
       "      <td>American Depository Receipt</td>\n",
       "      <td>TEVA PHARMACEUTICAL-SP ADR</td>\n",
       "      <td>2883878</td>\n",
       "      <td>SEDOL</td>\n",
       "      <td>-232710025.41</td>\n",
       "    </tr>\n",
       "    <tr>\n",
       "      <th>3053</th>\n",
       "      <td>American Depository Receipt</td>\n",
       "      <td>FUTU HOLDINGS LTD-ADR</td>\n",
       "      <td>BGK4T39</td>\n",
       "      <td>SEDOL</td>\n",
       "      <td>-232710025.41</td>\n",
       "    </tr>\n",
       "    <tr>\n",
       "      <th>1000</th>\n",
       "      <td>American Depository Receipt</td>\n",
       "      <td>SEA LTD-ADR</td>\n",
       "      <td>BYWD7L4</td>\n",
       "      <td>SEDOL</td>\n",
       "      <td>-2472323281.19</td>\n",
       "    </tr>\n",
       "    <tr>\n",
       "      <th>2020</th>\n",
       "      <td>American Depository Receipt</td>\n",
       "      <td>FUTU HOLDINGS LTD-ADR</td>\n",
       "      <td>BGK4T39</td>\n",
       "      <td>SEDOL</td>\n",
       "      <td>-2472323281.19</td>\n",
       "    </tr>\n",
       "    <tr>\n",
       "      <th>...</th>\n",
       "      <td>...</td>\n",
       "      <td>...</td>\n",
       "      <td>...</td>\n",
       "      <td>...</td>\n",
       "      <td>...</td>\n",
       "    </tr>\n",
       "    <tr>\n",
       "      <th>3463</th>\n",
       "      <td>Unit</td>\n",
       "      <td>APA GROUP</td>\n",
       "      <td>6247306</td>\n",
       "      <td>SEDOL</td>\n",
       "      <td>-232710025.41</td>\n",
       "    </tr>\n",
       "    <tr>\n",
       "      <th>3600</th>\n",
       "      <td>Unit</td>\n",
       "      <td>LENDLEASE GROUP</td>\n",
       "      <td>6512004</td>\n",
       "      <td>SEDOL</td>\n",
       "      <td>-232710025.41</td>\n",
       "    </tr>\n",
       "    <tr>\n",
       "      <th>915</th>\n",
       "      <td>Unit</td>\n",
       "      <td>HKT TRUST AND HKT LTD-SS</td>\n",
       "      <td>B4TXDZ3</td>\n",
       "      <td>SEDOL</td>\n",
       "      <td>-2472323281.19</td>\n",
       "    </tr>\n",
       "    <tr>\n",
       "      <th>2190</th>\n",
       "      <td>Unit</td>\n",
       "      <td>HK ELECTRIC INVESTMENTS -SS</td>\n",
       "      <td>BJ3WDZ1</td>\n",
       "      <td>SEDOL</td>\n",
       "      <td>-2472323281.19</td>\n",
       "    </tr>\n",
       "    <tr>\n",
       "      <th>2316</th>\n",
       "      <td>Unit</td>\n",
       "      <td>APA GROUP</td>\n",
       "      <td>6247306</td>\n",
       "      <td>SEDOL</td>\n",
       "      <td>-2472323281.19</td>\n",
       "    </tr>\n",
       "  </tbody>\n",
       "</table>\n",
       "<p>2745 rows × 5 columns</p>\n",
       "</div>"
      ],
      "text/plain": [
       "               InstrumentTypeDesc                 securityName  \\\n",
       "3627  American Depository Receipt                  SEA LTD-ADR   \n",
       "434   American Depository Receipt   TEVA PHARMACEUTICAL-SP ADR   \n",
       "3053  American Depository Receipt        FUTU HOLDINGS LTD-ADR   \n",
       "1000  American Depository Receipt                  SEA LTD-ADR   \n",
       "2020  American Depository Receipt        FUTU HOLDINGS LTD-ADR   \n",
       "...                           ...                          ...   \n",
       "3463                         Unit                    APA GROUP   \n",
       "3600                         Unit              LENDLEASE GROUP   \n",
       "915                          Unit     HKT TRUST AND HKT LTD-SS   \n",
       "2190                         Unit  HK ELECTRIC INVESTMENTS -SS   \n",
       "2316                         Unit                    APA GROUP   \n",
       "\n",
       "     ExchangeId_Best ExchangeId_BestType  BaseTotalMarketValue  \n",
       "3627         BYWD7L4               SEDOL          234443706.71  \n",
       "434          2883878               SEDOL         -232710025.41  \n",
       "3053         BGK4T39               SEDOL         -232710025.41  \n",
       "1000         BYWD7L4               SEDOL        -2472323281.19  \n",
       "2020         BGK4T39               SEDOL        -2472323281.19  \n",
       "...              ...                 ...                   ...  \n",
       "3463         6247306               SEDOL         -232710025.41  \n",
       "3600         6512004               SEDOL         -232710025.41  \n",
       "915          B4TXDZ3               SEDOL        -2472323281.19  \n",
       "2190         BJ3WDZ1               SEDOL        -2472323281.19  \n",
       "2316         6247306               SEDOL        -2472323281.19  \n",
       "\n",
       "[2745 rows x 5 columns]"
      ]
     },
     "execution_count": 10,
     "metadata": {},
     "output_type": "execute_result"
    }
   ],
   "source": [
    "(\n",
    "    df\n",
    "    .query('ParentPortfolioCode.isnull()', engine='python')\n",
    "    [['InstrumentTypeDesc','securityName','ExchangeId_Best','ExchangeId_BestType','BaseTotalMarketValue']].sort_values(['InstrumentTypeDesc','BaseTotalMarketValue'], ascending=[True,False])\n",
    ")"
   ]
  },
  {
   "cell_type": "code",
   "execution_count": 5,
   "metadata": {},
   "outputs": [
    {
     "data": {
      "text/html": [
       "<div>\n",
       "<style scoped>\n",
       "    .dataframe tbody tr th:only-of-type {\n",
       "        vertical-align: middle;\n",
       "    }\n",
       "\n",
       "    .dataframe tbody tr th {\n",
       "        vertical-align: top;\n",
       "    }\n",
       "\n",
       "    .dataframe thead th {\n",
       "        text-align: right;\n",
       "    }\n",
       "</style>\n",
       "<table border=\"1\" class=\"dataframe\">\n",
       "  <thead>\n",
       "    <tr style=\"text-align: right;\">\n",
       "      <th></th>\n",
       "      <th>BCIGicsSector</th>\n",
       "      <th>InstrumentTypeDesc</th>\n",
       "    </tr>\n",
       "  </thead>\n",
       "  <tbody>\n",
       "    <tr>\n",
       "      <th>1268</th>\n",
       "      <td>Financials</td>\n",
       "      <td>Commercial Paper</td>\n",
       "    </tr>\n",
       "    <tr>\n",
       "      <th>1538</th>\n",
       "      <td>Financials</td>\n",
       "      <td>Commercial Paper</td>\n",
       "    </tr>\n",
       "    <tr>\n",
       "      <th>1607</th>\n",
       "      <td>Financials</td>\n",
       "      <td>Commercial Paper</td>\n",
       "    </tr>\n",
       "    <tr>\n",
       "      <th>1647</th>\n",
       "      <td>Government Debt</td>\n",
       "      <td>Municipal Bond</td>\n",
       "    </tr>\n",
       "    <tr>\n",
       "      <th>1661</th>\n",
       "      <td>Government Debt</td>\n",
       "      <td>Municipal Bond</td>\n",
       "    </tr>\n",
       "    <tr>\n",
       "      <th>1867</th>\n",
       "      <td>Government Debt</td>\n",
       "      <td>Municipal Bond</td>\n",
       "    </tr>\n",
       "    <tr>\n",
       "      <th>1902</th>\n",
       "      <td>Government Debt</td>\n",
       "      <td>Municipal Bond</td>\n",
       "    </tr>\n",
       "    <tr>\n",
       "      <th>4217</th>\n",
       "      <td>Government Debt</td>\n",
       "      <td>Municipal Bond</td>\n",
       "    </tr>\n",
       "    <tr>\n",
       "      <th>4480</th>\n",
       "      <td>Government Debt</td>\n",
       "      <td>Municipal Bond</td>\n",
       "    </tr>\n",
       "    <tr>\n",
       "      <th>4513</th>\n",
       "      <td>Government Debt</td>\n",
       "      <td>Municipal Bond</td>\n",
       "    </tr>\n",
       "    <tr>\n",
       "      <th>6378</th>\n",
       "      <td>Government Debt</td>\n",
       "      <td>Municipal Bond</td>\n",
       "    </tr>\n",
       "    <tr>\n",
       "      <th>6380</th>\n",
       "      <td>Government Debt</td>\n",
       "      <td>Municipal Bond</td>\n",
       "    </tr>\n",
       "    <tr>\n",
       "      <th>12008</th>\n",
       "      <td>Government Debt</td>\n",
       "      <td>Municipal Bond</td>\n",
       "    </tr>\n",
       "    <tr>\n",
       "      <th>12011</th>\n",
       "      <td>Government Debt</td>\n",
       "      <td>Municipal Bond</td>\n",
       "    </tr>\n",
       "  </tbody>\n",
       "</table>\n",
       "</div>"
      ],
      "text/plain": [
       "         BCIGicsSector InstrumentTypeDesc\n",
       "1268        Financials   Commercial Paper\n",
       "1538        Financials   Commercial Paper\n",
       "1607        Financials   Commercial Paper\n",
       "1647   Government Debt     Municipal Bond\n",
       "1661   Government Debt     Municipal Bond\n",
       "1867   Government Debt     Municipal Bond\n",
       "1902   Government Debt     Municipal Bond\n",
       "4217   Government Debt     Municipal Bond\n",
       "4480   Government Debt     Municipal Bond\n",
       "4513   Government Debt     Municipal Bond\n",
       "6378   Government Debt     Municipal Bond\n",
       "6380   Government Debt     Municipal Bond\n",
       "12008  Government Debt     Municipal Bond\n",
       "12011  Government Debt     Municipal Bond"
      ]
     },
     "execution_count": 5,
     "metadata": {},
     "output_type": "execute_result"
    }
   ],
   "source": [
    "(\n",
    "    df\n",
    "    .query('IssuerCode.str.contains(\"Municipal Finance Authority of British Columbia\", na=False) & not BCIGicsSector.isnull()', engine='python')\n",
    "    [['BCIGicsSector','InstrumentTypeDesc']]\n",
    "    \n",
    ")"
   ]
  },
  {
   "cell_type": "code",
   "execution_count": 21,
   "metadata": {},
   "outputs": [
    {
     "data": {
      "text/html": [
       "<div>\n",
       "<style scoped>\n",
       "    .dataframe tbody tr th:only-of-type {\n",
       "        vertical-align: middle;\n",
       "    }\n",
       "\n",
       "    .dataframe tbody tr th {\n",
       "        vertical-align: top;\n",
       "    }\n",
       "\n",
       "    .dataframe thead th {\n",
       "        text-align: right;\n",
       "    }\n",
       "</style>\n",
       "<table border=\"1\" class=\"dataframe\">\n",
       "  <thead>\n",
       "    <tr style=\"text-align: right;\">\n",
       "      <th></th>\n",
       "      <th>LocalPriceCcyCode</th>\n",
       "      <th>RiskCountryCode</th>\n",
       "    </tr>\n",
       "  </thead>\n",
       "  <tbody>\n",
       "    <tr>\n",
       "      <th>0</th>\n",
       "      <td>USD</td>\n",
       "      <td>US</td>\n",
       "    </tr>\n",
       "    <tr>\n",
       "      <th>1</th>\n",
       "      <td>USD</td>\n",
       "      <td>US</td>\n",
       "    </tr>\n",
       "    <tr>\n",
       "      <th>2</th>\n",
       "      <td>USD</td>\n",
       "      <td>US</td>\n",
       "    </tr>\n",
       "    <tr>\n",
       "      <th>3</th>\n",
       "      <td>USD</td>\n",
       "      <td>US</td>\n",
       "    </tr>\n",
       "    <tr>\n",
       "      <th>4</th>\n",
       "      <td>USD</td>\n",
       "      <td>US</td>\n",
       "    </tr>\n",
       "    <tr>\n",
       "      <th>...</th>\n",
       "      <td>...</td>\n",
       "      <td>...</td>\n",
       "    </tr>\n",
       "    <tr>\n",
       "      <th>20163</th>\n",
       "      <td>USD</td>\n",
       "      <td>US</td>\n",
       "    </tr>\n",
       "    <tr>\n",
       "      <th>20164</th>\n",
       "      <td>USD</td>\n",
       "      <td>US</td>\n",
       "    </tr>\n",
       "    <tr>\n",
       "      <th>20165</th>\n",
       "      <td>USD</td>\n",
       "      <td>US</td>\n",
       "    </tr>\n",
       "    <tr>\n",
       "      <th>20166</th>\n",
       "      <td>USD</td>\n",
       "      <td>US</td>\n",
       "    </tr>\n",
       "    <tr>\n",
       "      <th>20167</th>\n",
       "      <td>USD</td>\n",
       "      <td>US</td>\n",
       "    </tr>\n",
       "  </tbody>\n",
       "</table>\n",
       "<p>4569 rows × 2 columns</p>\n",
       "</div>"
      ],
      "text/plain": [
       "      LocalPriceCcyCode RiskCountryCode\n",
       "0                   USD              US\n",
       "1                   USD              US\n",
       "2                   USD              US\n",
       "3                   USD              US\n",
       "4                   USD              US\n",
       "...                 ...             ...\n",
       "20163               USD              US\n",
       "20164               USD              US\n",
       "20165               USD              US\n",
       "20166               USD              US\n",
       "20167               USD              US\n",
       "\n",
       "[4569 rows x 2 columns]"
      ]
     },
     "execution_count": 21,
     "metadata": {},
     "output_type": "execute_result"
    }
   ],
   "source": [
    "(\n",
    "    df\n",
    "    .query('LocalPriceCcyCode.str.contains(\"USD\", na=False) & not RiskCountryCode.isnull()', engine='python')\n",
    "    [['LocalPriceCcyCode','RiskCountryCode']]\n",
    "    \n",
    ")"
   ]
  }
 ],
 "metadata": {
  "kernelspec": {
   "display_name": "Python 3.8.10 ('venv': venv)",
   "language": "python",
   "name": "python3"
  },
  "language_info": {
   "codemirror_mode": {
    "name": "ipython",
    "version": 3
   },
   "file_extension": ".py",
   "mimetype": "text/x-python",
   "name": "python",
   "nbconvert_exporter": "python",
   "pygments_lexer": "ipython3",
   "version": "3.8.10"
  },
  "orig_nbformat": 4,
  "vscode": {
   "interpreter": {
    "hash": "e96bc769563fdec08fdde0c06411e8d2069d9d240993e40f4a81ac35c5e01f10"
   }
  }
 },
 "nbformat": 4,
 "nbformat_minor": 2
}
