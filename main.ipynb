{
 "cells": [
  {
   "attachments": {},
   "cell_type": "markdown",
   "metadata": {},
   "source": [
    "# Weekly Load Automation\n",
    "- This file will be the main interface to run python code which will operate on the respective folder used in weekly load. \n",
    "- The main function code sits in lib folder which is a python package. The package is structured in a way that each module within works on specific working folder for weekly load.\n",
    "- The config module in lib package has a variable \"IS_DEV\" which is used as a flag to determine if the code is running in dev environment or not and gets fed into all modules. please make sure it's turned to \"False\" before running in production."
   ]
  },
  {
   "cell_type": "code",
   "execution_count": 1,
   "metadata": {},
   "outputs": [
    {
     "data": {
      "text/plain": [
       "WindowsPath('S:/IT IRSR Shared/RedSwan/RedSwan/Master_bcIMC/LIQUID/Liquid')"
      ]
     },
     "execution_count": 1,
     "metadata": {},
     "output_type": "execute_result"
    }
   ],
   "source": [
    "import lib\n",
    "from datetime import date, timedelta\n",
    "import warnings\n",
    "warnings.filterwarnings(\"ignore\")\n",
    "import pandas as pd\n",
    "\n",
    "pd.options.display.float_format = '{:.2f}'.format\n",
    "\n",
    "# last week's validation date \n",
    "from_date = date(2024, 3, 8)\n",
    "# new week's date to work on\n",
    "new_date = from_date + timedelta(days=7)\n",
    "# check environment, if production it should return share drive path\n",
    "lib.liquid.BASE_PATH"
   ]
  },
  {
   "attachments": {},
   "cell_type": "markdown",
   "metadata": {},
   "source": [
    "# Liquid\n",
    "- all code related to operation in liquid folder goes here\n",
    "- S:\\IT IRSR Shared\\RedSwan\\RedSwan\\Master_bcIMC\\LIQUID\\Liquid "
   ]
  },
  {
   "attachments": {},
   "cell_type": "markdown",
   "metadata": {},
   "source": [
    "## create template folder\n",
    "- the code will copy folder according to `from_date` and paste as `to_date`\n",
    "- delete unnecessary files from last week\n",
    "- update enviroment file with new date"
   ]
  },
  {
   "cell_type": "code",
   "execution_count": 3,
   "metadata": {},
   "outputs": [
    {
     "name": "stdout",
     "output_type": "stream",
     "text": [
      "Copied folder from c:\\Users\\CXimen\\OneDrive - BCI\\Documents\\Liquid_Data_Production_Dev\\2024\\02\\02_02 to c:\\Users\\CXimen\\OneDrive - BCI\\Documents\\Liquid_Data_Production_Dev\\2024\\02\\02_09\n",
      "Copied to folder at c:\\Users\\CXimen\\OneDrive - BCI\\Documents\\Liquid_Data_Production_Dev\\2024\\02\\02_09\n",
      "Deleted file: Basket_Hedge_20240202.docx\n",
      "Deleted file: Basket_Hedge_20240202.xml\n",
      "Deleted file: FixThree_20240202.docx\n",
      "Deleted file: FixThree_20240202.xml\n",
      "Deleted file: FixTwo_20240202.docx\n",
      "Deleted file: FixTwo_20240202.xml\n",
      "Deleted file: Fix_20240202.docx\n",
      "Deleted file: Fix_20240202.xml\n",
      "Deleted file: IFT_20240202.docx\n",
      "Deleted file: IFT_20240202.xml\n",
      "Deleted file: Illiquids_20240202.docx\n",
      "Deleted file: Illiquids_20240202.xml\n",
      "Deleted file: Main_20240202.docx\n",
      "Deleted file: Main_20240202.xml\n",
      "Deleted file: Basket_Hedge_20240202.rml\n",
      "Deleted file: Basket_Hedge_20240202_Log.csv\n",
      "Deleted file: Basket_Hedge_20240202_RawLog.csv\n",
      "Deleted file: Basket_Hedge_overlapped_20240202_holdings.csv\n",
      "Deleted file: Basket_Hedge_overlapped_20240202_securities.csv\n",
      "Deleted file: Basket_Hedge_unprocessed_20240202_holdings.csv\n",
      "Deleted file: Basket_Hedge_unprocessed_20240202_securities.csv\n",
      "Deleted file: FixThree_20240202.rml\n",
      "Deleted file: FixThree_20240202_Enriched.xml\n",
      "Deleted file: FixThree_20240202_Log.csv\n",
      "Deleted file: FixThree_20240202_RawLog_2024020220240206_104234.xml\n",
      "Deleted file: FixThree_overlapped_20240202_securities.csv\n",
      "Deleted file: FixThree_unprocessed_20240202_holdings.csv\n",
      "Deleted file: FixThree_unprocessed_20240202_securities.csv\n",
      "Deleted file: FixTwo_20240202.rml\n",
      "Deleted file: FixTwo_20240202_Enriched.xml\n",
      "Deleted file: FixTwo_20240202_Log.csv\n",
      "Deleted file: FixTwo_20240202_RawLog_2024020220240206_093654.xml\n",
      "Deleted file: FixTwo_overlapped_20240202_securities.csv\n",
      "Deleted file: FixTwo_unprocessed_20240202_holdings.csv\n",
      "Deleted file: FixTwo_unprocessed_20240202_securities.csv\n",
      "Deleted file: Fix_20240202.rml\n",
      "Deleted file: Fix_20240202_Enriched.xml\n",
      "Deleted file: Fix_20240202_Log.csv\n",
      "Deleted file: Fix_20240202_RawLog_2024020220240205_164431.xml\n",
      "Deleted file: Fix_20240202_RawLog_2024020220240205_200205.xml\n",
      "Deleted file: Fix_overlapped_20240202_securities.csv\n",
      "Deleted file: Fix_unprocessed_20240202_holdings.csv\n",
      "Deleted file: Fix_unprocessed_20240202_securities.csv\n",
      "Deleted file: IFT_20240202.rml\n",
      "Deleted file: IFT_20240202_Enriched.xml\n",
      "Deleted file: IFT_20240202_Log.csv\n",
      "Deleted file: IFT_20240202_RawLog_2024020220240205_164919.xml\n",
      "Deleted file: IFT_20240202_RawLog_2024020220240205_200535.xml\n",
      "Deleted file: IFT_overlapped_20240202_securities.csv\n",
      "Deleted file: IFT_unprocessed_20240202_holdings.csv\n",
      "Deleted file: IFT_unprocessed_20240202_securities.csv\n",
      "Deleted file: Illiquids_20240202.rml\n",
      "Deleted file: Illiquids_20240202_Enriched.xml\n",
      "Deleted file: Illiquids_20240202_Log.csv\n",
      "Deleted file: Illiquids_20240202_RawLog_2024020220240205_165328.xml\n",
      "Deleted file: Illiquids_20240202_RawLog_2024020220240205_201016.xml\n",
      "Deleted file: Illiquids_overlapped_20240202_securities.csv\n",
      "Deleted file: Illiquids_unprocessed_20240202_holdings.csv\n",
      "Deleted file: Illiquids_unprocessed_20240202_securities.csv\n",
      "Deleted file: Main_20240202.rml\n",
      "Deleted file: Main_20240202_Log.csv\n",
      "Deleted file: Main_20240202_RawLog.csv\n",
      "Deleted file: Main_overlapped_20240202_securities.csv\n",
      "Deleted file: Main_unprocessed_20240202_holdings.csv\n",
      "Deleted file: Main_unprocessed_20240202_securities.csv\n",
      "Deleted file: Positions_20240202_Basket_Hedge.csv\n",
      "Deleted file: Positions_20240202_Fix.csv\n",
      "Deleted file: Positions_20240202_FixThree.csv\n",
      "Deleted file: Positions_20240202_FixTwo.csv\n",
      "Deleted file: Positions_20240202_IFT.csv\n",
      "Deleted file: Positions_20240202_Illiquids.csv\n",
      "Deleted file: Positions_20240202_Main.csv\n",
      "Deleted file: PV Report Liquids 20240126.xlsx\n",
      "Deleted file: PV Report Illiquids 20240126.xlsx\n",
      "replaced S:\\IT IRSR Shared\\RedSwan\\RedSwan\\Master_bcIMC\\LIQUID\\Liquid\\2024\\02\\02_02 with S:\\IT IRSR Shared\\RedSwan\\RedSwan\\Master_bcIMC\\LIQUID\\Liquid\\2024\\02\\02_09 in c:\\Users\\CXimen\\OneDrive - BCI\\Documents\\Liquid_Data_Production_Dev\\2024\\02\\02_09\\NewArch_LiquidsDerivatives V1 CSV.environment\n",
      "replaced 20240202 with 20240209 in c:\\Users\\CXimen\\OneDrive - BCI\\Documents\\Liquid_Data_Production_Dev\\2024\\02\\02_09\\NewArch_LiquidsDerivatives V1 CSV.environment\n",
      "replaced Basket_Hedge|Fix|IFT|Illiquids|Main|FixTwo with Basket_Hedge in c:\\Users\\CXimen\\OneDrive - BCI\\Documents\\Liquid_Data_Production_Dev\\2024\\02\\02_09\\NewArch_LiquidsDerivatives V1 CSV.environment\n"
     ]
    }
   ],
   "source": [
    "lib.liquid.create_template_folder(from_date,new_date)"
   ]
  },
  {
   "attachments": {},
   "cell_type": "markdown",
   "metadata": {},
   "source": [
    "## create Portfolio Filter Group File\n",
    "- the code will look for `Portfolio Filter Group` file with the date of `from_date` in the `to_date` working folder. update `to_date` portfolios in the file.\n",
    "- `to_date` portfolio is obtained from sql file `sql\\liquid\\portfolio_filter_group.sql`\n",
    "- save and delete last week's file\n",
    "- make sure `Portfolio Filter Group` file with the date of `from_date` exist in the folder."
   ]
  },
  {
   "cell_type": "code",
   "execution_count": 13,
   "metadata": {},
   "outputs": [
    {
     "name": "stdout",
     "output_type": "stream",
     "text": [
      "Created Portfolio Filter Group file at S:\\IT IRSR Shared\\RedSwan\\RedSwan\\Master_bcIMC\\LIQUID\\Liquid\\2024\\02\\02_29\\Portfolio Filter Group 20240229.xlsx\n",
      "Deleted file: Portfolio Filter Group 20240308.xlsx\n"
     ]
    }
   ],
   "source": [
    "lib.liquid.create_portfolio_filter_group(from_date,new_date)"
   ]
  },
  {
   "cell_type": "markdown",
   "metadata": {},
   "source": [
    "## Check Cash Counterparty\n",
    "- the code will check `CounterParty` against `ENRICHMENT_viwCounterpartyMap` table and return anyone that does not exist in the mds table"
   ]
  },
  {
   "cell_type": "code",
   "execution_count": 3,
   "metadata": {},
   "outputs": [
    {
     "name": "stdout",
     "output_type": "stream",
     "text": [
      "All counter party are mapped\n"
     ]
    }
   ],
   "source": [
    "lib.liquid.counter_party_check()"
   ]
  },
  {
   "cell_type": "markdown",
   "metadata": {},
   "source": [
    "## Check SuperD Basket Swap File\n",
    "- the code will look for file with name `BTRSEQ` in the `to_date` working folder in share drive `T:\\EDM\\Sample Data\\daily_dumps\\SuperD`"
   ]
  },
  {
   "cell_type": "code",
   "execution_count": 4,
   "metadata": {},
   "outputs": [
    {
     "data": {
      "text/html": [
       "<div>\n",
       "<style scoped>\n",
       "    .dataframe tbody tr th:only-of-type {\n",
       "        vertical-align: middle;\n",
       "    }\n",
       "\n",
       "    .dataframe tbody tr th {\n",
       "        vertical-align: top;\n",
       "    }\n",
       "\n",
       "    .dataframe thead th {\n",
       "        text-align: right;\n",
       "    }\n",
       "</style>\n",
       "<table border=\"1\" class=\"dataframe\">\n",
       "  <thead>\n",
       "    <tr style=\"text-align: right;\">\n",
       "      <th></th>\n",
       "      <th>External Trade ID</th>\n",
       "      <th>Volume</th>\n",
       "    </tr>\n",
       "    <tr>\n",
       "      <th>External ID</th>\n",
       "      <th></th>\n",
       "      <th></th>\n",
       "    </tr>\n",
       "  </thead>\n",
       "  <tbody>\n",
       "    <tr>\n",
       "      <th>SW24043145</th>\n",
       "      <td>329.00</td>\n",
       "      <td>67271972.88</td>\n",
       "    </tr>\n",
       "    <tr>\n",
       "      <th>SW24043146</th>\n",
       "      <td>986.00</td>\n",
       "      <td>60681024.11</td>\n",
       "    </tr>\n",
       "    <tr>\n",
       "      <th>SW63604303</th>\n",
       "      <td>3.00</td>\n",
       "      <td>2275000.00</td>\n",
       "    </tr>\n",
       "    <tr>\n",
       "      <th>SW65965146</th>\n",
       "      <td>5.00</td>\n",
       "      <td>3800000.00</td>\n",
       "    </tr>\n",
       "    <tr>\n",
       "      <th>SW66867128</th>\n",
       "      <td>986.00</td>\n",
       "      <td>25658338.72</td>\n",
       "    </tr>\n",
       "    <tr>\n",
       "      <th>SW66867155</th>\n",
       "      <td>1167.00</td>\n",
       "      <td>30903371.59</td>\n",
       "    </tr>\n",
       "    <tr>\n",
       "      <th>SW67357389</th>\n",
       "      <td>2.00</td>\n",
       "      <td>1000000.00</td>\n",
       "    </tr>\n",
       "    <tr>\n",
       "      <th>SW67599405</th>\n",
       "      <td>2.00</td>\n",
       "      <td>2930000.00</td>\n",
       "    </tr>\n",
       "    <tr>\n",
       "      <th>Total</th>\n",
       "      <td>3480.00</td>\n",
       "      <td>194519707.31</td>\n",
       "    </tr>\n",
       "  </tbody>\n",
       "</table>\n",
       "</div>"
      ],
      "text/plain": [
       "             External Trade ID       Volume\n",
       "External ID                                \n",
       "SW24043145              329.00  67271972.88\n",
       "SW24043146              986.00  60681024.11\n",
       "SW63604303                3.00   2275000.00\n",
       "SW65965146                5.00   3800000.00\n",
       "SW66867128              986.00  25658338.72\n",
       "SW66867155             1167.00  30903371.59\n",
       "SW67357389                2.00   1000000.00\n",
       "SW67599405                2.00   2930000.00\n",
       "Total                  3480.00 194519707.31"
      ]
     },
     "execution_count": 4,
     "metadata": {},
     "output_type": "execute_result"
    }
   ],
   "source": [
    "lib.liquid.get_superD_BTRSEQ(new_date)"
   ]
  },
  {
   "attachments": {},
   "cell_type": "markdown",
   "metadata": {},
   "source": [
    "## download weekly liquid data\n",
    "- the code will run sql query to get basket_hedge, IFT, illiquids, main from the database and save it in the `file` folder"
   ]
  },
  {
   "cell_type": "code",
   "execution_count": 5,
   "metadata": {},
   "outputs": [
    {
     "name": "stdout",
     "output_type": "stream",
     "text": [
      "Saved IFT at S:\\IT IRSR Shared\\RedSwan\\RedSwan\\Master_bcIMC\\LIQUID\\Liquid\\2024\\02\\02_29\\Files\\IFT\n",
      "S:\\IT IRSR Shared\\RedSwan\\RedSwan\\Master_bcIMC\\LIQUID\\Liquid\\2024\\02\\02_29\\Files\\Positions_20240229_IFT.xlsx is updated and saved to None\n",
      "Renamed Positions_20240229_IFT.xlsx to Positions_20240229_IFT.xlsx\n",
      "Saved Main at S:\\IT IRSR Shared\\RedSwan\\RedSwan\\Master_bcIMC\\LIQUID\\Liquid\\2024\\02\\02_29\\Files\\Main\n",
      "S:\\IT IRSR Shared\\RedSwan\\RedSwan\\Master_bcIMC\\LIQUID\\Liquid\\2024\\02\\02_29\\Files\\Positions_20240229_Main.xlsx is updated and saved to None\n",
      "Renamed Positions_20240229_Main.xlsx to Positions_20240229_Main.xlsx\n",
      "Saved Illiquids at S:\\IT IRSR Shared\\RedSwan\\RedSwan\\Master_bcIMC\\LIQUID\\Liquid\\2024\\02\\02_29\\Files\\Illiquids\n",
      "S:\\IT IRSR Shared\\RedSwan\\RedSwan\\Master_bcIMC\\LIQUID\\Liquid\\2024\\02\\02_29\\Files\\Positions_20240229_Illiquids.xlsx is updated and saved to None\n",
      "Renamed Positions_20240229_Illiquids.xlsx to Positions_20240229_Illiquids.xlsx\n",
      "Saved Basket_Hedge at S:\\IT IRSR Shared\\RedSwan\\RedSwan\\Master_bcIMC\\LIQUID\\Liquid\\2024\\02\\02_29\\Files\\Basket_Hedge\n",
      "S:\\IT IRSR Shared\\RedSwan\\RedSwan\\Master_bcIMC\\LIQUID\\Liquid\\2024\\02\\02_29\\Files\\Positions_20240229_Basket_Hedge.xlsx is updated and saved to None\n",
      "Renamed Positions_20240229_Basket_Hedge.xlsx to Positions_20240229_Basket_Hedge.xlsx\n",
      "Saved FixTwo at S:\\IT IRSR Shared\\RedSwan\\RedSwan\\Master_bcIMC\\LIQUID\\Liquid\\2024\\02\\02_29\\Files\\FixTwo\n",
      "S:\\IT IRSR Shared\\RedSwan\\RedSwan\\Master_bcIMC\\LIQUID\\Liquid\\2024\\02\\02_29\\Files\\Positions_20240229_FixTwo.xlsx is updated and saved to None\n",
      "Renamed Positions_20240229_FixTwo.xlsx to Positions_20240229_FixTwo.xlsx\n"
     ]
    }
   ],
   "source": [
    "lib.liquid.save_weekly_liquid_data(new_date)"
   ]
  },
  {
   "attachments": {},
   "cell_type": "markdown",
   "metadata": {},
   "source": [
    "## update position in env file\n",
    "- the code will update the position in env file `NewArch_LiquidsDerivatives V1 CSV.environment`\n",
    "- input params are the date of the working folder and position we want to change it to.\n",
    "- make sure the position passed in the function is in the list below\n",
    "- [`Basket_Hedge`, `Fix`, `IFT`, `Illiquids`, `Main`, `FixTwo`]"
   ]
  },
  {
   "cell_type": "code",
   "execution_count": 10,
   "metadata": {},
   "outputs": [
    {
     "name": "stdout",
     "output_type": "stream",
     "text": [
      "replaced Basket_Hedge|Fix|IFT|Illiquids|Main|FixTwo with FixTwo in S:\\IT IRSR Shared\\RedSwan\\RedSwan\\Master_bcIMC\\LIQUID\\Liquid\\2024\\02\\02_29\\NewArch_LiquidsDerivatives V1 CSV.environment\n"
     ]
    }
   ],
   "source": [
    "lib.liquid.update_env_file_position(new_date, \"FixTwo\")"
   ]
  },
  {
   "attachments": {},
   "cell_type": "markdown",
   "metadata": {},
   "source": [
    "## create fix file\n",
    "- the code will read main data redswan log file from `result` folder and filter out bond records that is modeled to proxy.\n",
    "- update the model rule effective column\n",
    "- and save to `file` folder"
   ]
  },
  {
   "cell_type": "code",
   "execution_count": 7,
   "metadata": {},
   "outputs": [
    {
     "name": "stdout",
     "output_type": "stream",
     "text": [
      "S:\\IT IRSR Shared\\RedSwan\\RedSwan\\Master_bcIMC\\LIQUID\\Liquid\\2024\\02\\02_29\\Files\\Positions_20240229_Fix.xlsx is updated and saved to None\n",
      "Renamed Positions_20240229_Fix.xlsx to Positions_20240229_Fix.xlsx\n",
      "Saved Positions_20240229_Fix.csv at S:\\IT IRSR Shared\\RedSwan\\RedSwan\\Master_bcIMC\\LIQUID\\Liquid\\2024\\02\\02_29\\Files\n"
     ]
    }
   ],
   "source": [
    "lib.liquid.create_fix_file(new_date)"
   ]
  },
  {
   "cell_type": "markdown",
   "metadata": {},
   "source": [
    "## Compile log file\n",
    "- the code will read all files containing `_Log.csv` in the `Results` folder, and compile them into `Results/log.csv`\n",
    "- update the compiled log data into `Log_Check.xlsx`"
   ]
  },
  {
   "cell_type": "code",
   "execution_count": 7,
   "metadata": {},
   "outputs": [],
   "source": [
    "lib.liquid.compile_log(new_date)"
   ]
  },
  {
   "attachments": {},
   "cell_type": "markdown",
   "metadata": {},
   "source": [
    "## Update PV Validation File\n",
    "- the code will read look for `PV Report Liquids.xlsx` in the folder, change the name and read the data in the file.\n",
    "- look for file name contains `LiquidsDerivatives PV Validation` in the folder and delete old weeks data and update with new data."
   ]
  },
  {
   "cell_type": "code",
   "execution_count": 4,
   "metadata": {},
   "outputs": [
    {
     "name": "stdout",
     "output_type": "stream",
     "text": [
      "Renamed PV Report Liquids.xlsx to PV Report Liquids 20240229.xlsx\n",
      "S:\\IT IRSR Shared\\RedSwan\\RedSwan\\Master_bcIMC\\LIQUID\\Liquid\\2024\\02\\02_29\\LiquidsDerivatives PV Validation 20240223.xlsx is updated and saved to None\n",
      "Renamed LiquidsDerivatives PV Validation 20240223.xlsx to LiquidsDerivatives PV Validation 20240229.xlsx\n"
     ]
    }
   ],
   "source": [
    "lib.liquid.create_pv_validation(new_date)"
   ]
  },
  {
   "attachments": {},
   "cell_type": "markdown",
   "metadata": {},
   "source": [
    "# Collteral\n",
    "- all code related to operation in collateral folder goes here\n",
    "- S:\\IT IRSR Shared\\RedSwan\\RedSwan\\Master_bcIMC\\LIQUID\\Collateral"
   ]
  },
  {
   "attachments": {},
   "cell_type": "markdown",
   "metadata": {},
   "source": [
    "## create template folder"
   ]
  },
  {
   "cell_type": "code",
   "execution_count": 9,
   "metadata": {},
   "outputs": [
    {
     "name": "stdout",
     "output_type": "stream",
     "text": [
      "Copied folder from S:\\IT IRSR Shared\\RedSwan\\RedSwan\\Master_bcIMC\\LIQUID\\Collateral\\2024\\01\\01_05 to S:\\IT IRSR Shared\\RedSwan\\RedSwan\\Master_bcIMC\\LIQUID\\Collateral\\2024\\01\\01_12\n",
      "Copied to folder at S:\\IT IRSR Shared\\RedSwan\\RedSwan\\Master_bcIMC\\LIQUID\\Collateral\\2024\\01\\01_12\n",
      "Deleted file: Collateral.docx\n",
      "Deleted file: Collateral.xml\n",
      "Deleted file: Collateral_20240105.rml\n",
      "Deleted file: Collateral_20240105_Enriched.xml\n",
      "Deleted file: Collateral_20240105_Log.csv\n",
      "Deleted file: Collateral_20240105_RawLog.csv\n",
      "Deleted file: Collateral_unprocessed_holdings.csv\n",
      "Deleted file: Collateral_unprocessed_securities.csv\n",
      "Deleted file: report.txt\n",
      "Deleted file: OTC_Collateral_20240105.csv\n",
      "replaced S:\\IT IRSR Shared\\RedSwan\\RedSwan\\Master_bcIMC\\LIQUID\\Collateral\\2024\\01\\01_05 with S:\\IT IRSR Shared\\RedSwan\\RedSwan\\Master_bcIMC\\LIQUID\\Collateral\\2024\\01\\01_12 in S:\\IT IRSR Shared\\RedSwan\\RedSwan\\Master_bcIMC\\LIQUID\\Collateral\\2024\\01\\01_12\\Loading\\OTC_Collateral.environment\n",
      "replaced 20240105 with 20240112 in S:\\IT IRSR Shared\\RedSwan\\RedSwan\\Master_bcIMC\\LIQUID\\Collateral\\2024\\01\\01_12\\Loading\\OTC_Collateral.environment\n"
     ]
    }
   ],
   "source": [
    "lib .collateral.create_template_folder(from_date,new_date)"
   ]
  },
  {
   "attachments": {},
   "cell_type": "markdown",
   "metadata": {},
   "source": [
    "## Convert to CSV\n",
    "- the code will look for `OTC_Collateral_date.xlsx` in the folder and convert it to csv file and save it in the same folder"
   ]
  },
  {
   "cell_type": "code",
   "execution_count": 23,
   "metadata": {},
   "outputs": [
    {
     "name": "stdout",
     "output_type": "stream",
     "text": [
      "Converted S:\\IT IRSR Shared\\RedSwan\\RedSwan\\Master_bcIMC\\LIQUID\\Collateral\\2023\\07\\07_07\\OTC_Collateral_20230707.xlsx to csv\n"
     ]
    }
   ],
   "source": [
    "lib.collateral.convert_to_csv(new_date)"
   ]
  },
  {
   "attachments": {},
   "cell_type": "markdown",
   "metadata": {},
   "source": [
    "# Repo\n",
    "- all code related to operation in repo folder goes here\n",
    "- S:\\IT IRSR Shared\\RedSwan\\RedSwan\\Master_bcIMC\\LIQUID\\Repo"
   ]
  },
  {
   "attachments": {},
   "cell_type": "markdown",
   "metadata": {},
   "source": [
    "## create template folder"
   ]
  },
  {
   "cell_type": "code",
   "execution_count": 10,
   "metadata": {},
   "outputs": [
    {
     "name": "stdout",
     "output_type": "stream",
     "text": [
      "Copied folder from S:\\IT IRSR Shared\\RedSwan\\RedSwan\\Master_bcIMC\\LIQUID\\Repo\\2024\\01\\01_05 to S:\\IT IRSR Shared\\RedSwan\\RedSwan\\Master_bcIMC\\LIQUID\\Repo\\2024\\01\\01_12\n",
      "Copied to folder at S:\\IT IRSR Shared\\RedSwan\\RedSwan\\Master_bcIMC\\LIQUID\\Repo\\2024\\01\\01_12\n",
      "Deleted file: Repo.docx\n",
      "Deleted file: Repo.rml\n",
      "Deleted file: Repo.xml\n",
      "Deleted file: Repo_Enriched.xml\n",
      "Deleted file: Repo_Log.csv\n",
      "Deleted file: Repo_RawLog.csv\n",
      "Deleted file: unprocessed_holdings.csv\n",
      "Deleted file: unprocessed_securities.csv\n",
      "Deleted file: REPO FINAL.csv\n",
      "replaced S:\\IT IRSR Shared\\RedSwan\\RedSwan\\Master_bcIMC\\LIQUID\\Repo\\2024\\01\\01_05 with S:\\IT IRSR Shared\\RedSwan\\RedSwan\\Master_bcIMC\\LIQUID\\Repo\\2024\\01\\01_12 in S:\\IT IRSR Shared\\RedSwan\\RedSwan\\Master_bcIMC\\LIQUID\\Repo\\2024\\01\\01_12\\Loading\\Repo_Col_V2.environment\n"
     ]
    }
   ],
   "source": [
    "lib.repo.create_template_folder(from_date,new_date)"
   ]
  },
  {
   "attachments": {},
   "cell_type": "markdown",
   "metadata": {},
   "source": [
    "## Update Excel File\n",
    "- the code will read look for `REPO FINAL.xlsx` in the folder, delete old weeks data and update sql data in the file.\n",
    "- the second function will convert the excel to csv."
   ]
  },
  {
   "cell_type": "code",
   "execution_count": 4,
   "metadata": {},
   "outputs": [
    {
     "ename": "ValueError",
     "evalue": "No data found in database",
     "output_type": "error",
     "traceback": [
      "\u001b[1;31m---------------------------------------------------------------------------\u001b[0m",
      "\u001b[1;31mValueError\u001b[0m                                Traceback (most recent call last)",
      "Cell \u001b[1;32mIn [4], line 1\u001b[0m\n\u001b[1;32m----> 1\u001b[0m \u001b[43mlib\u001b[49m\u001b[38;5;241;43m.\u001b[39;49m\u001b[43mrepo\u001b[49m\u001b[38;5;241;43m.\u001b[39;49m\u001b[43mupdate_excel_file\u001b[49m\u001b[43m(\u001b[49m\u001b[43mnew_date\u001b[49m\u001b[43m)\u001b[49m\n\u001b[0;32m      2\u001b[0m lib\u001b[38;5;241m.\u001b[39mrepo\u001b[38;5;241m.\u001b[39mconvert_to_csv(new_date)\n",
      "File \u001b[1;32ms:\\IT IRSR Shared\\RedSwan\\RedSwan\\Master_bcIMC\\LIQUID\\Automation\\weekly_load\\lib\\repo.py:92\u001b[0m, in \u001b[0;36mupdate_excel_file\u001b[1;34m(to_date)\u001b[0m\n\u001b[0;32m     89\u001b[0m \u001b[38;5;28;01mdef\u001b[39;00m \u001b[38;5;21mupdate_excel_file\u001b[39m(to_date: date) \u001b[38;5;241m-\u001b[39m\u001b[38;5;241m>\u001b[39m \u001b[38;5;28;01mNone\u001b[39;00m:\n\u001b[0;32m     90\u001b[0m     file_path \u001b[38;5;241m=\u001b[39m create_folder_path(\n\u001b[0;32m     91\u001b[0m         BASE_PATH, to_date, \u001b[38;5;28;01mFalse\u001b[39;00m) \u001b[38;5;241m/\u001b[39m \u001b[38;5;124m\"\u001b[39m\u001b[38;5;124mREPO FINAL.xlsx\u001b[39m\u001b[38;5;124m\"\u001b[39m\n\u001b[1;32m---> 92\u001b[0m     \u001b[43mut\u001b[49m\u001b[38;5;241;43m.\u001b[39;49m\u001b[43mwork_on_excel\u001b[49m\u001b[43m(\u001b[49m\u001b[43mfunc\u001b[49m\u001b[38;5;241;43m=\u001b[39;49m\u001b[43m_excel_func\u001b[49m\u001b[43m,\u001b[49m\u001b[43m \u001b[49m\u001b[43mpath\u001b[49m\u001b[38;5;241;43m=\u001b[39;49m\u001b[43mfile_path\u001b[49m\u001b[43m,\u001b[49m\u001b[43m \u001b[49m\u001b[43mto_date\u001b[49m\u001b[38;5;241;43m=\u001b[39;49m\u001b[43mto_date\u001b[49m\u001b[43m)\u001b[49m\n",
      "File \u001b[1;32ms:\\IT IRSR Shared\\RedSwan\\RedSwan\\Master_bcIMC\\LIQUID\\Automation\\weekly_load\\lib\\utils.py:187\u001b[0m, in \u001b[0;36mwork_on_excel\u001b[1;34m(func, path, save_path, *args, **kwargs)\u001b[0m\n\u001b[0;32m    185\u001b[0m \u001b[38;5;28;01mwith\u001b[39;00m xw\u001b[38;5;241m.\u001b[39mApp(visible\u001b[38;5;241m=\u001b[39m\u001b[38;5;28;01mFalse\u001b[39;00m) \u001b[38;5;28;01mas\u001b[39;00m app:\n\u001b[0;32m    186\u001b[0m     wb \u001b[38;5;241m=\u001b[39m app\u001b[38;5;241m.\u001b[39mbooks\u001b[38;5;241m.\u001b[39mopen(path)\n\u001b[1;32m--> 187\u001b[0m     \u001b[43mfunc\u001b[49m\u001b[43m(\u001b[49m\u001b[43mwb\u001b[49m\u001b[43m,\u001b[49m\u001b[43m \u001b[49m\u001b[38;5;241;43m*\u001b[39;49m\u001b[43margs\u001b[49m\u001b[43m,\u001b[49m\u001b[43m \u001b[49m\u001b[38;5;241;43m*\u001b[39;49m\u001b[38;5;241;43m*\u001b[39;49m\u001b[43mkwargs\u001b[49m\u001b[43m)\u001b[49m\n\u001b[0;32m    188\u001b[0m     wb\u001b[38;5;241m.\u001b[39msave(save_path)\n\u001b[0;32m    189\u001b[0m     wb\u001b[38;5;241m.\u001b[39mclose()\n",
      "File \u001b[1;32ms:\\IT IRSR Shared\\RedSwan\\RedSwan\\Master_bcIMC\\LIQUID\\Automation\\weekly_load\\lib\\repo.py:85\u001b[0m, in \u001b[0;36m_excel_func\u001b[1;34m(wb, to_date)\u001b[0m\n\u001b[0;32m     83\u001b[0m \u001b[38;5;28;01mdef\u001b[39;00m \u001b[38;5;21m_excel_func\u001b[39m(wb, to_date) \u001b[38;5;241m-\u001b[39m\u001b[38;5;241m>\u001b[39m \u001b[38;5;28;01mNone\u001b[39;00m:\n\u001b[0;32m     84\u001b[0m     wb\u001b[38;5;241m.\u001b[39msheets[\u001b[38;5;241m0\u001b[39m]\u001b[38;5;241m.\u001b[39mclear_contents()\n\u001b[1;32m---> 85\u001b[0m     wb\u001b[38;5;241m.\u001b[39msheets[\u001b[38;5;241m0\u001b[39m]\u001b[38;5;241m.\u001b[39mrange(\u001b[38;5;124m\"\u001b[39m\u001b[38;5;124mA1\u001b[39m\u001b[38;5;124m\"\u001b[39m)\u001b[38;5;241m.\u001b[39mvalue \u001b[38;5;241m=\u001b[39m \u001b[43mget_sql_data\u001b[49m\u001b[43m(\u001b[49m\n\u001b[0;32m     86\u001b[0m \u001b[43m        \u001b[49m\u001b[43mto_date\u001b[49m\u001b[43m)\u001b[49m\u001b[38;5;241m.\u001b[39mset_index(\u001b[38;5;124m\"\u001b[39m\u001b[38;5;124mValuation_date\u001b[39m\u001b[38;5;124m\"\u001b[39m)\n",
      "File \u001b[1;32ms:\\IT IRSR Shared\\RedSwan\\RedSwan\\Master_bcIMC\\LIQUID\\Automation\\weekly_load\\lib\\repo.py:56\u001b[0m, in \u001b[0;36mget_sql_data\u001b[1;34m(dt)\u001b[0m\n\u001b[0;32m     54\u001b[0m df2 \u001b[38;5;241m=\u001b[39m ut\u001b[38;5;241m.\u001b[39mread_data_from_preston_with_string(sql)\n\u001b[0;32m     55\u001b[0m \u001b[38;5;28;01mif\u001b[39;00m df2\u001b[38;5;241m.\u001b[39mshape[\u001b[38;5;241m0\u001b[39m] \u001b[38;5;241m==\u001b[39m \u001b[38;5;241m0\u001b[39m:\n\u001b[1;32m---> 56\u001b[0m     \u001b[38;5;28;01mraise\u001b[39;00m \u001b[38;5;167;01mValueError\u001b[39;00m(\u001b[38;5;124m\"\u001b[39m\u001b[38;5;124mNo data found in database\u001b[39m\u001b[38;5;124m\"\u001b[39m)\n\u001b[0;32m     57\u001b[0m df \u001b[38;5;241m=\u001b[39m pd\u001b[38;5;241m.\u001b[39mconcat([df1, df2])\n\u001b[0;32m     58\u001b[0m df \u001b[38;5;241m=\u001b[39m clean_data(df, dt)\n",
      "\u001b[1;31mValueError\u001b[0m: No data found in database"
     ]
    }
   ],
   "source": [
    "lib.repo.update_excel_file(new_date)\n",
    "lib.repo.convert_to_csv(new_date)"
   ]
  },
  {
   "attachments": {},
   "cell_type": "markdown",
   "metadata": {},
   "source": [
    "# Lookthrough for Cube\n",
    "- all code related to operation in Lookthrough for Cube folder goes here\n",
    "- S:\\IT IRSR Shared\\RedSwan\\RedSwan\\Master_bcIMC\\TREE\\Lookthrough for Cube"
   ]
  },
  {
   "attachments": {},
   "cell_type": "markdown",
   "metadata": {},
   "source": [
    "## create template folder"
   ]
  },
  {
   "cell_type": "code",
   "execution_count": 12,
   "metadata": {},
   "outputs": [
    {
     "name": "stdout",
     "output_type": "stream",
     "text": [
      "Copied folder from S:\\IT IRSR Shared\\RedSwan\\RedSwan\\Master_bcIMC\\TREE\\Lookthrough for Cube\\2024\\20240105 to S:\\IT IRSR Shared\\RedSwan\\RedSwan\\Master_bcIMC\\TREE\\Lookthrough for Cube\\2024\\20240112\n",
      "Copied to folder at S:\\IT IRSR Shared\\RedSwan\\RedSwan\\Master_bcIMC\\TREE\\Lookthrough for Cube\\2024\\20240112\n",
      "Deleted file: Lookthrough_Cube.docx\n",
      "Deleted file: Lookthrough_Cube.rml\n",
      "Deleted file: Lookthrough_Cube.xml\n",
      "Deleted file: Lookthrough_Cube_Log.csv\n",
      "Deleted file: Lookthrough_Cube_overlapped_securities.csv\n",
      "Deleted file: Lookthrough_Cube_RawLog.csv\n",
      "Deleted file: Lookthrough_Cube_unprocessed_holdings.csv\n",
      "Deleted file: Lookthrough_Cube_unprocessed_securities.csv\n",
      "Deleted file: report.txt\n",
      "Deleted file: Lookthrough - Cube -  20240105.csv\n",
      "Deleted file: LookthroughMapping_20240105.csv\n",
      "replaced S:\\IT IRSR Shared\\RedSwan\\RedSwan\\Master_bcIMC\\TREE\\Lookthrough for Cube\\2024\\20240105 with S:\\IT IRSR Shared\\RedSwan\\RedSwan\\Master_bcIMC\\TREE\\Lookthrough for Cube\\2024\\20240112 in S:\\IT IRSR Shared\\RedSwan\\RedSwan\\Master_bcIMC\\TREE\\Lookthrough for Cube\\2024\\20240112\\Loading\\Lookthrough Index Cube.environment\n",
      "replaced 20240105 with 20240112 in S:\\IT IRSR Shared\\RedSwan\\RedSwan\\Master_bcIMC\\TREE\\Lookthrough for Cube\\2024\\20240112\\Loading\\Lookthrough Index Cube.environment\n"
     ]
    }
   ],
   "source": [
    "lib.cube_lookthru.create_template_folder(from_date,new_date)"
   ]
  },
  {
   "attachments": {},
   "cell_type": "markdown",
   "metadata": {},
   "source": [
    "## create `Lookthrough - Cube` file\n",
    "- the code will look for `Lookthrough - Cube` file with the date of `from_date` in the `to_date` working folder. \n",
    "- update the date in `MSCI_RM_INDEX_ID` column and `PRICED_SECURITY_NAME` column for ecompass data\n",
    "- append new week data from sql file in `sql\\Lookthrough\\lookthrough.sql`\n",
    "- the code will look for the `PV Report GPF Ext Man` file in current week folder and update positions, so **please run the code after Total Fund Tree is done**, if not needed turn the last variable to `False`\n",
    "- after manually checking the ecompass data, run the second block of code to turn the excel to csv."
   ]
  },
  {
   "cell_type": "code",
   "execution_count": 2,
   "metadata": {},
   "outputs": [
    {
     "ename": "FileNotFoundError",
     "evalue": "[Errno 2] No such file or directory: 'S:\\\\IT IRSR Shared\\\\RedSwan\\\\RedSwan\\\\Master_bcIMC\\\\TREE\\\\Total Fund Tree\\\\2024\\\\02\\\\20240209\\\\Scale Calculation\\\\PV Report GPF Ext Man 20240209.xlsx'",
     "output_type": "error",
     "traceback": [
      "\u001b[1;31m---------------------------------------------------------------------------\u001b[0m",
      "\u001b[1;31mFileNotFoundError\u001b[0m                         Traceback (most recent call last)",
      "Cell \u001b[1;32mIn [2], line 1\u001b[0m\n\u001b[1;32m----> 1\u001b[0m \u001b[43mlib\u001b[49m\u001b[38;5;241;43m.\u001b[39;49m\u001b[43mcube_lookthru\u001b[49m\u001b[38;5;241;43m.\u001b[39;49m\u001b[43mcreate_lookthru_cube\u001b[49m\u001b[43m(\u001b[49m\u001b[43mfrom_date\u001b[49m\u001b[43m,\u001b[49m\u001b[43mnew_date\u001b[49m\u001b[43m,\u001b[49m\u001b[38;5;28;43;01mTrue\u001b[39;49;00m\u001b[43m)\u001b[49m\n",
      "File \u001b[1;32ms:\\IT IRSR Shared\\RedSwan\\RedSwan\\Master_bcIMC\\LIQUID\\Automation\\weekly_load\\lib\\cube_lookthru.py:82\u001b[0m, in \u001b[0;36mcreate_lookthru_cube\u001b[1;34m(from_date, to_date, update_msci)\u001b[0m\n\u001b[0;32m     80\u001b[0m \u001b[38;5;66;03m# update positions based on rm pv report\u001b[39;00m\n\u001b[0;32m     81\u001b[0m \u001b[38;5;28;01mif\u001b[39;00m update_msci:\n\u001b[1;32m---> 82\u001b[0m     pv_df \u001b[38;5;241m=\u001b[39m \u001b[43mget_ext_managers_df\u001b[49m\u001b[43m(\u001b[49m\u001b[43mto_date\u001b[49m\u001b[43m)\u001b[49m\n\u001b[0;32m     83\u001b[0m     msci_load_df \u001b[38;5;241m=\u001b[39m update_msci_load_df_cube(msci_load_df, pv_df, new_week_str)\n\u001b[0;32m     85\u001b[0m new_week_df \u001b[38;5;241m=\u001b[39m pd\u001b[38;5;241m.\u001b[39mconcat(\n\u001b[0;32m     86\u001b[0m     [msci_load_df, new_week_df_to_append], ignore_index\u001b[38;5;241m=\u001b[39m\u001b[38;5;28;01mTrue\u001b[39;00m)\n",
      "File \u001b[1;32ms:\\IT IRSR Shared\\RedSwan\\RedSwan\\Master_bcIMC\\LIQUID\\Automation\\weekly_load\\lib\\cube_lookthru.py:170\u001b[0m, in \u001b[0;36mget_ext_managers_df\u001b[1;34m(dt)\u001b[0m\n\u001b[0;32m    167\u001b[0m pv_path \u001b[38;5;241m=\u001b[39m tft\u001b[38;5;241m.\u001b[39mget_gpf_pv_report_path(dt)\n\u001b[0;32m    168\u001b[0m instrument_ls \u001b[38;5;241m=\u001b[39m [\u001b[38;5;124m\"\u001b[39m\u001b[38;5;124mExchange Traded Fund\u001b[39m\u001b[38;5;124m\"\u001b[39m,\u001b[38;5;124m\"\u001b[39m\u001b[38;5;124mEquity Index Future\u001b[39m\u001b[38;5;124m\"\u001b[39m,\u001b[38;5;124m\"\u001b[39m\u001b[38;5;124mEquity Future\u001b[39m\u001b[38;5;124m\"\u001b[39m]\n\u001b[0;32m    169\u001b[0m pv_data \u001b[38;5;241m=\u001b[39m (\n\u001b[1;32m--> 170\u001b[0m     \u001b[43mpd\u001b[49m\u001b[38;5;241;43m.\u001b[39;49m\u001b[43mread_excel\u001b[49m\u001b[43m(\u001b[49m\u001b[43mpv_path\u001b[49m\u001b[43m,\u001b[49m\u001b[43m \u001b[49m\u001b[43mskiprows\u001b[49m\u001b[38;5;241;43m=\u001b[39;49m\u001b[38;5;241;43m19\u001b[39;49m\u001b[43m,\u001b[49m\n\u001b[0;32m    171\u001b[0m \u001b[43m                  \u001b[49m\u001b[43musecols\u001b[49m\u001b[38;5;241;43m=\u001b[39;49m\u001b[38;5;28;43;01mlambda\u001b[39;49;00m\u001b[43m \u001b[49m\u001b[43mx\u001b[49m\u001b[43m:\u001b[49m\u001b[43m \u001b[49m\u001b[38;5;124;43m'\u001b[39;49m\u001b[38;5;124;43mUnnamed\u001b[39;49m\u001b[38;5;124;43m'\u001b[39;49m\u001b[43m \u001b[49m\u001b[38;5;129;43;01mnot\u001b[39;49;00m\u001b[43m \u001b[49m\u001b[38;5;129;43;01min\u001b[39;49;00m\u001b[43m \u001b[49m\u001b[43mx\u001b[49m\u001b[43m)\u001b[49m\n\u001b[0;32m    172\u001b[0m     \u001b[38;5;241m.\u001b[39mquery(\u001b[38;5;124m\"\u001b[39m\u001b[38;5;124mLevel == 1\u001b[39m\u001b[38;5;124m\"\u001b[39m)\n\u001b[0;32m    173\u001b[0m     \u001b[38;5;241m.\u001b[39mquery(\u001b[38;5;124m\"\u001b[39m\u001b[38;5;124mportfolioCode.isin(@PORT_LS)\u001b[39m\u001b[38;5;124m\"\u001b[39m, engine\u001b[38;5;241m=\u001b[39m\u001b[38;5;124m\"\u001b[39m\u001b[38;5;124mpython\u001b[39m\u001b[38;5;124m\"\u001b[39m)\n\u001b[0;32m    174\u001b[0m     \u001b[38;5;241m.\u001b[39mquery(\u001b[38;5;124m\"\u001b[39m\u001b[38;5;124minstrumentType.isin(@instrument_ls)\u001b[39m\u001b[38;5;124m\"\u001b[39m, engine\u001b[38;5;241m=\u001b[39m\u001b[38;5;124m\"\u001b[39m\u001b[38;5;124mpython\u001b[39m\u001b[38;5;124m\"\u001b[39m)\n\u001b[0;32m    175\u001b[0m )\n\u001b[0;32m    176\u001b[0m \u001b[38;5;28;01mreturn\u001b[39;00m pv_data\n",
      "File \u001b[1;32ms:\\IT IRSR Shared\\RedSwan\\RedSwan\\Master_bcIMC\\LIQUID\\Automation\\weekly_load\\.venv\\lib\\site-packages\\pandas\\util\\_decorators.py:211\u001b[0m, in \u001b[0;36mdeprecate_kwarg.<locals>._deprecate_kwarg.<locals>.wrapper\u001b[1;34m(*args, **kwargs)\u001b[0m\n\u001b[0;32m    209\u001b[0m     \u001b[38;5;28;01melse\u001b[39;00m:\n\u001b[0;32m    210\u001b[0m         kwargs[new_arg_name] \u001b[38;5;241m=\u001b[39m new_arg_value\n\u001b[1;32m--> 211\u001b[0m \u001b[38;5;28;01mreturn\u001b[39;00m \u001b[43mfunc\u001b[49m\u001b[43m(\u001b[49m\u001b[38;5;241;43m*\u001b[39;49m\u001b[43margs\u001b[49m\u001b[43m,\u001b[49m\u001b[43m \u001b[49m\u001b[38;5;241;43m*\u001b[39;49m\u001b[38;5;241;43m*\u001b[39;49m\u001b[43mkwargs\u001b[49m\u001b[43m)\u001b[49m\n",
      "File \u001b[1;32ms:\\IT IRSR Shared\\RedSwan\\RedSwan\\Master_bcIMC\\LIQUID\\Automation\\weekly_load\\.venv\\lib\\site-packages\\pandas\\util\\_decorators.py:331\u001b[0m, in \u001b[0;36mdeprecate_nonkeyword_arguments.<locals>.decorate.<locals>.wrapper\u001b[1;34m(*args, **kwargs)\u001b[0m\n\u001b[0;32m    325\u001b[0m \u001b[38;5;28;01mif\u001b[39;00m \u001b[38;5;28mlen\u001b[39m(args) \u001b[38;5;241m>\u001b[39m num_allow_args:\n\u001b[0;32m    326\u001b[0m     warnings\u001b[38;5;241m.\u001b[39mwarn(\n\u001b[0;32m    327\u001b[0m         msg\u001b[38;5;241m.\u001b[39mformat(arguments\u001b[38;5;241m=\u001b[39m_format_argument_list(allow_args)),\n\u001b[0;32m    328\u001b[0m         \u001b[38;5;167;01mFutureWarning\u001b[39;00m,\n\u001b[0;32m    329\u001b[0m         stacklevel\u001b[38;5;241m=\u001b[39mfind_stack_level(),\n\u001b[0;32m    330\u001b[0m     )\n\u001b[1;32m--> 331\u001b[0m \u001b[38;5;28;01mreturn\u001b[39;00m \u001b[43mfunc\u001b[49m\u001b[43m(\u001b[49m\u001b[38;5;241;43m*\u001b[39;49m\u001b[43margs\u001b[49m\u001b[43m,\u001b[49m\u001b[43m \u001b[49m\u001b[38;5;241;43m*\u001b[39;49m\u001b[38;5;241;43m*\u001b[39;49m\u001b[43mkwargs\u001b[49m\u001b[43m)\u001b[49m\n",
      "File \u001b[1;32ms:\\IT IRSR Shared\\RedSwan\\RedSwan\\Master_bcIMC\\LIQUID\\Automation\\weekly_load\\.venv\\lib\\site-packages\\pandas\\io\\excel\\_base.py:482\u001b[0m, in \u001b[0;36mread_excel\u001b[1;34m(io, sheet_name, header, names, index_col, usecols, squeeze, dtype, engine, converters, true_values, false_values, skiprows, nrows, na_values, keep_default_na, na_filter, verbose, parse_dates, date_parser, thousands, decimal, comment, skipfooter, convert_float, mangle_dupe_cols, storage_options)\u001b[0m\n\u001b[0;32m    480\u001b[0m \u001b[38;5;28;01mif\u001b[39;00m \u001b[38;5;129;01mnot\u001b[39;00m \u001b[38;5;28misinstance\u001b[39m(io, ExcelFile):\n\u001b[0;32m    481\u001b[0m     should_close \u001b[38;5;241m=\u001b[39m \u001b[38;5;28;01mTrue\u001b[39;00m\n\u001b[1;32m--> 482\u001b[0m     io \u001b[38;5;241m=\u001b[39m \u001b[43mExcelFile\u001b[49m\u001b[43m(\u001b[49m\u001b[43mio\u001b[49m\u001b[43m,\u001b[49m\u001b[43m \u001b[49m\u001b[43mstorage_options\u001b[49m\u001b[38;5;241;43m=\u001b[39;49m\u001b[43mstorage_options\u001b[49m\u001b[43m,\u001b[49m\u001b[43m \u001b[49m\u001b[43mengine\u001b[49m\u001b[38;5;241;43m=\u001b[39;49m\u001b[43mengine\u001b[49m\u001b[43m)\u001b[49m\n\u001b[0;32m    483\u001b[0m \u001b[38;5;28;01melif\u001b[39;00m engine \u001b[38;5;129;01mand\u001b[39;00m engine \u001b[38;5;241m!=\u001b[39m io\u001b[38;5;241m.\u001b[39mengine:\n\u001b[0;32m    484\u001b[0m     \u001b[38;5;28;01mraise\u001b[39;00m \u001b[38;5;167;01mValueError\u001b[39;00m(\n\u001b[0;32m    485\u001b[0m         \u001b[38;5;124m\"\u001b[39m\u001b[38;5;124mEngine should not be specified when passing \u001b[39m\u001b[38;5;124m\"\u001b[39m\n\u001b[0;32m    486\u001b[0m         \u001b[38;5;124m\"\u001b[39m\u001b[38;5;124man ExcelFile - ExcelFile already has the engine set\u001b[39m\u001b[38;5;124m\"\u001b[39m\n\u001b[0;32m    487\u001b[0m     )\n",
      "File \u001b[1;32ms:\\IT IRSR Shared\\RedSwan\\RedSwan\\Master_bcIMC\\LIQUID\\Automation\\weekly_load\\.venv\\lib\\site-packages\\pandas\\io\\excel\\_base.py:1652\u001b[0m, in \u001b[0;36mExcelFile.__init__\u001b[1;34m(self, path_or_buffer, engine, storage_options)\u001b[0m\n\u001b[0;32m   1650\u001b[0m     ext \u001b[38;5;241m=\u001b[39m \u001b[38;5;124m\"\u001b[39m\u001b[38;5;124mxls\u001b[39m\u001b[38;5;124m\"\u001b[39m\n\u001b[0;32m   1651\u001b[0m \u001b[38;5;28;01melse\u001b[39;00m:\n\u001b[1;32m-> 1652\u001b[0m     ext \u001b[38;5;241m=\u001b[39m \u001b[43minspect_excel_format\u001b[49m\u001b[43m(\u001b[49m\n\u001b[0;32m   1653\u001b[0m \u001b[43m        \u001b[49m\u001b[43mcontent_or_path\u001b[49m\u001b[38;5;241;43m=\u001b[39;49m\u001b[43mpath_or_buffer\u001b[49m\u001b[43m,\u001b[49m\u001b[43m \u001b[49m\u001b[43mstorage_options\u001b[49m\u001b[38;5;241;43m=\u001b[39;49m\u001b[43mstorage_options\u001b[49m\n\u001b[0;32m   1654\u001b[0m \u001b[43m    \u001b[49m\u001b[43m)\u001b[49m\n\u001b[0;32m   1655\u001b[0m     \u001b[38;5;28;01mif\u001b[39;00m ext \u001b[38;5;129;01mis\u001b[39;00m \u001b[38;5;28;01mNone\u001b[39;00m:\n\u001b[0;32m   1656\u001b[0m         \u001b[38;5;28;01mraise\u001b[39;00m \u001b[38;5;167;01mValueError\u001b[39;00m(\n\u001b[0;32m   1657\u001b[0m             \u001b[38;5;124m\"\u001b[39m\u001b[38;5;124mExcel file format cannot be determined, you must specify \u001b[39m\u001b[38;5;124m\"\u001b[39m\n\u001b[0;32m   1658\u001b[0m             \u001b[38;5;124m\"\u001b[39m\u001b[38;5;124man engine manually.\u001b[39m\u001b[38;5;124m\"\u001b[39m\n\u001b[0;32m   1659\u001b[0m         )\n",
      "File \u001b[1;32ms:\\IT IRSR Shared\\RedSwan\\RedSwan\\Master_bcIMC\\LIQUID\\Automation\\weekly_load\\.venv\\lib\\site-packages\\pandas\\io\\excel\\_base.py:1525\u001b[0m, in \u001b[0;36minspect_excel_format\u001b[1;34m(content_or_path, storage_options)\u001b[0m\n\u001b[0;32m   1522\u001b[0m \u001b[38;5;28;01mif\u001b[39;00m \u001b[38;5;28misinstance\u001b[39m(content_or_path, \u001b[38;5;28mbytes\u001b[39m):\n\u001b[0;32m   1523\u001b[0m     content_or_path \u001b[38;5;241m=\u001b[39m BytesIO(content_or_path)\n\u001b[1;32m-> 1525\u001b[0m \u001b[38;5;28;01mwith\u001b[39;00m \u001b[43mget_handle\u001b[49m\u001b[43m(\u001b[49m\n\u001b[0;32m   1526\u001b[0m \u001b[43m    \u001b[49m\u001b[43mcontent_or_path\u001b[49m\u001b[43m,\u001b[49m\u001b[43m \u001b[49m\u001b[38;5;124;43m\"\u001b[39;49m\u001b[38;5;124;43mrb\u001b[39;49m\u001b[38;5;124;43m\"\u001b[39;49m\u001b[43m,\u001b[49m\u001b[43m \u001b[49m\u001b[43mstorage_options\u001b[49m\u001b[38;5;241;43m=\u001b[39;49m\u001b[43mstorage_options\u001b[49m\u001b[43m,\u001b[49m\u001b[43m \u001b[49m\u001b[43mis_text\u001b[49m\u001b[38;5;241;43m=\u001b[39;49m\u001b[38;5;28;43;01mFalse\u001b[39;49;00m\n\u001b[0;32m   1527\u001b[0m \u001b[43m\u001b[49m\u001b[43m)\u001b[49m \u001b[38;5;28;01mas\u001b[39;00m handle:\n\u001b[0;32m   1528\u001b[0m     stream \u001b[38;5;241m=\u001b[39m handle\u001b[38;5;241m.\u001b[39mhandle\n\u001b[0;32m   1529\u001b[0m     stream\u001b[38;5;241m.\u001b[39mseek(\u001b[38;5;241m0\u001b[39m)\n",
      "File \u001b[1;32ms:\\IT IRSR Shared\\RedSwan\\RedSwan\\Master_bcIMC\\LIQUID\\Automation\\weekly_load\\.venv\\lib\\site-packages\\pandas\\io\\common.py:865\u001b[0m, in \u001b[0;36mget_handle\u001b[1;34m(path_or_buf, mode, encoding, compression, memory_map, is_text, errors, storage_options)\u001b[0m\n\u001b[0;32m    856\u001b[0m         handle \u001b[38;5;241m=\u001b[39m \u001b[38;5;28mopen\u001b[39m(\n\u001b[0;32m    857\u001b[0m             handle,\n\u001b[0;32m    858\u001b[0m             ioargs\u001b[38;5;241m.\u001b[39mmode,\n\u001b[1;32m   (...)\u001b[0m\n\u001b[0;32m    861\u001b[0m             newline\u001b[38;5;241m=\u001b[39m\u001b[38;5;124m\"\u001b[39m\u001b[38;5;124m\"\u001b[39m,\n\u001b[0;32m    862\u001b[0m         )\n\u001b[0;32m    863\u001b[0m     \u001b[38;5;28;01melse\u001b[39;00m:\n\u001b[0;32m    864\u001b[0m         \u001b[38;5;66;03m# Binary mode\u001b[39;00m\n\u001b[1;32m--> 865\u001b[0m         handle \u001b[38;5;241m=\u001b[39m \u001b[38;5;28;43mopen\u001b[39;49m\u001b[43m(\u001b[49m\u001b[43mhandle\u001b[49m\u001b[43m,\u001b[49m\u001b[43m \u001b[49m\u001b[43mioargs\u001b[49m\u001b[38;5;241;43m.\u001b[39;49m\u001b[43mmode\u001b[49m\u001b[43m)\u001b[49m\n\u001b[0;32m    866\u001b[0m     handles\u001b[38;5;241m.\u001b[39mappend(handle)\n\u001b[0;32m    868\u001b[0m \u001b[38;5;66;03m# Convert BytesIO or file objects passed with an encoding\u001b[39;00m\n",
      "\u001b[1;31mFileNotFoundError\u001b[0m: [Errno 2] No such file or directory: 'S:\\\\IT IRSR Shared\\\\RedSwan\\\\RedSwan\\\\Master_bcIMC\\\\TREE\\\\Total Fund Tree\\\\2024\\\\02\\\\20240209\\\\Scale Calculation\\\\PV Report GPF Ext Man 20240209.xlsx'"
     ]
    }
   ],
   "source": [
    "lib.cube_lookthru.create_lookthru_cube(from_date,new_date,True)"
   ]
  },
  {
   "cell_type": "code",
   "execution_count": 19,
   "metadata": {},
   "outputs": [
    {
     "name": "stdout",
     "output_type": "stream",
     "text": [
      "Converted S:\\IT IRSR Shared\\RedSwan\\RedSwan\\Master_bcIMC\\TREE\\Lookthrough for Cube\\2024\\20240112\\Lookthrough - Cube -  20240112.xlsx to csv\n"
     ]
    }
   ],
   "source": [
    "lib.cube_lookthru.turn_lookthru_cube_to_csv(new_date)"
   ]
  },
  {
   "attachments": {},
   "cell_type": "markdown",
   "metadata": {},
   "source": [
    "## create `LookthroughMapping` file\n",
    "- the code will look for `Lookthrough - Cube` file with the date of `from_date` in the `to_date` working folder. \n",
    "- get rid of records besides ecompass\n",
    "- append new week data from sql file in `sql\\lookthrough\\indexCSV.sql`\n",
    "- the code will look for the `PV Report GPF Ext Man` file in current week folder and update positions, so **please run the code after Total Fund Tree is done**, if not needed turn the last variable to `False`\n",
    "- `get_lookthru_benchmark_null` function combines look through sql with rm repository data, which brings in the position names in order to search for the correct benchmark id.\n",
    "- after checking the ecompass data, run the turn to csv code get csv file."
   ]
  },
  {
   "cell_type": "code",
   "execution_count": 14,
   "metadata": {},
   "outputs": [
    {
     "name": "stdout",
     "output_type": "stream",
     "text": [
      "LookthroughMapping created at S:\\IT IRSR Shared\\RedSwan\\RedSwan\\Master_bcIMC\\TREE\\Lookthrough for Cube\\2024\\20240112\\LookthroughMapping_20240112.xlsx\n",
      "Deleted file: LookthroughMapping_20240105.xlsx\n"
     ]
    }
   ],
   "source": [
    "lib.cube_lookthru.create_LookthroughMapping(from_date,new_date,True)"
   ]
  },
  {
   "cell_type": "code",
   "execution_count": null,
   "metadata": {},
   "outputs": [],
   "source": [
    "lib.cube_lookthru.get_lookthru_benchmark_null()"
   ]
  },
  {
   "cell_type": "code",
   "execution_count": 20,
   "metadata": {},
   "outputs": [
    {
     "name": "stdout",
     "output_type": "stream",
     "text": [
      "Converted S:\\IT IRSR Shared\\RedSwan\\RedSwan\\Master_bcIMC\\TREE\\Lookthrough for Cube\\2024\\20240112\\LookthroughMapping_20240112.xlsx to csv\n"
     ]
    }
   ],
   "source": [
    "lib.cube_lookthru.turn_LookthruMapping_to_csv(new_date)"
   ]
  },
  {
   "cell_type": "markdown",
   "metadata": {},
   "source": [
    "# Look Through Portfolio Tags\n",
    "- S:\\IT IRSR Shared\\RedSwan\\RedSwan\\Master_bcIMC\\Portfolio Tag LK\\Total Fund Tag Override\n",
    "- the code will retreieve the liquid data in RMrepository and current week `PV Report GPF Ext Man` report and update to the `from_date` file and save it with `to_date` file name.\n",
    "- so we need to have the `PV Report GPF Ext Man` file in the folder for `new_date` ready before running the code."
   ]
  },
  {
   "cell_type": "code",
   "execution_count": null,
   "metadata": {},
   "outputs": [],
   "source": [
    "lib.tag_override.create_look_through_tag_file(from_date,new_date)"
   ]
  },
  {
   "attachments": {},
   "cell_type": "markdown",
   "metadata": {},
   "source": [
    "# Total Fund Tree\n",
    "- all code related to operation in Total Fund Tree folder goes here\n",
    "- S:\\IT IRSR Shared\\RedSwan\\RedSwan\\Master_bcIMC\\TREE\\Total Fund Tree"
   ]
  },
  {
   "attachments": {},
   "cell_type": "markdown",
   "metadata": {},
   "source": [
    "## create template folder"
   ]
  },
  {
   "cell_type": "code",
   "execution_count": 15,
   "metadata": {},
   "outputs": [
    {
     "name": "stdout",
     "output_type": "stream",
     "text": [
      "Copied folder from S:\\IT IRSR Shared\\RedSwan\\RedSwan\\Master_bcIMC\\TREE\\Total Fund Tree\\2024\\03\\20240308 to S:\\IT IRSR Shared\\RedSwan\\RedSwan\\Master_bcIMC\\TREE\\Total Fund Tree\\2024\\03\\20240315\n",
      "Copied to folder at S:\\IT IRSR Shared\\RedSwan\\RedSwan\\Master_bcIMC\\TREE\\Total Fund Tree\\2024\\03\\20240315\n",
      "Deleted file: overlapped_holdings.csv\n",
      "Deleted file: TotalFundHierarchy.docx\n",
      "Deleted file: TotalFundHierarchy.xml\n",
      "Deleted file: TotalFundHierarchy_20240308.rml\n",
      "Deleted file: TotalFundHierarchy_20240308_Log.csv\n",
      "Deleted file: TotalFundHierarchy_20240308_RawLog.csv\n",
      "Deleted file: unprocessed_holdings.csv\n",
      "Deleted file: unprocessed_securities.csv\n",
      "Deleted file: Total_Fund_Tree _20240308.csv\n",
      "Deleted file: PV Report E0043 Ext Man 20240308.xlsx\n",
      "Deleted file: PV Report GPF Ext Man 20240308.xlsx\n",
      "replaced S:\\IT IRSR Shared\\RedSwan\\RedSwan\\Master_bcIMC\\TREE\\Total Fund Tree\\2024\\03\\20240308 with S:\\IT IRSR Shared\\RedSwan\\RedSwan\\Master_bcIMC\\TREE\\Total Fund Tree\\2024\\03\\20240315 in S:\\IT IRSR Shared\\RedSwan\\RedSwan\\Master_bcIMC\\TREE\\Total Fund Tree\\2024\\03\\20240315\\Loading\\TotalFundHierarchy Prod Load.environment\n",
      "replaced 20240308 with 20240315 in S:\\IT IRSR Shared\\RedSwan\\RedSwan\\Master_bcIMC\\TREE\\Total Fund Tree\\2024\\03\\20240315\\Loading\\TotalFundHierarchy Prod Load.environment\n"
     ]
    }
   ],
   "source": [
    "lib.total_fund_tree.create_template_folder(from_date,new_date)"
   ]
  },
  {
   "attachments": {},
   "cell_type": "markdown",
   "metadata": {},
   "source": [
    "## Update Scale Calculation\n",
    "- after running the report in risk manager, save `PV Report Liquids External Manager` files in `Scale Calculation` folder\n",
    "- `create_extMan_PV_reports` will look for file contains `PV Report Liquids External Manager` in the `Scale Calculation` folder under `to_date` working folder.\n",
    "- add filter to the report and save in `Scale Calculation` folder with the `to_date` date.\n",
    "- `update_update_mtg_scale_calc` and `update_GPF_scale_calc` will look for respective PV report files in the `Scale Calculation` folder with `to_date` date.\n",
    "- update the scale calculation files with `from_date` date and save with `to_date` date name."
   ]
  },
  {
   "cell_type": "code",
   "execution_count": 4,
   "metadata": {},
   "outputs": [
    {
     "name": "stdout",
     "output_type": "stream",
     "text": [
      "Deleted file: PV Report Liquids External Manager (1).xlsx\n",
      "Updated PV Report GPF Ext Man 20240112.xlsx in S:\\IT IRSR Shared\\RedSwan\\RedSwan\\Master_bcIMC\\TREE\\Total Fund Tree\\2024\\01\\20240112\\Scale Calculation\n",
      "Deleted file: PV Report Liquids External Manager.xlsx\n",
      "Updated PV Report E0043 Ext Man 20240112.xlsx in S:\\IT IRSR Shared\\RedSwan\\RedSwan\\Master_bcIMC\\TREE\\Total Fund Tree\\2024\\01\\20240112\\Scale Calculation\n",
      "Deleted file: Scale calculation E0043 20240105.xlsx\n",
      "Updated S:\\IT IRSR Shared\\RedSwan\\RedSwan\\Master_bcIMC\\TREE\\Total Fund Tree\\2024\\01\\20240112\\Scale Calculation\\Scale calculation E0043 20240112.xlsx\n",
      "Deleted file: Scale calculation GPF 20240105.xlsx\n",
      "Updated S:\\IT IRSR Shared\\RedSwan\\RedSwan\\Master_bcIMC\\TREE\\Total Fund Tree\\2024\\01\\20240112\\Scale Calculation\\Scale calculation GPF 20240112.xlsx\n"
     ]
    }
   ],
   "source": [
    "lib.total_fund_tree.create_extMan_PV_reports(new_date)\n",
    "lib.total_fund_tree.update_mtg_scale_calc(from_date,new_date)\n",
    "lib.total_fund_tree.update_GPF_scale_calc(from_date,new_date)"
   ]
  },
  {
   "attachments": {},
   "cell_type": "markdown",
   "metadata": {},
   "source": [
    "## Update Total Fund Tree\n",
    "- manually adjust portfolios in `Total_Fund_Tree` file and save with `to_date` date name.\n",
    "- `update_total_fund_tree` function will look for `Total_Fund_Tree` with `to_date` date name.\n",
    "- read scale data from the updated scale files and update the numbers in `Total_Fund_Tree` file\n",
    "- save updated file and also create a csv file"
   ]
  },
  {
   "cell_type": "code",
   "execution_count": 5,
   "metadata": {},
   "outputs": [
    {
     "name": "stdout",
     "output_type": "stream",
     "text": [
      "Updated S:\\IT IRSR Shared\\RedSwan\\RedSwan\\Master_bcIMC\\TREE\\Total Fund Tree\\2024\\01\\20240112\\Total_Fund_Tree _20240112.xlsx\n"
     ]
    }
   ],
   "source": [
    "lib.total_fund_tree.update_total_fund_tree(new_date)"
   ]
  },
  {
   "attachments": {},
   "cell_type": "markdown",
   "metadata": {},
   "source": [
    "## Update Total Fund PV Report\n",
    "- download `PV Report Total Fund` from risk manager and save in `to_date` folder.\n",
    "- `update_total_fund_pv_report` function will look for `PV Report Total Fund.xlsx` file.\n",
    "- copy paste `View 1 assetClass by subAsset` sheet. set group level in `View 1 assetClass by subAsset` to level 2, and copied sheet to level 4.\n",
    "- hide rows from 1 to 19 excepte for row 11, which contains as of date.\n",
    "- save file with `to_date` name and delete original `PV Report Total Fund.xlsx` file."
   ]
  },
  {
   "cell_type": "code",
   "execution_count": 6,
   "metadata": {},
   "outputs": [
    {
     "name": "stdout",
     "output_type": "stream",
     "text": [
      "Updated S:\\IT IRSR Shared\\RedSwan\\RedSwan\\Master_bcIMC\\TREE\\Total Fund Tree\\2024\\01\\20240112\\Total Fund PV Report 20240112.xlsx\n",
      "Deleted file: Total Fund PV Report.xlsx\n"
     ]
    }
   ],
   "source": [
    "lib.total_fund_tree.update_total_fund_pv_report(new_date)"
   ]
  },
  {
   "attachments": {},
   "cell_type": "markdown",
   "metadata": {},
   "source": [
    "## GPF Managers Weekly & Monthly MV\n",
    "- `update_GPF_Managers_MV` function will run the sql query to get the GPF based on `to_date` date.\n",
    "- paste the data into the `Formuila` sheet in `GPF Managers Weekly & Monthly MV.xlsx` file.\n",
    "- copy and paste the formated table (`A1:D46`) in `Formula` sheet and paste to new sheet with `to_date` date as name.\n",
    "- and save the file."
   ]
  },
  {
   "cell_type": "code",
   "execution_count": 5,
   "metadata": {},
   "outputs": [
    {
     "name": "stdout",
     "output_type": "stream",
     "text": [
      "S:\\IT IRSR Shared\\RedSwan\\RedSwan\\Master_bcIMC\\TREE\\Total Fund Tree\\2024\\02\\20240229\\Queries\\GPF Managers Weekly & Monthly MV.xlsx is updated and saved to None\n"
     ]
    }
   ],
   "source": [
    "lib.total_fund_tree.update_GPF_Managers_MV(new_date)"
   ]
  },
  {
   "attachments": {},
   "cell_type": "markdown",
   "metadata": {},
   "source": [
    "# Total Fund BMK Tree\n",
    "- all code related to operation in Total Fund BMK Tree folder goes here\n",
    "- S:\\IT IRSR Shared\\RedSwan\\RedSwan\\Master_bcIMC\\TREE\\Total Fund BMK Tree"
   ]
  },
  {
   "attachments": {},
   "cell_type": "markdown",
   "metadata": {},
   "source": [
    "## create template folder"
   ]
  },
  {
   "cell_type": "code",
   "execution_count": 16,
   "metadata": {},
   "outputs": [
    {
     "name": "stdout",
     "output_type": "stream",
     "text": [
      "Copied folder from S:\\IT IRSR Shared\\RedSwan\\RedSwan\\Master_bcIMC\\TREE\\Total Fund BMK Tree\\2024\\03\\20240308 to S:\\IT IRSR Shared\\RedSwan\\RedSwan\\Master_bcIMC\\TREE\\Total Fund BMK Tree\\2024\\03\\20240315\n",
      "Copied to folder at S:\\IT IRSR Shared\\RedSwan\\RedSwan\\Master_bcIMC\\TREE\\Total Fund BMK Tree\\2024\\03\\20240315\n",
      "Deleted file: BMK Roll Down 20240308.rml\n",
      "Deleted file: BMK Roll Down 20240308_Log.csv\n",
      "Deleted file: BMK Roll Down 20240308_RawLog.csv\n",
      "Deleted file: BMK Roll Down.docx\n",
      "Deleted file: BMK Roll Down.xml\n",
      "Deleted file: BMK Roll Up 20240308.rml\n",
      "Deleted file: BMK Roll Up 20240308_Log.csv\n",
      "Deleted file: BMK Roll Up 20240308_RawLog.csv\n",
      "Deleted file: BMK Roll Up.docx\n",
      "Deleted file: BMK Roll Up.xml\n",
      "Deleted file: overlapped_RD_holdings.csv\n",
      "Deleted file: overlapped_RU_holdings.csv\n",
      "Deleted file: unprocessed_RD_holdings.csv\n",
      "Deleted file: unprocessed_RD_securities.csv\n",
      "Deleted file: unprocessed_RU_holdings.csv\n",
      "Deleted file: unprocessed_RU_securities.csv\n",
      "Deleted file: Total_Fund_BMK_Tree_20240308 - RD.csv\n",
      "Deleted file: Total_Fund_BMK_Tree_20240308 - RU.csv\n",
      "replaced S:\\IT IRSR Shared\\RedSwan\\RedSwan\\Master_bcIMC\\TREE\\Total Fund BMK Tree\\2024\\03\\20240308 with S:\\IT IRSR Shared\\RedSwan\\RedSwan\\Master_bcIMC\\TREE\\Total Fund BMK Tree\\2024\\03\\20240315 in S:\\IT IRSR Shared\\RedSwan\\RedSwan\\Master_bcIMC\\TREE\\Total Fund BMK Tree\\2024\\03\\20240315\\Loading\\TFT BMK RD.environment\n",
      "replaced 20240308 with 20240315 in S:\\IT IRSR Shared\\RedSwan\\RedSwan\\Master_bcIMC\\TREE\\Total Fund BMK Tree\\2024\\03\\20240315\\Loading\\TFT BMK RD.environment\n",
      "replaced S:\\IT IRSR Shared\\RedSwan\\RedSwan\\Master_bcIMC\\TREE\\Total Fund BMK Tree\\2024\\03\\20240308 with S:\\IT IRSR Shared\\RedSwan\\RedSwan\\Master_bcIMC\\TREE\\Total Fund BMK Tree\\2024\\03\\20240315 in S:\\IT IRSR Shared\\RedSwan\\RedSwan\\Master_bcIMC\\TREE\\Total Fund BMK Tree\\2024\\03\\20240315\\Loading\\TFT BMK RD_backup_1_3_2024_7_35 PM.environment\n",
      "replaced 20240308 with 20240315 in S:\\IT IRSR Shared\\RedSwan\\RedSwan\\Master_bcIMC\\TREE\\Total Fund BMK Tree\\2024\\03\\20240315\\Loading\\TFT BMK RD_backup_1_3_2024_7_35 PM.environment\n",
      "replaced S:\\IT IRSR Shared\\RedSwan\\RedSwan\\Master_bcIMC\\TREE\\Total Fund BMK Tree\\2024\\03\\20240308 with S:\\IT IRSR Shared\\RedSwan\\RedSwan\\Master_bcIMC\\TREE\\Total Fund BMK Tree\\2024\\03\\20240315 in S:\\IT IRSR Shared\\RedSwan\\RedSwan\\Master_bcIMC\\TREE\\Total Fund BMK Tree\\2024\\03\\20240315\\Loading\\TFT BMK RU.environment\n",
      "replaced 20240308 with 20240315 in S:\\IT IRSR Shared\\RedSwan\\RedSwan\\Master_bcIMC\\TREE\\Total Fund BMK Tree\\2024\\03\\20240315\\Loading\\TFT BMK RU.environment\n",
      "replaced S:\\IT IRSR Shared\\RedSwan\\RedSwan\\Master_bcIMC\\TREE\\Total Fund BMK Tree\\2024\\03\\20240308 with S:\\IT IRSR Shared\\RedSwan\\RedSwan\\Master_bcIMC\\TREE\\Total Fund BMK Tree\\2024\\03\\20240315 in S:\\IT IRSR Shared\\RedSwan\\RedSwan\\Master_bcIMC\\TREE\\Total Fund BMK Tree\\2024\\03\\20240315\\Loading\\TFT BMK RU_backup_1_3_2024_7_34 PM.environment\n",
      "replaced 20240308 with 20240315 in S:\\IT IRSR Shared\\RedSwan\\RedSwan\\Master_bcIMC\\TREE\\Total Fund BMK Tree\\2024\\03\\20240315\\Loading\\TFT BMK RU_backup_1_3_2024_7_34 PM.environment\n"
     ]
    }
   ],
   "source": [
    "lib.total_fund_bmk_tree.create_template_folder(from_date,new_date)"
   ]
  },
  {
   "attachments": {},
   "cell_type": "markdown",
   "metadata": {},
   "source": [
    "## Update Total Fund BMK Tree\n",
    "- manually adjust portfolios in `Total_Fund_BMK_Tree` files and save with `to_date` date in the name.\n",
    "- `update_total_fund_bmk_tree` function will look for `Total_Fund_BMK_Tree` with `to_date` name.\n",
    "- the code will grab scale data from the updated scale files in and also the updated PV report in `Total Fund Tree` folder \n",
    "- update the scale data and market value in `Total_Fund_BMK_Tree` file\n",
    "- save the file and also convert it to csv file"
   ]
  },
  {
   "cell_type": "code",
   "execution_count": 7,
   "metadata": {},
   "outputs": [
    {
     "name": "stdout",
     "output_type": "stream",
     "text": [
      "Updated S:\\IT IRSR Shared\\RedSwan\\RedSwan\\Master_bcIMC\\TREE\\Total Fund BMK Tree\\2024\\01\\20240112\\Total_Fund_BMK_Tree_20240112 - RD.xlsx and saved csv\n",
      "Total Fund BMK Tree total MV is 220123901155.5978 and PV report total is 220123901155.59778\n",
      "Updated S:\\IT IRSR Shared\\RedSwan\\RedSwan\\Master_bcIMC\\TREE\\Total Fund BMK Tree\\2024\\01\\20240112\\Total_Fund_BMK_Tree_20240112 - RU.xlsx and saved csv\n",
      "Total Fund BMK Tree total MV is 220123901155.5978 and PV report total is 220123901155.59778\n"
     ]
    }
   ],
   "source": [
    "lib.total_fund_bmk_tree.update_total_fund_bmk_tree(new_date)"
   ]
  },
  {
   "attachments": {},
   "cell_type": "markdown",
   "metadata": {},
   "source": [
    "# Cube Files\n",
    "- all code related to operation in `CubeFiles` goes here\n",
    "- S\\\\bcimcs8\\sharedir\\IT IRSR Shared\\RedSwan\\RedSwan\\Master_bcIMC\\CubeFiles"
   ]
  },
  {
   "attachments": {},
   "cell_type": "markdown",
   "metadata": {},
   "source": [
    "## Create template folder\n",
    " - the code will create a new folder with the date of `to_date` in the `CubeFiles` folder\n",
    " - copy paste all the files\n",
    " - update `ProcessStats` file with the date of `to_date` and `RiskVersionName`\n"
   ]
  },
  {
   "cell_type": "code",
   "execution_count": 2,
   "metadata": {},
   "outputs": [
    {
     "name": "stdout",
     "output_type": "stream",
     "text": [
      "Created folder S:\\IT IRSR Shared\\RedSwan\\RedSwan\\Master_bcIMC\\CubeFiles\\Monthly\\20231231\n",
      "Copied file S:\\IT IRSR Shared\\RedSwan\\RedSwan\\Master_bcIMC\\TREE\\Lookthrough for Cube\\2023\\20231231\\LookthroughMapping_20231231.csv to S:\\IT IRSR Shared\\RedSwan\\RedSwan\\Master_bcIMC\\CubeFiles\\Monthly\\20231231\n",
      "Copied file S:\\IT IRSR Shared\\RedSwan\\RedSwan\\Master_bcIMC\\TREE\\Total Fund BMK Tree\\2023\\12\\20231231\\Total_Fund_BMK_Tree_20231231 - RD.csv to S:\\IT IRSR Shared\\RedSwan\\RedSwan\\Master_bcIMC\\CubeFiles\\Monthly\\20231231\n",
      "Copied file S:\\IT IRSR Shared\\RedSwan\\RedSwan\\Master_bcIMC\\TREE\\Total Fund BMK Tree\\2023\\12\\20231231\\Total_Fund_BMK_Tree_20231231 - RU.csv to S:\\IT IRSR Shared\\RedSwan\\RedSwan\\Master_bcIMC\\CubeFiles\\Monthly\\20231231\n",
      "Copied file S:\\IT IRSR Shared\\RedSwan\\RedSwan\\Master_bcIMC\\TREE\\Total Fund Tree\\2023\\12\\20231231\\Total_Fund_Tree _20231231.csv to S:\\IT IRSR Shared\\RedSwan\\RedSwan\\Master_bcIMC\\CubeFiles\\Monthly\\20231231\n",
      "replaced S&P/LSTA U.S. Leveraged Loan 100 - CAD Hedged with SP.MC.UNX000000151901432@rmgBenchmarks in S:\\IT IRSR Shared\\RedSwan\\RedSwan\\Master_bcIMC\\CubeFiles\\Monthly\\20231231\\Total_Fund_BMK_Tree_20231231 - RD.csv\n",
      "replaced S&P/LSTA U.S. Leveraged Loan 100 - CAD Hedged with SP.MC.UNX000000151901432@rmgBenchmarks in S:\\IT IRSR Shared\\RedSwan\\RedSwan\\Master_bcIMC\\CubeFiles\\Monthly\\20231231\\Total_Fund_BMK_Tree_20231231 - RU.csv\n",
      "updated benchmark replacement.\n",
      "replaced \\d{8} with 20231231 in S:\\IT IRSR Shared\\RedSwan\\RedSwan\\Master_bcIMC\\CubeFiles\\ProcessStats.csv\n",
      "replaced Weekly|Monthly with Monthly in S:\\IT IRSR Shared\\RedSwan\\RedSwan\\Master_bcIMC\\CubeFiles\\ProcessStats.csv\n"
     ]
    }
   ],
   "source": [
    "weekly = False # True for weekly, False for monthly\n",
    "lib.cubefiles.create_template_folder(new_date, weekly)"
   ]
  }
 ],
 "metadata": {
  "kernelspec": {
   "display_name": ".venv",
   "language": "python",
   "name": "python3"
  },
  "language_info": {
   "codemirror_mode": {
    "name": "ipython",
    "version": 3
   },
   "file_extension": ".py",
   "mimetype": "text/x-python",
   "name": "python",
   "nbconvert_exporter": "python",
   "pygments_lexer": "ipython3",
   "version": "3.8.10"
  },
  "orig_nbformat": 4,
  "vscode": {
   "interpreter": {
    "hash": "9e7f6956f5c44f9c75c79f64994a5e12080cbb9bbefa27819bd5c85a7c8b6ec8"
   }
  }
 },
 "nbformat": 4,
 "nbformat_minor": 2
}
