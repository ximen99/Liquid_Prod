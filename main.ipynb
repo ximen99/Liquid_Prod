{
 "cells": [
  {
   "cell_type": "markdown",
   "metadata": {},
   "source": [
    "# Weekly Load Automation\n",
    "- This file will be the main interface to run python code which will operate on the respective folder used in weekly load. \n",
    "- The main function code sits in lib folder which is a python package. The package is structured in a way that each module within works on specific working folder for weekly load.\n",
    "- The config module in lib package has a variable \"IS_DEV\" which is used as a flag to determine if the code is running in dev environment or not and gets fed into all modules. please make sure it's turned to \"False\" before running in production."
   ]
  },
  {
   "cell_type": "code",
   "execution_count": 4,
   "metadata": {},
   "outputs": [
    {
     "data": {
      "text/plain": [
       "WindowsPath('S:/IT IRSR Shared/RedSwan/RedSwan/Master_bcIMC/LIQUID/Liquid')"
      ]
     },
     "execution_count": 4,
     "metadata": {},
     "output_type": "execute_result"
    }
   ],
   "source": [
    "import lib\n",
    "from datetime import date, timedelta\n",
    "import warnings\n",
    "warnings.filterwarnings(\"ignore\")\n",
    "import pandas as pd\n",
    "\n",
    "pd.options.display.float_format = '{:.2f}'.format\n",
    "\n",
    "# last week's validation date \n",
    "from_date = date(2023, 2, 24)\n",
    "# new week's date to work on\n",
    "new_date = from_date + timedelta(days=4)\n",
    "# check environment, if production it should return share drive path\n",
    "lib.liquid.base_path"
   ]
  },
  {
   "cell_type": "markdown",
   "metadata": {},
   "source": [
    "# Liquid\n",
    "- all code related to operation in liquid folder goes here\n",
    "- S:\\IT IRSR Shared\\RedSwan\\RedSwan\\Master_bcIMC\\LIQUID\\Liquid "
   ]
  },
  {
   "cell_type": "markdown",
   "metadata": {},
   "source": [
    "## create template folder\n",
    "- the code will copy folder according to `from_date` and paste as `to_date`\n",
    "- delete unnecessary files from last week\n",
    "- update enviroment file with new date"
   ]
  },
  {
   "cell_type": "code",
   "execution_count": 4,
   "metadata": {},
   "outputs": [
    {
     "name": "stdout",
     "output_type": "stream",
     "text": [
      "Copied folder from S:\\IT IRSR Shared\\RedSwan\\RedSwan\\Master_bcIMC\\LIQUID\\Liquid\\2023\\02\\02_24 to S:\\IT IRSR Shared\\RedSwan\\RedSwan\\Master_bcIMC\\LIQUID\\Liquid\\2023\\03\\03_03\n",
      "Copied to folder at S:\\IT IRSR Shared\\RedSwan\\RedSwan\\Master_bcIMC\\LIQUID\\Liquid\\2023\\03\\03_03\n",
      "Deleted file: Basket_Hedge_20230224.docx\n",
      "Deleted file: Basket_Hedge_20230224.xml\n",
      "Deleted file: Fix_20230224.docx\n",
      "Deleted file: Fix_20230224.xml\n",
      "Deleted file: IFT_20230224.docx\n",
      "Deleted file: IFT_20230224.xml\n",
      "Deleted file: Illiquids_20230224.docx\n",
      "Deleted file: Illiquids_20230224.xml\n",
      "Deleted file: Main_20230224.docx\n",
      "Deleted file: Main_20230224.xml\n",
      "Deleted file: Basket_Hedge_20230224.rml\n",
      "Deleted file: Basket_Hedge_20230224_Enriched.xml\n",
      "Deleted file: Basket_Hedge_20230224_Log.csv\n",
      "Deleted file: Basket_Hedge_20230224_RawLog.csv\n",
      "Deleted file: Basket_Hedge_overlapped_20230224_holdings.csv\n",
      "Deleted file: Basket_Hedge_overlapped_20230224_securities.csv\n",
      "Deleted file: Basket_Hedge_unprocessed_20230224_holdings.csv\n",
      "Deleted file: Basket_Hedge_unprocessed_20230224_securities.csv\n",
      "Deleted file: Fix_20230217_RawLog_2023021720230221_145537.xml\n",
      "Deleted file: Fix_20230224.rml\n",
      "Deleted file: Fix_20230224_Enriched.xml\n",
      "Deleted file: Fix_20230224_Log.csv\n",
      "Deleted file: Fix_20230224_RawLog_2023022420230227_094809.xml\n",
      "Deleted file: Fix_overlapped_20230224_securities.csv\n",
      "Deleted file: Fix_unprocessed_20230224_holdings.csv\n",
      "Deleted file: Fix_unprocessed_20230224_securities.csv\n",
      "Deleted file: IFT_20230224.rml\n",
      "Deleted file: IFT_20230224_Enriched.xml\n",
      "Deleted file: IFT_20230224_Log.csv\n",
      "Deleted file: IFT_20230224_RawLog_2023022420230227_095049.xml\n",
      "Deleted file: IFT_overlapped_20230224_securities.csv\n",
      "Deleted file: IFT_unprocessed_20230224_holdings.csv\n",
      "Deleted file: IFT_unprocessed_20230224_securities.csv\n",
      "Deleted file: Illiquids_20230224.rml\n",
      "Deleted file: Illiquids_20230224_Enriched.xml\n",
      "Deleted file: Illiquids_20230224_Log.csv\n",
      "Deleted file: Illiquids_20230224_RawLog_2023022420230227_113903.xml\n",
      "Deleted file: Illiquids_overlapped_20230224_securities.csv\n",
      "Deleted file: Illiquids_unprocessed_20230224_holdings.csv\n",
      "Deleted file: Illiquids_unprocessed_20230224_securities.csv\n",
      "Deleted file: Main_20230224.rml\n",
      "Deleted file: Main_20230224_Log.csv\n",
      "Deleted file: Main_20230224_RawLog.csv\n",
      "Deleted file: Main_overlapped_20230224_securities.csv\n",
      "Deleted file: Main_unprocessed_20230224_holdings.csv\n",
      "Deleted file: Main_unprocessed_20230224_securities.csv\n",
      "Deleted file: Positions_20230224_Basket_Hedge.csv\n",
      "Deleted file: Positions_20230224_Fix.csv\n",
      "Deleted file: Positions_20230224_IFT.csv\n",
      "Deleted file: Positions_20230224_Illiquids.csv\n",
      "Deleted file: Positions_20230224_Main.csv\n",
      "Deleted file: PV Report Liquids 20230217.xlsx\n",
      "Deleted file: PV Report Illiquids 20230217.xlsx\n",
      "replaced S:\\IT IRSR Shared\\RedSwan\\RedSwan\\Master_bcIMC\\LIQUID\\Liquid\\2023\\02\\02_24 with S:\\IT IRSR Shared\\RedSwan\\RedSwan\\Master_bcIMC\\LIQUID\\Liquid\\2023\\03\\03_03 in S:\\IT IRSR Shared\\RedSwan\\RedSwan\\Master_bcIMC\\LIQUID\\Liquid\\2023\\03\\03_03\\NewArch_LiquidsDerivatives V1 CSV.environment\n",
      "replaced 20230224 with 20230303 in S:\\IT IRSR Shared\\RedSwan\\RedSwan\\Master_bcIMC\\LIQUID\\Liquid\\2023\\03\\03_03\\NewArch_LiquidsDerivatives V1 CSV.environment\n",
      "replaced Basket_Hedge|Fix|IFT|Illiquids|Main with Basket_Hedge in S:\\IT IRSR Shared\\RedSwan\\RedSwan\\Master_bcIMC\\LIQUID\\Liquid\\2023\\03\\03_03\\NewArch_LiquidsDerivatives V1 CSV.environment\n"
     ]
    }
   ],
   "source": [
    "lib.liquid.create_template_folder(from_date,new_date)"
   ]
  },
  {
   "cell_type": "markdown",
   "metadata": {},
   "source": [
    "## create Portfolio Filter Group File\n",
    "- the code will look for `Portfolio Filter Group` file with the date of `from_date` in the `to_date` working folder. update `to_date` portfolios in the file.\n",
    "- `to_date` portfolio is obtained from sql file `sql\\liquid\\portfolio_filter_group.sql`\n",
    "- save and delete last week's file\n",
    "- make sure `Portfolio Filter Group` file with the date of `from_date` exist in the folder."
   ]
  },
  {
   "cell_type": "code",
   "execution_count": 5,
   "metadata": {},
   "outputs": [
    {
     "name": "stdout",
     "output_type": "stream",
     "text": [
      "Created Portfolio Filter Group file at S:\\IT IRSR Shared\\RedSwan\\RedSwan\\Master_bcIMC\\LIQUID\\Liquid\\2023\\03\\03_03\\Portfolio Filter Group 20230303.xlsx\n",
      "Deleted file: Portfolio Filter Group 20230224.xlsx\n"
     ]
    }
   ],
   "source": [
    "lib.liquid.create_portfolio_filter_group(from_date,new_date)"
   ]
  },
  {
   "cell_type": "markdown",
   "metadata": {},
   "source": [
    "## download weekly liquid data\n",
    "- the code will run sql query to get basket_hedge, IFT, illiquids, main from the database and save it in the `file` folder"
   ]
  },
  {
   "cell_type": "code",
   "execution_count": 8,
   "metadata": {},
   "outputs": [
    {
     "name": "stdout",
     "output_type": "stream",
     "text": [
      "Saved IFT at S:\\IT IRSR Shared\\RedSwan\\RedSwan\\Master_bcIMC\\LIQUID\\Liquid\\2023\\03\\03_03\\Files\\IFT\n",
      "S:\\IT IRSR Shared\\RedSwan\\RedSwan\\Master_bcIMC\\LIQUID\\Liquid\\2023\\03\\03_03\\Files\\Positions_20230303_IFT.xlsx is updated and saved to None\n",
      "Renamed Positions_20230303_IFT.xlsx to Positions_20230303_IFT.xlsx\n",
      "Saved Main at S:\\IT IRSR Shared\\RedSwan\\RedSwan\\Master_bcIMC\\LIQUID\\Liquid\\2023\\03\\03_03\\Files\\Main\n",
      "S:\\IT IRSR Shared\\RedSwan\\RedSwan\\Master_bcIMC\\LIQUID\\Liquid\\2023\\03\\03_03\\Files\\Positions_20230303_Main.xlsx is updated and saved to None\n",
      "Renamed Positions_20230303_Main.xlsx to Positions_20230303_Main.xlsx\n",
      "Saved Illiquids at S:\\IT IRSR Shared\\RedSwan\\RedSwan\\Master_bcIMC\\LIQUID\\Liquid\\2023\\03\\03_03\\Files\\Illiquids\n",
      "S:\\IT IRSR Shared\\RedSwan\\RedSwan\\Master_bcIMC\\LIQUID\\Liquid\\2023\\03\\03_03\\Files\\Positions_20230303_Illiquids.xlsx is updated and saved to None\n",
      "Renamed Positions_20230303_Illiquids.xlsx to Positions_20230303_Illiquids.xlsx\n",
      "Saved Basket_Hedge at S:\\IT IRSR Shared\\RedSwan\\RedSwan\\Master_bcIMC\\LIQUID\\Liquid\\2023\\03\\03_03\\Files\\Basket_Hedge\n",
      "S:\\IT IRSR Shared\\RedSwan\\RedSwan\\Master_bcIMC\\LIQUID\\Liquid\\2023\\03\\03_03\\Files\\Positions_20230303_Basket_Hedge.xlsx is updated and saved to None\n",
      "Renamed Positions_20230303_Basket_Hedge.xlsx to Positions_20230303_Basket_Hedge.xlsx\n"
     ]
    }
   ],
   "source": [
    "lib.liquid.save_weekly_liquid_data(new_date)"
   ]
  },
  {
   "cell_type": "markdown",
   "metadata": {},
   "source": [
    "## update position in env file\n",
    "- the code will update the position in env file `NewArch_LiquidsDerivatives V1 CSV.environment`\n",
    "- input params are the date of the working folder and position we want to change it to.\n",
    "- make sure the position passed in the function is in the list below\n",
    "- [`Basket_Hedge`, `Fix`, `IFT`, `Illiquids`, `Main`]"
   ]
  },
  {
   "cell_type": "code",
   "execution_count": 7,
   "metadata": {},
   "outputs": [
    {
     "name": "stdout",
     "output_type": "stream",
     "text": [
      "replaced Basket_Hedge|Fix|IFT|Illiquids|Main with Main in S:\\IT IRSR Shared\\RedSwan\\RedSwan\\Master_bcIMC\\LIQUID\\Liquid\\2023\\03\\03_03\\NewArch_LiquidsDerivatives V1 CSV.environment\n"
     ]
    }
   ],
   "source": [
    "lib.liquid.update_env_file_position(new_date, \"Main\")"
   ]
  },
  {
   "cell_type": "markdown",
   "metadata": {},
   "source": [
    "## create fix file\n",
    "- the code will read main data redswan log file from `result` folder and filter out bond records that is modeled to proxy.\n",
    "- update the model rule effective column\n",
    "- and save to `file` folder"
   ]
  },
  {
   "cell_type": "code",
   "execution_count": 26,
   "metadata": {},
   "outputs": [
    {
     "name": "stdout",
     "output_type": "stream",
     "text": [
      "S:\\IT IRSR Shared\\RedSwan\\RedSwan\\Master_bcIMC\\LIQUID\\Liquid\\2023\\01\\01_31\\Files\\Positions_20230131_Fix.xlsx is updated and saved to None\n",
      "Renamed Positions_20230131_Fix.xlsx to Positions_20230131_Fix.xlsx\n",
      "Saved Positions_20230131_Fix.csv at S:\\IT IRSR Shared\\RedSwan\\RedSwan\\Master_bcIMC\\LIQUID\\Liquid\\2023\\01\\01_31\\Files\n"
     ]
    }
   ],
   "source": [
    "lib.liquid.create_fix_file(new_date)"
   ]
  },
  {
   "cell_type": "markdown",
   "metadata": {},
   "source": [
    "## Update PV Validation File\n",
    "- the code will read look for `PV Report Liquids.xlsx` in the folder, change the name and read the data in the file.\n",
    "- look for file name contains `LiquidsDerivatives PV Validation` in the folder and delete old weeks data and update with new data."
   ]
  },
  {
   "cell_type": "code",
   "execution_count": 6,
   "metadata": {},
   "outputs": [
    {
     "name": "stdout",
     "output_type": "stream",
     "text": [
      "Renamed PV Report Liquids.xlsx to PV Report Liquids 20230228.xlsx\n",
      "S:\\IT IRSR Shared\\RedSwan\\RedSwan\\Master_bcIMC\\LIQUID\\Liquid\\2023\\02\\02_28\\LiquidsDerivatives PV Validation 20230228.xlsx is updated and saved to None\n",
      "Renamed LiquidsDerivatives PV Validation 20230228.xlsx to LiquidsDerivatives PV Validation 20230228.xlsx\n"
     ]
    }
   ],
   "source": [
    "lib.liquid.create_pv_validation(new_date)"
   ]
  },
  {
   "cell_type": "markdown",
   "metadata": {},
   "source": [
    "# Collteral\n",
    "- all code related to operation in collateral folder goes here\n",
    "- S:\\IT IRSR Shared\\RedSwan\\RedSwan\\Master_bcIMC\\LIQUID\\Collateral"
   ]
  },
  {
   "cell_type": "markdown",
   "metadata": {},
   "source": [
    "## create template folder"
   ]
  },
  {
   "cell_type": "code",
   "execution_count": 5,
   "metadata": {},
   "outputs": [
    {
     "name": "stdout",
     "output_type": "stream",
     "text": [
      "Copied folder from S:\\IT IRSR Shared\\RedSwan\\RedSwan\\Master_bcIMC\\LIQUID\\Collateral\\2023\\01\\01_06 to S:\\IT IRSR Shared\\RedSwan\\RedSwan\\Master_bcIMC\\LIQUID\\Collateral\\2023\\01\\01_13\n",
      "Copied to folder at S:\\IT IRSR Shared\\RedSwan\\RedSwan\\Master_bcIMC\\LIQUID\\Collateral\\2023\\01\\01_13\n",
      "Deleted file: Collateral.docx\n",
      "Deleted file: Collateral.xml\n",
      "Deleted file: Collateral_20230106.rml\n",
      "Deleted file: Collateral_20230106_Enriched.xml\n",
      "Deleted file: Collateral_20230106_Log.csv\n",
      "Deleted file: Collateral_20230106_RawLog.csv\n",
      "Deleted file: Collateral_unprocessed_holdings.csv\n",
      "Deleted file: Collateral_unprocessed_securities.csv\n",
      "Deleted file: OTC_Collateral_20230106.csv\n",
      "replaced S:\\IT IRSR Shared\\RedSwan\\RedSwan\\Master_bcIMC\\LIQUID\\Collateral\\2023\\01\\01_06 with S:\\IT IRSR Shared\\RedSwan\\RedSwan\\Master_bcIMC\\LIQUID\\Collateral\\2023\\01\\01_13 in S:\\IT IRSR Shared\\RedSwan\\RedSwan\\Master_bcIMC\\LIQUID\\Collateral\\2023\\01\\01_13\\Loading\\OTC_Collateral.environment\n",
      "replaced 20230106 with 20230113 in S:\\IT IRSR Shared\\RedSwan\\RedSwan\\Master_bcIMC\\LIQUID\\Collateral\\2023\\01\\01_13\\Loading\\OTC_Collateral.environment\n"
     ]
    }
   ],
   "source": [
    "lib.collateral.create_template_folder(from_date,new_date)"
   ]
  },
  {
   "attachments": {},
   "cell_type": "markdown",
   "metadata": {},
   "source": [
    "## Convert to CSV\n",
    "- the code will look for `OTC_Collateral_date.xlsx` in the folder and convert it to csv file and save it in the same folder"
   ]
  },
  {
   "cell_type": "code",
   "execution_count": null,
   "metadata": {},
   "outputs": [],
   "source": [
    "lib.collateral.convert_to_csv(new_date)"
   ]
  },
  {
   "cell_type": "markdown",
   "metadata": {},
   "source": [
    "# Repo\n",
    "- all code related to operation in repo folder goes here\n",
    "- S:\\IT IRSR Shared\\RedSwan\\RedSwan\\Master_bcIMC\\LIQUID\\Repo"
   ]
  },
  {
   "cell_type": "markdown",
   "metadata": {},
   "source": [
    "## create template folder"
   ]
  },
  {
   "cell_type": "code",
   "execution_count": 3,
   "metadata": {},
   "outputs": [
    {
     "name": "stdout",
     "output_type": "stream",
     "text": [
      "Copied folder from c:\\Users\\CXimen\\OneDrive - BCI\\Documents\\Liquid_Data_Production_Dev\\2023\\01\\01_20 to c:\\Users\\CXimen\\OneDrive - BCI\\Documents\\Liquid_Data_Production_Dev\\2023\\01\\01_27\n",
      "Copied to folder at c:\\Users\\CXimen\\OneDrive - BCI\\Documents\\Liquid_Data_Production_Dev\\2023\\01\\01_27\n",
      "Deleted file: Collateral.docx\n",
      "Deleted file: Collateral.xml\n",
      "Deleted file: Collateral_20230120.rml\n",
      "Deleted file: Collateral_20230120_Enriched.xml\n",
      "Deleted file: Collateral_20230120_Log.csv\n",
      "Deleted file: Collateral_20230120_RawLog.csv\n",
      "Deleted file: Collateral_unprocessed_holdings.csv\n",
      "Deleted file: Collateral_unprocessed_securities.csv\n",
      "Deleted file: OTC_Collateral_20230120.csv\n"
     ]
    },
    {
     "ename": "FileNotFoundError",
     "evalue": "[Errno 2] No such file or directory: 'c:\\\\Users\\\\CXimen\\\\OneDrive - BCI\\\\Documents\\\\Liquid_Data_Production_Dev\\\\2023\\\\01\\\\01_27\\\\Loading\\\\Repo_Col_V2.environment'",
     "output_type": "error",
     "traceback": [
      "\u001b[1;31m---------------------------------------------------------------------------\u001b[0m",
      "\u001b[1;31mFileNotFoundError\u001b[0m                         Traceback (most recent call last)",
      "Cell \u001b[1;32mIn [3], line 1\u001b[0m\n\u001b[1;32m----> 1\u001b[0m lib\u001b[39m.\u001b[39;49mrepo\u001b[39m.\u001b[39;49mcreate_template_folder(from_date,new_date)\n",
      "File \u001b[1;32mc:\\Users\\CXimen\\OneDrive - BCI\\Documents\\Liquid_Data_Production_Dev\\src\\lib\\repo.py:42\u001b[0m, in \u001b[0;36mcreate_template_folder\u001b[1;34m(from_date, to_date)\u001b[0m\n\u001b[0;32m     40\u001b[0m from_path \u001b[39m=\u001b[39m create_folder_path(base_path, from_date, \u001b[39mFalse\u001b[39;00m)\n\u001b[0;32m     41\u001b[0m to_path \u001b[39m=\u001b[39m create_folder_path(base_path, to_date, \u001b[39mFalse\u001b[39;00m)\n\u001b[1;32m---> 42\u001b[0m ut\u001b[39m.\u001b[39mcopy_folder_with_check(from_path, to_path)\n\u001b[0;32m     43\u001b[0m delete_files(to_date)\n\u001b[0;32m     44\u001b[0m update_env_file(from_date, to_date)\n",
      "File \u001b[1;32mc:\\Users\\CXimen\\OneDrive - BCI\\Documents\\Liquid_Data_Production_Dev\\src\\lib\\repo.py:33\u001b[0m, in \u001b[0;36mupdate_env_file\u001b[1;34m(from_date, to_date)\u001b[0m\n\u001b[0;32m     31\u001b[0m from_path \u001b[39m=\u001b[39m create_folder_path(prod_path, from_date, \u001b[39mFalse\u001b[39;00m)\n\u001b[0;32m     32\u001b[0m to_path \u001b[39m=\u001b[39m create_folder_path(prod_path, to_date, \u001b[39mFalse\u001b[39;00m)\n\u001b[1;32m---> 33\u001b[0m file_path \u001b[39m=\u001b[39m create_folder_path(base_path, to_date, \u001b[39mFalse\u001b[39;00m) \u001b[39m/\u001b[39m \\\n\u001b[0;32m     34\u001b[0m     \u001b[39m\"\u001b[39m\u001b[39mLoading\u001b[39m\u001b[39m\"\u001b[39m \u001b[39m/\u001b[39m \u001b[39m\"\u001b[39m\u001b[39mRepo_Col_V2.environment\u001b[39m\u001b[39m\"\u001b[39m\n\u001b[0;32m     35\u001b[0m ut\u001b[39m.\u001b[39mreplace_text_in_file(\n\u001b[0;32m     36\u001b[0m     file_path, \u001b[39mstr\u001b[39m(from_path), \u001b[39mstr\u001b[39m(to_path))\n",
      "File \u001b[1;32mc:\\Users\\CXimen\\OneDrive - BCI\\Documents\\Liquid_Data_Production_Dev\\src\\lib\\utils.py:65\u001b[0m, in \u001b[0;36mreplace_text_in_file\u001b[1;34m(file_path, old_text, new_text)\u001b[0m\n\u001b[0;32m     64\u001b[0m \u001b[39mdef\u001b[39;00m \u001b[39mreplace_text_in_file\u001b[39m(file_path, old_text, new_text):\n\u001b[1;32m---> 65\u001b[0m     \u001b[39mwith\u001b[39;00m \u001b[39mopen\u001b[39;49m(file_path, \u001b[39m'\u001b[39;49m\u001b[39mr\u001b[39;49m\u001b[39m'\u001b[39;49m) \u001b[39mas\u001b[39;00m file:\n\u001b[0;32m     66\u001b[0m         filedata \u001b[39m=\u001b[39m file\u001b[39m.\u001b[39mread()\n\u001b[0;32m     67\u001b[0m     filedata \u001b[39m=\u001b[39m filedata\u001b[39m.\u001b[39mreplace(old_text, new_text)\n",
      "\u001b[1;31mFileNotFoundError\u001b[0m: [Errno 2] No such file or directory: 'c:\\\\Users\\\\CXimen\\\\OneDrive - BCI\\\\Documents\\\\Liquid_Data_Production_Dev\\\\2023\\\\01\\\\01_27\\\\Loading\\\\Repo_Col_V2.environment'"
     ]
    }
   ],
   "source": [
    "lib.repo.create_template_folder(from_date,new_date)"
   ]
  },
  {
   "attachments": {},
   "cell_type": "markdown",
   "metadata": {},
   "source": [
    "## Update Excel File\n",
    "- the code will read look for `REPO FINAL.xlsx` in the folder, delete old weeks data and update sql data in the file.\n",
    "- we need to manually append powerquery data in the file."
   ]
  },
  {
   "cell_type": "code",
   "execution_count": null,
   "metadata": {},
   "outputs": [],
   "source": [
    "lib.repo.update_excel_file(new_date)"
   ]
  },
  {
   "attachments": {},
   "cell_type": "markdown",
   "metadata": {},
   "source": [
    "## Convert to CSV\n",
    "- after finish updating excel. use this function to convert the excel to csv file."
   ]
  },
  {
   "cell_type": "code",
   "execution_count": null,
   "metadata": {},
   "outputs": [],
   "source": [
    "lib.repo.convert_to_csv(new_date)"
   ]
  },
  {
   "cell_type": "markdown",
   "metadata": {},
   "source": [
    "# Lookthrough for Cube\n",
    "- all code related to operation in Lookthrough for Cube folder goes here\n",
    "- S:\\IT IRSR Shared\\RedSwan\\RedSwan\\Master_bcIMC\\TREE\\Lookthrough for Cube"
   ]
  },
  {
   "cell_type": "markdown",
   "metadata": {},
   "source": [
    "## create template folder"
   ]
  },
  {
   "cell_type": "code",
   "execution_count": 11,
   "metadata": {},
   "outputs": [
    {
     "name": "stdout",
     "output_type": "stream",
     "text": [
      "Copied folder from S:\\IT IRSR Shared\\RedSwan\\RedSwan\\Master_bcIMC\\TREE\\Lookthrough for Cube\\2023\\20230127 to S:\\IT IRSR Shared\\RedSwan\\RedSwan\\Master_bcIMC\\TREE\\Lookthrough for Cube\\2023\\20230131\n",
      "Copied to folder at S:\\IT IRSR Shared\\RedSwan\\RedSwan\\Master_bcIMC\\TREE\\Lookthrough for Cube\\2023\\20230131\n",
      "Deleted file: Lookthrough_Cube.docx\n",
      "Deleted file: Lookthrough_Cube.rml\n",
      "Deleted file: Lookthrough_Cube.xml\n",
      "Deleted file: Lookthrough_Cube_Enriched.xml\n",
      "Deleted file: Lookthrough_Cube_Log.csv\n",
      "Deleted file: Lookthrough_Cube_overlapped_securities.csv\n",
      "Deleted file: Lookthrough_Cube_RawLog.csv\n",
      "Deleted file: Lookthrough_Cube_unprocessed_holdings.csv\n",
      "Deleted file: Lookthrough_Cube_unprocessed_securities.csv\n",
      "Deleted file: Lookthrough - Cube -  20230127.csv\n",
      "Deleted file: LookthroughMapping_20230127.csv\n",
      "replaced S:\\IT IRSR Shared\\RedSwan\\RedSwan\\Master_bcIMC\\TREE\\Lookthrough for Cube\\2023\\20230127 with S:\\IT IRSR Shared\\RedSwan\\RedSwan\\Master_bcIMC\\TREE\\Lookthrough for Cube\\2023\\20230131 in S:\\IT IRSR Shared\\RedSwan\\RedSwan\\Master_bcIMC\\TREE\\Lookthrough for Cube\\2023\\20230131\\Loading\\Lookthrough Index Cube.environment\n",
      "replaced 20230127 with 20230131 in S:\\IT IRSR Shared\\RedSwan\\RedSwan\\Master_bcIMC\\TREE\\Lookthrough for Cube\\2023\\20230131\\Loading\\Lookthrough Index Cube.environment\n"
     ]
    }
   ],
   "source": [
    "lib.cube_lookthru.create_template_folder(from_date,new_date)"
   ]
  },
  {
   "cell_type": "markdown",
   "metadata": {},
   "source": [
    "## create `Lookthrough - Cube` file\n",
    "- the code will look for `Lookthrough - Cube` file with the date of `from_date` in the `to_date` working folder. \n",
    "- update the date in `MSCI_RM_INDEX_ID` column and `PRICED_SECURITY_NAME` column for ecompass data\n",
    "- append new week data from sql file in `sql\\Lookthrough\\lookthrough.sql`\n",
    "- **make sure to double check ecompass data matches with risk manager. the checking is not done by the code**.\n",
    "- after manually checking the ecompass data, run the second block of code to turn the excel to csv."
   ]
  },
  {
   "cell_type": "code",
   "execution_count": 12,
   "metadata": {},
   "outputs": [
    {
     "name": "stdout",
     "output_type": "stream",
     "text": [
      "Lookthrough Cube created at S:\\IT IRSR Shared\\RedSwan\\RedSwan\\Master_bcIMC\\TREE\\Lookthrough for Cube\\2023\\20230131\\Lookthrough - Cube -  20230131.xlsx\n",
      "Deleted file: Lookthrough - Cube -  20230127.xlsx\n"
     ]
    }
   ],
   "source": [
    "lib.cube_lookthru.create_lookthru_cube(from_date,new_date)"
   ]
  },
  {
   "cell_type": "code",
   "execution_count": 14,
   "metadata": {},
   "outputs": [
    {
     "name": "stdout",
     "output_type": "stream",
     "text": [
      "Converted S:\\IT IRSR Shared\\RedSwan\\RedSwan\\Master_bcIMC\\TREE\\Lookthrough for Cube\\2023\\20230131\\Lookthrough - Cube -  20230131.xlsx to csv\n"
     ]
    }
   ],
   "source": [
    "lib.cube_lookthru.turn_lookthru_cube_to_csv(new_date)"
   ]
  },
  {
   "cell_type": "markdown",
   "metadata": {},
   "source": [
    "## create `LookthroughMapping` file\n",
    "- the code will look for `Lookthrough - Cube` file with the date of `from_date` in the `to_date` working folder. \n",
    "- get rid of records besides ecompass\n",
    "- append new week data from sql file in `sql\\lookthrough\\indexCSV.sql`\n",
    "- **make sure to double check ecompass data matches with risk manager. the checking is not done by the code**.\n",
    "- after checking the ecompass data, run the second block of code to turn the excel to csv."
   ]
  },
  {
   "cell_type": "code",
   "execution_count": 13,
   "metadata": {},
   "outputs": [
    {
     "name": "stdout",
     "output_type": "stream",
     "text": [
      "LookthroughMapping created at S:\\IT IRSR Shared\\RedSwan\\RedSwan\\Master_bcIMC\\TREE\\Lookthrough for Cube\\2023\\20230131\\LookthroughMapping_20230131.xlsx\n",
      "Deleted file: LookthroughMapping_20230127.xlsx\n"
     ]
    }
   ],
   "source": [
    "lib.cube_lookthru.create_LookthroughMapping(from_date,new_date)"
   ]
  },
  {
   "cell_type": "code",
   "execution_count": 15,
   "metadata": {},
   "outputs": [
    {
     "name": "stdout",
     "output_type": "stream",
     "text": [
      "Converted S:\\IT IRSR Shared\\RedSwan\\RedSwan\\Master_bcIMC\\TREE\\Lookthrough for Cube\\2023\\20230131\\LookthroughMapping_20230131.xlsx to csv\n"
     ]
    }
   ],
   "source": [
    "lib.cube_lookthru.turn_LookthruMapping_to_csv(new_date)"
   ]
  },
  {
   "cell_type": "markdown",
   "metadata": {},
   "source": [
    "# Total Fund Tree\n",
    "- all code related to operation in Total Fund Tree folder goes here\n",
    "- S:\\IT IRSR Shared\\RedSwan\\RedSwan\\Master_bcIMC\\TREE\\Total Fund Tree"
   ]
  },
  {
   "cell_type": "markdown",
   "metadata": {},
   "source": [
    "## create template folder"
   ]
  },
  {
   "cell_type": "code",
   "execution_count": 16,
   "metadata": {},
   "outputs": [
    {
     "name": "stdout",
     "output_type": "stream",
     "text": [
      "Copied folder from S:\\IT IRSR Shared\\RedSwan\\RedSwan\\Master_bcIMC\\TREE\\Total Fund Tree\\2023\\01\\20230127 to S:\\IT IRSR Shared\\RedSwan\\RedSwan\\Master_bcIMC\\TREE\\Total Fund Tree\\2023\\01\\20230131\n",
      "Copied to folder at S:\\IT IRSR Shared\\RedSwan\\RedSwan\\Master_bcIMC\\TREE\\Total Fund Tree\\2023\\01\\20230131\n",
      "Deleted file: overlapped_holdings.csv\n",
      "Deleted file: TotalFundHierarchy.docx\n",
      "Deleted file: TotalFundHierarchy.xml\n",
      "Deleted file: TotalFundHierarchy_20230127.rml\n",
      "Deleted file: TotalFundHierarchy_20230127_Log.csv\n",
      "Deleted file: TotalFundHierarchy_20230127_RawLog.csv\n",
      "Deleted file: unprocessed_holdings.csv\n",
      "Deleted file: unprocessed_securities.csv\n",
      "Deleted file: Total_Fund_Tree _20230127.csv\n",
      "Deleted file: PV Report E0043 Ext Man 20230127.xlsx\n",
      "Deleted file: PV Report GPF Ext Man 20230127.xlsx\n",
      "Deleted file: Total Fund PV Report 20230120.xlsx\n",
      "replaced S:\\IT IRSR Shared\\RedSwan\\RedSwan\\Master_bcIMC\\TREE\\Total Fund Tree\\2023\\01\\20230127 with S:\\IT IRSR Shared\\RedSwan\\RedSwan\\Master_bcIMC\\TREE\\Total Fund Tree\\2023\\01\\20230131 in S:\\IT IRSR Shared\\RedSwan\\RedSwan\\Master_bcIMC\\TREE\\Total Fund Tree\\2023\\01\\20230131\\Loading\\TotalFundHierarchy Prod Load.environment\n",
      "replaced 20230127 with 20230131 in S:\\IT IRSR Shared\\RedSwan\\RedSwan\\Master_bcIMC\\TREE\\Total Fund Tree\\2023\\01\\20230131\\Loading\\TotalFundHierarchy Prod Load.environment\n"
     ]
    }
   ],
   "source": [
    "lib.total_fund_tree.create_template_folder(from_date,new_date)"
   ]
  },
  {
   "cell_type": "markdown",
   "metadata": {},
   "source": [
    "## Update Scale Calculation\n",
    "- after running the report in risk manager, save `PV Report Liquids External Manager` files in `Scale Calculation` folder\n",
    "- `create_extMan_PV_reports` will look for file contains `PV Report Liquids External Manager` in the `Scale Calculation` folder under `to_date` working folder.\n",
    "- add filter to the report and save in `Scale Calculation` folder with the `to_date` date.\n",
    "- `update_update_mtg_scale_calc` and `update_GPF_scale_calc` will look for respective PV report files in the `Scale Calculation` folder with `to_date` date.\n",
    "- update the scale calculation files with `from_date` date and save with `to_date` date name."
   ]
  },
  {
   "cell_type": "code",
   "execution_count": 10,
   "metadata": {},
   "outputs": [
    {
     "name": "stdout",
     "output_type": "stream",
     "text": [
      "Deleted file: PV Report Liquids External Manager (1).xlsx\n",
      "Updated PV Report GPF Ext Man 20230228.xlsx in S:\\IT IRSR Shared\\RedSwan\\RedSwan\\Master_bcIMC\\TREE\\Total Fund Tree\\2023\\02\\20230228\\Scale Calculation\n",
      "Deleted file: PV Report Liquids External Manager.xlsx\n",
      "Updated PV Report E0043 Ext Man 20230228.xlsx in S:\\IT IRSR Shared\\RedSwan\\RedSwan\\Master_bcIMC\\TREE\\Total Fund Tree\\2023\\02\\20230228\\Scale Calculation\n",
      "Deleted file: Scale calculation E0043 20230224.xlsx\n",
      "Updated S:\\IT IRSR Shared\\RedSwan\\RedSwan\\Master_bcIMC\\TREE\\Total Fund Tree\\2023\\02\\20230228\\Scale Calculation\\Scale calculation E0043 20230228.xlsx\n",
      "Deleted file: Scale calculation GPF 20230224.xlsx\n",
      "Updated S:\\IT IRSR Shared\\RedSwan\\RedSwan\\Master_bcIMC\\TREE\\Total Fund Tree\\2023\\02\\20230228\\Scale Calculation\\Scale calculation GPF 20230228.xlsx\n"
     ]
    }
   ],
   "source": [
    "lib.total_fund_tree.create_extMan_PV_reports(new_date)\n",
    "lib.total_fund_tree.update_mtg_scale_calc(from_date,new_date)\n",
    "lib.total_fund_tree.update_GPF_scale_calc(from_date,new_date)"
   ]
  },
  {
   "cell_type": "markdown",
   "metadata": {},
   "source": [
    "## Update Total Fund Tree\n",
    "- manually adjust portfolios in `Total_Fund_Tree` file and save with `to_date` date name.\n",
    "- `update_total_fund_tree` function will look for `Total_Fund_Tree` with `to_date` date name.\n",
    "- read scale data from the updated scale files and update the numbers in `Total_Fund_Tree` file\n",
    "- save updated file and also create a csv file"
   ]
  },
  {
   "cell_type": "code",
   "execution_count": 14,
   "metadata": {},
   "outputs": [
    {
     "name": "stdout",
     "output_type": "stream",
     "text": [
      "Updated S:\\IT IRSR Shared\\RedSwan\\RedSwan\\Master_bcIMC\\TREE\\Total Fund Tree\\2023\\02\\20230228\\Total_Fund_Tree _20230228.xlsx\n"
     ]
    }
   ],
   "source": [
    "lib.total_fund_tree.update_total_fund_tree(new_date)"
   ]
  },
  {
   "cell_type": "markdown",
   "metadata": {},
   "source": [
    "## Update Total Fund PV Report\n",
    "- download `PV Report Total Fund` from risk manager and save in `to_date` folder.\n",
    "- `update_total_fund_pv_report` function will look for `PV Report Total Fund.xlsx` file.\n",
    "- copy paste `View 1 assetClass by subAsset` sheet. set group level in `View 1 assetClass by subAsset` to level 2, and copied sheet to level 4.\n",
    "- hide rows from 1 to 19 excepte for row 11, which contains as of date.\n",
    "- save file with `to_date` name and delete original `PV Report Total Fund.xlsx` file."
   ]
  },
  {
   "cell_type": "code",
   "execution_count": 21,
   "metadata": {},
   "outputs": [
    {
     "name": "stdout",
     "output_type": "stream",
     "text": [
      "Updated S:\\IT IRSR Shared\\RedSwan\\RedSwan\\Master_bcIMC\\TREE\\Total Fund Tree\\2023\\02\\20230228\\Total Fund PV Report 20230228.xlsx\n",
      "Deleted file: Total Fund PV Report.xlsx\n"
     ]
    }
   ],
   "source": [
    "lib.total_fund_tree.update_total_fund_pv_report(new_date)"
   ]
  },
  {
   "cell_type": "markdown",
   "metadata": {},
   "source": [
    "## GPF Managers Weekly & Monthly MV\n",
    "- `update_GPF_Managers_MV` function will run the sql query to get the GPF based on `to_date` date.\n",
    "- paste the data into the `Formuila` sheet in `GPF Managers Weekly & Monthly MV.xlsx` file.\n",
    "- copy and paste the formated table (`A1:D46`) in `Formula` sheet and paste to new sheet with `to_date` date as name.\n",
    "- and save the file."
   ]
  },
  {
   "cell_type": "code",
   "execution_count": 2,
   "metadata": {},
   "outputs": [
    {
     "name": "stdout",
     "output_type": "stream",
     "text": [
      "c:\\Users\\CXimen\\OneDrive - BCI\\Documents\\Liquid_Data_Production_Dev\\2023\\03\\20230310\\Queries\\GPF Managers Weekly & Monthly MV.xlsx is updated and saved to None\n"
     ]
    }
   ],
   "source": [
    "lib.total_fund_tree.update_GPF_Managers_MV(new_date)"
   ]
  },
  {
   "cell_type": "markdown",
   "metadata": {},
   "source": [
    "# Total Fund BMK Tree\n",
    "- all code related to operation in Total Fund BMK Tree folder goes here\n",
    "- S:\\IT IRSR Shared\\RedSwan\\RedSwan\\Master_bcIMC\\TREE\\Total Fund BMK Tree"
   ]
  },
  {
   "cell_type": "markdown",
   "metadata": {},
   "source": [
    "## create template folder"
   ]
  },
  {
   "cell_type": "code",
   "execution_count": 17,
   "metadata": {},
   "outputs": [
    {
     "name": "stdout",
     "output_type": "stream",
     "text": [
      "Copied folder from S:\\IT IRSR Shared\\RedSwan\\RedSwan\\Master_bcIMC\\TREE\\Total Fund BMK Tree\\2023\\01\\20230127 to S:\\IT IRSR Shared\\RedSwan\\RedSwan\\Master_bcIMC\\TREE\\Total Fund BMK Tree\\2023\\01\\20230131\n",
      "Copied to folder at S:\\IT IRSR Shared\\RedSwan\\RedSwan\\Master_bcIMC\\TREE\\Total Fund BMK Tree\\2023\\01\\20230131\n",
      "Deleted file: BMK Roll Down 20230127.rml\n",
      "Deleted file: BMK Roll Down 20230127_Enriched.xml\n",
      "Deleted file: BMK Roll Down 20230127_Log.csv\n",
      "Deleted file: BMK Roll Down 20230127_RawLog.csv\n",
      "Deleted file: BMK Roll Down.docx\n",
      "Deleted file: BMK Roll Down.xml\n",
      "Deleted file: BMK Roll Up 20230127.rml\n",
      "Deleted file: BMK Roll Up 20230127_Log.csv\n",
      "Deleted file: BMK Roll Up 20230127_RawLog.csv\n",
      "Deleted file: BMK Roll Up.docx\n",
      "Deleted file: BMK Roll Up.xml\n",
      "Deleted file: overlapped_RD_holdings.csv\n",
      "Deleted file: overlapped_RU_holdings.csv\n",
      "Deleted file: unprocessed_RD_holdings.csv\n",
      "Deleted file: unprocessed_RD_securities.csv\n",
      "Deleted file: unprocessed_RU_holdings.csv\n",
      "Deleted file: unprocessed_RU_securities.csv\n",
      "Deleted file: Total_Fund_BMK_Tree_20230127 - RD.csv\n",
      "Deleted file: Total_Fund_BMK_Tree_20230127 - RU.csv\n",
      "replaced S:\\IT IRSR Shared\\RedSwan\\RedSwan\\Master_bcIMC\\TREE\\Total Fund BMK Tree\\2023\\01\\20230127 with S:\\IT IRSR Shared\\RedSwan\\RedSwan\\Master_bcIMC\\TREE\\Total Fund BMK Tree\\2023\\01\\20230131 in S:\\IT IRSR Shared\\RedSwan\\RedSwan\\Master_bcIMC\\TREE\\Total Fund BMK Tree\\2023\\01\\20230131\\Loading\\TFT BMK RD.environment\n",
      "replaced 20230127 with 20230131 in S:\\IT IRSR Shared\\RedSwan\\RedSwan\\Master_bcIMC\\TREE\\Total Fund BMK Tree\\2023\\01\\20230131\\Loading\\TFT BMK RD.environment\n",
      "replaced S:\\IT IRSR Shared\\RedSwan\\RedSwan\\Master_bcIMC\\TREE\\Total Fund BMK Tree\\2023\\01\\20230127 with S:\\IT IRSR Shared\\RedSwan\\RedSwan\\Master_bcIMC\\TREE\\Total Fund BMK Tree\\2023\\01\\20230131 in S:\\IT IRSR Shared\\RedSwan\\RedSwan\\Master_bcIMC\\TREE\\Total Fund BMK Tree\\2023\\01\\20230131\\Loading\\TFT BMK RU.environment\n",
      "replaced 20230127 with 20230131 in S:\\IT IRSR Shared\\RedSwan\\RedSwan\\Master_bcIMC\\TREE\\Total Fund BMK Tree\\2023\\01\\20230131\\Loading\\TFT BMK RU.environment\n"
     ]
    }
   ],
   "source": [
    "lib.total_fund_bmk_tree.create_template_folder(from_date,new_date)"
   ]
  },
  {
   "cell_type": "markdown",
   "metadata": {},
   "source": [
    "## Update Total Fund BMK Tree\n",
    "- manually adjust portfolios in `Total_Fund_BMK_Tree` files and save with `to_date` date in the name.\n",
    "- `update_total_fund_bmk_tree` function will look for `Total_Fund_BMK_Tree` with `to_date` name.\n",
    "- the code will grab scale data from the updated scale files in and also the updated PV report in `Total Fund Tree` folder \n",
    "- update the scale data and market value in `Total_Fund_BMK_Tree` file\n",
    "- save the file and also convert it to csv file"
   ]
  },
  {
   "cell_type": "code",
   "execution_count": 22,
   "metadata": {},
   "outputs": [
    {
     "name": "stdout",
     "output_type": "stream",
     "text": [
      "Updated S:\\IT IRSR Shared\\RedSwan\\RedSwan\\Master_bcIMC\\TREE\\Total Fund BMK Tree\\2023\\02\\20230228\\Total_Fund_BMK_Tree_20230228 - RD.xlsx and saved csv\n",
      "Total Fund BMK Tree total MV is 206510503734.35654 and PV report total is 206510503734.35657\n",
      "Updated S:\\IT IRSR Shared\\RedSwan\\RedSwan\\Master_bcIMC\\TREE\\Total Fund BMK Tree\\2023\\02\\20230228\\Total_Fund_BMK_Tree_20230228 - RU.xlsx and saved csv\n",
      "Total Fund BMK Tree total MV is 206510503734.35654 and PV report total is 206510503734.35657\n"
     ]
    }
   ],
   "source": [
    "lib.total_fund_bmk_tree.update_total_fund_bmk_tree(new_date)"
   ]
  },
  {
   "cell_type": "markdown",
   "metadata": {},
   "source": [
    "# Cube Files\n",
    "- all code related to operation in `CubeFiles` goes here\n",
    "- S\\\\bcimcs8\\sharedir\\IT IRSR Shared\\RedSwan\\RedSwan\\Master_bcIMC\\CubeFiles"
   ]
  },
  {
   "cell_type": "markdown",
   "metadata": {},
   "source": [
    "## Create template folder\n",
    " - the code will create a new folder with the date of `to_date` in the `CubeFiles` folder\n",
    " - copy paste all the files\n",
    " - update `ProcessStats` file with the date of `to_date` and `RiskVersionName`\n"
   ]
  },
  {
   "cell_type": "code",
   "execution_count": 23,
   "metadata": {},
   "outputs": [
    {
     "name": "stdout",
     "output_type": "stream",
     "text": [
      "Created folder S:\\IT IRSR Shared\\RedSwan\\RedSwan\\Master_bcIMC\\CubeFiles\\Monthly\\20230228\n",
      "Copied file S:\\IT IRSR Shared\\RedSwan\\RedSwan\\Master_bcIMC\\TREE\\Lookthrough for Cube\\2023\\20230228\\LookthroughMapping_20230228.csv to S:\\IT IRSR Shared\\RedSwan\\RedSwan\\Master_bcIMC\\CubeFiles\\Monthly\\20230228\n",
      "Copied file S:\\IT IRSR Shared\\RedSwan\\RedSwan\\Master_bcIMC\\TREE\\Total Fund BMK Tree\\2023\\02\\20230228\\Total_Fund_BMK_Tree_20230228 - RD.csv to S:\\IT IRSR Shared\\RedSwan\\RedSwan\\Master_bcIMC\\CubeFiles\\Monthly\\20230228\n",
      "Copied file S:\\IT IRSR Shared\\RedSwan\\RedSwan\\Master_bcIMC\\TREE\\Total Fund BMK Tree\\2023\\02\\20230228\\Total_Fund_BMK_Tree_20230228 - RU.csv to S:\\IT IRSR Shared\\RedSwan\\RedSwan\\Master_bcIMC\\CubeFiles\\Monthly\\20230228\n",
      "Copied file S:\\IT IRSR Shared\\RedSwan\\RedSwan\\Master_bcIMC\\TREE\\Total Fund Tree\\2023\\02\\20230228\\Total_Fund_Tree _20230228.csv to S:\\IT IRSR Shared\\RedSwan\\RedSwan\\Master_bcIMC\\CubeFiles\\Monthly\\20230228\n",
      "replaced \\d{8} with 20230228 in S:\\IT IRSR Shared\\RedSwan\\RedSwan\\Master_bcIMC\\CubeFiles\\ProcessStats.csv\n",
      "replaced Weekly|Monthly with Monthly in S:\\IT IRSR Shared\\RedSwan\\RedSwan\\Master_bcIMC\\CubeFiles\\ProcessStats.csv\n"
     ]
    }
   ],
   "source": [
    "weekly = False # True for weekly, False for monthly\n",
    "lib.cubefiles.create_template_folder(new_date, weekly)"
   ]
  }
 ],
 "metadata": {
  "kernelspec": {
   "display_name": ".venv",
   "language": "python",
   "name": "python3"
  },
  "language_info": {
   "codemirror_mode": {
    "name": "ipython",
    "version": 3
   },
   "file_extension": ".py",
   "mimetype": "text/x-python",
   "name": "python",
   "nbconvert_exporter": "python",
   "pygments_lexer": "ipython3",
   "version": "3.8.10"
  },
  "orig_nbformat": 4,
  "vscode": {
   "interpreter": {
    "hash": "9e7f6956f5c44f9c75c79f64994a5e12080cbb9bbefa27819bd5c85a7c8b6ec8"
   }
  }
 },
 "nbformat": 4,
 "nbformat_minor": 2
}
