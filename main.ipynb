{
 "cells": [
  {
   "cell_type": "markdown",
   "metadata": {},
   "source": [
    "# Weekly Load Automation\n",
    "- This file will be the main interface to run python code which will operate on the respective folder used in weekly load. \n",
    "- The main function code sits in lib folder which is a python package. The package is structured in a way that each module within works on specific working folder for weekly load.\n",
    "- The config module in lib package has a variable \"IS_DEV\" which is used as a flag to determine if the code is running in dev environment or not and gets fed into all modules. please make sure it's turned to \"False\" before running in production."
   ]
  },
  {
   "cell_type": "code",
   "execution_count": 1,
   "metadata": {},
   "outputs": [
    {
     "data": {
      "text/plain": [
       "WindowsPath('S:/IT IRSR Shared/RedSwan/RedSwan/Master_bcIMC/LIQUID/Liquid')"
      ]
     },
     "execution_count": 1,
     "metadata": {},
     "output_type": "execute_result"
    }
   ],
   "source": [
    "import lib\n",
    "from datetime import date, timedelta\n",
    "import warnings\n",
    "warnings.filterwarnings(\"ignore\")\n",
    "import pandas as pd\n",
    "\n",
    "pd.options.display.float_format = '{:.2f}'.format\n",
    "\n",
    "# last week's validation date \n",
    "from_date = date(2023, 1, 6)\n",
    "# new week's date to work on\n",
    "new_date = from_date + timedelta(days=7)\n",
    "# check environment, if production it should return share drive path\n",
    "lib.liquid.base_path"
   ]
  },
  {
   "cell_type": "markdown",
   "metadata": {},
   "source": [
    "# Liquid\n",
    "- all code related to operation in liquid folder goes here\n",
    "- S:\\IT IRSR Shared\\RedSwan\\RedSwan\\Master_bcIMC\\LIQUID\\Liquid "
   ]
  },
  {
   "cell_type": "markdown",
   "metadata": {},
   "source": [
    "## create template folder\n",
    "- the code will copy folder according to `from_date` and paste as `to_date`\n",
    "- delete unnecessary files from last week\n",
    "- update enviroment file with new date"
   ]
  },
  {
   "cell_type": "code",
   "execution_count": 3,
   "metadata": {},
   "outputs": [
    {
     "name": "stdout",
     "output_type": "stream",
     "text": [
      "Copied folder from S:\\IT IRSR Shared\\RedSwan\\RedSwan\\Master_bcIMC\\LIQUID\\Liquid\\2023\\01\\01_06 to S:\\IT IRSR Shared\\RedSwan\\RedSwan\\Master_bcIMC\\LIQUID\\Liquid\\2023\\01\\01_13\n",
      "Copied to folder at S:\\IT IRSR Shared\\RedSwan\\RedSwan\\Master_bcIMC\\LIQUID\\Liquid\\2023\\01\\01_13\n",
      "Deleted file: Basket_Hedge_20230106.docx\n",
      "Deleted file: Basket_Hedge_20230106.xml\n",
      "Deleted file: Fix_20230106.docx\n",
      "Deleted file: Fix_20230106.xml\n",
      "Deleted file: IFT_20230106.docx\n",
      "Deleted file: IFT_20230106.xml\n",
      "Deleted file: Illiquids_20230106.docx\n",
      "Deleted file: Illiquids_20230106.xml\n",
      "Deleted file: Main_20230106.docx\n",
      "Deleted file: Main_20230106.xml\n",
      "Deleted file: Basket_Hedge_20230106.rml\n",
      "Deleted file: Basket_Hedge_20230106_Enriched.xml\n",
      "Deleted file: Basket_Hedge_20230106_Log.csv\n",
      "Deleted file: Basket_Hedge_20230106_RawLog.csv\n",
      "Deleted file: Basket_Hedge_overlapped_20230106_holdings.csv\n",
      "Deleted file: Basket_Hedge_overlapped_20230106_securities.csv\n",
      "Deleted file: Basket_Hedge_unprocessed_20230106_holdings.csv\n",
      "Deleted file: Basket_Hedge_unprocessed_20230106_securities.csv\n",
      "Deleted file: Fix_20230106.rml\n",
      "Deleted file: Fix_20230106_Enriched.xml\n",
      "Deleted file: Fix_20230106_Log.csv\n",
      "Deleted file: Fix_20230106_RawLog_2023010620230109_114353.xml\n",
      "Deleted file: Fix_overlapped_20230106_securities.csv\n",
      "Deleted file: Fix_unprocessed_20230106_holdings.csv\n",
      "Deleted file: Fix_unprocessed_20230106_securities.csv\n",
      "Deleted file: IFT_20230106.rml\n",
      "Deleted file: IFT_20230106_Enriched.xml\n",
      "Deleted file: IFT_20230106_Log.csv\n",
      "Deleted file: IFT_20230106_RawLog_2023010620230109_115128.xml\n",
      "Deleted file: IFT_overlapped_20230106_securities.csv\n",
      "Deleted file: IFT_unprocessed_20230106_holdings.csv\n",
      "Deleted file: IFT_unprocessed_20230106_securities.csv\n",
      "Deleted file: Illiquids_20230106.rml\n",
      "Deleted file: Illiquids_20230106_Enriched.xml\n",
      "Deleted file: Illiquids_20230106_Log.csv\n",
      "Deleted file: Illiquids_20230106_RawLog_2023010620230109_115722.xml\n",
      "Deleted file: Illiquids_overlapped_20230106_securities.csv\n",
      "Deleted file: Illiquids_unprocessed_20230106_holdings.csv\n",
      "Deleted file: Illiquids_unprocessed_20230106_securities.csv\n",
      "Deleted file: Main_20230106.rml\n",
      "Deleted file: Main_20230106_Log.csv\n",
      "Deleted file: Main_20230106_RawLog.csv\n",
      "Deleted file: Main_overlapped_20230106_securities.csv\n",
      "Deleted file: Main_unprocessed_20230106_holdings.csv\n",
      "Deleted file: Main_unprocessed_20230106_securities.csv\n",
      "Deleted file: Positions_20230106_Basket_Hedge.csv\n",
      "Deleted file: Positions_20230106_Fix.csv\n",
      "Deleted file: Positions_20230106_IFT.csv\n",
      "Deleted file: Positions_20230106_Illiquids.csv\n",
      "Deleted file: Positions_20230106_Main.csv\n",
      "Deleted file: PV Report Liquids 20221230.xlsx\n",
      "Deleted file: PV Report Illiquids 20221230.xlsx\n",
      "replaced S:\\IT IRSR Shared\\RedSwan\\RedSwan\\Master_bcIMC\\LIQUID\\Liquid\\2023\\01\\01_06 with S:\\IT IRSR Shared\\RedSwan\\RedSwan\\Master_bcIMC\\LIQUID\\Liquid\\2023\\01\\01_13 in S:\\IT IRSR Shared\\RedSwan\\RedSwan\\Master_bcIMC\\LIQUID\\Liquid\\2023\\01\\01_13\\NewArch_LiquidsDerivatives V1 CSV.environment\n",
      "replaced 20230106 with 20230113 in S:\\IT IRSR Shared\\RedSwan\\RedSwan\\Master_bcIMC\\LIQUID\\Liquid\\2023\\01\\01_13\\NewArch_LiquidsDerivatives V1 CSV.environment\n",
      "replaced Basket_Hedge|Fix|IFT|Illiquids|Main with Basket_Hedge in S:\\IT IRSR Shared\\RedSwan\\RedSwan\\Master_bcIMC\\LIQUID\\Liquid\\2023\\01\\01_13\\NewArch_LiquidsDerivatives V1 CSV.environment\n"
     ]
    }
   ],
   "source": [
    "lib.liquid.create_template_folder(from_date,new_date)"
   ]
  },
  {
   "cell_type": "markdown",
   "metadata": {},
   "source": [
    "## create Portfolio Filter Group File\n",
    "- the code will look for `Portfolio Filter Group` file with the date of `from_date` in the `to_date` working folder. update `to_date` portfolios in the file.\n",
    "- `to_date` portfolio is obtained from sql file `sql\\liquid\\portfolio_filter_group.sql`\n",
    "- save and delete last week's file\n",
    "- make sure `Portfolio Filter Group` file with the date of `from_date` exist in the folder."
   ]
  },
  {
   "cell_type": "code",
   "execution_count": 4,
   "metadata": {},
   "outputs": [
    {
     "name": "stdout",
     "output_type": "stream",
     "text": [
      "Created Portfolio Filter Group file at S:\\IT IRSR Shared\\RedSwan\\RedSwan\\Master_bcIMC\\LIQUID\\Liquid\\2023\\01\\01_13\\Portfolio Filter Group 20230113.xlsx\n",
      "Deleted file: Portfolio Filter Group 20230106.xlsx\n"
     ]
    }
   ],
   "source": [
    "lib.liquid.create_portfolio_filter_group(from_date,new_date)"
   ]
  },
  {
   "cell_type": "markdown",
   "metadata": {},
   "source": [
    "## download weekly liquid data\n",
    "- the code will run sql query to get basket_hedge, IFT, illiquids, main from the database and save it in the `file` folder"
   ]
  },
  {
   "cell_type": "code",
   "execution_count": 10,
   "metadata": {},
   "outputs": [
    {
     "name": "stdout",
     "output_type": "stream",
     "text": [
      "Saved IFT at S:\\IT IRSR Shared\\RedSwan\\RedSwan\\Master_bcIMC\\LIQUID\\Liquid\\2023\\01\\01_13\\Files\\IFT\n",
      "S:\\IT IRSR Shared\\RedSwan\\RedSwan\\Master_bcIMC\\LIQUID\\Liquid\\2023\\01\\01_13\\Files\\Positions_20230106_IFT.xlsx is updated and saved to None\n",
      "Renamed Positions_20230106_IFT.xlsx to Positions_20230113_IFT.xlsx\n",
      "Saved Main at S:\\IT IRSR Shared\\RedSwan\\RedSwan\\Master_bcIMC\\LIQUID\\Liquid\\2023\\01\\01_13\\Files\\Main\n",
      "S:\\IT IRSR Shared\\RedSwan\\RedSwan\\Master_bcIMC\\LIQUID\\Liquid\\2023\\01\\01_13\\Files\\Positions_20230106_Main.xlsx is updated and saved to None\n",
      "Renamed Positions_20230106_Main.xlsx to Positions_20230113_Main.xlsx\n",
      "Saved Illiquids at S:\\IT IRSR Shared\\RedSwan\\RedSwan\\Master_bcIMC\\LIQUID\\Liquid\\2023\\01\\01_13\\Files\\Illiquids\n",
      "S:\\IT IRSR Shared\\RedSwan\\RedSwan\\Master_bcIMC\\LIQUID\\Liquid\\2023\\01\\01_13\\Files\\Positions_20230106_Illiquids.xlsx is updated and saved to None\n",
      "Renamed Positions_20230106_Illiquids.xlsx to Positions_20230113_Illiquids.xlsx\n",
      "Saved Basket_Hedge at S:\\IT IRSR Shared\\RedSwan\\RedSwan\\Master_bcIMC\\LIQUID\\Liquid\\2023\\01\\01_13\\Files\\Basket_Hedge\n",
      "S:\\IT IRSR Shared\\RedSwan\\RedSwan\\Master_bcIMC\\LIQUID\\Liquid\\2023\\01\\01_13\\Files\\Positions_20230106_Basket_Hedge.xlsx is updated and saved to None\n",
      "Renamed Positions_20230106_Basket_Hedge.xlsx to Positions_20230113_Basket_Hedge.xlsx\n"
     ]
    }
   ],
   "source": [
    "lib.liquid.save_weekly_liquid_data(new_date)"
   ]
  },
  {
   "cell_type": "markdown",
   "metadata": {},
   "source": [
    "## update position in env file\n",
    "- the code will update the position in env file `NewArch_LiquidsDerivatives V1 CSV.environment`\n",
    "- input params are the date of the working folder and position we want to change it to.\n",
    "- make sure the position passed in the function is in the list below\n",
    "- [`Basket_Hedge`, `Fix`, `IFT`, `Illiquids`, `Main`]"
   ]
  },
  {
   "cell_type": "code",
   "execution_count": 4,
   "metadata": {},
   "outputs": [
    {
     "name": "stdout",
     "output_type": "stream",
     "text": [
      "replaced Basket_Hedge|Fix|IFT|Illiquids|Main with IFT in S:\\IT IRSR Shared\\RedSwan\\RedSwan\\Master_bcIMC\\LIQUID\\Liquid\\2022\\12\\12_31\\NewArch_LiquidsDerivatives V1 CSV.environment\n"
     ]
    }
   ],
   "source": [
    "lib.liquid.update_env_file_position(new_date, \"IFT\")"
   ]
  },
  {
   "cell_type": "markdown",
   "metadata": {},
   "source": [
    "## create fix file\n",
    "- the code will read main data redswan log file from `result` folder and filter out bond records that is modeled to proxy.\n",
    "- update the model rule effective column\n",
    "- and save to `file` folder"
   ]
  },
  {
   "cell_type": "code",
   "execution_count": 9,
   "metadata": {},
   "outputs": [
    {
     "name": "stdout",
     "output_type": "stream",
     "text": [
      "S:\\IT IRSR Shared\\RedSwan\\RedSwan\\Master_bcIMC\\LIQUID\\Liquid\\2022\\12\\12_09\\Files\\Positions_20221209_Fix.xlsx is updated and saved to None\n",
      "Renamed Positions_20221209_Fix.xlsx to Positions_20221209_Fix.xlsx\n",
      "Saved Positions_20221209_Fix.csv at S:\\IT IRSR Shared\\RedSwan\\RedSwan\\Master_bcIMC\\LIQUID\\Liquid\\2022\\12\\12_09\\Files\n"
     ]
    }
   ],
   "source": [
    "lib.liquid.create_fix_file(new_date)"
   ]
  },
  {
   "cell_type": "markdown",
   "metadata": {},
   "source": [
    "## Update PV Validation File\n",
    "- the code will read look for `PV Report Liquids.xlsx` in the folder, change the name and read the data in the file.\n",
    "- look for file name contains `LiquidsDerivatives PV Validation` in the folder and delete old weeks data and update with new data."
   ]
  },
  {
   "cell_type": "code",
   "execution_count": 5,
   "metadata": {},
   "outputs": [
    {
     "ename": "ValueError",
     "evalue": "Multiple RiskDate in Data",
     "output_type": "error",
     "traceback": [
      "\u001b[1;31m---------------------------------------------------------------------------\u001b[0m",
      "\u001b[1;31mValueError\u001b[0m                                Traceback (most recent call last)",
      "Cell \u001b[1;32mIn [5], line 1\u001b[0m\n\u001b[1;32m----> 1\u001b[0m lib\u001b[39m.\u001b[39;49mliquid\u001b[39m.\u001b[39;49mcreate_pv_validation(new_date)\n",
      "File \u001b[1;32mc:\\Users\\CXimen\\OneDrive - BCI\\Documents\\Liquid_Data_Production_Dev\\src\\lib\\liquid.py:288\u001b[0m, in \u001b[0;36mcreate_pv_validation\u001b[1;34m(dt)\u001b[0m\n\u001b[0;32m    284\u001b[0m \u001b[39mdef\u001b[39;00m \u001b[39mcreate_pv_validation\u001b[39m(dt: date) \u001b[39m-\u001b[39m\u001b[39m>\u001b[39m \u001b[39mNone\u001b[39;00m:\n\u001b[0;32m    286\u001b[0m     path \u001b[39m=\u001b[39m create_folder_path(base_path, dt)\n\u001b[0;32m    287\u001b[0m     mv_df \u001b[39m=\u001b[39m (\n\u001b[1;32m--> 288\u001b[0m         pd\u001b[39m.\u001b[39;49mconcat([get_filter_group_data(), get_ift_data(dt)])\n\u001b[0;32m    289\u001b[0m         \u001b[39m.\u001b[39;49mpipe(check_date, dt)\n\u001b[0;32m    290\u001b[0m         \u001b[39m.\u001b[39mastype({\u001b[39m\"\u001b[39m\u001b[39mAmount\u001b[39m\u001b[39m\"\u001b[39m: \u001b[39m\"\u001b[39m\u001b[39mfloat\u001b[39m\u001b[39m\"\u001b[39m, \u001b[39m\"\u001b[39m\u001b[39mBaseTotalMarketValue\u001b[39m\u001b[39m\"\u001b[39m: \u001b[39m\"\u001b[39m\u001b[39mfloat\u001b[39m\u001b[39m\"\u001b[39m})\n\u001b[0;32m    291\u001b[0m         \u001b[39m.\u001b[39mgroupby([\u001b[39m\"\u001b[39m\u001b[39mParentPortfolioCode\u001b[39m\u001b[39m\"\u001b[39m, \u001b[39m\"\u001b[39m\u001b[39mInstrumentTypeDesc\u001b[39m\u001b[39m\"\u001b[39m, \u001b[39m\"\u001b[39m\u001b[39mPositionId\u001b[39m\u001b[39m\"\u001b[39m, \u001b[39m\"\u001b[39m\u001b[39msecurityName\u001b[39m\u001b[39m\"\u001b[39m, \u001b[39m\"\u001b[39m\u001b[39mLocalPriceCcyCode\u001b[39m\u001b[39m\"\u001b[39m, \u001b[39m\"\u001b[39m\u001b[39mMaturityDate\u001b[39m\u001b[39m\"\u001b[39m], dropna\u001b[39m=\u001b[39m\u001b[39mFalse\u001b[39;00m, as_index\u001b[39m=\u001b[39m\u001b[39mFalse\u001b[39;00m)\n\u001b[0;32m    292\u001b[0m         [[\u001b[39m\"\u001b[39m\u001b[39mAmount\u001b[39m\u001b[39m\"\u001b[39m, \u001b[39m\"\u001b[39m\u001b[39mBaseTotalMarketValue\u001b[39m\u001b[39m\"\u001b[39m]]\n\u001b[0;32m    293\u001b[0m         \u001b[39m.\u001b[39msum()\n\u001b[0;32m    294\u001b[0m         \u001b[39m.\u001b[39mrename(columns\u001b[39m=\u001b[39m{\u001b[39m\"\u001b[39m\u001b[39mAmount\u001b[39m\u001b[39m\"\u001b[39m: \u001b[39m\"\u001b[39m\u001b[39mSum of Amount\u001b[39m\u001b[39m\"\u001b[39m, \u001b[39m\"\u001b[39m\u001b[39mBaseTotalMarketValue\u001b[39m\u001b[39m\"\u001b[39m: \u001b[39m\"\u001b[39m\u001b[39mSum of BaseTotalMarketValue\u001b[39m\u001b[39m\"\u001b[39m})\n\u001b[0;32m    295\u001b[0m     )\n\u001b[0;32m    296\u001b[0m     pv_df \u001b[39m=\u001b[39m pd\u001b[39m.\u001b[39mread_excel(path \u001b[39m/\u001b[39m \u001b[39m\"\u001b[39m\u001b[39mPV Report Liquids.xlsx\u001b[39m\u001b[39m\"\u001b[39m,\n\u001b[0;32m    297\u001b[0m                           skiprows\u001b[39m=\u001b[39m\u001b[39m19\u001b[39m, usecols\u001b[39m=\u001b[39m\u001b[39m\"\u001b[39m\u001b[39mB:M\u001b[39m\u001b[39m\"\u001b[39m)\n\u001b[0;32m    298\u001b[0m     ut\u001b[39m.\u001b[39mrename_file_with_regex(\n\u001b[0;32m    299\u001b[0m         path, \u001b[39m\"\u001b[39m\u001b[39mPV Report Liquids.xlsx\u001b[39m\u001b[39m\"\u001b[39m, \u001b[39mf\u001b[39m\u001b[39m\"\u001b[39m\u001b[39mPV Report Liquids \u001b[39m\u001b[39m{\u001b[39;00mut\u001b[39m.\u001b[39mdate_to_str(dt)\u001b[39m}\u001b[39;00m\u001b[39m.xlsx\u001b[39m\u001b[39m\"\u001b[39m)\n",
      "File \u001b[1;32mc:\\Users\\CXimen\\OneDrive - BCI\\Documents\\Liquid_Data_Production_Dev\\venv\\lib\\site-packages\\pandas\\core\\generic.py:5839\u001b[0m, in \u001b[0;36mNDFrame.pipe\u001b[1;34m(self, func, *args, **kwargs)\u001b[0m\n\u001b[0;32m   5781\u001b[0m \u001b[39m@final\u001b[39m\n\u001b[0;32m   5782\u001b[0m \u001b[39m@doc\u001b[39m(klass\u001b[39m=\u001b[39m_shared_doc_kwargs[\u001b[39m\"\u001b[39m\u001b[39mklass\u001b[39m\u001b[39m\"\u001b[39m])\n\u001b[0;32m   5783\u001b[0m \u001b[39mdef\u001b[39;00m \u001b[39mpipe\u001b[39m(\n\u001b[1;32m   (...)\u001b[0m\n\u001b[0;32m   5787\u001b[0m     \u001b[39m*\u001b[39m\u001b[39m*\u001b[39mkwargs,\n\u001b[0;32m   5788\u001b[0m ) \u001b[39m-\u001b[39m\u001b[39m>\u001b[39m T:\n\u001b[0;32m   5789\u001b[0m     \u001b[39mr\u001b[39m\u001b[39m\"\"\"\u001b[39;00m\n\u001b[0;32m   5790\u001b[0m \u001b[39m    Apply chainable functions that expect Series or DataFrames.\u001b[39;00m\n\u001b[0;32m   5791\u001b[0m \n\u001b[1;32m   (...)\u001b[0m\n\u001b[0;32m   5837\u001b[0m \u001b[39m    ...  )  # doctest: +SKIP\u001b[39;00m\n\u001b[0;32m   5838\u001b[0m \u001b[39m    \"\"\"\u001b[39;00m\n\u001b[1;32m-> 5839\u001b[0m     \u001b[39mreturn\u001b[39;00m com\u001b[39m.\u001b[39;49mpipe(\u001b[39mself\u001b[39;49m, func, \u001b[39m*\u001b[39;49margs, \u001b[39m*\u001b[39;49m\u001b[39m*\u001b[39;49mkwargs)\n",
      "File \u001b[1;32mc:\\Users\\CXimen\\OneDrive - BCI\\Documents\\Liquid_Data_Production_Dev\\venv\\lib\\site-packages\\pandas\\core\\common.py:503\u001b[0m, in \u001b[0;36mpipe\u001b[1;34m(obj, func, *args, **kwargs)\u001b[0m\n\u001b[0;32m    501\u001b[0m     \u001b[39mreturn\u001b[39;00m func(\u001b[39m*\u001b[39margs, \u001b[39m*\u001b[39m\u001b[39m*\u001b[39mkwargs)\n\u001b[0;32m    502\u001b[0m \u001b[39melse\u001b[39;00m:\n\u001b[1;32m--> 503\u001b[0m     \u001b[39mreturn\u001b[39;00m func(obj, \u001b[39m*\u001b[39;49margs, \u001b[39m*\u001b[39;49m\u001b[39m*\u001b[39;49mkwargs)\n",
      "File \u001b[1;32mc:\\Users\\CXimen\\OneDrive - BCI\\Documents\\Liquid_Data_Production_Dev\\src\\lib\\liquid.py:277\u001b[0m, in \u001b[0;36mcheck_date\u001b[1;34m(df, dt)\u001b[0m\n\u001b[0;32m    275\u001b[0m \u001b[39mdef\u001b[39;00m \u001b[39mcheck_date\u001b[39m(df: pd\u001b[39m.\u001b[39mDataFrame, dt: date) \u001b[39m-\u001b[39m\u001b[39m>\u001b[39m pd\u001b[39m.\u001b[39mDataFrame:\n\u001b[0;32m    276\u001b[0m     \u001b[39mif\u001b[39;00m \u001b[39mlen\u001b[39m(df[\u001b[39m\"\u001b[39m\u001b[39mRiskDate\u001b[39m\u001b[39m\"\u001b[39m]\u001b[39m.\u001b[39munique()) \u001b[39m>\u001b[39m \u001b[39m1\u001b[39m:\n\u001b[1;32m--> 277\u001b[0m         \u001b[39mraise\u001b[39;00m \u001b[39mValueError\u001b[39;00m(\u001b[39mf\u001b[39m\u001b[39m\"\u001b[39m\u001b[39mMultiple RiskDate in Data\u001b[39m\u001b[39m\"\u001b[39m)\n\u001b[0;32m    278\u001b[0m     \u001b[39mif\u001b[39;00m df[\u001b[39m\"\u001b[39m\u001b[39mRiskDate\u001b[39m\u001b[39m\"\u001b[39m]\u001b[39m.\u001b[39munique()[\u001b[39m0\u001b[39m] \u001b[39m!=\u001b[39m ut\u001b[39m.\u001b[39mdate_to_str(dt):\n\u001b[0;32m    279\u001b[0m         \u001b[39mraise\u001b[39;00m \u001b[39mValueError\u001b[39;00m(\n\u001b[0;32m    280\u001b[0m             \u001b[39mf\u001b[39m\u001b[39m\"\u001b[39m\u001b[39mRiskDate in Data is \u001b[39m\u001b[39m{\u001b[39;00mut\u001b[39m.\u001b[39mdate_to_str(df[\u001b[39m'\u001b[39m\u001b[39mRiskDate\u001b[39m\u001b[39m'\u001b[39m]\u001b[39m.\u001b[39munique()[\u001b[39m0\u001b[39m])\u001b[39m}\u001b[39;00m\u001b[39m, not \u001b[39m\u001b[39m{\u001b[39;00mdt\u001b[39m}\u001b[39;00m\u001b[39m\"\u001b[39m)\n",
      "\u001b[1;31mValueError\u001b[0m: Multiple RiskDate in Data"
     ]
    }
   ],
   "source": [
    "lib.liquid.create_pv_validation(new_date)"
   ]
  },
  {
   "cell_type": "markdown",
   "metadata": {},
   "source": [
    "# Collteral\n",
    "- all code related to operation in collateral folder goes here\n",
    "- S:\\IT IRSR Shared\\RedSwan\\RedSwan\\Master_bcIMC\\LIQUID\\Collateral"
   ]
  },
  {
   "cell_type": "markdown",
   "metadata": {},
   "source": [
    "## create template folder"
   ]
  },
  {
   "cell_type": "code",
   "execution_count": 5,
   "metadata": {},
   "outputs": [
    {
     "name": "stdout",
     "output_type": "stream",
     "text": [
      "Copied folder from S:\\IT IRSR Shared\\RedSwan\\RedSwan\\Master_bcIMC\\LIQUID\\Collateral\\2023\\01\\01_06 to S:\\IT IRSR Shared\\RedSwan\\RedSwan\\Master_bcIMC\\LIQUID\\Collateral\\2023\\01\\01_13\n",
      "Copied to folder at S:\\IT IRSR Shared\\RedSwan\\RedSwan\\Master_bcIMC\\LIQUID\\Collateral\\2023\\01\\01_13\n",
      "Deleted file: Collateral.docx\n",
      "Deleted file: Collateral.xml\n",
      "Deleted file: Collateral_20230106.rml\n",
      "Deleted file: Collateral_20230106_Enriched.xml\n",
      "Deleted file: Collateral_20230106_Log.csv\n",
      "Deleted file: Collateral_20230106_RawLog.csv\n",
      "Deleted file: Collateral_unprocessed_holdings.csv\n",
      "Deleted file: Collateral_unprocessed_securities.csv\n",
      "Deleted file: OTC_Collateral_20230106.csv\n",
      "replaced S:\\IT IRSR Shared\\RedSwan\\RedSwan\\Master_bcIMC\\LIQUID\\Collateral\\2023\\01\\01_06 with S:\\IT IRSR Shared\\RedSwan\\RedSwan\\Master_bcIMC\\LIQUID\\Collateral\\2023\\01\\01_13 in S:\\IT IRSR Shared\\RedSwan\\RedSwan\\Master_bcIMC\\LIQUID\\Collateral\\2023\\01\\01_13\\Loading\\OTC_Collateral.environment\n",
      "replaced 20230106 with 20230113 in S:\\IT IRSR Shared\\RedSwan\\RedSwan\\Master_bcIMC\\LIQUID\\Collateral\\2023\\01\\01_13\\Loading\\OTC_Collateral.environment\n"
     ]
    }
   ],
   "source": [
    "lib.collateral.create_template_folder(from_date,new_date)"
   ]
  },
  {
   "cell_type": "markdown",
   "metadata": {},
   "source": [
    "# Repo\n",
    "- all code related to operation in repo folder goes here\n",
    "- S:\\IT IRSR Shared\\RedSwan\\RedSwan\\Master_bcIMC\\LIQUID\\Repo"
   ]
  },
  {
   "cell_type": "markdown",
   "metadata": {},
   "source": [
    "## create template folder"
   ]
  },
  {
   "cell_type": "code",
   "execution_count": 6,
   "metadata": {},
   "outputs": [
    {
     "name": "stdout",
     "output_type": "stream",
     "text": [
      "Copied folder from S:\\IT IRSR Shared\\RedSwan\\RedSwan\\Master_bcIMC\\LIQUID\\Repo\\2023\\01\\01_06 to S:\\IT IRSR Shared\\RedSwan\\RedSwan\\Master_bcIMC\\LIQUID\\Repo\\2023\\01\\01_13\n",
      "Copied to folder at S:\\IT IRSR Shared\\RedSwan\\RedSwan\\Master_bcIMC\\LIQUID\\Repo\\2023\\01\\01_13\n",
      "Deleted file: Repo.docx\n",
      "Deleted file: Repo.rml\n",
      "Deleted file: Repo.xml\n",
      "Deleted file: Repo_Enriched.xml\n",
      "Deleted file: Repo_Log.csv\n",
      "Deleted file: Repo_RawLog.csv\n",
      "Deleted file: unprocessed_holdings.csv\n",
      "Deleted file: unprocessed_securities.csv\n",
      "Deleted file: REPO FINAL.csv\n",
      "replaced S:\\IT IRSR Shared\\RedSwan\\RedSwan\\Master_bcIMC\\LIQUID\\Repo\\2023\\01\\01_06 with S:\\IT IRSR Shared\\RedSwan\\RedSwan\\Master_bcIMC\\LIQUID\\Repo\\2023\\01\\01_13 in S:\\IT IRSR Shared\\RedSwan\\RedSwan\\Master_bcIMC\\LIQUID\\Repo\\2023\\01\\01_13\\Loading\\Repo_Col_V2.environment\n"
     ]
    }
   ],
   "source": [
    "lib.repo.create_template_folder(from_date,new_date)"
   ]
  },
  {
   "cell_type": "markdown",
   "metadata": {},
   "source": [
    "# Lookthrough for Cube\n",
    "- all code related to operation in Lookthrough for Cube folder goes here\n",
    "- S:\\IT IRSR Shared\\RedSwan\\RedSwan\\Master_bcIMC\\TREE\\Lookthrough for Cube"
   ]
  },
  {
   "cell_type": "markdown",
   "metadata": {},
   "source": [
    "## create template folder"
   ]
  },
  {
   "cell_type": "code",
   "execution_count": 7,
   "metadata": {},
   "outputs": [
    {
     "name": "stdout",
     "output_type": "stream",
     "text": [
      "Copied folder from S:\\IT IRSR Shared\\RedSwan\\RedSwan\\Master_bcIMC\\TREE\\Lookthrough for Cube\\2023\\20230106 to S:\\IT IRSR Shared\\RedSwan\\RedSwan\\Master_bcIMC\\TREE\\Lookthrough for Cube\\2023\\20230113\n",
      "Copied to folder at S:\\IT IRSR Shared\\RedSwan\\RedSwan\\Master_bcIMC\\TREE\\Lookthrough for Cube\\2023\\20230113\n",
      "Deleted file: Lookthrough_Cube.docx\n",
      "Deleted file: Lookthrough_Cube.rml\n",
      "Deleted file: Lookthrough_Cube.xml\n",
      "Deleted file: Lookthrough_Cube_Enriched.xml\n",
      "Deleted file: Lookthrough_Cube_Log.csv\n",
      "Deleted file: Lookthrough_Cube_overlapped_securities.csv\n",
      "Deleted file: Lookthrough_Cube_RawLog.csv\n",
      "Deleted file: Lookthrough_Cube_unprocessed_holdings.csv\n",
      "Deleted file: Lookthrough_Cube_unprocessed_securities.csv\n",
      "Deleted file: Lookthrough - Cube -  20230106.csv\n",
      "Deleted file: LookthroughMapping_20230106.csv\n",
      "replaced S:\\IT IRSR Shared\\RedSwan\\RedSwan\\Master_bcIMC\\TREE\\Lookthrough for Cube\\2023\\20230106 with S:\\IT IRSR Shared\\RedSwan\\RedSwan\\Master_bcIMC\\TREE\\Lookthrough for Cube\\2023\\20230113 in S:\\IT IRSR Shared\\RedSwan\\RedSwan\\Master_bcIMC\\TREE\\Lookthrough for Cube\\2023\\20230113\\Loading\\Lookthrough Index Cube.environment\n",
      "replaced 20230106 with 20230113 in S:\\IT IRSR Shared\\RedSwan\\RedSwan\\Master_bcIMC\\TREE\\Lookthrough for Cube\\2023\\20230113\\Loading\\Lookthrough Index Cube.environment\n"
     ]
    }
   ],
   "source": [
    "lib.cube_lookthru.create_template_folder(from_date,new_date)"
   ]
  },
  {
   "cell_type": "markdown",
   "metadata": {},
   "source": [
    "## create `Lookthrough - Cube` file\n",
    "- the code will look for `Lookthrough - Cube` file with the date of `from_date` in the `to_date` working folder. \n",
    "- update the date in `MSCI_RM_INDEX_ID` column and `PRICED_SECURITY_NAME` column for ecompass data\n",
    "- append new week data from sql file in `sql\\Lookthrough\\lookthrough.sql`\n",
    "- **make sure to double check ecompass data matches with risk manager. the checking is not done by the code**.\n",
    "- after manually checking the ecompass data, run the second block of code to turn the excel to csv."
   ]
  },
  {
   "cell_type": "code",
   "execution_count": 7,
   "metadata": {},
   "outputs": [
    {
     "name": "stdout",
     "output_type": "stream",
     "text": [
      "Lookthrough Cube created at S:\\IT IRSR Shared\\RedSwan\\RedSwan\\Master_bcIMC\\TREE\\Lookthrough for Cube\\2022\\20221231\\Lookthrough - Cube -  20221231.xlsx\n",
      "Deleted file: Lookthrough - Cube -  20221230.xlsx\n"
     ]
    }
   ],
   "source": [
    "lib.cube_lookthru.create_lookthru_cube(from_date,new_date)"
   ]
  },
  {
   "cell_type": "code",
   "execution_count": 8,
   "metadata": {},
   "outputs": [
    {
     "name": "stdout",
     "output_type": "stream",
     "text": [
      "Converted S:\\IT IRSR Shared\\RedSwan\\RedSwan\\Master_bcIMC\\TREE\\Lookthrough for Cube\\2022\\20221231\\Lookthrough - Cube -  20221231.xlsx to csv\n"
     ]
    }
   ],
   "source": [
    "lib.cube_lookthru.turn_lookthru_cube_to_csv(new_date)"
   ]
  },
  {
   "cell_type": "markdown",
   "metadata": {},
   "source": [
    "## create `LookthroughMapping` file\n",
    "- the code will look for `Lookthrough - Cube` file with the date of `from_date` in the `to_date` working folder. \n",
    "- get rid of records besides ecompass\n",
    "- append new week data from sql file in `sql\\lookthrough\\indexCSV.sql`\n",
    "- **make sure to double check ecompass data matches with risk manager. the checking is not done by the code**.\n",
    "- after checking the ecompass data, run the second block of code to turn the excel to csv."
   ]
  },
  {
   "cell_type": "code",
   "execution_count": 9,
   "metadata": {},
   "outputs": [
    {
     "name": "stdout",
     "output_type": "stream",
     "text": [
      "LookthroughMapping created at S:\\IT IRSR Shared\\RedSwan\\RedSwan\\Master_bcIMC\\TREE\\Lookthrough for Cube\\2022\\20221231\\LookthroughMapping_20221231.xlsx\n",
      "Deleted file: LookthroughMapping_20221230.xlsx\n"
     ]
    }
   ],
   "source": [
    "lib.cube_lookthru.create_LookthroughMapping(from_date,new_date)"
   ]
  },
  {
   "cell_type": "code",
   "execution_count": 10,
   "metadata": {},
   "outputs": [
    {
     "name": "stdout",
     "output_type": "stream",
     "text": [
      "Converted S:\\IT IRSR Shared\\RedSwan\\RedSwan\\Master_bcIMC\\TREE\\Lookthrough for Cube\\2022\\20221231\\LookthroughMapping_20221231.xlsx to csv\n"
     ]
    }
   ],
   "source": [
    "lib.cube_lookthru.turn_LookthruMapping_to_csv(new_date)"
   ]
  },
  {
   "cell_type": "markdown",
   "metadata": {},
   "source": [
    "# Total Fund Tree\n",
    "- all code related to operation in Total Fund Tree folder goes here\n",
    "- S:\\IT IRSR Shared\\RedSwan\\RedSwan\\Master_bcIMC\\TREE\\Total Fund Tree"
   ]
  },
  {
   "cell_type": "markdown",
   "metadata": {},
   "source": [
    "## create template folder"
   ]
  },
  {
   "cell_type": "code",
   "execution_count": 8,
   "metadata": {},
   "outputs": [
    {
     "name": "stdout",
     "output_type": "stream",
     "text": [
      "Copied folder from S:\\IT IRSR Shared\\RedSwan\\RedSwan\\Master_bcIMC\\TREE\\Total Fund Tree\\2023\\01\\20230106 to S:\\IT IRSR Shared\\RedSwan\\RedSwan\\Master_bcIMC\\TREE\\Total Fund Tree\\2023\\01\\20230113\n",
      "Copied to folder at S:\\IT IRSR Shared\\RedSwan\\RedSwan\\Master_bcIMC\\TREE\\Total Fund Tree\\2023\\01\\20230113\n",
      "Deleted file: overlapped_holdings.csv\n",
      "Deleted file: TotalFundHierarchy.docx\n",
      "Deleted file: TotalFundHierarchy.xml\n",
      "Deleted file: TotalFundHierarchy_20230106.rml\n",
      "Deleted file: TotalFundHierarchy_20230106_Log.csv\n",
      "Deleted file: TotalFundHierarchy_20230106_RawLog.csv\n",
      "Deleted file: unprocessed_holdings.csv\n",
      "Deleted file: unprocessed_securities.csv\n",
      "Deleted file: Total_Fund_Tree _20230106.csv\n",
      "Deleted file: PV Report E0043 Ext Man 20230106.xlsx\n",
      "Deleted file: PV Report GPF Ext Man 20230106.xlsx\n",
      "Deleted file: Total Fund PV Report 20221230.xlsx\n",
      "replaced S:\\IT IRSR Shared\\RedSwan\\RedSwan\\Master_bcIMC\\TREE\\Total Fund Tree\\2023\\01\\20230106 with S:\\IT IRSR Shared\\RedSwan\\RedSwan\\Master_bcIMC\\TREE\\Total Fund Tree\\2023\\01\\20230113 in S:\\IT IRSR Shared\\RedSwan\\RedSwan\\Master_bcIMC\\TREE\\Total Fund Tree\\2023\\01\\20230113\\Loading\\TotalFundHierarchy Prod Load.environment\n",
      "replaced 20230106 with 20230113 in S:\\IT IRSR Shared\\RedSwan\\RedSwan\\Master_bcIMC\\TREE\\Total Fund Tree\\2023\\01\\20230113\\Loading\\TotalFundHierarchy Prod Load.environment\n"
     ]
    }
   ],
   "source": [
    "lib.total_fund_tree.create_template_folder(from_date,new_date)"
   ]
  },
  {
   "cell_type": "markdown",
   "metadata": {},
   "source": [
    "## Update Scale Calculation\n",
    "- after running the report in risk manager, save `PV Report Liquids External Manager` files in `Scale Calculation` folder\n",
    "- `create_extMan_PV_reports` will look for file contains `PV Report Liquids External Manager` in the `Scale Calculation` folder under `to_date` working folder.\n",
    "- add filter to the report and save in `Scale Calculation` folder with the `to_date` date.\n",
    "- `update_update_mtg_scale_calc` and `update_GPF_scale_calc` will look for respective PV report files in the `Scale Calculation` folder with `to_date` date.\n",
    "- update the scale calculation files with `from_date` date and save with `to_date` date name."
   ]
  },
  {
   "cell_type": "code",
   "execution_count": 4,
   "metadata": {},
   "outputs": [
    {
     "name": "stdout",
     "output_type": "stream",
     "text": [
      "Deleted file: PV Report Liquids External Manager.xlsx\n",
      "Updated PV Report GPF Ext Man 20221130.xlsx in S:\\IT IRSR Shared\\RedSwan\\RedSwan\\Master_bcIMC\\TREE\\Total Fund Tree\\2022\\11\\20221130\\Scale Calculation\n"
     ]
    }
   ],
   "source": [
    "lib.total_fund_tree.create_extMan_PV_reports(new_date)\n",
    "lib.total_fund_tree.update_mtg_scale_calc(from_date,new_date)\n",
    "lib.total_fund_tree.update_GPF_scale_calc(from_date,new_date)"
   ]
  },
  {
   "cell_type": "markdown",
   "metadata": {},
   "source": [
    "## Update Total Fund Tree\n",
    "- manually adjust portfolios in `Total_Fund_Tree` file and save with `to_date` date name.\n",
    "- `update_total_fund_tree` function will look for `Total_Fund_Tree` with `to_date` date name.\n",
    "- read scale data from the updated scale files and update the numbers in `Total_Fund_Tree` file\n",
    "- save updated file and also create a csv file"
   ]
  },
  {
   "cell_type": "code",
   "execution_count": 3,
   "metadata": {},
   "outputs": [
    {
     "name": "stdout",
     "output_type": "stream",
     "text": [
      "Updated S:\\IT IRSR Shared\\RedSwan\\RedSwan\\Master_bcIMC\\TREE\\Total Fund Tree\\2022\\11\\20221130\\Total_Fund_Tree _20221130.xlsx\n"
     ]
    }
   ],
   "source": [
    "lib.total_fund_tree.update_total_fund_tree(new_date)"
   ]
  },
  {
   "cell_type": "markdown",
   "metadata": {},
   "source": [
    "## Update Total Fund PV Report\n",
    "- download `PV Report Total Fund` from risk manager and save in `to_date` folder.\n",
    "- `update_total_fund_pv_report` function will look for `PV Report Total Fund.xlsx` file.\n",
    "- copy paste `View 1 assetClass by subAsset` sheet. set group level in `View 1 assetClass by subAsset` to level 2, and copied sheet to level 4.\n",
    "- hide rows from 1 to 19 excepte for row 11, which contains as of date.\n",
    "- save file with `to_date` name and delete original `PV Report Total Fund.xlsx` file."
   ]
  },
  {
   "cell_type": "code",
   "execution_count": 4,
   "metadata": {},
   "outputs": [
    {
     "name": "stdout",
     "output_type": "stream",
     "text": [
      "Updated S:\\IT IRSR Shared\\RedSwan\\RedSwan\\Master_bcIMC\\TREE\\Total Fund Tree\\2022\\11\\20221130\\Total Fund PV Report 20221130.xlsx\n",
      "Deleted file: Total Fund PV Report.xlsx\n"
     ]
    }
   ],
   "source": [
    "lib.total_fund_tree.update_total_fund_pv_report(new_date)"
   ]
  },
  {
   "cell_type": "markdown",
   "metadata": {},
   "source": [
    "## GPF Managers Weekly & Monthly MV\n",
    "- `update_GPF_Managers_MV` function will run the sql query to get the GPF based on `to_date` date.\n",
    "- paste the data into the `Formuila` sheet in `GPF Managers Weekly & Monthly MV.xlsx` file.\n",
    "- copy and paste the formated table (`A1:D46`) in `Formula` sheet and paste to new sheet with `to_date` date as name.\n",
    "- and save the file."
   ]
  },
  {
   "cell_type": "code",
   "execution_count": 12,
   "metadata": {},
   "outputs": [
    {
     "name": "stdout",
     "output_type": "stream",
     "text": [
      "S:\\IT IRSR Shared\\RedSwan\\RedSwan\\Master_bcIMC\\TREE\\Total Fund Tree\\2022\\12\\20221231\\Queries\\GPF Managers Weekly & Monthly MV.xlsx is updated and saved to None\n"
     ]
    }
   ],
   "source": [
    "lib.total_fund_tree.update_GPF_Managers_MV(new_date)"
   ]
  },
  {
   "cell_type": "markdown",
   "metadata": {},
   "source": [
    "# Total Fund BMK Tree\n",
    "- all code related to operation in Total Fund BMK Tree folder goes here\n",
    "- S:\\IT IRSR Shared\\RedSwan\\RedSwan\\Master_bcIMC\\TREE\\Total Fund BMK Tree"
   ]
  },
  {
   "cell_type": "markdown",
   "metadata": {},
   "source": [
    "## create template folder"
   ]
  },
  {
   "cell_type": "code",
   "execution_count": 9,
   "metadata": {},
   "outputs": [
    {
     "name": "stdout",
     "output_type": "stream",
     "text": [
      "Copied folder from S:\\IT IRSR Shared\\RedSwan\\RedSwan\\Master_bcIMC\\TREE\\Total Fund BMK Tree\\2023\\01\\20230106 to S:\\IT IRSR Shared\\RedSwan\\RedSwan\\Master_bcIMC\\TREE\\Total Fund BMK Tree\\2023\\01\\20230113\n",
      "Copied to folder at S:\\IT IRSR Shared\\RedSwan\\RedSwan\\Master_bcIMC\\TREE\\Total Fund BMK Tree\\2023\\01\\20230113\n",
      "Deleted file: BMK Roll Down 20230106.rml\n",
      "Deleted file: BMK Roll Down 20230106_Enriched.xml\n",
      "Deleted file: BMK Roll Down 20230106_Log.csv\n",
      "Deleted file: BMK Roll Down 20230106_RawLog.csv\n",
      "Deleted file: BMK Roll Down.docx\n",
      "Deleted file: BMK Roll Down.xml\n",
      "Deleted file: BMK Roll Up 20230106.rml\n",
      "Deleted file: BMK Roll Up 20230106_Log.csv\n",
      "Deleted file: BMK Roll Up 20230106_RawLog.csv\n",
      "Deleted file: BMK Roll Up.docx\n",
      "Deleted file: BMK Roll Up.xml\n",
      "Deleted file: overlapped_RD_holdings.csv\n",
      "Deleted file: overlapped_RU_holdings.csv\n",
      "Deleted file: unprocessed_RD_holdings.csv\n",
      "Deleted file: unprocessed_RD_securities.csv\n",
      "Deleted file: unprocessed_RU_holdings.csv\n",
      "Deleted file: unprocessed_RU_securities.csv\n",
      "Deleted file: Total_Fund_BMK_Tree_20230106 - RD.csv\n",
      "Deleted file: Total_Fund_BMK_Tree_20230106 - RU.csv\n",
      "replaced S:\\IT IRSR Shared\\RedSwan\\RedSwan\\Master_bcIMC\\TREE\\Total Fund BMK Tree\\2023\\01\\20230106 with S:\\IT IRSR Shared\\RedSwan\\RedSwan\\Master_bcIMC\\TREE\\Total Fund BMK Tree\\2023\\01\\20230113 in S:\\IT IRSR Shared\\RedSwan\\RedSwan\\Master_bcIMC\\TREE\\Total Fund BMK Tree\\2023\\01\\20230113\\Loading\\TFT BMK RD.environment\n",
      "replaced 20230106 with 20230113 in S:\\IT IRSR Shared\\RedSwan\\RedSwan\\Master_bcIMC\\TREE\\Total Fund BMK Tree\\2023\\01\\20230113\\Loading\\TFT BMK RD.environment\n",
      "replaced S:\\IT IRSR Shared\\RedSwan\\RedSwan\\Master_bcIMC\\TREE\\Total Fund BMK Tree\\2023\\01\\20230106 with S:\\IT IRSR Shared\\RedSwan\\RedSwan\\Master_bcIMC\\TREE\\Total Fund BMK Tree\\2023\\01\\20230113 in S:\\IT IRSR Shared\\RedSwan\\RedSwan\\Master_bcIMC\\TREE\\Total Fund BMK Tree\\2023\\01\\20230113\\Loading\\TFT BMK RU.environment\n",
      "replaced 20230106 with 20230113 in S:\\IT IRSR Shared\\RedSwan\\RedSwan\\Master_bcIMC\\TREE\\Total Fund BMK Tree\\2023\\01\\20230113\\Loading\\TFT BMK RU.environment\n"
     ]
    }
   ],
   "source": [
    "lib.total_fund_bmk_tree.create_template_folder(from_date,new_date)"
   ]
  },
  {
   "cell_type": "markdown",
   "metadata": {},
   "source": [
    "## Update Total Fund BMK Tree\n",
    "- manually adjust portfolios in `Total_Fund_BMK_Tree` files and save with `to_date` date in the name.\n",
    "- `update_total_fund_bmk_tree` function will look for `Total_Fund_BMK_Tree` with `to_date` name.\n",
    "- the code will grab scale data from the updated scale files in and also the updated PV report in `Total Fund Tree` folder \n",
    "- update the scale data and market value in `Total_Fund_BMK_Tree` file\n",
    "- save the file and also convert it to csv file"
   ]
  },
  {
   "cell_type": "code",
   "execution_count": 5,
   "metadata": {},
   "outputs": [
    {
     "name": "stdout",
     "output_type": "stream",
     "text": [
      "Updated S:\\IT IRSR Shared\\RedSwan\\RedSwan\\Master_bcIMC\\TREE\\Total Fund BMK Tree\\2022\\11\\20221130\\Total_Fund_BMK_Tree_20221130 - RD.xlsx and saved csv\n",
      "Total Fund BMK Tree total MV is 202601955378.58597 and PV report total is 202601955378.58594\n",
      "Updated S:\\IT IRSR Shared\\RedSwan\\RedSwan\\Master_bcIMC\\TREE\\Total Fund BMK Tree\\2022\\11\\20221130\\Total_Fund_BMK_Tree_20221130 - RU.xlsx and saved csv\n",
      "Total Fund BMK Tree total MV is 202601955378.58597 and PV report total is 202601955378.58594\n"
     ]
    }
   ],
   "source": [
    "lib.total_fund_bmk_tree.update_total_fund_bmk_tree(new_date)"
   ]
  },
  {
   "cell_type": "markdown",
   "metadata": {},
   "source": [
    "# Cube Files\n",
    "- all code related to operation in `CubeFiles` goes here\n",
    "- S\\\\bcimcs8\\sharedir\\IT IRSR Shared\\RedSwan\\RedSwan\\Master_bcIMC\\CubeFiles"
   ]
  },
  {
   "cell_type": "markdown",
   "metadata": {},
   "source": [
    "## Create template folder\n",
    " - the code will create a new folder with the date of `to_date` in the `CubeFiles` folder\n",
    " - copy paste all the files\n",
    " - update `ProcessStats` file with the date of `to_date` and `RiskVersionName`\n"
   ]
  },
  {
   "cell_type": "code",
   "execution_count": 6,
   "metadata": {},
   "outputs": [
    {
     "name": "stdout",
     "output_type": "stream",
     "text": [
      "Created folder S:\\IT IRSR Shared\\RedSwan\\RedSwan\\Master_bcIMC\\CubeFiles\\Monthly\\20221130\n",
      "Copied file S:\\IT IRSR Shared\\RedSwan\\RedSwan\\Master_bcIMC\\TREE\\Lookthrough for Cube\\2022\\20221130\\LookthroughMapping_20221130.csv to S:\\IT IRSR Shared\\RedSwan\\RedSwan\\Master_bcIMC\\CubeFiles\\Monthly\\20221130\n",
      "Copied file S:\\IT IRSR Shared\\RedSwan\\RedSwan\\Master_bcIMC\\TREE\\Total Fund BMK Tree\\2022\\11\\20221130\\Total_Fund_BMK_Tree_20221130 - RD.csv to S:\\IT IRSR Shared\\RedSwan\\RedSwan\\Master_bcIMC\\CubeFiles\\Monthly\\20221130\n",
      "Copied file S:\\IT IRSR Shared\\RedSwan\\RedSwan\\Master_bcIMC\\TREE\\Total Fund BMK Tree\\2022\\11\\20221130\\Total_Fund_BMK_Tree_20221130 - RU.csv to S:\\IT IRSR Shared\\RedSwan\\RedSwan\\Master_bcIMC\\CubeFiles\\Monthly\\20221130\n",
      "Copied file S:\\IT IRSR Shared\\RedSwan\\RedSwan\\Master_bcIMC\\TREE\\Total Fund Tree\\2022\\11\\20221130\\Total_Fund_Tree _20221130.csv to S:\\IT IRSR Shared\\RedSwan\\RedSwan\\Master_bcIMC\\CubeFiles\\Monthly\\20221130\n",
      "replaced \\d{8} with 20221130 in S:\\IT IRSR Shared\\RedSwan\\RedSwan\\Master_bcIMC\\CubeFiles\\ProcessStats.csv\n",
      "replaced Weekly|Monthly with Monthly in S:\\IT IRSR Shared\\RedSwan\\RedSwan\\Master_bcIMC\\CubeFiles\\ProcessStats.csv\n"
     ]
    }
   ],
   "source": [
    "weekly = False # True for weekly, False for monthly\n",
    "lib.cubefiles.create_template_folder(new_date, weekly)"
   ]
  }
 ],
 "metadata": {
  "kernelspec": {
   "display_name": ".venv",
   "language": "python",
   "name": "python3"
  },
  "language_info": {
   "codemirror_mode": {
    "name": "ipython",
    "version": 3
   },
   "file_extension": ".py",
   "mimetype": "text/x-python",
   "name": "python",
   "nbconvert_exporter": "python",
   "pygments_lexer": "ipython3",
   "version": "3.8.10 (tags/v3.8.10:3d8993a, May  3 2021, 11:48:03) [MSC v.1928 64 bit (AMD64)]"
  },
  "orig_nbformat": 4,
  "vscode": {
   "interpreter": {
    "hash": "9e7f6956f5c44f9c75c79f64994a5e12080cbb9bbefa27819bd5c85a7c8b6ec8"
   }
  }
 },
 "nbformat": 4,
 "nbformat_minor": 2
}
