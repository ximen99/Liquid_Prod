{
 "cells": [
  {
   "attachments": {},
   "cell_type": "markdown",
   "metadata": {},
   "source": [
    "# Weekly Load Automation\n",
    "- This file will be the main interface to run python code which will operate on the respective folder used in weekly load. \n",
    "- The main function code sits in lib folder which is a python package. The package is structured in a way that each module within works on specific working folder for weekly load.\n",
    "- The config module in lib package has a variable \"IS_DEV\" which is used as a flag to determine if the code is running in dev environment or not and gets fed into all modules. please make sure it's turned to \"False\" before running in production."
   ]
  },
  {
   "cell_type": "code",
   "execution_count": 1,
   "metadata": {},
   "outputs": [
    {
     "data": {
      "text/plain": [
       "WindowsPath('S:/IT IRSR Shared/RedSwan/RedSwan/Master_bcIMC/LIQUID/Liquid')"
      ]
     },
     "execution_count": 1,
     "metadata": {},
     "output_type": "execute_result"
    }
   ],
   "source": [
    "import lib\n",
    "from datetime import date, timedelta\n",
    "import warnings\n",
    "warnings.filterwarnings(\"ignore\")\n",
    "import pandas as pd\n",
    "\n",
    "pd.options.display.float_format = '{:.2f}'.format\n",
    "\n",
    "# last week's validation date \n",
    "from_date = date(2023, 9, 1)\n",
    "# new week's date to work on\n",
    "new_date = from_date - timedelta(days=1)\n",
    "# check environment, if production it should return share drive path\n",
    "lib.liquid.base_path"
   ]
  },
  {
   "attachments": {},
   "cell_type": "markdown",
   "metadata": {},
   "source": [
    "# Liquid\n",
    "- all code related to operation in liquid folder goes here\n",
    "- S:\\IT IRSR Shared\\RedSwan\\RedSwan\\Master_bcIMC\\LIQUID\\Liquid "
   ]
  },
  {
   "attachments": {},
   "cell_type": "markdown",
   "metadata": {},
   "source": [
    "## create template folder\n",
    "- the code will copy folder according to `from_date` and paste as `to_date`\n",
    "- delete unnecessary files from last week\n",
    "- update enviroment file with new date"
   ]
  },
  {
   "cell_type": "code",
   "execution_count": 2,
   "metadata": {},
   "outputs": [
    {
     "name": "stdout",
     "output_type": "stream",
     "text": [
      "Copied folder from S:\\IT IRSR Shared\\RedSwan\\RedSwan\\Master_bcIMC\\LIQUID\\Liquid\\2023\\08\\08_25 to S:\\IT IRSR Shared\\RedSwan\\RedSwan\\Master_bcIMC\\LIQUID\\Liquid\\2023\\08\\08_31\n",
      "Copied to folder at S:\\IT IRSR Shared\\RedSwan\\RedSwan\\Master_bcIMC\\LIQUID\\Liquid\\2023\\08\\08_31\n",
      "Deleted file: Basket_Hedge_20230825.docx\n",
      "Deleted file: Basket_Hedge_20230825.xml\n",
      "Deleted file: Fix_20230825.docx\n",
      "Deleted file: Fix_20230825.xml\n",
      "Deleted file: IFT_20230825.docx\n",
      "Deleted file: IFT_20230825.xml\n",
      "Deleted file: Illiquids_20230825.docx\n",
      "Deleted file: Illiquids_20230825.xml\n",
      "Deleted file: Main_20230825.docx\n",
      "Deleted file: Main_20230825.xml\n",
      "Deleted file: Basket_Hedge_20230825.rml\n",
      "Deleted file: Basket_Hedge_20230825_Enriched.xml\n",
      "Deleted file: Basket_Hedge_20230825_Log.csv\n",
      "Deleted file: Basket_Hedge_20230825_RawLog.csv\n",
      "Deleted file: Basket_Hedge_overlapped_20230825_holdings.csv\n",
      "Deleted file: Basket_Hedge_overlapped_20230825_securities.csv\n",
      "Deleted file: Basket_Hedge_unprocessed_20230825_holdings.csv\n",
      "Deleted file: Basket_Hedge_unprocessed_20230825_securities.csv\n",
      "Deleted file: Fix_20230825.rml\n",
      "Deleted file: Fix_20230825_Enriched.xml\n",
      "Deleted file: Fix_20230825_Log.csv\n",
      "Deleted file: Fix_20230825_RawLog_2023082520230828_133423.xml\n",
      "Deleted file: Fix_overlapped_20230825_securities.csv\n",
      "Deleted file: Fix_unprocessed_20230825_holdings.csv\n",
      "Deleted file: Fix_unprocessed_20230825_securities.csv\n",
      "Deleted file: IFT_20230825.rml\n",
      "Deleted file: IFT_20230825_Enriched.xml\n",
      "Deleted file: IFT_20230825_Log.csv\n",
      "Deleted file: IFT_20230825_RawLog_2023082520230828_133614.xml\n",
      "Deleted file: IFT_overlapped_20230825_securities.csv\n",
      "Deleted file: IFT_unprocessed_20230825_holdings.csv\n",
      "Deleted file: IFT_unprocessed_20230825_securities.csv\n",
      "Deleted file: Illiquids_20230825.rml\n",
      "Deleted file: Illiquids_20230825_Enriched.xml\n",
      "Deleted file: Illiquids_20230825_Log.csv\n",
      "Deleted file: Illiquids_20230825_RawLog_2023082520230828_133845.xml\n",
      "Deleted file: Illiquids_overlapped_20230825_securities.csv\n",
      "Deleted file: Illiquids_unprocessed_20230825_holdings.csv\n",
      "Deleted file: Illiquids_unprocessed_20230825_securities.csv\n",
      "Deleted file: log.csv\n",
      "Deleted file: Main_20230825.rml\n",
      "Deleted file: Main_20230825_Log.csv\n",
      "Deleted file: Main_20230825_RawLog.csv\n",
      "Deleted file: Main_overlapped_20230825_securities.csv\n",
      "Deleted file: Main_unprocessed_20230825_holdings.csv\n",
      "Deleted file: Main_unprocessed_20230825_securities.csv\n",
      "Deleted file: Positions_20230825_Basket_Hedge.csv\n",
      "Deleted file: Positions_20230825_Fix.csv\n",
      "Deleted file: Positions_20230825_IFT.csv\n",
      "Deleted file: Positions_20230825_Illiquids.csv\n",
      "Deleted file: Positions_20230825_Main.csv\n",
      "Deleted file: PV Report Liquids 20230818.xlsx\n",
      "Deleted file: PV Report Illiquids 20230818.xlsx\n",
      "replaced S:\\IT IRSR Shared\\RedSwan\\RedSwan\\Master_bcIMC\\LIQUID\\Liquid\\2023\\08\\08_25 with S:\\IT IRSR Shared\\RedSwan\\RedSwan\\Master_bcIMC\\LIQUID\\Liquid\\2023\\08\\08_31 in S:\\IT IRSR Shared\\RedSwan\\RedSwan\\Master_bcIMC\\LIQUID\\Liquid\\2023\\08\\08_31\\NewArch_LiquidsDerivatives V1 CSV.environment\n",
      "replaced 20230825 with 20230831 in S:\\IT IRSR Shared\\RedSwan\\RedSwan\\Master_bcIMC\\LIQUID\\Liquid\\2023\\08\\08_31\\NewArch_LiquidsDerivatives V1 CSV.environment\n",
      "replaced Basket_Hedge|Fix|IFT|Illiquids|Main with Basket_Hedge in S:\\IT IRSR Shared\\RedSwan\\RedSwan\\Master_bcIMC\\LIQUID\\Liquid\\2023\\08\\08_31\\NewArch_LiquidsDerivatives V1 CSV.environment\n"
     ]
    }
   ],
   "source": [
    "lib.liquid.create_template_folder(from_date,new_date)"
   ]
  },
  {
   "attachments": {},
   "cell_type": "markdown",
   "metadata": {},
   "source": [
    "## create Portfolio Filter Group File\n",
    "- the code will look for `Portfolio Filter Group` file with the date of `from_date` in the `to_date` working folder. update `to_date` portfolios in the file.\n",
    "- `to_date` portfolio is obtained from sql file `sql\\liquid\\portfolio_filter_group.sql`\n",
    "- save and delete last week's file\n",
    "- make sure `Portfolio Filter Group` file with the date of `from_date` exist in the folder."
   ]
  },
  {
   "cell_type": "code",
   "execution_count": 3,
   "metadata": {},
   "outputs": [
    {
     "name": "stdout",
     "output_type": "stream",
     "text": [
      "Created Portfolio Filter Group file at S:\\IT IRSR Shared\\RedSwan\\RedSwan\\Master_bcIMC\\LIQUID\\Liquid\\2023\\08\\08_31\\Portfolio Filter Group 20230831.xlsx\n",
      "Deleted file: Portfolio Filter Group 20230825.xlsx\n"
     ]
    }
   ],
   "source": [
    "lib.liquid.create_portfolio_filter_group(from_date,new_date)"
   ]
  },
  {
   "attachments": {},
   "cell_type": "markdown",
   "metadata": {},
   "source": [
    "## download weekly liquid data\n",
    "- the code will run sql query to get basket_hedge, IFT, illiquids, main from the database and save it in the `file` folder"
   ]
  },
  {
   "cell_type": "code",
   "execution_count": 2,
   "metadata": {},
   "outputs": [
    {
     "name": "stdout",
     "output_type": "stream",
     "text": [
      "Saved IFT at S:\\IT IRSR Shared\\RedSwan\\RedSwan\\Master_bcIMC\\LIQUID\\Liquid\\2023\\08\\08_31\\Files\\IFT\n",
      "S:\\IT IRSR Shared\\RedSwan\\RedSwan\\Master_bcIMC\\LIQUID\\Liquid\\2023\\08\\08_31\\Files\\Positions_20230825_IFT.xlsx is updated and saved to None\n",
      "Renamed Positions_20230825_IFT.xlsx to Positions_20230831_IFT.xlsx\n",
      "Saved Main at S:\\IT IRSR Shared\\RedSwan\\RedSwan\\Master_bcIMC\\LIQUID\\Liquid\\2023\\08\\08_31\\Files\\Main\n",
      "S:\\IT IRSR Shared\\RedSwan\\RedSwan\\Master_bcIMC\\LIQUID\\Liquid\\2023\\08\\08_31\\Files\\Positions_20230825_Main.xlsx is updated and saved to None\n",
      "Renamed Positions_20230825_Main.xlsx to Positions_20230831_Main.xlsx\n",
      "Saved Illiquids at S:\\IT IRSR Shared\\RedSwan\\RedSwan\\Master_bcIMC\\LIQUID\\Liquid\\2023\\08\\08_31\\Files\\Illiquids\n",
      "S:\\IT IRSR Shared\\RedSwan\\RedSwan\\Master_bcIMC\\LIQUID\\Liquid\\2023\\08\\08_31\\Files\\Positions_20230825_Illiquids.xlsx is updated and saved to None\n",
      "Renamed Positions_20230825_Illiquids.xlsx to Positions_20230831_Illiquids.xlsx\n",
      "Saved Basket_Hedge at S:\\IT IRSR Shared\\RedSwan\\RedSwan\\Master_bcIMC\\LIQUID\\Liquid\\2023\\08\\08_31\\Files\\Basket_Hedge\n",
      "S:\\IT IRSR Shared\\RedSwan\\RedSwan\\Master_bcIMC\\LIQUID\\Liquid\\2023\\08\\08_31\\Files\\Positions_20230825_Basket_Hedge.xlsx is updated and saved to None\n",
      "Renamed Positions_20230825_Basket_Hedge.xlsx to Positions_20230831_Basket_Hedge.xlsx\n"
     ]
    }
   ],
   "source": [
    "lib.liquid.save_weekly_liquid_data(new_date)"
   ]
  },
  {
   "attachments": {},
   "cell_type": "markdown",
   "metadata": {},
   "source": [
    "## update position in env file\n",
    "- the code will update the position in env file `NewArch_LiquidsDerivatives V1 CSV.environment`\n",
    "- input params are the date of the working folder and position we want to change it to.\n",
    "- make sure the position passed in the function is in the list below\n",
    "- [`Basket_Hedge`, `Fix`, `IFT`, `Illiquids`, `Main`]"
   ]
  },
  {
   "cell_type": "code",
   "execution_count": 16,
   "metadata": {},
   "outputs": [
    {
     "name": "stdout",
     "output_type": "stream",
     "text": [
      "replaced Basket_Hedge|Fix|IFT|Illiquids|Main with Illiquids in S:\\IT IRSR Shared\\RedSwan\\RedSwan\\Master_bcIMC\\LIQUID\\Liquid\\2023\\08\\08_31\\NewArch_LiquidsDerivatives V1 CSV.environment\n"
     ]
    }
   ],
   "source": [
    "lib.liquid.update_env_file_position(new_date, \"Illiquids\")"
   ]
  },
  {
   "attachments": {},
   "cell_type": "markdown",
   "metadata": {},
   "source": [
    "## create fix file\n",
    "- the code will read main data redswan log file from `result` folder and filter out bond records that is modeled to proxy.\n",
    "- update the model rule effective column\n",
    "- and save to `file` folder"
   ]
  },
  {
   "cell_type": "code",
   "execution_count": 5,
   "metadata": {},
   "outputs": [
    {
     "name": "stdout",
     "output_type": "stream",
     "text": [
      "S:\\IT IRSR Shared\\RedSwan\\RedSwan\\Master_bcIMC\\LIQUID\\Liquid\\2023\\08\\08_31\\Files\\Positions_20230825_Fix.xlsx is updated and saved to None\n",
      "Renamed Positions_20230825_Fix.xlsx to Positions_20230831_Fix.xlsx\n",
      "Saved Positions_20230831_Fix.csv at S:\\IT IRSR Shared\\RedSwan\\RedSwan\\Master_bcIMC\\LIQUID\\Liquid\\2023\\08\\08_31\\Files\n"
     ]
    }
   ],
   "source": [
    "lib.liquid.create_fix_file(new_date)"
   ]
  },
  {
   "cell_type": "markdown",
   "metadata": {},
   "source": [
    "## Compile log file\n",
    "- the code will read all files containing `_Log.csv` in the `Results` folder, and compile them into `Results/log.csv`\n",
    "- update the compiled log data into `Log_Check.xlsx`"
   ]
  },
  {
   "cell_type": "code",
   "execution_count": 2,
   "metadata": {},
   "outputs": [],
   "source": [
    "lib.liquid.compile_log(new_date)"
   ]
  },
  {
   "attachments": {},
   "cell_type": "markdown",
   "metadata": {},
   "source": [
    "## Update PV Validation File\n",
    "- the code will read look for `PV Report Liquids.xlsx` in the folder, change the name and read the data in the file.\n",
    "- look for file name contains `LiquidsDerivatives PV Validation` in the folder and delete old weeks data and update with new data."
   ]
  },
  {
   "cell_type": "code",
   "execution_count": 8,
   "metadata": {},
   "outputs": [
    {
     "ename": "KeyboardInterrupt",
     "evalue": "",
     "output_type": "error",
     "traceback": [
      "\u001b[1;31m---------------------------------------------------------------------------\u001b[0m",
      "\u001b[1;31mKeyboardInterrupt\u001b[0m                         Traceback (most recent call last)",
      "\u001b[1;32mc:\\Users\\CXimen\\OneDrive - BCI\\Documents\\Liquid_Data_Production_Dev\\src\\main.ipynb Cell 17\u001b[0m in \u001b[0;36m1\n\u001b[1;32m----> <a href='vscode-notebook-cell:/c%3A/Users/CXimen/OneDrive%20-%20BCI/Documents/Liquid_Data_Production_Dev/src/main.ipynb#X22sZmlsZQ%3D%3D?line=0'>1</a>\u001b[0m lib\u001b[39m.\u001b[39;49mliquid\u001b[39m.\u001b[39;49mcreate_pv_validation(new_date)\n",
      "File \u001b[1;32mc:\\Users\\CXimen\\OneDrive - BCI\\Documents\\Liquid_Data_Production_Dev\\src\\lib\\liquid.py:333\u001b[0m, in \u001b[0;36mcreate_pv_validation\u001b[1;34m(dt)\u001b[0m\n\u001b[0;32m    329\u001b[0m \u001b[39mdef\u001b[39;00m \u001b[39mcreate_pv_validation\u001b[39m(dt: date) \u001b[39m-\u001b[39m\u001b[39m>\u001b[39m \u001b[39mNone\u001b[39;00m:\n\u001b[0;32m    331\u001b[0m     path \u001b[39m=\u001b[39m create_folder_path(base_path, dt)\n\u001b[0;32m    332\u001b[0m     mv_df \u001b[39m=\u001b[39m (\n\u001b[1;32m--> 333\u001b[0m         pd\u001b[39m.\u001b[39mconcat([get_filter_group_data(), get_ift_data(\n\u001b[0;32m    334\u001b[0m             dt), get_interest_rate_swap_data()])\n\u001b[0;32m    335\u001b[0m         \u001b[39m.\u001b[39mpipe(check_date, dt)\n\u001b[0;32m    336\u001b[0m         \u001b[39m.\u001b[39mastype({\u001b[39m\"\u001b[39m\u001b[39mAmount\u001b[39m\u001b[39m\"\u001b[39m: \u001b[39m\"\u001b[39m\u001b[39mfloat\u001b[39m\u001b[39m\"\u001b[39m, \u001b[39m\"\u001b[39m\u001b[39mBaseTotalMarketValue\u001b[39m\u001b[39m\"\u001b[39m: \u001b[39m\"\u001b[39m\u001b[39mfloat\u001b[39m\u001b[39m\"\u001b[39m})\n\u001b[0;32m    337\u001b[0m         \u001b[39m.\u001b[39mgroupby([\u001b[39m\"\u001b[39m\u001b[39mParentPortfolioCode\u001b[39m\u001b[39m\"\u001b[39m, \u001b[39m\"\u001b[39m\u001b[39mInstrumentTypeDesc\u001b[39m\u001b[39m\"\u001b[39m, \u001b[39m\"\u001b[39m\u001b[39mPositionId\u001b[39m\u001b[39m\"\u001b[39m, \u001b[39m\"\u001b[39m\u001b[39msecurityName\u001b[39m\u001b[39m\"\u001b[39m, \u001b[39m\"\u001b[39m\u001b[39mLocalPriceCcyCode\u001b[39m\u001b[39m\"\u001b[39m, \u001b[39m\"\u001b[39m\u001b[39mMaturityDate\u001b[39m\u001b[39m\"\u001b[39m], dropna\u001b[39m=\u001b[39m\u001b[39mFalse\u001b[39;00m, as_index\u001b[39m=\u001b[39m\u001b[39mFalse\u001b[39;00m)\n\u001b[0;32m    338\u001b[0m         [[\u001b[39m\"\u001b[39m\u001b[39mAmount\u001b[39m\u001b[39m\"\u001b[39m, \u001b[39m\"\u001b[39m\u001b[39mBaseTotalMarketValue\u001b[39m\u001b[39m\"\u001b[39m]]\n\u001b[0;32m    339\u001b[0m         \u001b[39m.\u001b[39msum()\n\u001b[0;32m    340\u001b[0m         \u001b[39m.\u001b[39mrename(columns\u001b[39m=\u001b[39m{\u001b[39m\"\u001b[39m\u001b[39mAmount\u001b[39m\u001b[39m\"\u001b[39m: \u001b[39m\"\u001b[39m\u001b[39mSum of Amount\u001b[39m\u001b[39m\"\u001b[39m, \u001b[39m\"\u001b[39m\u001b[39mBaseTotalMarketValue\u001b[39m\u001b[39m\"\u001b[39m: \u001b[39m\"\u001b[39m\u001b[39mSum of BaseTotalMarketValue\u001b[39m\u001b[39m\"\u001b[39m})\n\u001b[0;32m    341\u001b[0m     )\n\u001b[0;32m    342\u001b[0m     pv_df \u001b[39m=\u001b[39m pd\u001b[39m.\u001b[39mread_excel(path \u001b[39m/\u001b[39m \u001b[39m\"\u001b[39m\u001b[39mPV Report Liquids.xlsx\u001b[39m\u001b[39m\"\u001b[39m,\n\u001b[0;32m    343\u001b[0m                           skiprows\u001b[39m=\u001b[39m\u001b[39m19\u001b[39m, usecols\u001b[39m=\u001b[39m\u001b[39m\"\u001b[39m\u001b[39mB:M\u001b[39m\u001b[39m\"\u001b[39m)\n\u001b[0;32m    344\u001b[0m     ut\u001b[39m.\u001b[39mrename_file_with_regex(\n\u001b[0;32m    345\u001b[0m         path, \u001b[39m\"\u001b[39m\u001b[39mPV Report Liquids.xlsx\u001b[39m\u001b[39m\"\u001b[39m, \u001b[39mf\u001b[39m\u001b[39m\"\u001b[39m\u001b[39mPV Report Liquids \u001b[39m\u001b[39m{\u001b[39;00mut\u001b[39m.\u001b[39mdate_to_str(dt)\u001b[39m}\u001b[39;00m\u001b[39m.xlsx\u001b[39m\u001b[39m\"\u001b[39m)\n",
      "File \u001b[1;32mc:\\Users\\CXimen\\OneDrive - BCI\\Documents\\Liquid_Data_Production_Dev\\src\\lib\\liquid.py:97\u001b[0m, in \u001b[0;36mget_ift_data\u001b[1;34m(date)\u001b[0m\n\u001b[0;32m     95\u001b[0m path \u001b[39m=\u001b[39m sql_path \u001b[39m/\u001b[39m \u001b[39m\"\u001b[39m\u001b[39mIFT.sql\u001b[39m\u001b[39m\"\u001b[39m\n\u001b[0;32m     96\u001b[0m date_str \u001b[39m=\u001b[39m ut\u001b[39m.\u001b[39mdate_to_str_with_dash(date)\n\u001b[1;32m---> 97\u001b[0m \u001b[39mreturn\u001b[39;00m ut\u001b[39m.\u001b[39;49mread_data_from_preston_with_sql_file(path, [date_str])\n",
      "File \u001b[1;32mc:\\Users\\CXimen\\OneDrive - BCI\\Documents\\Liquid_Data_Production_Dev\\src\\lib\\utils.py:153\u001b[0m, in \u001b[0;36mread_data_from_preston_with_sql_file\u001b[1;34m(path, params)\u001b[0m\n\u001b[0;32m    151\u001b[0m \u001b[39mdef\u001b[39;00m \u001b[39mread_data_from_preston_with_sql_file\u001b[39m(path: Path, params: \u001b[39mlist\u001b[39m \u001b[39m=\u001b[39m \u001b[39mNone\u001b[39;00m) \u001b[39m-\u001b[39m\u001b[39m>\u001b[39m pd\u001b[39m.\u001b[39mDataFrame:\n\u001b[0;32m    152\u001b[0m     sql \u001b[39m=\u001b[39m read_sql_file(path)\n\u001b[1;32m--> 153\u001b[0m     \u001b[39mreturn\u001b[39;00m read_data_from_preston_with_string(sql, params)\n",
      "File \u001b[1;32mc:\\Users\\CXimen\\OneDrive - BCI\\Documents\\Liquid_Data_Production_Dev\\src\\lib\\utils.py:127\u001b[0m, in \u001b[0;36mread_data_from_preston_with_string\u001b[1;34m(sql, params)\u001b[0m\n\u001b[0;32m    125\u001b[0m         cursor\u001b[39m.\u001b[39mexecute(sql)\n\u001b[0;32m    126\u001b[0m     \u001b[39melse\u001b[39;00m:\n\u001b[1;32m--> 127\u001b[0m         df \u001b[39m=\u001b[39m pd\u001b[39m.\u001b[39;49mread_sql(sql, cnn, params\u001b[39m=\u001b[39;49mparams)\n\u001b[0;32m    128\u001b[0m \u001b[39mreturn\u001b[39;00m df\n",
      "File \u001b[1;32mc:\\Users\\CXimen\\OneDrive - BCI\\Documents\\Liquid_Data_Production_Dev\\venv\\lib\\site-packages\\pandas\\io\\sql.py:564\u001b[0m, in \u001b[0;36mread_sql\u001b[1;34m(sql, con, index_col, coerce_float, params, parse_dates, columns, chunksize)\u001b[0m\n\u001b[0;32m    561\u001b[0m pandas_sql \u001b[39m=\u001b[39m pandasSQL_builder(con)\n\u001b[0;32m    563\u001b[0m \u001b[39mif\u001b[39;00m \u001b[39misinstance\u001b[39m(pandas_sql, SQLiteDatabase):\n\u001b[1;32m--> 564\u001b[0m     \u001b[39mreturn\u001b[39;00m pandas_sql\u001b[39m.\u001b[39;49mread_query(\n\u001b[0;32m    565\u001b[0m         sql,\n\u001b[0;32m    566\u001b[0m         index_col\u001b[39m=\u001b[39;49mindex_col,\n\u001b[0;32m    567\u001b[0m         params\u001b[39m=\u001b[39;49mparams,\n\u001b[0;32m    568\u001b[0m         coerce_float\u001b[39m=\u001b[39;49mcoerce_float,\n\u001b[0;32m    569\u001b[0m         parse_dates\u001b[39m=\u001b[39;49mparse_dates,\n\u001b[0;32m    570\u001b[0m         chunksize\u001b[39m=\u001b[39;49mchunksize,\n\u001b[0;32m    571\u001b[0m     )\n\u001b[0;32m    573\u001b[0m \u001b[39mtry\u001b[39;00m:\n\u001b[0;32m    574\u001b[0m     _is_table_name \u001b[39m=\u001b[39m pandas_sql\u001b[39m.\u001b[39mhas_table(sql)\n",
      "File \u001b[1;32mc:\\Users\\CXimen\\OneDrive - BCI\\Documents\\Liquid_Data_Production_Dev\\venv\\lib\\site-packages\\pandas\\io\\sql.py:2078\u001b[0m, in \u001b[0;36mSQLiteDatabase.read_query\u001b[1;34m(self, sql, index_col, coerce_float, params, parse_dates, chunksize, dtype)\u001b[0m\n\u001b[0;32m   2066\u001b[0m \u001b[39mdef\u001b[39;00m \u001b[39mread_query\u001b[39m(\n\u001b[0;32m   2067\u001b[0m     \u001b[39mself\u001b[39m,\n\u001b[0;32m   2068\u001b[0m     sql,\n\u001b[1;32m   (...)\u001b[0m\n\u001b[0;32m   2074\u001b[0m     dtype: DtypeArg \u001b[39m|\u001b[39m \u001b[39mNone\u001b[39;00m \u001b[39m=\u001b[39m \u001b[39mNone\u001b[39;00m,\n\u001b[0;32m   2075\u001b[0m ) \u001b[39m-\u001b[39m\u001b[39m>\u001b[39m DataFrame \u001b[39m|\u001b[39m Iterator[DataFrame]:\n\u001b[0;32m   2077\u001b[0m     args \u001b[39m=\u001b[39m _convert_params(sql, params)\n\u001b[1;32m-> 2078\u001b[0m     cursor \u001b[39m=\u001b[39m \u001b[39mself\u001b[39;49m\u001b[39m.\u001b[39;49mexecute(\u001b[39m*\u001b[39;49margs)\n\u001b[0;32m   2079\u001b[0m     columns \u001b[39m=\u001b[39m [col_desc[\u001b[39m0\u001b[39m] \u001b[39mfor\u001b[39;00m col_desc \u001b[39min\u001b[39;00m cursor\u001b[39m.\u001b[39mdescription]\n\u001b[0;32m   2081\u001b[0m     \u001b[39mif\u001b[39;00m chunksize \u001b[39mis\u001b[39;00m \u001b[39mnot\u001b[39;00m \u001b[39mNone\u001b[39;00m:\n",
      "File \u001b[1;32mc:\\Users\\CXimen\\OneDrive - BCI\\Documents\\Liquid_Data_Production_Dev\\venv\\lib\\site-packages\\pandas\\io\\sql.py:2018\u001b[0m, in \u001b[0;36mSQLiteDatabase.execute\u001b[1;34m(self, *args, **kwargs)\u001b[0m\n\u001b[0;32m   2016\u001b[0m cur \u001b[39m=\u001b[39m \u001b[39mself\u001b[39m\u001b[39m.\u001b[39mcon\u001b[39m.\u001b[39mcursor()\n\u001b[0;32m   2017\u001b[0m \u001b[39mtry\u001b[39;00m:\n\u001b[1;32m-> 2018\u001b[0m     cur\u001b[39m.\u001b[39;49mexecute(\u001b[39m*\u001b[39;49margs, \u001b[39m*\u001b[39;49m\u001b[39m*\u001b[39;49mkwargs)\n\u001b[0;32m   2019\u001b[0m     \u001b[39mreturn\u001b[39;00m cur\n\u001b[0;32m   2020\u001b[0m \u001b[39mexcept\u001b[39;00m \u001b[39mException\u001b[39;00m \u001b[39mas\u001b[39;00m exc:\n",
      "\u001b[1;31mKeyboardInterrupt\u001b[0m: "
     ]
    }
   ],
   "source": [
    "lib.liquid.create_pv_validation(new_date)"
   ]
  },
  {
   "attachments": {},
   "cell_type": "markdown",
   "metadata": {},
   "source": [
    "# Collteral\n",
    "- all code related to operation in collateral folder goes here\n",
    "- S:\\IT IRSR Shared\\RedSwan\\RedSwan\\Master_bcIMC\\LIQUID\\Collateral"
   ]
  },
  {
   "attachments": {},
   "cell_type": "markdown",
   "metadata": {},
   "source": [
    "## create template folder"
   ]
  },
  {
   "cell_type": "code",
   "execution_count": 4,
   "metadata": {},
   "outputs": [
    {
     "name": "stdout",
     "output_type": "stream",
     "text": [
      "Copied folder from S:\\IT IRSR Shared\\RedSwan\\RedSwan\\Master_bcIMC\\LIQUID\\Collateral\\2023\\07\\07_14 to S:\\IT IRSR Shared\\RedSwan\\RedSwan\\Master_bcIMC\\LIQUID\\Collateral\\2023\\07\\07_21\n",
      "Copied to folder at S:\\IT IRSR Shared\\RedSwan\\RedSwan\\Master_bcIMC\\LIQUID\\Collateral\\2023\\07\\07_21\n",
      "Deleted file: Collateral.docx\n",
      "Deleted file: Collateral.xml\n",
      "Deleted file: Collateral_20230714.rml\n",
      "Deleted file: Collateral_20230714_Enriched.xml\n",
      "Deleted file: Collateral_20230714_Log.csv\n",
      "Deleted file: Collateral_20230714_RawLog.csv\n",
      "Deleted file: Collateral_unprocessed_holdings.csv\n",
      "Deleted file: Collateral_unprocessed_securities.csv\n",
      "Deleted file: OTC_Collateral_20230714.csv\n",
      "replaced S:\\IT IRSR Shared\\RedSwan\\RedSwan\\Master_bcIMC\\LIQUID\\Collateral\\2023\\07\\07_14 with S:\\IT IRSR Shared\\RedSwan\\RedSwan\\Master_bcIMC\\LIQUID\\Collateral\\2023\\07\\07_21 in S:\\IT IRSR Shared\\RedSwan\\RedSwan\\Master_bcIMC\\LIQUID\\Collateral\\2023\\07\\07_21\\Loading\\OTC_Collateral.environment\n",
      "replaced 20230714 with 20230721 in S:\\IT IRSR Shared\\RedSwan\\RedSwan\\Master_bcIMC\\LIQUID\\Collateral\\2023\\07\\07_21\\Loading\\OTC_Collateral.environment\n"
     ]
    }
   ],
   "source": [
    "lib .collateral.create_template_folder(from_date,new_date)"
   ]
  },
  {
   "attachments": {},
   "cell_type": "markdown",
   "metadata": {},
   "source": [
    "## Convert to CSV\n",
    "- the code will look for `OTC_Collateral_date.xlsx` in the folder and convert it to csv file and save it in the same folder"
   ]
  },
  {
   "cell_type": "code",
   "execution_count": 23,
   "metadata": {},
   "outputs": [
    {
     "name": "stdout",
     "output_type": "stream",
     "text": [
      "Converted S:\\IT IRSR Shared\\RedSwan\\RedSwan\\Master_bcIMC\\LIQUID\\Collateral\\2023\\07\\07_07\\OTC_Collateral_20230707.xlsx to csv\n"
     ]
    }
   ],
   "source": [
    "lib.collateral.convert_to_csv(new_date)"
   ]
  },
  {
   "attachments": {},
   "cell_type": "markdown",
   "metadata": {},
   "source": [
    "# Repo\n",
    "- all code related to operation in repo folder goes here\n",
    "- S:\\IT IRSR Shared\\RedSwan\\RedSwan\\Master_bcIMC\\LIQUID\\Repo"
   ]
  },
  {
   "attachments": {},
   "cell_type": "markdown",
   "metadata": {},
   "source": [
    "## create template folder"
   ]
  },
  {
   "cell_type": "code",
   "execution_count": 5,
   "metadata": {},
   "outputs": [
    {
     "name": "stdout",
     "output_type": "stream",
     "text": [
      "Copied folder from S:\\IT IRSR Shared\\RedSwan\\RedSwan\\Master_bcIMC\\LIQUID\\Repo\\2023\\07\\07_14 to S:\\IT IRSR Shared\\RedSwan\\RedSwan\\Master_bcIMC\\LIQUID\\Repo\\2023\\07\\07_21\n",
      "Copied to folder at S:\\IT IRSR Shared\\RedSwan\\RedSwan\\Master_bcIMC\\LIQUID\\Repo\\2023\\07\\07_21\n",
      "Deleted file: Repo.docx\n",
      "Deleted file: Repo.rml\n",
      "Deleted file: Repo.xml\n",
      "Deleted file: Repo_Enriched.xml\n",
      "Deleted file: Repo_Log.csv\n",
      "Deleted file: Repo_RawLog.csv\n",
      "Deleted file: unprocessed_holdings.csv\n",
      "Deleted file: unprocessed_securities.csv\n",
      "Deleted file: REPO FINAL.csv\n",
      "replaced S:\\IT IRSR Shared\\RedSwan\\RedSwan\\Master_bcIMC\\LIQUID\\Repo\\2023\\07\\07_14 with S:\\IT IRSR Shared\\RedSwan\\RedSwan\\Master_bcIMC\\LIQUID\\Repo\\2023\\07\\07_21 in S:\\IT IRSR Shared\\RedSwan\\RedSwan\\Master_bcIMC\\LIQUID\\Repo\\2023\\07\\07_21\\Loading\\Repo_Col_V2.environment\n"
     ]
    }
   ],
   "source": [
    "lib.repo.create_template_folder(from_date,new_date)"
   ]
  },
  {
   "attachments": {},
   "cell_type": "markdown",
   "metadata": {},
   "source": [
    "## Update Excel File\n",
    "- the code will read look for `REPO FINAL.xlsx` in the folder, delete old weeks data and update sql data in the file.\n",
    "- the second function will convert the excel to csv."
   ]
  },
  {
   "cell_type": "code",
   "execution_count": 5,
   "metadata": {},
   "outputs": [
    {
     "name": "stdout",
     "output_type": "stream",
     "text": [
      "c:\\Users\\CXimen\\OneDrive - BCI\\Documents\\Liquid_Data_Production_Dev\\2023\\08\\08_25\\REPO FINAL.xlsx is updated and saved to None\n",
      "Converted c:\\Users\\CXimen\\OneDrive - BCI\\Documents\\Liquid_Data_Production_Dev\\2023\\08\\08_25\\REPO FINAL.xlsx to csv\n"
     ]
    }
   ],
   "source": [
    "lib.repo.update_excel_file(new_date)\n",
    "lib.repo.convert_to_csv(new_date)"
   ]
  },
  {
   "attachments": {},
   "cell_type": "markdown",
   "metadata": {},
   "source": [
    "# Lookthrough for Cube\n",
    "- all code related to operation in Lookthrough for Cube folder goes here\n",
    "- S:\\IT IRSR Shared\\RedSwan\\RedSwan\\Master_bcIMC\\TREE\\Lookthrough for Cube"
   ]
  },
  {
   "attachments": {},
   "cell_type": "markdown",
   "metadata": {},
   "source": [
    "## create template folder"
   ]
  },
  {
   "cell_type": "code",
   "execution_count": 3,
   "metadata": {},
   "outputs": [
    {
     "name": "stdout",
     "output_type": "stream",
     "text": [
      "Copied folder from S:\\IT IRSR Shared\\RedSwan\\RedSwan\\Master_bcIMC\\TREE\\Lookthrough for Cube\\2023\\20230825 to S:\\IT IRSR Shared\\RedSwan\\RedSwan\\Master_bcIMC\\TREE\\Lookthrough for Cube\\2023\\20230831\n",
      "Copied to folder at S:\\IT IRSR Shared\\RedSwan\\RedSwan\\Master_bcIMC\\TREE\\Lookthrough for Cube\\2023\\20230831\n",
      "Deleted file: Lookthrough_Cube.docx\n",
      "Deleted file: Lookthrough_Cube.rml\n",
      "Deleted file: Lookthrough_Cube.xml\n",
      "Deleted file: Lookthrough_Cube_Enriched.xml\n",
      "Deleted file: Lookthrough_Cube_Log.csv\n",
      "Deleted file: Lookthrough_Cube_overlapped_securities.csv\n",
      "Deleted file: Lookthrough_Cube_RawLog.csv\n",
      "Deleted file: Lookthrough_Cube_unprocessed_holdings.csv\n",
      "Deleted file: Lookthrough_Cube_unprocessed_securities.csv\n",
      "Deleted file: Lookthrough - Cube -  20230825.csv\n",
      "Deleted file: LookthroughMapping_20230825.csv\n",
      "replaced S:\\IT IRSR Shared\\RedSwan\\RedSwan\\Master_bcIMC\\TREE\\Lookthrough for Cube\\2023\\20230825 with S:\\IT IRSR Shared\\RedSwan\\RedSwan\\Master_bcIMC\\TREE\\Lookthrough for Cube\\2023\\20230831 in S:\\IT IRSR Shared\\RedSwan\\RedSwan\\Master_bcIMC\\TREE\\Lookthrough for Cube\\2023\\20230831\\Loading\\Lookthrough Index Cube.environment\n",
      "replaced 20230825 with 20230831 in S:\\IT IRSR Shared\\RedSwan\\RedSwan\\Master_bcIMC\\TREE\\Lookthrough for Cube\\2023\\20230831\\Loading\\Lookthrough Index Cube.environment\n"
     ]
    }
   ],
   "source": [
    "lib.cube_lookthru.create_template_folder(from_date,new_date)"
   ]
  },
  {
   "attachments": {},
   "cell_type": "markdown",
   "metadata": {},
   "source": [
    "## create `Lookthrough - Cube` file\n",
    "- the code will look for `Lookthrough - Cube` file with the date of `from_date` in the `to_date` working folder. \n",
    "- update the date in `MSCI_RM_INDEX_ID` column and `PRICED_SECURITY_NAME` column for ecompass data\n",
    "- append new week data from sql file in `sql\\Lookthrough\\lookthrough.sql`\n",
    "- **make sure to double check ecompass data matches with risk manager. the checking is not done by the code**.\n",
    "- after manually checking the ecompass data, run the second block of code to turn the excel to csv."
   ]
  },
  {
   "cell_type": "code",
   "execution_count": 8,
   "metadata": {},
   "outputs": [
    {
     "name": "stdout",
     "output_type": "stream",
     "text": [
      "Lookthrough Cube created at S:\\IT IRSR Shared\\RedSwan\\RedSwan\\Master_bcIMC\\TREE\\Lookthrough for Cube\\2023\\20230831\\Lookthrough - Cube -  20230831.xlsx\n",
      "Deleted file: Lookthrough - Cube -  20230825.xlsx\n"
     ]
    }
   ],
   "source": [
    "lib.cube_lookthru.create_lookthru_cube(from_date,new_date)"
   ]
  },
  {
   "cell_type": "code",
   "execution_count": 9,
   "metadata": {},
   "outputs": [
    {
     "name": "stdout",
     "output_type": "stream",
     "text": [
      "Converted S:\\IT IRSR Shared\\RedSwan\\RedSwan\\Master_bcIMC\\TREE\\Lookthrough for Cube\\2023\\20230831\\Lookthrough - Cube -  20230831.xlsx to csv\n"
     ]
    }
   ],
   "source": [
    "lib.cube_lookthru.turn_lookthru_cube_to_csv(new_date)"
   ]
  },
  {
   "attachments": {},
   "cell_type": "markdown",
   "metadata": {},
   "source": [
    "## create `LookthroughMapping` file\n",
    "- the code will look for `Lookthrough - Cube` file with the date of `from_date` in the `to_date` working folder. \n",
    "- get rid of records besides ecompass\n",
    "- append new week data from sql file in `sql\\lookthrough\\indexCSV.sql`\n",
    "- **make sure to double check ecompass data matches with risk manager. the checking is not done by the code**.\n",
    "- after checking the ecompass data, run the second block of code to turn the excel to csv."
   ]
  },
  {
   "cell_type": "code",
   "execution_count": 10,
   "metadata": {},
   "outputs": [
    {
     "name": "stdout",
     "output_type": "stream",
     "text": [
      "LookthroughMapping created at S:\\IT IRSR Shared\\RedSwan\\RedSwan\\Master_bcIMC\\TREE\\Lookthrough for Cube\\2023\\20230831\\LookthroughMapping_20230831.xlsx\n",
      "Deleted file: LookthroughMapping_20230825.xlsx\n"
     ]
    }
   ],
   "source": [
    "lib.cube_lookthru.create_LookthroughMapping(from_date,new_date)"
   ]
  },
  {
   "cell_type": "code",
   "execution_count": 11,
   "metadata": {},
   "outputs": [
    {
     "name": "stdout",
     "output_type": "stream",
     "text": [
      "Converted S:\\IT IRSR Shared\\RedSwan\\RedSwan\\Master_bcIMC\\TREE\\Lookthrough for Cube\\2023\\20230831\\LookthroughMapping_20230831.xlsx to csv\n"
     ]
    }
   ],
   "source": [
    "lib.cube_lookthru.turn_LookthruMapping_to_csv(new_date)"
   ]
  },
  {
   "attachments": {},
   "cell_type": "markdown",
   "metadata": {},
   "source": [
    "# Total Fund Tree\n",
    "- all code related to operation in Total Fund Tree folder goes here\n",
    "- S:\\IT IRSR Shared\\RedSwan\\RedSwan\\Master_bcIMC\\TREE\\Total Fund Tree"
   ]
  },
  {
   "attachments": {},
   "cell_type": "markdown",
   "metadata": {},
   "source": [
    "## create template folder"
   ]
  },
  {
   "cell_type": "code",
   "execution_count": 14,
   "metadata": {},
   "outputs": [
    {
     "name": "stdout",
     "output_type": "stream",
     "text": [
      "Copied folder from S:\\IT IRSR Shared\\RedSwan\\RedSwan\\Master_bcIMC\\TREE\\Total Fund Tree\\2023\\09\\20230901 to S:\\IT IRSR Shared\\RedSwan\\RedSwan\\Master_bcIMC\\TREE\\Total Fund Tree\\2023\\08\\20230831\n",
      "Copied to folder at S:\\IT IRSR Shared\\RedSwan\\RedSwan\\Master_bcIMC\\TREE\\Total Fund Tree\\2023\\08\\20230831\n",
      "Deleted file: overlapped_holdings.csv\n",
      "Deleted file: TotalFundHierarchy.docx\n",
      "Deleted file: TotalFundHierarchy.xml\n",
      "Deleted file: TotalFundHierarchy_20230901.rml\n",
      "Deleted file: TotalFundHierarchy_20230901_Log.csv\n",
      "Deleted file: TotalFundHierarchy_20230901_RawLog.csv\n",
      "Deleted file: unprocessed_holdings.csv\n",
      "Deleted file: unprocessed_securities.csv\n",
      "Deleted file: Total_Fund_Tree _20230901.csv\n",
      "Deleted file: PV Report E0043 Ext Man 20230901.xlsx\n",
      "Deleted file: PV Report GPF Ext Man 20230901.xlsx\n",
      "Deleted file: Total Fund PV Report 20230825.xlsx\n",
      "replaced S:\\IT IRSR Shared\\RedSwan\\RedSwan\\Master_bcIMC\\TREE\\Total Fund Tree\\2023\\09\\20230901 with S:\\IT IRSR Shared\\RedSwan\\RedSwan\\Master_bcIMC\\TREE\\Total Fund Tree\\2023\\08\\20230831 in S:\\IT IRSR Shared\\RedSwan\\RedSwan\\Master_bcIMC\\TREE\\Total Fund Tree\\2023\\08\\20230831\\Loading\\TotalFundHierarchy Prod Load.environment\n",
      "replaced 20230901 with 20230831 in S:\\IT IRSR Shared\\RedSwan\\RedSwan\\Master_bcIMC\\TREE\\Total Fund Tree\\2023\\08\\20230831\\Loading\\TotalFundHierarchy Prod Load.environment\n"
     ]
    }
   ],
   "source": [
    "lib.total_fund_tree.create_template_folder(from_date,new_date)"
   ]
  },
  {
   "attachments": {},
   "cell_type": "markdown",
   "metadata": {},
   "source": [
    "## Update Scale Calculation\n",
    "- after running the report in risk manager, save `PV Report Liquids External Manager` files in `Scale Calculation` folder\n",
    "- `create_extMan_PV_reports` will look for file contains `PV Report Liquids External Manager` in the `Scale Calculation` folder under `to_date` working folder.\n",
    "- add filter to the report and save in `Scale Calculation` folder with the `to_date` date.\n",
    "- `update_update_mtg_scale_calc` and `update_GPF_scale_calc` will look for respective PV report files in the `Scale Calculation` folder with `to_date` date.\n",
    "- update the scale calculation files with `from_date` date and save with `to_date` date name."
   ]
  },
  {
   "cell_type": "code",
   "execution_count": 2,
   "metadata": {},
   "outputs": [
    {
     "name": "stdout",
     "output_type": "stream",
     "text": [
      "Deleted file: PV Report Liquids External Manager (1).xlsx\n",
      "Updated PV Report GPF Ext Man 20230831.xlsx in S:\\IT IRSR Shared\\RedSwan\\RedSwan\\Master_bcIMC\\TREE\\Total Fund Tree\\2023\\08\\20230831\\Scale Calculation\n",
      "Deleted file: PV Report Liquids External Manager.xlsx\n",
      "Updated PV Report E0043 Ext Man 20230831.xlsx in S:\\IT IRSR Shared\\RedSwan\\RedSwan\\Master_bcIMC\\TREE\\Total Fund Tree\\2023\\08\\20230831\\Scale Calculation\n",
      "Deleted file: Scale calculation E0043 20230901.xlsx\n",
      "Updated S:\\IT IRSR Shared\\RedSwan\\RedSwan\\Master_bcIMC\\TREE\\Total Fund Tree\\2023\\08\\20230831\\Scale Calculation\\Scale calculation E0043 20230831.xlsx\n"
     ]
    },
    {
     "ename": "KeyError",
     "evalue": "'portfolioCode'",
     "output_type": "error",
     "traceback": [
      "\u001b[1;31m---------------------------------------------------------------------------\u001b[0m",
      "\u001b[1;31mKeyError\u001b[0m                                  Traceback (most recent call last)",
      "File \u001b[1;32mc:\\Users\\CXimen\\OneDrive - BCI\\Documents\\Liquid_Data_Production_Dev\\venv\\lib\\site-packages\\pandas\\core\\indexes\\base.py:3803\u001b[0m, in \u001b[0;36mIndex.get_loc\u001b[1;34m(self, key, method, tolerance)\u001b[0m\n\u001b[0;32m   3802\u001b[0m \u001b[39mtry\u001b[39;00m:\n\u001b[1;32m-> 3803\u001b[0m     \u001b[39mreturn\u001b[39;00m \u001b[39mself\u001b[39;49m\u001b[39m.\u001b[39;49m_engine\u001b[39m.\u001b[39;49mget_loc(casted_key)\n\u001b[0;32m   3804\u001b[0m \u001b[39mexcept\u001b[39;00m \u001b[39mKeyError\u001b[39;00m \u001b[39mas\u001b[39;00m err:\n",
      "File \u001b[1;32mc:\\Users\\CXimen\\OneDrive - BCI\\Documents\\Liquid_Data_Production_Dev\\venv\\lib\\site-packages\\pandas\\_libs\\index.pyx:138\u001b[0m, in \u001b[0;36mpandas._libs.index.IndexEngine.get_loc\u001b[1;34m()\u001b[0m\n",
      "File \u001b[1;32mc:\\Users\\CXimen\\OneDrive - BCI\\Documents\\Liquid_Data_Production_Dev\\venv\\lib\\site-packages\\pandas\\_libs\\index.pyx:165\u001b[0m, in \u001b[0;36mpandas._libs.index.IndexEngine.get_loc\u001b[1;34m()\u001b[0m\n",
      "File \u001b[1;32mpandas\\_libs\\hashtable_class_helper.pxi:5745\u001b[0m, in \u001b[0;36mpandas._libs.hashtable.PyObjectHashTable.get_item\u001b[1;34m()\u001b[0m\n",
      "File \u001b[1;32mpandas\\_libs\\hashtable_class_helper.pxi:5753\u001b[0m, in \u001b[0;36mpandas._libs.hashtable.PyObjectHashTable.get_item\u001b[1;34m()\u001b[0m\n",
      "\u001b[1;31mKeyError\u001b[0m: 'portfolioCode'",
      "\nThe above exception was the direct cause of the following exception:\n",
      "\u001b[1;31mKeyError\u001b[0m                                  Traceback (most recent call last)",
      "\u001b[1;32mc:\\Users\\CXimen\\OneDrive - BCI\\Documents\\Liquid_Data_Production_Dev\\src\\main.ipynb Cell 41\u001b[0m line \u001b[0;36m3\n\u001b[0;32m      <a href='vscode-notebook-cell:/c%3A/Users/CXimen/OneDrive%20-%20BCI/Documents/Liquid_Data_Production_Dev/src/main.ipynb#X55sZmlsZQ%3D%3D?line=0'>1</a>\u001b[0m lib\u001b[39m.\u001b[39mtotal_fund_tree\u001b[39m.\u001b[39mcreate_extMan_PV_reports(new_date)\n\u001b[0;32m      <a href='vscode-notebook-cell:/c%3A/Users/CXimen/OneDrive%20-%20BCI/Documents/Liquid_Data_Production_Dev/src/main.ipynb#X55sZmlsZQ%3D%3D?line=1'>2</a>\u001b[0m lib\u001b[39m.\u001b[39mtotal_fund_tree\u001b[39m.\u001b[39mupdate_mtg_scale_calc(from_date,new_date)\n\u001b[1;32m----> <a href='vscode-notebook-cell:/c%3A/Users/CXimen/OneDrive%20-%20BCI/Documents/Liquid_Data_Production_Dev/src/main.ipynb#X55sZmlsZQ%3D%3D?line=2'>3</a>\u001b[0m lib\u001b[39m.\u001b[39;49mtotal_fund_tree\u001b[39m.\u001b[39;49mupdate_GPF_scale_calc(from_date,new_date)\n",
      "File \u001b[1;32mc:\\Users\\CXimen\\OneDrive - BCI\\Documents\\Liquid_Data_Production_Dev\\src\\lib\\total_fund_tree.py:177\u001b[0m, in \u001b[0;36mupdate_GPF_scale_calc\u001b[1;34m(from_date, to_date)\u001b[0m\n\u001b[0;32m    175\u001b[0m     sheet\u001b[39m.\u001b[39mrange(\u001b[39mf\u001b[39m\u001b[39m\"\u001b[39m\u001b[39mI\u001b[39m\u001b[39m{\u001b[39;00mr\u001b[39m}\u001b[39;00m\u001b[39m\"\u001b[39m)\u001b[39m.\u001b[39mvalue \u001b[39m=\u001b[39m fx\n\u001b[0;32m    176\u001b[0m \u001b[39mfor\u001b[39;00m r \u001b[39min\u001b[39;00m \u001b[39mrange\u001b[39m(row_start_pv, row_start_pv\u001b[39m+\u001b[39mnum_of_positions):\n\u001b[1;32m--> 177\u001b[0m     sheet\u001b[39m.\u001b[39mrange(\u001b[39mf\u001b[39m\u001b[39m\"\u001b[39m\u001b[39mE\u001b[39m\u001b[39m{\u001b[39;00mr\u001b[39m}\u001b[39;00m\u001b[39m\"\u001b[39m)\u001b[39m.\u001b[39mvalue \u001b[39m=\u001b[39m pv_data\u001b[39m.\u001b[39;49mloc[sheet\u001b[39m.\u001b[39;49mrange(\n\u001b[0;32m    178\u001b[0m         \u001b[39mf\u001b[39;49m\u001b[39m\"\u001b[39;49m\u001b[39mD\u001b[39;49m\u001b[39m{\u001b[39;49;00mr\u001b[39m}\u001b[39;49;00m\u001b[39m\"\u001b[39;49m)\u001b[39m.\u001b[39;49mvalue, \u001b[39m\"\u001b[39;49m\u001b[39mPV\u001b[39;49m\u001b[39m\"\u001b[39;49m]\n\u001b[0;32m    179\u001b[0m app\u001b[39m.\u001b[39mcalculate()\n\u001b[0;32m    180\u001b[0m wb\u001b[39m.\u001b[39msave(save_to_path)\n",
      "File \u001b[1;32mc:\\Users\\CXimen\\OneDrive - BCI\\Documents\\Liquid_Data_Production_Dev\\venv\\lib\\site-packages\\pandas\\core\\indexing.py:1066\u001b[0m, in \u001b[0;36m_LocationIndexer.__getitem__\u001b[1;34m(self, key)\u001b[0m\n\u001b[0;32m   1064\u001b[0m     key \u001b[39m=\u001b[39m \u001b[39mtuple\u001b[39m(com\u001b[39m.\u001b[39mapply_if_callable(x, \u001b[39mself\u001b[39m\u001b[39m.\u001b[39mobj) \u001b[39mfor\u001b[39;00m x \u001b[39min\u001b[39;00m key)\n\u001b[0;32m   1065\u001b[0m     \u001b[39mif\u001b[39;00m \u001b[39mself\u001b[39m\u001b[39m.\u001b[39m_is_scalar_access(key):\n\u001b[1;32m-> 1066\u001b[0m         \u001b[39mreturn\u001b[39;00m \u001b[39mself\u001b[39;49m\u001b[39m.\u001b[39;49mobj\u001b[39m.\u001b[39;49m_get_value(\u001b[39m*\u001b[39;49mkey, takeable\u001b[39m=\u001b[39;49m\u001b[39mself\u001b[39;49m\u001b[39m.\u001b[39;49m_takeable)\n\u001b[0;32m   1067\u001b[0m     \u001b[39mreturn\u001b[39;00m \u001b[39mself\u001b[39m\u001b[39m.\u001b[39m_getitem_tuple(key)\n\u001b[0;32m   1068\u001b[0m \u001b[39melse\u001b[39;00m:\n\u001b[0;32m   1069\u001b[0m     \u001b[39m# we by definition only have the 0th axis\u001b[39;00m\n",
      "File \u001b[1;32mc:\\Users\\CXimen\\OneDrive - BCI\\Documents\\Liquid_Data_Production_Dev\\venv\\lib\\site-packages\\pandas\\core\\frame.py:3921\u001b[0m, in \u001b[0;36mDataFrame._get_value\u001b[1;34m(self, index, col, takeable)\u001b[0m\n\u001b[0;32m   3915\u001b[0m engine \u001b[39m=\u001b[39m \u001b[39mself\u001b[39m\u001b[39m.\u001b[39mindex\u001b[39m.\u001b[39m_engine\n\u001b[0;32m   3917\u001b[0m \u001b[39mif\u001b[39;00m \u001b[39mnot\u001b[39;00m \u001b[39misinstance\u001b[39m(\u001b[39mself\u001b[39m\u001b[39m.\u001b[39mindex, MultiIndex):\n\u001b[0;32m   3918\u001b[0m     \u001b[39m# CategoricalIndex: Trying to use the engine fastpath may give incorrect\u001b[39;00m\n\u001b[0;32m   3919\u001b[0m     \u001b[39m#  results if our categories are integers that dont match our codes\u001b[39;00m\n\u001b[0;32m   3920\u001b[0m     \u001b[39m# IntervalIndex: IntervalTree has no get_loc\u001b[39;00m\n\u001b[1;32m-> 3921\u001b[0m     row \u001b[39m=\u001b[39m \u001b[39mself\u001b[39;49m\u001b[39m.\u001b[39;49mindex\u001b[39m.\u001b[39;49mget_loc(index)\n\u001b[0;32m   3922\u001b[0m     \u001b[39mreturn\u001b[39;00m series\u001b[39m.\u001b[39m_values[row]\n\u001b[0;32m   3924\u001b[0m \u001b[39m# For MultiIndex going through engine effectively restricts us to\u001b[39;00m\n\u001b[0;32m   3925\u001b[0m \u001b[39m#  same-length tuples; see test_get_set_value_no_partial_indexing\u001b[39;00m\n",
      "File \u001b[1;32mc:\\Users\\CXimen\\OneDrive - BCI\\Documents\\Liquid_Data_Production_Dev\\venv\\lib\\site-packages\\pandas\\core\\indexes\\base.py:3805\u001b[0m, in \u001b[0;36mIndex.get_loc\u001b[1;34m(self, key, method, tolerance)\u001b[0m\n\u001b[0;32m   3803\u001b[0m     \u001b[39mreturn\u001b[39;00m \u001b[39mself\u001b[39m\u001b[39m.\u001b[39m_engine\u001b[39m.\u001b[39mget_loc(casted_key)\n\u001b[0;32m   3804\u001b[0m \u001b[39mexcept\u001b[39;00m \u001b[39mKeyError\u001b[39;00m \u001b[39mas\u001b[39;00m err:\n\u001b[1;32m-> 3805\u001b[0m     \u001b[39mraise\u001b[39;00m \u001b[39mKeyError\u001b[39;00m(key) \u001b[39mfrom\u001b[39;00m \u001b[39merr\u001b[39;00m\n\u001b[0;32m   3806\u001b[0m \u001b[39mexcept\u001b[39;00m \u001b[39mTypeError\u001b[39;00m:\n\u001b[0;32m   3807\u001b[0m     \u001b[39m# If we have a listlike key, _check_indexing_error will raise\u001b[39;00m\n\u001b[0;32m   3808\u001b[0m     \u001b[39m#  InvalidIndexError. Otherwise we fall through and re-raise\u001b[39;00m\n\u001b[0;32m   3809\u001b[0m     \u001b[39m#  the TypeError.\u001b[39;00m\n\u001b[0;32m   3810\u001b[0m     \u001b[39mself\u001b[39m\u001b[39m.\u001b[39m_check_indexing_error(key)\n",
      "\u001b[1;31mKeyError\u001b[0m: 'portfolioCode'"
     ]
    }
   ],
   "source": [
    "lib.total_fund_tree.create_extMan_PV_reports(new_date)\n",
    "lib.total_fund_tree.update_mtg_scale_calc(from_date,new_date)\n",
    "lib.total_fund_tree.update_GPF_scale_calc(from_date,new_date)"
   ]
  },
  {
   "attachments": {},
   "cell_type": "markdown",
   "metadata": {},
   "source": [
    "## Update Total Fund Tree\n",
    "- manually adjust portfolios in `Total_Fund_Tree` file and save with `to_date` date name.\n",
    "- `update_total_fund_tree` function will look for `Total_Fund_Tree` with `to_date` date name.\n",
    "- read scale data from the updated scale files and update the numbers in `Total_Fund_Tree` file\n",
    "- save updated file and also create a csv file"
   ]
  },
  {
   "cell_type": "code",
   "execution_count": 2,
   "metadata": {},
   "outputs": [
    {
     "name": "stdout",
     "output_type": "stream",
     "text": [
      "Updated S:\\IT IRSR Shared\\RedSwan\\RedSwan\\Master_bcIMC\\TREE\\Total Fund Tree\\2023\\08\\20230831\\Total_Fund_Tree _20230831.xlsx\n"
     ]
    }
   ],
   "source": [
    "lib.total_fund_tree.update_total_fund_tree(new_date)"
   ]
  },
  {
   "attachments": {},
   "cell_type": "markdown",
   "metadata": {},
   "source": [
    "## Update Total Fund PV Report\n",
    "- download `PV Report Total Fund` from risk manager and save in `to_date` folder.\n",
    "- `update_total_fund_pv_report` function will look for `PV Report Total Fund.xlsx` file.\n",
    "- copy paste `View 1 assetClass by subAsset` sheet. set group level in `View 1 assetClass by subAsset` to level 2, and copied sheet to level 4.\n",
    "- hide rows from 1 to 19 excepte for row 11, which contains as of date.\n",
    "- save file with `to_date` name and delete original `PV Report Total Fund.xlsx` file."
   ]
  },
  {
   "cell_type": "code",
   "execution_count": 5,
   "metadata": {},
   "outputs": [
    {
     "name": "stdout",
     "output_type": "stream",
     "text": [
      "Updated S:\\IT IRSR Shared\\RedSwan\\RedSwan\\Master_bcIMC\\TREE\\Total Fund Tree\\2023\\08\\20230831\\Total Fund PV Report 20230831.xlsx\n",
      "Deleted file: Total Fund PV Report.xlsx\n"
     ]
    }
   ],
   "source": [
    "lib.total_fund_tree.update_total_fund_pv_report(new_date)"
   ]
  },
  {
   "attachments": {},
   "cell_type": "markdown",
   "metadata": {},
   "source": [
    "## GPF Managers Weekly & Monthly MV\n",
    "- `update_GPF_Managers_MV` function will run the sql query to get the GPF based on `to_date` date.\n",
    "- paste the data into the `Formuila` sheet in `GPF Managers Weekly & Monthly MV.xlsx` file.\n",
    "- copy and paste the formated table (`A1:D46`) in `Formula` sheet and paste to new sheet with `to_date` date as name.\n",
    "- and save the file."
   ]
  },
  {
   "cell_type": "code",
   "execution_count": 9,
   "metadata": {},
   "outputs": [
    {
     "name": "stdout",
     "output_type": "stream",
     "text": [
      "S:\\IT IRSR Shared\\RedSwan\\RedSwan\\Master_bcIMC\\TREE\\Total Fund Tree\\2023\\08\\20230831\\Queries\\GPF Managers Weekly & Monthly MV.xlsx is updated and saved to None\n"
     ]
    }
   ],
   "source": [
    "lib.total_fund_tree.update_GPF_Managers_MV(new_date)"
   ]
  },
  {
   "attachments": {},
   "cell_type": "markdown",
   "metadata": {},
   "source": [
    "# Total Fund BMK Tree\n",
    "- all code related to operation in Total Fund BMK Tree folder goes here\n",
    "- S:\\IT IRSR Shared\\RedSwan\\RedSwan\\Master_bcIMC\\TREE\\Total Fund BMK Tree"
   ]
  },
  {
   "attachments": {},
   "cell_type": "markdown",
   "metadata": {},
   "source": [
    "## create template folder"
   ]
  },
  {
   "cell_type": "code",
   "execution_count": 13,
   "metadata": {},
   "outputs": [
    {
     "name": "stdout",
     "output_type": "stream",
     "text": [
      "Copied to folder at S:\\IT IRSR Shared\\RedSwan\\RedSwan\\Master_bcIMC\\TREE\\Total Fund BMK Tree\\2023\\08\\20230831\n",
      "replaced S:\\IT IRSR Shared\\RedSwan\\RedSwan\\Master_bcIMC\\TREE\\Total Fund BMK Tree\\2023\\09\\20230901 with S:\\IT IRSR Shared\\RedSwan\\RedSwan\\Master_bcIMC\\TREE\\Total Fund BMK Tree\\2023\\08\\20230831 in S:\\IT IRSR Shared\\RedSwan\\RedSwan\\Master_bcIMC\\TREE\\Total Fund BMK Tree\\2023\\08\\20230831\\Loading\\TFT BMK RD.environment\n",
      "replaced 20230901 with 20230831 in S:\\IT IRSR Shared\\RedSwan\\RedSwan\\Master_bcIMC\\TREE\\Total Fund BMK Tree\\2023\\08\\20230831\\Loading\\TFT BMK RD.environment\n",
      "replaced S:\\IT IRSR Shared\\RedSwan\\RedSwan\\Master_bcIMC\\TREE\\Total Fund BMK Tree\\2023\\09\\20230901 with S:\\IT IRSR Shared\\RedSwan\\RedSwan\\Master_bcIMC\\TREE\\Total Fund BMK Tree\\2023\\08\\20230831 in S:\\IT IRSR Shared\\RedSwan\\RedSwan\\Master_bcIMC\\TREE\\Total Fund BMK Tree\\2023\\08\\20230831\\Loading\\TFT BMK RU.environment\n",
      "replaced 20230901 with 20230831 in S:\\IT IRSR Shared\\RedSwan\\RedSwan\\Master_bcIMC\\TREE\\Total Fund BMK Tree\\2023\\08\\20230831\\Loading\\TFT BMK RU.environment\n"
     ]
    }
   ],
   "source": [
    "lib.total_fund_bmk_tree.create_template_folder(from_date,new_date)"
   ]
  },
  {
   "attachments": {},
   "cell_type": "markdown",
   "metadata": {},
   "source": [
    "## Update Total Fund BMK Tree\n",
    "- manually adjust portfolios in `Total_Fund_BMK_Tree` files and save with `to_date` date in the name.\n",
    "- `update_total_fund_bmk_tree` function will look for `Total_Fund_BMK_Tree` with `to_date` name.\n",
    "- the code will grab scale data from the updated scale files in and also the updated PV report in `Total Fund Tree` folder \n",
    "- update the scale data and market value in `Total_Fund_BMK_Tree` file\n",
    "- save the file and also convert it to csv file"
   ]
  },
  {
   "cell_type": "code",
   "execution_count": 6,
   "metadata": {},
   "outputs": [
    {
     "name": "stdout",
     "output_type": "stream",
     "text": [
      "Updated S:\\IT IRSR Shared\\RedSwan\\RedSwan\\Master_bcIMC\\TREE\\Total Fund BMK Tree\\2023\\08\\20230831\\Total_Fund_BMK_Tree_20230831 - RD.xlsx and saved csv\n",
      "Total Fund BMK Tree total MV is 217434052862.59277 and PV report total is 217434052862.59283\n",
      "Updated S:\\IT IRSR Shared\\RedSwan\\RedSwan\\Master_bcIMC\\TREE\\Total Fund BMK Tree\\2023\\08\\20230831\\Total_Fund_BMK_Tree_20230831 - RU.xlsx and saved csv\n",
      "Total Fund BMK Tree total MV is 217434052862.59277 and PV report total is 217434052862.59283\n"
     ]
    }
   ],
   "source": [
    "lib.total_fund_bmk_tree.update_total_fund_bmk_tree(new_date)"
   ]
  },
  {
   "attachments": {},
   "cell_type": "markdown",
   "metadata": {},
   "source": [
    "# Cube Files\n",
    "- all code related to operation in `CubeFiles` goes here\n",
    "- S\\\\bcimcs8\\sharedir\\IT IRSR Shared\\RedSwan\\RedSwan\\Master_bcIMC\\CubeFiles"
   ]
  },
  {
   "attachments": {},
   "cell_type": "markdown",
   "metadata": {},
   "source": [
    "## Create template folder\n",
    " - the code will create a new folder with the date of `to_date` in the `CubeFiles` folder\n",
    " - copy paste all the files\n",
    " - update `ProcessStats` file with the date of `to_date` and `RiskVersionName`\n"
   ]
  },
  {
   "cell_type": "code",
   "execution_count": 7,
   "metadata": {},
   "outputs": [
    {
     "name": "stdout",
     "output_type": "stream",
     "text": [
      "Created folder S:\\IT IRSR Shared\\RedSwan\\RedSwan\\Master_bcIMC\\CubeFiles\\Monthly\\20230831\n",
      "Copied file S:\\IT IRSR Shared\\RedSwan\\RedSwan\\Master_bcIMC\\TREE\\Lookthrough for Cube\\2023\\20230831\\LookthroughMapping_20230831.csv to S:\\IT IRSR Shared\\RedSwan\\RedSwan\\Master_bcIMC\\CubeFiles\\Monthly\\20230831\n",
      "Copied file S:\\IT IRSR Shared\\RedSwan\\RedSwan\\Master_bcIMC\\TREE\\Total Fund BMK Tree\\2023\\08\\20230831\\Total_Fund_BMK_Tree_20230831 - RD.csv to S:\\IT IRSR Shared\\RedSwan\\RedSwan\\Master_bcIMC\\CubeFiles\\Monthly\\20230831\n",
      "Copied file S:\\IT IRSR Shared\\RedSwan\\RedSwan\\Master_bcIMC\\TREE\\Total Fund BMK Tree\\2023\\08\\20230831\\Total_Fund_BMK_Tree_20230831 - RU.csv to S:\\IT IRSR Shared\\RedSwan\\RedSwan\\Master_bcIMC\\CubeFiles\\Monthly\\20230831\n",
      "Copied file S:\\IT IRSR Shared\\RedSwan\\RedSwan\\Master_bcIMC\\TREE\\Total Fund Tree\\2023\\08\\20230831\\Total_Fund_Tree _20230831.csv to S:\\IT IRSR Shared\\RedSwan\\RedSwan\\Master_bcIMC\\CubeFiles\\Monthly\\20230831\n",
      "replaced \\d{8} with 20230831 in S:\\IT IRSR Shared\\RedSwan\\RedSwan\\Master_bcIMC\\CubeFiles\\ProcessStats.csv\n",
      "replaced Weekly|Monthly with Monthly in S:\\IT IRSR Shared\\RedSwan\\RedSwan\\Master_bcIMC\\CubeFiles\\ProcessStats.csv\n"
     ]
    }
   ],
   "source": [
    "weekly = False # True for weekly, False for monthly\n",
    "lib.cubefiles.create_template_folder(new_date, weekly)"
   ]
  }
 ],
 "metadata": {
  "kernelspec": {
   "display_name": ".venv",
   "language": "python",
   "name": "python3"
  },
  "language_info": {
   "codemirror_mode": {
    "name": "ipython",
    "version": 3
   },
   "file_extension": ".py",
   "mimetype": "text/x-python",
   "name": "python",
   "nbconvert_exporter": "python",
   "pygments_lexer": "ipython3",
   "version": "3.8.10"
  },
  "orig_nbformat": 4,
  "vscode": {
   "interpreter": {
    "hash": "9e7f6956f5c44f9c75c79f64994a5e12080cbb9bbefa27819bd5c85a7c8b6ec8"
   }
  }
 },
 "nbformat": 4,
 "nbformat_minor": 2
}
