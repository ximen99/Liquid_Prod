{
 "cells": [
  {
   "attachments": {},
   "cell_type": "markdown",
   "metadata": {},
   "source": [
    "# Weekly Load Automation\n",
    "- This file will be the main interface to run python code which will operate on the respective folder used in weekly load. \n",
    "- The main function code sits in lib folder which is a python package. The package is structured in a way that each module within works on specific working folder for weekly load.\n",
    "- The config module in lib package has a variable \"IS_DEV\" which is used as a flag to determine if the code is running in dev environment or not and gets fed into all modules. please make sure it's turned to \"False\" before running in production."
   ]
  },
  {
   "cell_type": "code",
   "execution_count": 1,
   "metadata": {},
   "outputs": [
    {
     "data": {
      "text/plain": [
       "WindowsPath('S:/IT IRSR Shared/RedSwan/RedSwan/Master_bcIMC/LIQUID/Liquid')"
      ]
     },
     "execution_count": 1,
     "metadata": {},
     "output_type": "execute_result"
    }
   ],
   "source": [
    "import lib\n",
    "from datetime import date, timedelta\n",
    "import warnings\n",
    "warnings.filterwarnings(\"ignore\")\n",
    "import pandas as pd\n",
    "\n",
    "pd.options.display.float_format = '{:.2f}'.format\n",
    "\n",
    "# last week's validation date \n",
    "from_date = date(2024, 1, 12)\n",
    "# new week's date to work on\n",
    "new_date = from_date + timedelta(days=7)\n",
    "# check environment, if production it should return share drive path\n",
    "lib.liquid.base_path"
   ]
  },
  {
   "attachments": {},
   "cell_type": "markdown",
   "metadata": {},
   "source": [
    "# Liquid\n",
    "- all code related to operation in liquid folder goes here\n",
    "- S:\\IT IRSR Shared\\RedSwan\\RedSwan\\Master_bcIMC\\LIQUID\\Liquid "
   ]
  },
  {
   "attachments": {},
   "cell_type": "markdown",
   "metadata": {},
   "source": [
    "## create template folder\n",
    "- the code will copy folder according to `from_date` and paste as `to_date`\n",
    "- delete unnecessary files from last week\n",
    "- update enviroment file with new date"
   ]
  },
  {
   "cell_type": "code",
   "execution_count": 2,
   "metadata": {},
   "outputs": [
    {
     "name": "stdout",
     "output_type": "stream",
     "text": [
      "Copied folder from S:\\IT IRSR Shared\\RedSwan\\RedSwan\\Master_bcIMC\\LIQUID\\Liquid\\2024\\01\\01_12 to S:\\IT IRSR Shared\\RedSwan\\RedSwan\\Master_bcIMC\\LIQUID\\Liquid\\2024\\01\\01_19\n",
      "Copied to folder at S:\\IT IRSR Shared\\RedSwan\\RedSwan\\Master_bcIMC\\LIQUID\\Liquid\\2024\\01\\01_19\n",
      "Deleted file: Basket_Hedge_20240112.docx\n",
      "Deleted file: Basket_Hedge_20240112.xml\n",
      "Deleted file: IFT_20240112.docx\n",
      "Deleted file: IFT_20240112.xml\n",
      "Deleted file: Illiquids_20240112.docx\n",
      "Deleted file: Illiquids_20240112.xml\n",
      "Deleted file: Main_20240112.docx\n",
      "Deleted file: Main_20240112.xml\n",
      "Deleted file: Basket_Hedge_20240112.rml\n",
      "Deleted file: Basket_Hedge_20240112_Log.csv\n",
      "Deleted file: Basket_Hedge_20240112_RawLog.csv\n",
      "Deleted file: Basket_Hedge_overlapped_20240112_holdings.csv\n",
      "Deleted file: Basket_Hedge_overlapped_20240112_securities.csv\n",
      "Deleted file: Basket_Hedge_unprocessed_20240112_holdings.csv\n",
      "Deleted file: Basket_Hedge_unprocessed_20240112_securities.csv\n",
      "Deleted file: IFT_20240112.rml\n",
      "Deleted file: IFT_20240112_Enriched.xml\n",
      "Deleted file: IFT_20240112_Log.csv\n",
      "Deleted file: IFT_20240112_RawLog_2024011220240115_160925.xml\n",
      "Deleted file: IFT_overlapped_20240112_securities.csv\n",
      "Deleted file: IFT_unprocessed_20240112_holdings.csv\n",
      "Deleted file: IFT_unprocessed_20240112_securities.csv\n",
      "Deleted file: Illiquids_20240112.rml\n",
      "Deleted file: Illiquids_20240112_Enriched.xml\n",
      "Deleted file: Illiquids_20240112_Log.csv\n",
      "Deleted file: Illiquids_20240112_RawLog_2024011220240115_161619.xml\n",
      "Deleted file: Illiquids_overlapped_20240112_securities.csv\n",
      "Deleted file: Illiquids_unprocessed_20240112_holdings.csv\n",
      "Deleted file: Illiquids_unprocessed_20240112_securities.csv\n",
      "Deleted file: Main_20240112.rml\n",
      "Deleted file: Main_20240112_Log.csv\n",
      "Deleted file: Main_20240112_RawLog.csv\n",
      "Deleted file: Main_overlapped_20240112_securities.csv\n",
      "Deleted file: Main_unprocessed_20240112_holdings.csv\n",
      "Deleted file: Main_unprocessed_20240112_securities.csv\n",
      "Deleted file: Positions_20240112_Basket_Hedge.csv\n",
      "Deleted file: Positions_20240112_Fix.csv\n",
      "Deleted file: Positions_20240112_IFT.csv\n",
      "Deleted file: Positions_20240112_Illiquids.csv\n",
      "Deleted file: Positions_20240112_Main.csv\n",
      "Deleted file: PV Report Liquids 20240105.xlsx\n",
      "Deleted file: PV Report Illiquids 20240105.xlsx\n",
      "replaced S:\\IT IRSR Shared\\RedSwan\\RedSwan\\Master_bcIMC\\LIQUID\\Liquid\\2024\\01\\01_12 with S:\\IT IRSR Shared\\RedSwan\\RedSwan\\Master_bcIMC\\LIQUID\\Liquid\\2024\\01\\01_19 in S:\\IT IRSR Shared\\RedSwan\\RedSwan\\Master_bcIMC\\LIQUID\\Liquid\\2024\\01\\01_19\\NewArch_LiquidsDerivatives V1 CSV.environment\n",
      "replaced 20240112 with 20240119 in S:\\IT IRSR Shared\\RedSwan\\RedSwan\\Master_bcIMC\\LIQUID\\Liquid\\2024\\01\\01_19\\NewArch_LiquidsDerivatives V1 CSV.environment\n",
      "replaced Basket_Hedge|Fix|IFT|Illiquids|Main with Basket_Hedge in S:\\IT IRSR Shared\\RedSwan\\RedSwan\\Master_bcIMC\\LIQUID\\Liquid\\2024\\01\\01_19\\NewArch_LiquidsDerivatives V1 CSV.environment\n"
     ]
    }
   ],
   "source": [
    "lib.liquid.create_template_folder(from_date,new_date)"
   ]
  },
  {
   "attachments": {},
   "cell_type": "markdown",
   "metadata": {},
   "source": [
    "## create Portfolio Filter Group File\n",
    "- the code will look for `Portfolio Filter Group` file with the date of `from_date` in the `to_date` working folder. update `to_date` portfolios in the file.\n",
    "- `to_date` portfolio is obtained from sql file `sql\\liquid\\portfolio_filter_group.sql`\n",
    "- save and delete last week's file\n",
    "- make sure `Portfolio Filter Group` file with the date of `from_date` exist in the folder."
   ]
  },
  {
   "cell_type": "code",
   "execution_count": 3,
   "metadata": {},
   "outputs": [
    {
     "name": "stdout",
     "output_type": "stream",
     "text": [
      "Created Portfolio Filter Group file at S:\\IT IRSR Shared\\RedSwan\\RedSwan\\Master_bcIMC\\LIQUID\\Liquid\\2024\\01\\01_19\\Portfolio Filter Group 20240119.xlsx\n",
      "Deleted file: Portfolio Filter Group 20240112.xlsx\n"
     ]
    }
   ],
   "source": [
    "lib.liquid.create_portfolio_filter_group(from_date,new_date)"
   ]
  },
  {
   "attachments": {},
   "cell_type": "markdown",
   "metadata": {},
   "source": [
    "## download weekly liquid data\n",
    "- the code will run sql query to get basket_hedge, IFT, illiquids, main from the database and save it in the `file` folder"
   ]
  },
  {
   "cell_type": "code",
   "execution_count": 4,
   "metadata": {},
   "outputs": [
    {
     "name": "stdout",
     "output_type": "stream",
     "text": [
      "Saved IFT at S:\\IT IRSR Shared\\RedSwan\\RedSwan\\Master_bcIMC\\LIQUID\\Liquid\\2024\\01\\01_19\\Files\\IFT\n",
      "S:\\IT IRSR Shared\\RedSwan\\RedSwan\\Master_bcIMC\\LIQUID\\Liquid\\2024\\01\\01_19\\Files\\Positions_20240112_IFT.xlsx is updated and saved to None\n",
      "Renamed Positions_20240112_IFT.xlsx to Positions_20240119_IFT.xlsx\n",
      "Saved Main at S:\\IT IRSR Shared\\RedSwan\\RedSwan\\Master_bcIMC\\LIQUID\\Liquid\\2024\\01\\01_19\\Files\\Main\n",
      "S:\\IT IRSR Shared\\RedSwan\\RedSwan\\Master_bcIMC\\LIQUID\\Liquid\\2024\\01\\01_19\\Files\\Positions_20240112_Main.xlsx is updated and saved to None\n",
      "Renamed Positions_20240112_Main.xlsx to Positions_20240119_Main.xlsx\n",
      "Saved Illiquids at S:\\IT IRSR Shared\\RedSwan\\RedSwan\\Master_bcIMC\\LIQUID\\Liquid\\2024\\01\\01_19\\Files\\Illiquids\n",
      "S:\\IT IRSR Shared\\RedSwan\\RedSwan\\Master_bcIMC\\LIQUID\\Liquid\\2024\\01\\01_19\\Files\\Positions_20240112_Illiquids.xlsx is updated and saved to None\n",
      "Renamed Positions_20240112_Illiquids.xlsx to Positions_20240119_Illiquids.xlsx\n",
      "Saved Basket_Hedge at S:\\IT IRSR Shared\\RedSwan\\RedSwan\\Master_bcIMC\\LIQUID\\Liquid\\2024\\01\\01_19\\Files\\Basket_Hedge\n",
      "S:\\IT IRSR Shared\\RedSwan\\RedSwan\\Master_bcIMC\\LIQUID\\Liquid\\2024\\01\\01_19\\Files\\Positions_20240112_Basket_Hedge.xlsx is updated and saved to None\n",
      "Renamed Positions_20240112_Basket_Hedge.xlsx to Positions_20240119_Basket_Hedge.xlsx\n"
     ]
    }
   ],
   "source": [
    "lib.liquid.save_weekly_liquid_data(new_date)"
   ]
  },
  {
   "attachments": {},
   "cell_type": "markdown",
   "metadata": {},
   "source": [
    "## update position in env file\n",
    "- the code will update the position in env file `NewArch_LiquidsDerivatives V1 CSV.environment`\n",
    "- input params are the date of the working folder and position we want to change it to.\n",
    "- make sure the position passed in the function is in the list below\n",
    "- [`Basket_Hedge`, `Fix`, `IFT`, `Illiquids`, `Main`]"
   ]
  },
  {
   "cell_type": "code",
   "execution_count": 5,
   "metadata": {},
   "outputs": [
    {
     "name": "stdout",
     "output_type": "stream",
     "text": [
      "replaced Basket_Hedge|Fix|IFT|Illiquids|Main with Main in S:\\IT IRSR Shared\\RedSwan\\RedSwan\\Master_bcIMC\\LIQUID\\Liquid\\2024\\01\\01_19\\NewArch_LiquidsDerivatives V1 CSV.environment\n"
     ]
    }
   ],
   "source": [
    "lib.liquid.update_env_file_position(new_date, \"Main\")"
   ]
  },
  {
   "attachments": {},
   "cell_type": "markdown",
   "metadata": {},
   "source": [
    "## create fix file\n",
    "- the code will read main data redswan log file from `result` folder and filter out bond records that is modeled to proxy.\n",
    "- update the model rule effective column\n",
    "- and save to `file` folder"
   ]
  },
  {
   "cell_type": "code",
   "execution_count": 13,
   "metadata": {},
   "outputs": [
    {
     "name": "stdout",
     "output_type": "stream",
     "text": [
      "S:\\IT IRSR Shared\\RedSwan\\RedSwan\\Master_bcIMC\\LIQUID\\Liquid\\2024\\01\\01_12\\Files\\Positions_20240105_Fix.xlsx is updated and saved to None\n",
      "Renamed Positions_20240105_Fix.xlsx to Positions_20240112_Fix.xlsx\n",
      "Saved Positions_20240112_Fix.csv at S:\\IT IRSR Shared\\RedSwan\\RedSwan\\Master_bcIMC\\LIQUID\\Liquid\\2024\\01\\01_12\\Files\n"
     ]
    }
   ],
   "source": [
    "lib.liquid.create_fix_file(new_date)"
   ]
  },
  {
   "cell_type": "markdown",
   "metadata": {},
   "source": [
    "## Compile log file\n",
    "- the code will read all files containing `_Log.csv` in the `Results` folder, and compile them into `Results/log.csv`\n",
    "- update the compiled log data into `Log_Check.xlsx`"
   ]
  },
  {
   "cell_type": "code",
   "execution_count": 7,
   "metadata": {},
   "outputs": [],
   "source": [
    "lib.liquid.compile_log(new_date)"
   ]
  },
  {
   "attachments": {},
   "cell_type": "markdown",
   "metadata": {},
   "source": [
    "## Update PV Validation File\n",
    "- the code will read look for `PV Report Liquids.xlsx` in the folder, change the name and read the data in the file.\n",
    "- look for file name contains `LiquidsDerivatives PV Validation` in the folder and delete old weeks data and update with new data."
   ]
  },
  {
   "cell_type": "code",
   "execution_count": 2,
   "metadata": {},
   "outputs": [
    {
     "name": "stdout",
     "output_type": "stream",
     "text": [
      "Renamed PV Report Liquids.xlsx to PV Report Liquids 20240112.xlsx\n",
      "S:\\IT IRSR Shared\\RedSwan\\RedSwan\\Master_bcIMC\\LIQUID\\Liquid\\2024\\01\\01_12\\LiquidsDerivatives PV Validation 20240105.xlsx is updated and saved to None\n",
      "Renamed LiquidsDerivatives PV Validation 20240105.xlsx to LiquidsDerivatives PV Validation 20240112.xlsx\n"
     ]
    }
   ],
   "source": [
    "lib.liquid.create_pv_validation(new_date)"
   ]
  },
  {
   "attachments": {},
   "cell_type": "markdown",
   "metadata": {},
   "source": [
    "# Collteral\n",
    "- all code related to operation in collateral folder goes here\n",
    "- S:\\IT IRSR Shared\\RedSwan\\RedSwan\\Master_bcIMC\\LIQUID\\Collateral"
   ]
  },
  {
   "attachments": {},
   "cell_type": "markdown",
   "metadata": {},
   "source": [
    "## create template folder"
   ]
  },
  {
   "cell_type": "code",
   "execution_count": 9,
   "metadata": {},
   "outputs": [
    {
     "name": "stdout",
     "output_type": "stream",
     "text": [
      "Copied folder from S:\\IT IRSR Shared\\RedSwan\\RedSwan\\Master_bcIMC\\LIQUID\\Collateral\\2024\\01\\01_05 to S:\\IT IRSR Shared\\RedSwan\\RedSwan\\Master_bcIMC\\LIQUID\\Collateral\\2024\\01\\01_12\n",
      "Copied to folder at S:\\IT IRSR Shared\\RedSwan\\RedSwan\\Master_bcIMC\\LIQUID\\Collateral\\2024\\01\\01_12\n",
      "Deleted file: Collateral.docx\n",
      "Deleted file: Collateral.xml\n",
      "Deleted file: Collateral_20240105.rml\n",
      "Deleted file: Collateral_20240105_Enriched.xml\n",
      "Deleted file: Collateral_20240105_Log.csv\n",
      "Deleted file: Collateral_20240105_RawLog.csv\n",
      "Deleted file: Collateral_unprocessed_holdings.csv\n",
      "Deleted file: Collateral_unprocessed_securities.csv\n",
      "Deleted file: report.txt\n",
      "Deleted file: OTC_Collateral_20240105.csv\n",
      "replaced S:\\IT IRSR Shared\\RedSwan\\RedSwan\\Master_bcIMC\\LIQUID\\Collateral\\2024\\01\\01_05 with S:\\IT IRSR Shared\\RedSwan\\RedSwan\\Master_bcIMC\\LIQUID\\Collateral\\2024\\01\\01_12 in S:\\IT IRSR Shared\\RedSwan\\RedSwan\\Master_bcIMC\\LIQUID\\Collateral\\2024\\01\\01_12\\Loading\\OTC_Collateral.environment\n",
      "replaced 20240105 with 20240112 in S:\\IT IRSR Shared\\RedSwan\\RedSwan\\Master_bcIMC\\LIQUID\\Collateral\\2024\\01\\01_12\\Loading\\OTC_Collateral.environment\n"
     ]
    }
   ],
   "source": [
    "lib .collateral.create_template_folder(from_date,new_date)"
   ]
  },
  {
   "attachments": {},
   "cell_type": "markdown",
   "metadata": {},
   "source": [
    "## Convert to CSV\n",
    "- the code will look for `OTC_Collateral_date.xlsx` in the folder and convert it to csv file and save it in the same folder"
   ]
  },
  {
   "cell_type": "code",
   "execution_count": 23,
   "metadata": {},
   "outputs": [
    {
     "name": "stdout",
     "output_type": "stream",
     "text": [
      "Converted S:\\IT IRSR Shared\\RedSwan\\RedSwan\\Master_bcIMC\\LIQUID\\Collateral\\2023\\07\\07_07\\OTC_Collateral_20230707.xlsx to csv\n"
     ]
    }
   ],
   "source": [
    "lib.collateral.convert_to_csv(new_date)"
   ]
  },
  {
   "attachments": {},
   "cell_type": "markdown",
   "metadata": {},
   "source": [
    "# Repo\n",
    "- all code related to operation in repo folder goes here\n",
    "- S:\\IT IRSR Shared\\RedSwan\\RedSwan\\Master_bcIMC\\LIQUID\\Repo"
   ]
  },
  {
   "attachments": {},
   "cell_type": "markdown",
   "metadata": {},
   "source": [
    "## create template folder"
   ]
  },
  {
   "cell_type": "code",
   "execution_count": 10,
   "metadata": {},
   "outputs": [
    {
     "name": "stdout",
     "output_type": "stream",
     "text": [
      "Copied folder from S:\\IT IRSR Shared\\RedSwan\\RedSwan\\Master_bcIMC\\LIQUID\\Repo\\2024\\01\\01_05 to S:\\IT IRSR Shared\\RedSwan\\RedSwan\\Master_bcIMC\\LIQUID\\Repo\\2024\\01\\01_12\n",
      "Copied to folder at S:\\IT IRSR Shared\\RedSwan\\RedSwan\\Master_bcIMC\\LIQUID\\Repo\\2024\\01\\01_12\n",
      "Deleted file: Repo.docx\n",
      "Deleted file: Repo.rml\n",
      "Deleted file: Repo.xml\n",
      "Deleted file: Repo_Enriched.xml\n",
      "Deleted file: Repo_Log.csv\n",
      "Deleted file: Repo_RawLog.csv\n",
      "Deleted file: unprocessed_holdings.csv\n",
      "Deleted file: unprocessed_securities.csv\n",
      "Deleted file: REPO FINAL.csv\n",
      "replaced S:\\IT IRSR Shared\\RedSwan\\RedSwan\\Master_bcIMC\\LIQUID\\Repo\\2024\\01\\01_05 with S:\\IT IRSR Shared\\RedSwan\\RedSwan\\Master_bcIMC\\LIQUID\\Repo\\2024\\01\\01_12 in S:\\IT IRSR Shared\\RedSwan\\RedSwan\\Master_bcIMC\\LIQUID\\Repo\\2024\\01\\01_12\\Loading\\Repo_Col_V2.environment\n"
     ]
    }
   ],
   "source": [
    "lib.repo.create_template_folder(from_date,new_date)"
   ]
  },
  {
   "attachments": {},
   "cell_type": "markdown",
   "metadata": {},
   "source": [
    "## Update Excel File\n",
    "- the code will read look for `REPO FINAL.xlsx` in the folder, delete old weeks data and update sql data in the file.\n",
    "- the second function will convert the excel to csv."
   ]
  },
  {
   "cell_type": "code",
   "execution_count": 11,
   "metadata": {},
   "outputs": [
    {
     "name": "stdout",
     "output_type": "stream",
     "text": [
      "S:\\IT IRSR Shared\\RedSwan\\RedSwan\\Master_bcIMC\\LIQUID\\Repo\\2024\\01\\01_12\\REPO FINAL.xlsx is updated and saved to None\n",
      "Converted S:\\IT IRSR Shared\\RedSwan\\RedSwan\\Master_bcIMC\\LIQUID\\Repo\\2024\\01\\01_12\\REPO FINAL.xlsx to csv\n"
     ]
    }
   ],
   "source": [
    "lib.repo.update_excel_file(new_date)\n",
    "lib.repo.convert_to_csv(new_date)"
   ]
  },
  {
   "attachments": {},
   "cell_type": "markdown",
   "metadata": {},
   "source": [
    "# Lookthrough for Cube\n",
    "- all code related to operation in Lookthrough for Cube folder goes here\n",
    "- S:\\IT IRSR Shared\\RedSwan\\RedSwan\\Master_bcIMC\\TREE\\Lookthrough for Cube"
   ]
  },
  {
   "attachments": {},
   "cell_type": "markdown",
   "metadata": {},
   "source": [
    "## create template folder"
   ]
  },
  {
   "cell_type": "code",
   "execution_count": 12,
   "metadata": {},
   "outputs": [
    {
     "name": "stdout",
     "output_type": "stream",
     "text": [
      "Copied folder from S:\\IT IRSR Shared\\RedSwan\\RedSwan\\Master_bcIMC\\TREE\\Lookthrough for Cube\\2024\\20240105 to S:\\IT IRSR Shared\\RedSwan\\RedSwan\\Master_bcIMC\\TREE\\Lookthrough for Cube\\2024\\20240112\n",
      "Copied to folder at S:\\IT IRSR Shared\\RedSwan\\RedSwan\\Master_bcIMC\\TREE\\Lookthrough for Cube\\2024\\20240112\n",
      "Deleted file: Lookthrough_Cube.docx\n",
      "Deleted file: Lookthrough_Cube.rml\n",
      "Deleted file: Lookthrough_Cube.xml\n",
      "Deleted file: Lookthrough_Cube_Log.csv\n",
      "Deleted file: Lookthrough_Cube_overlapped_securities.csv\n",
      "Deleted file: Lookthrough_Cube_RawLog.csv\n",
      "Deleted file: Lookthrough_Cube_unprocessed_holdings.csv\n",
      "Deleted file: Lookthrough_Cube_unprocessed_securities.csv\n",
      "Deleted file: report.txt\n",
      "Deleted file: Lookthrough - Cube -  20240105.csv\n",
      "Deleted file: LookthroughMapping_20240105.csv\n",
      "replaced S:\\IT IRSR Shared\\RedSwan\\RedSwan\\Master_bcIMC\\TREE\\Lookthrough for Cube\\2024\\20240105 with S:\\IT IRSR Shared\\RedSwan\\RedSwan\\Master_bcIMC\\TREE\\Lookthrough for Cube\\2024\\20240112 in S:\\IT IRSR Shared\\RedSwan\\RedSwan\\Master_bcIMC\\TREE\\Lookthrough for Cube\\2024\\20240112\\Loading\\Lookthrough Index Cube.environment\n",
      "replaced 20240105 with 20240112 in S:\\IT IRSR Shared\\RedSwan\\RedSwan\\Master_bcIMC\\TREE\\Lookthrough for Cube\\2024\\20240112\\Loading\\Lookthrough Index Cube.environment\n"
     ]
    }
   ],
   "source": [
    "lib.cube_lookthru.create_template_folder(from_date,new_date)"
   ]
  },
  {
   "attachments": {},
   "cell_type": "markdown",
   "metadata": {},
   "source": [
    "## create `Lookthrough - Cube` file\n",
    "- the code will look for `Lookthrough - Cube` file with the date of `from_date` in the `to_date` working folder. \n",
    "- update the date in `MSCI_RM_INDEX_ID` column and `PRICED_SECURITY_NAME` column for ecompass data\n",
    "- append new week data from sql file in `sql\\Lookthrough\\lookthrough.sql`\n",
    "- **make sure to double check ecompass data matches with risk manager. the checking is not done by the code**.\n",
    "- after manually checking the ecompass data, run the second block of code to turn the excel to csv."
   ]
  },
  {
   "cell_type": "code",
   "execution_count": 13,
   "metadata": {},
   "outputs": [
    {
     "name": "stdout",
     "output_type": "stream",
     "text": [
      "Lookthrough Cube created at S:\\IT IRSR Shared\\RedSwan\\RedSwan\\Master_bcIMC\\TREE\\Lookthrough for Cube\\2024\\20240112\\Lookthrough - Cube -  20240112.xlsx\n",
      "Deleted file: Lookthrough - Cube -  20240105.xlsx\n"
     ]
    }
   ],
   "source": [
    "lib.cube_lookthru.create_lookthru_cube(from_date,new_date)"
   ]
  },
  {
   "cell_type": "code",
   "execution_count": 19,
   "metadata": {},
   "outputs": [
    {
     "name": "stdout",
     "output_type": "stream",
     "text": [
      "Converted S:\\IT IRSR Shared\\RedSwan\\RedSwan\\Master_bcIMC\\TREE\\Lookthrough for Cube\\2024\\20240112\\Lookthrough - Cube -  20240112.xlsx to csv\n"
     ]
    }
   ],
   "source": [
    "lib.cube_lookthru.turn_lookthru_cube_to_csv(new_date)"
   ]
  },
  {
   "attachments": {},
   "cell_type": "markdown",
   "metadata": {},
   "source": [
    "## create `LookthroughMapping` file\n",
    "- the code will look for `Lookthrough - Cube` file with the date of `from_date` in the `to_date` working folder. \n",
    "- get rid of records besides ecompass\n",
    "- append new week data from sql file in `sql\\lookthrough\\indexCSV.sql`\n",
    "- **make sure to double check ecompass data matches with risk manager. the checking is not done by the code**.\n",
    "- after checking the ecompass data, run the second block of code to turn the excel to csv."
   ]
  },
  {
   "cell_type": "code",
   "execution_count": 14,
   "metadata": {},
   "outputs": [
    {
     "name": "stdout",
     "output_type": "stream",
     "text": [
      "LookthroughMapping created at S:\\IT IRSR Shared\\RedSwan\\RedSwan\\Master_bcIMC\\TREE\\Lookthrough for Cube\\2024\\20240112\\LookthroughMapping_20240112.xlsx\n",
      "Deleted file: LookthroughMapping_20240105.xlsx\n"
     ]
    }
   ],
   "source": [
    "lib.cube_lookthru.create_LookthroughMapping(from_date,new_date)"
   ]
  },
  {
   "cell_type": "code",
   "execution_count": 20,
   "metadata": {},
   "outputs": [
    {
     "name": "stdout",
     "output_type": "stream",
     "text": [
      "Converted S:\\IT IRSR Shared\\RedSwan\\RedSwan\\Master_bcIMC\\TREE\\Lookthrough for Cube\\2024\\20240112\\LookthroughMapping_20240112.xlsx to csv\n"
     ]
    }
   ],
   "source": [
    "lib.cube_lookthru.turn_LookthruMapping_to_csv(new_date)"
   ]
  },
  {
   "attachments": {},
   "cell_type": "markdown",
   "metadata": {},
   "source": [
    "# Total Fund Tree\n",
    "- all code related to operation in Total Fund Tree folder goes here\n",
    "- S:\\IT IRSR Shared\\RedSwan\\RedSwan\\Master_bcIMC\\TREE\\Total Fund Tree"
   ]
  },
  {
   "attachments": {},
   "cell_type": "markdown",
   "metadata": {},
   "source": [
    "## create template folder"
   ]
  },
  {
   "cell_type": "code",
   "execution_count": 15,
   "metadata": {},
   "outputs": [
    {
     "name": "stdout",
     "output_type": "stream",
     "text": [
      "Copied folder from S:\\IT IRSR Shared\\RedSwan\\RedSwan\\Master_bcIMC\\TREE\\Total Fund Tree\\2024\\01\\20240105 to S:\\IT IRSR Shared\\RedSwan\\RedSwan\\Master_bcIMC\\TREE\\Total Fund Tree\\2024\\01\\20240112\n",
      "Copied to folder at S:\\IT IRSR Shared\\RedSwan\\RedSwan\\Master_bcIMC\\TREE\\Total Fund Tree\\2024\\01\\20240112\n",
      "Deleted file: overlapped_holdings.csv\n",
      "Deleted file: TotalFundHierarchy.docx\n",
      "Deleted file: TotalFundHierarchy.xml\n",
      "Deleted file: TotalFundHierarchy_20240105.rml\n",
      "Deleted file: TotalFundHierarchy_20240105_Log.csv\n",
      "Deleted file: TotalFundHierarchy_20240105_RawLog.csv\n",
      "Deleted file: unprocessed_holdings.csv\n",
      "Deleted file: unprocessed_securities.csv\n",
      "Deleted file: Total_Fund_Tree _20240105.csv\n",
      "Deleted file: PV Report E0043 Ext Man 20240105.xlsx\n",
      "Deleted file: PV Report GPF Ext Man 20240105.xlsx\n",
      "Deleted file: Total Fund PV Report 20231229.xlsx\n",
      "replaced S:\\IT IRSR Shared\\RedSwan\\RedSwan\\Master_bcIMC\\TREE\\Total Fund Tree\\2024\\01\\20240105 with S:\\IT IRSR Shared\\RedSwan\\RedSwan\\Master_bcIMC\\TREE\\Total Fund Tree\\2024\\01\\20240112 in S:\\IT IRSR Shared\\RedSwan\\RedSwan\\Master_bcIMC\\TREE\\Total Fund Tree\\2024\\01\\20240112\\Loading\\TotalFundHierarchy Prod Load.environment\n",
      "replaced 20240105 with 20240112 in S:\\IT IRSR Shared\\RedSwan\\RedSwan\\Master_bcIMC\\TREE\\Total Fund Tree\\2024\\01\\20240112\\Loading\\TotalFundHierarchy Prod Load.environment\n"
     ]
    }
   ],
   "source": [
    "lib.total_fund_tree.create_template_folder(from_date,new_date)"
   ]
  },
  {
   "attachments": {},
   "cell_type": "markdown",
   "metadata": {},
   "source": [
    "## Update Scale Calculation\n",
    "- after running the report in risk manager, save `PV Report Liquids External Manager` files in `Scale Calculation` folder\n",
    "- `create_extMan_PV_reports` will look for file contains `PV Report Liquids External Manager` in the `Scale Calculation` folder under `to_date` working folder.\n",
    "- add filter to the report and save in `Scale Calculation` folder with the `to_date` date.\n",
    "- `update_update_mtg_scale_calc` and `update_GPF_scale_calc` will look for respective PV report files in the `Scale Calculation` folder with `to_date` date.\n",
    "- update the scale calculation files with `from_date` date and save with `to_date` date name."
   ]
  },
  {
   "cell_type": "code",
   "execution_count": 4,
   "metadata": {},
   "outputs": [
    {
     "name": "stdout",
     "output_type": "stream",
     "text": [
      "Deleted file: PV Report Liquids External Manager (1).xlsx\n",
      "Updated PV Report GPF Ext Man 20240112.xlsx in S:\\IT IRSR Shared\\RedSwan\\RedSwan\\Master_bcIMC\\TREE\\Total Fund Tree\\2024\\01\\20240112\\Scale Calculation\n",
      "Deleted file: PV Report Liquids External Manager.xlsx\n",
      "Updated PV Report E0043 Ext Man 20240112.xlsx in S:\\IT IRSR Shared\\RedSwan\\RedSwan\\Master_bcIMC\\TREE\\Total Fund Tree\\2024\\01\\20240112\\Scale Calculation\n",
      "Deleted file: Scale calculation E0043 20240105.xlsx\n",
      "Updated S:\\IT IRSR Shared\\RedSwan\\RedSwan\\Master_bcIMC\\TREE\\Total Fund Tree\\2024\\01\\20240112\\Scale Calculation\\Scale calculation E0043 20240112.xlsx\n",
      "Deleted file: Scale calculation GPF 20240105.xlsx\n",
      "Updated S:\\IT IRSR Shared\\RedSwan\\RedSwan\\Master_bcIMC\\TREE\\Total Fund Tree\\2024\\01\\20240112\\Scale Calculation\\Scale calculation GPF 20240112.xlsx\n"
     ]
    }
   ],
   "source": [
    "lib.total_fund_tree.create_extMan_PV_reports(new_date)\n",
    "lib.total_fund_tree.update_mtg_scale_calc(from_date,new_date)\n",
    "lib.total_fund_tree.update_GPF_scale_calc(from_date,new_date)"
   ]
  },
  {
   "attachments": {},
   "cell_type": "markdown",
   "metadata": {},
   "source": [
    "## Update Total Fund Tree\n",
    "- manually adjust portfolios in `Total_Fund_Tree` file and save with `to_date` date name.\n",
    "- `update_total_fund_tree` function will look for `Total_Fund_Tree` with `to_date` date name.\n",
    "- read scale data from the updated scale files and update the numbers in `Total_Fund_Tree` file\n",
    "- save updated file and also create a csv file"
   ]
  },
  {
   "cell_type": "code",
   "execution_count": 5,
   "metadata": {},
   "outputs": [
    {
     "name": "stdout",
     "output_type": "stream",
     "text": [
      "Updated S:\\IT IRSR Shared\\RedSwan\\RedSwan\\Master_bcIMC\\TREE\\Total Fund Tree\\2024\\01\\20240112\\Total_Fund_Tree _20240112.xlsx\n"
     ]
    }
   ],
   "source": [
    "lib.total_fund_tree.update_total_fund_tree(new_date)"
   ]
  },
  {
   "attachments": {},
   "cell_type": "markdown",
   "metadata": {},
   "source": [
    "## Update Total Fund PV Report\n",
    "- download `PV Report Total Fund` from risk manager and save in `to_date` folder.\n",
    "- `update_total_fund_pv_report` function will look for `PV Report Total Fund.xlsx` file.\n",
    "- copy paste `View 1 assetClass by subAsset` sheet. set group level in `View 1 assetClass by subAsset` to level 2, and copied sheet to level 4.\n",
    "- hide rows from 1 to 19 excepte for row 11, which contains as of date.\n",
    "- save file with `to_date` name and delete original `PV Report Total Fund.xlsx` file."
   ]
  },
  {
   "cell_type": "code",
   "execution_count": 6,
   "metadata": {},
   "outputs": [
    {
     "name": "stdout",
     "output_type": "stream",
     "text": [
      "Updated S:\\IT IRSR Shared\\RedSwan\\RedSwan\\Master_bcIMC\\TREE\\Total Fund Tree\\2024\\01\\20240112\\Total Fund PV Report 20240112.xlsx\n",
      "Deleted file: Total Fund PV Report.xlsx\n"
     ]
    }
   ],
   "source": [
    "lib.total_fund_tree.update_total_fund_pv_report(new_date)"
   ]
  },
  {
   "attachments": {},
   "cell_type": "markdown",
   "metadata": {},
   "source": [
    "## GPF Managers Weekly & Monthly MV\n",
    "- `update_GPF_Managers_MV` function will run the sql query to get the GPF based on `to_date` date.\n",
    "- paste the data into the `Formuila` sheet in `GPF Managers Weekly & Monthly MV.xlsx` file.\n",
    "- copy and paste the formated table (`A1:D46`) in `Formula` sheet and paste to new sheet with `to_date` date as name.\n",
    "- and save the file."
   ]
  },
  {
   "cell_type": "code",
   "execution_count": 17,
   "metadata": {},
   "outputs": [
    {
     "name": "stdout",
     "output_type": "stream",
     "text": [
      "S:\\IT IRSR Shared\\RedSwan\\RedSwan\\Master_bcIMC\\TREE\\Total Fund Tree\\2024\\01\\20240112\\Queries\\GPF Managers Weekly & Monthly MV.xlsx is updated and saved to None\n"
     ]
    }
   ],
   "source": [
    "lib.total_fund_tree.update_GPF_Managers_MV(new_date)"
   ]
  },
  {
   "attachments": {},
   "cell_type": "markdown",
   "metadata": {},
   "source": [
    "# Total Fund BMK Tree\n",
    "- all code related to operation in Total Fund BMK Tree folder goes here\n",
    "- S:\\IT IRSR Shared\\RedSwan\\RedSwan\\Master_bcIMC\\TREE\\Total Fund BMK Tree"
   ]
  },
  {
   "attachments": {},
   "cell_type": "markdown",
   "metadata": {},
   "source": [
    "## create template folder"
   ]
  },
  {
   "cell_type": "code",
   "execution_count": 2,
   "metadata": {},
   "outputs": [
    {
     "name": "stdout",
     "output_type": "stream",
     "text": [
      "Copied folder from S:\\IT IRSR Shared\\RedSwan\\RedSwan\\Master_bcIMC\\TREE\\Total Fund BMK Tree\\2024\\01\\20240112 to S:\\IT IRSR Shared\\RedSwan\\RedSwan\\Master_bcIMC\\TREE\\Total Fund BMK Tree\\2024\\01\\20240119\n",
      "Copied to folder at S:\\IT IRSR Shared\\RedSwan\\RedSwan\\Master_bcIMC\\TREE\\Total Fund BMK Tree\\2024\\01\\20240119\n",
      "Deleted file: BMK Roll Down 20240112.rml\n",
      "Deleted file: BMK Roll Down 20240112_Log.csv\n",
      "Deleted file: BMK Roll Down 20240112_RawLog.csv\n",
      "Deleted file: BMK Roll Down.docx\n",
      "Deleted file: BMK Roll Down.xml\n",
      "Deleted file: BMK Roll Up 20240112.rml\n",
      "Deleted file: BMK Roll Up 20240112_Log.csv\n",
      "Deleted file: BMK Roll Up 20240112_RawLog.csv\n",
      "Deleted file: BMK Roll Up.docx\n",
      "Deleted file: BMK Roll Up.xml\n",
      "Deleted file: overlapped_RD_holdings.csv\n",
      "Deleted file: overlapped_RU_holdings.csv\n",
      "Deleted file: unprocessed_RD_holdings.csv\n",
      "Deleted file: unprocessed_RD_securities.csv\n",
      "Deleted file: unprocessed_RU_holdings.csv\n",
      "Deleted file: unprocessed_RU_securities.csv\n",
      "Deleted file: Total_Fund_BMK_Tree_20240112 - RD.csv\n",
      "Deleted file: Total_Fund_BMK_Tree_20240112 - RU.csv\n",
      "replaced S:\\IT IRSR Shared\\RedSwan\\RedSwan\\Master_bcIMC\\TREE\\Total Fund BMK Tree\\2024\\01\\20240112 with S:\\IT IRSR Shared\\RedSwan\\RedSwan\\Master_bcIMC\\TREE\\Total Fund BMK Tree\\2024\\01\\20240119 in S:\\IT IRSR Shared\\RedSwan\\RedSwan\\Master_bcIMC\\TREE\\Total Fund BMK Tree\\2024\\01\\20240119\\Loading\\TFT BMK RD.environment\n",
      "replaced 20240112 with 20240119 in S:\\IT IRSR Shared\\RedSwan\\RedSwan\\Master_bcIMC\\TREE\\Total Fund BMK Tree\\2024\\01\\20240119\\Loading\\TFT BMK RD.environment\n",
      "replaced S:\\IT IRSR Shared\\RedSwan\\RedSwan\\Master_bcIMC\\TREE\\Total Fund BMK Tree\\2024\\01\\20240112 with S:\\IT IRSR Shared\\RedSwan\\RedSwan\\Master_bcIMC\\TREE\\Total Fund BMK Tree\\2024\\01\\20240119 in S:\\IT IRSR Shared\\RedSwan\\RedSwan\\Master_bcIMC\\TREE\\Total Fund BMK Tree\\2024\\01\\20240119\\Loading\\TFT BMK RD_backup_1_3_2024_7_35 PM.environment\n",
      "replaced 20240112 with 20240119 in S:\\IT IRSR Shared\\RedSwan\\RedSwan\\Master_bcIMC\\TREE\\Total Fund BMK Tree\\2024\\01\\20240119\\Loading\\TFT BMK RD_backup_1_3_2024_7_35 PM.environment\n",
      "replaced S:\\IT IRSR Shared\\RedSwan\\RedSwan\\Master_bcIMC\\TREE\\Total Fund BMK Tree\\2024\\01\\20240112 with S:\\IT IRSR Shared\\RedSwan\\RedSwan\\Master_bcIMC\\TREE\\Total Fund BMK Tree\\2024\\01\\20240119 in S:\\IT IRSR Shared\\RedSwan\\RedSwan\\Master_bcIMC\\TREE\\Total Fund BMK Tree\\2024\\01\\20240119\\Loading\\TFT BMK RU.environment\n",
      "replaced 20240112 with 20240119 in S:\\IT IRSR Shared\\RedSwan\\RedSwan\\Master_bcIMC\\TREE\\Total Fund BMK Tree\\2024\\01\\20240119\\Loading\\TFT BMK RU.environment\n",
      "replaced S:\\IT IRSR Shared\\RedSwan\\RedSwan\\Master_bcIMC\\TREE\\Total Fund BMK Tree\\2024\\01\\20240112 with S:\\IT IRSR Shared\\RedSwan\\RedSwan\\Master_bcIMC\\TREE\\Total Fund BMK Tree\\2024\\01\\20240119 in S:\\IT IRSR Shared\\RedSwan\\RedSwan\\Master_bcIMC\\TREE\\Total Fund BMK Tree\\2024\\01\\20240119\\Loading\\TFT BMK RU_backup_1_3_2024_7_34 PM.environment\n",
      "replaced 20240112 with 20240119 in S:\\IT IRSR Shared\\RedSwan\\RedSwan\\Master_bcIMC\\TREE\\Total Fund BMK Tree\\2024\\01\\20240119\\Loading\\TFT BMK RU_backup_1_3_2024_7_34 PM.environment\n"
     ]
    }
   ],
   "source": [
    "lib.total_fund_bmk_tree.create_template_folder(from_date,new_date)"
   ]
  },
  {
   "attachments": {},
   "cell_type": "markdown",
   "metadata": {},
   "source": [
    "## Update Total Fund BMK Tree\n",
    "- manually adjust portfolios in `Total_Fund_BMK_Tree` files and save with `to_date` date in the name.\n",
    "- `update_total_fund_bmk_tree` function will look for `Total_Fund_BMK_Tree` with `to_date` name.\n",
    "- the code will grab scale data from the updated scale files in and also the updated PV report in `Total Fund Tree` folder \n",
    "- update the scale data and market value in `Total_Fund_BMK_Tree` file\n",
    "- save the file and also convert it to csv file"
   ]
  },
  {
   "cell_type": "code",
   "execution_count": 7,
   "metadata": {},
   "outputs": [
    {
     "name": "stdout",
     "output_type": "stream",
     "text": [
      "Updated S:\\IT IRSR Shared\\RedSwan\\RedSwan\\Master_bcIMC\\TREE\\Total Fund BMK Tree\\2024\\01\\20240112\\Total_Fund_BMK_Tree_20240112 - RD.xlsx and saved csv\n",
      "Total Fund BMK Tree total MV is 220123901155.5978 and PV report total is 220123901155.59778\n",
      "Updated S:\\IT IRSR Shared\\RedSwan\\RedSwan\\Master_bcIMC\\TREE\\Total Fund BMK Tree\\2024\\01\\20240112\\Total_Fund_BMK_Tree_20240112 - RU.xlsx and saved csv\n",
      "Total Fund BMK Tree total MV is 220123901155.5978 and PV report total is 220123901155.59778\n"
     ]
    }
   ],
   "source": [
    "lib.total_fund_bmk_tree.update_total_fund_bmk_tree(new_date)"
   ]
  },
  {
   "attachments": {},
   "cell_type": "markdown",
   "metadata": {},
   "source": [
    "# Cube Files\n",
    "- all code related to operation in `CubeFiles` goes here\n",
    "- S\\\\bcimcs8\\sharedir\\IT IRSR Shared\\RedSwan\\RedSwan\\Master_bcIMC\\CubeFiles"
   ]
  },
  {
   "attachments": {},
   "cell_type": "markdown",
   "metadata": {},
   "source": [
    "## Create template folder\n",
    " - the code will create a new folder with the date of `to_date` in the `CubeFiles` folder\n",
    " - copy paste all the files\n",
    " - update `ProcessStats` file with the date of `to_date` and `RiskVersionName`\n"
   ]
  },
  {
   "cell_type": "code",
   "execution_count": 2,
   "metadata": {},
   "outputs": [
    {
     "name": "stdout",
     "output_type": "stream",
     "text": [
      "Created folder S:\\IT IRSR Shared\\RedSwan\\RedSwan\\Master_bcIMC\\CubeFiles\\Monthly\\20231231\n",
      "Copied file S:\\IT IRSR Shared\\RedSwan\\RedSwan\\Master_bcIMC\\TREE\\Lookthrough for Cube\\2023\\20231231\\LookthroughMapping_20231231.csv to S:\\IT IRSR Shared\\RedSwan\\RedSwan\\Master_bcIMC\\CubeFiles\\Monthly\\20231231\n",
      "Copied file S:\\IT IRSR Shared\\RedSwan\\RedSwan\\Master_bcIMC\\TREE\\Total Fund BMK Tree\\2023\\12\\20231231\\Total_Fund_BMK_Tree_20231231 - RD.csv to S:\\IT IRSR Shared\\RedSwan\\RedSwan\\Master_bcIMC\\CubeFiles\\Monthly\\20231231\n",
      "Copied file S:\\IT IRSR Shared\\RedSwan\\RedSwan\\Master_bcIMC\\TREE\\Total Fund BMK Tree\\2023\\12\\20231231\\Total_Fund_BMK_Tree_20231231 - RU.csv to S:\\IT IRSR Shared\\RedSwan\\RedSwan\\Master_bcIMC\\CubeFiles\\Monthly\\20231231\n",
      "Copied file S:\\IT IRSR Shared\\RedSwan\\RedSwan\\Master_bcIMC\\TREE\\Total Fund Tree\\2023\\12\\20231231\\Total_Fund_Tree _20231231.csv to S:\\IT IRSR Shared\\RedSwan\\RedSwan\\Master_bcIMC\\CubeFiles\\Monthly\\20231231\n",
      "replaced S&P/LSTA U.S. Leveraged Loan 100 - CAD Hedged with SP.MC.UNX000000151901432@rmgBenchmarks in S:\\IT IRSR Shared\\RedSwan\\RedSwan\\Master_bcIMC\\CubeFiles\\Monthly\\20231231\\Total_Fund_BMK_Tree_20231231 - RD.csv\n",
      "replaced S&P/LSTA U.S. Leveraged Loan 100 - CAD Hedged with SP.MC.UNX000000151901432@rmgBenchmarks in S:\\IT IRSR Shared\\RedSwan\\RedSwan\\Master_bcIMC\\CubeFiles\\Monthly\\20231231\\Total_Fund_BMK_Tree_20231231 - RU.csv\n",
      "updated benchmark replacement.\n",
      "replaced \\d{8} with 20231231 in S:\\IT IRSR Shared\\RedSwan\\RedSwan\\Master_bcIMC\\CubeFiles\\ProcessStats.csv\n",
      "replaced Weekly|Monthly with Monthly in S:\\IT IRSR Shared\\RedSwan\\RedSwan\\Master_bcIMC\\CubeFiles\\ProcessStats.csv\n"
     ]
    }
   ],
   "source": [
    "weekly = False # True for weekly, False for monthly\n",
    "lib.cubefiles.create_template_folder(new_date, weekly)"
   ]
  }
 ],
 "metadata": {
  "kernelspec": {
   "display_name": ".venv",
   "language": "python",
   "name": "python3"
  },
  "language_info": {
   "codemirror_mode": {
    "name": "ipython",
    "version": 3
   },
   "file_extension": ".py",
   "mimetype": "text/x-python",
   "name": "python",
   "nbconvert_exporter": "python",
   "pygments_lexer": "ipython3",
   "version": "3.8.10"
  },
  "orig_nbformat": 4,
  "vscode": {
   "interpreter": {
    "hash": "9e7f6956f5c44f9c75c79f64994a5e12080cbb9bbefa27819bd5c85a7c8b6ec8"
   }
  }
 },
 "nbformat": 4,
 "nbformat_minor": 2
}
