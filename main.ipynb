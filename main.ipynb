{
 "cells": [
  {
   "cell_type": "markdown",
   "metadata": {},
   "source": [
    "# Weekly Load Automation\n",
    "- This file will be the main interface to run python code which will operate on the respective folder used in weekly load. \n",
    "- The main function code sits in lib folder which is a python package. The package is structured in a way that each module within works on specific working folder for weekly load.\n",
    "- The config module in lib package has a variable \"IS_DEV\" which is used as a flag to determine if the code is running in dev environment or not and gets fed into all modules. please make sure it's turned to \"False\" before running in production."
   ]
  },
  {
   "cell_type": "code",
   "execution_count": 2,
   "metadata": {},
   "outputs": [
    {
     "data": {
      "text/plain": [
       "WindowsPath('S:/IT IRSR Shared/RedSwan/RedSwan/Master_bcIMC/LIQUID/Liquid')"
      ]
     },
     "execution_count": 2,
     "metadata": {},
     "output_type": "execute_result"
    }
   ],
   "source": [
    "import lib\n",
    "from datetime import date, timedelta\n",
    "\n",
    "# last week's validation date \n",
    "from_date = date(2022, 11, 4)\n",
    "# new week's date to work on\n",
    "new_date = from_date + timedelta(days=6)\n",
    "# check environment, if production it should return share drive path\n",
    "lib.liquid.base_path"
   ]
  },
  {
   "cell_type": "markdown",
   "metadata": {},
   "source": [
    "# Liquid\n",
    "- all code related to operation in liquid folder goes here\n",
    "- S:\\IT IRSR Shared\\RedSwan\\RedSwan\\Master_bcIMC\\LIQUID\\Liquid "
   ]
  },
  {
   "cell_type": "markdown",
   "metadata": {},
   "source": [
    "## create template folder\n",
    "- the code will copy folder according to `from_date` and paste as `to_date`\n",
    "- delete unnecessary files from last week\n",
    "- update enviroment file with new date"
   ]
  },
  {
   "cell_type": "code",
   "execution_count": 4,
   "metadata": {},
   "outputs": [
    {
     "name": "stdout",
     "output_type": "stream",
     "text": [
      "Copied to folder atS:\\IT IRSR Shared\\RedSwan\\RedSwan\\Master_bcIMC\\LIQUID\\Liquid\\2022\\11\\11_10\n",
      "Deleted files under S:\\IT IRSR Shared\\RedSwan\\RedSwan\\Master_bcIMC\\LIQUID\\Liquid\\2022\\11\\11_10\\Mapping\n",
      "Deleted files under S:\\IT IRSR Shared\\RedSwan\\RedSwan\\Master_bcIMC\\LIQUID\\Liquid\\2022\\11\\11_10\\Results\n",
      "Deleted csv files under S:\\IT IRSR Shared\\RedSwan\\RedSwan\\Master_bcIMC\\LIQUID\\Liquid\\2022\\11\\11_10\n",
      "Deleted S:\\IT IRSR Shared\\RedSwan\\RedSwan\\Master_bcIMC\\LIQUID\\Liquid\\2022\\11\\11_10\\PV Report Liquids 20221028.xlsx\n",
      "Deleted S:\\IT IRSR Shared\\RedSwan\\RedSwan\\Master_bcIMC\\LIQUID\\Liquid\\2022\\11\\11_10\\Illiquid RMLs\\PV Report Liquids 20221028.xlsx\n",
      "updated environment file at S:\\IT IRSR Shared\\RedSwan\\RedSwan\\Master_bcIMC\\LIQUID\\Liquid\\2022\\11\\11_10\\NewArch_LiquidsDerivatives V1 CSV.environment\n"
     ]
    }
   ],
   "source": [
    "lib.liquid.create_template_folder(from_date,new_date)"
   ]
  },
  {
   "cell_type": "markdown",
   "metadata": {},
   "source": [
    "## download weekly liquid data\n",
    "- the code will run sql query to get basket_hedge, IFT, illiquids, main from the database and save it in the `file` folder"
   ]
  },
  {
   "cell_type": "code",
   "execution_count": null,
   "metadata": {},
   "outputs": [],
   "source": [
    "lib.liquid.save_weekly_liquid_data(new_date)"
   ]
  },
  {
   "cell_type": "markdown",
   "metadata": {},
   "source": [
    "## update position in env file\n",
    "- the code will update the position in env file `NewArch_LiquidsDerivatives V1 CSV.environment`\n",
    "- input params are the date of the working folder and position we want to change it to.\n",
    "- make sure the position passed in the function is in the list below\n",
    "- [`Basket_Hedge`, `Fix`, `IFT`, `Illiquids`, `Main`]"
   ]
  },
  {
   "cell_type": "code",
   "execution_count": null,
   "metadata": {},
   "outputs": [],
   "source": [
    "lib.liquid.update_env_file_position(new_date, \"Basket_Hedge\")"
   ]
  },
  {
   "cell_type": "markdown",
   "metadata": {},
   "source": [
    "## create fix file\n",
    "- the code will read main data redswan log file from `result` folder and filter out bond records that is modeled to proxy.\n",
    "- update the model rule effective column\n",
    "- and save to `file` folder"
   ]
  },
  {
   "cell_type": "code",
   "execution_count": null,
   "metadata": {},
   "outputs": [],
   "source": [
    "lib.liquid.create_fix_file(new_date)"
   ]
  },
  {
   "cell_type": "markdown",
   "metadata": {},
   "source": [
    "# Collteral\n",
    "- all code related to operation in collateral folder goes here\n",
    "- S:\\IT IRSR Shared\\RedSwan\\RedSwan\\Master_bcIMC\\LIQUID\\Collateral"
   ]
  },
  {
   "cell_type": "markdown",
   "metadata": {},
   "source": [
    "## create template folder"
   ]
  },
  {
   "cell_type": "code",
   "execution_count": 5,
   "metadata": {},
   "outputs": [
    {
     "name": "stdout",
     "output_type": "stream",
     "text": [
      "Copied to folder atS:\\IT IRSR Shared\\RedSwan\\RedSwan\\Master_bcIMC\\LIQUID\\Collateral\\2022\\11\\11_10\n",
      "Deleted files under S:\\IT IRSR Shared\\RedSwan\\RedSwan\\Master_bcIMC\\LIQUID\\Collateral\\2022\\11\\11_10\\Loading\n",
      "Deleted csv files under S:\\IT IRSR Shared\\RedSwan\\RedSwan\\Master_bcIMC\\LIQUID\\Collateral\\2022\\11\\11_10\n",
      "updated environment file at S:\\IT IRSR Shared\\RedSwan\\RedSwan\\Master_bcIMC\\LIQUID\\Collateral\\2022\\11\\11_10\\Loading\\OTC_Collateral.environment\n"
     ]
    }
   ],
   "source": [
    "lib.collateral.create_template_folder(from_date,new_date)"
   ]
  },
  {
   "cell_type": "markdown",
   "metadata": {},
   "source": [
    "# Repo\n",
    "- all code related to operation in repo folder goes here\n",
    "- S:\\IT IRSR Shared\\RedSwan\\RedSwan\\Master_bcIMC\\LIQUID\\Repo"
   ]
  },
  {
   "cell_type": "markdown",
   "metadata": {},
   "source": [
    "## create template folder"
   ]
  },
  {
   "cell_type": "code",
   "execution_count": 10,
   "metadata": {},
   "outputs": [
    {
     "name": "stdout",
     "output_type": "stream",
     "text": [
      "Copied to folder atS:\\IT IRSR Shared\\RedSwan\\RedSwan\\Master_bcIMC\\LIQUID\\Repo\\2022\\11\\11_10\n",
      "Deleted files under S:\\IT IRSR Shared\\RedSwan\\RedSwan\\Master_bcIMC\\LIQUID\\Repo\\2022\\11\\11_10\\Loading\n",
      "Deleted csv files under S:\\IT IRSR Shared\\RedSwan\\RedSwan\\Master_bcIMC\\LIQUID\\Repo\\2022\\11\\11_10\n",
      "updated environment file at S:\\IT IRSR Shared\\RedSwan\\RedSwan\\Master_bcIMC\\LIQUID\\Repo\\2022\\11\\11_10\\Loading\\Repo_Col_V2.environment\n"
     ]
    }
   ],
   "source": [
    "lib.repo.create_template_folder(from_date,new_date)"
   ]
  },
  {
   "cell_type": "markdown",
   "metadata": {},
   "source": [
    "# Lookthrough for Cube\n",
    "- all code related to operation in Lookthrough for Cube folder goes here\n",
    "- S:\\IT IRSR Shared\\RedSwan\\RedSwan\\Master_bcIMC\\TREE\\Lookthrough for Cube"
   ]
  },
  {
   "cell_type": "markdown",
   "metadata": {},
   "source": [
    "## create template folder"
   ]
  },
  {
   "cell_type": "code",
   "execution_count": 7,
   "metadata": {},
   "outputs": [
    {
     "name": "stdout",
     "output_type": "stream",
     "text": [
      "Copied to folder atS:\\IT IRSR Shared\\RedSwan\\RedSwan\\Master_bcIMC\\TREE\\Lookthrough for Cube\\2022\\20221110\n",
      "Deleted files under S:\\IT IRSR Shared\\RedSwan\\RedSwan\\Master_bcIMC\\TREE\\Lookthrough for Cube\\2022\\20221110\\Loading\n",
      "Deleted csv files under S:\\IT IRSR Shared\\RedSwan\\RedSwan\\Master_bcIMC\\TREE\\Lookthrough for Cube\\2022\\20221110\n",
      "updated environment file at S:\\IT IRSR Shared\\RedSwan\\RedSwan\\Master_bcIMC\\TREE\\Lookthrough for Cube\\2022\\20221110\\Loading\\Lookthrough Index Cube.environment\n"
     ]
    }
   ],
   "source": [
    "lib.cube_lookthru.create_template_folder(from_date,new_date)"
   ]
  },
  {
   "cell_type": "markdown",
   "metadata": {},
   "source": [
    "# Total Fund Tree\n",
    "- all code related to operation in Total Fund Tree folder goes here\n",
    "- S:\\IT IRSR Shared\\RedSwan\\RedSwan\\Master_bcIMC\\TREE\\Total Fund Tree"
   ]
  },
  {
   "cell_type": "markdown",
   "metadata": {},
   "source": [
    "## create template folder"
   ]
  },
  {
   "cell_type": "code",
   "execution_count": 8,
   "metadata": {},
   "outputs": [
    {
     "name": "stdout",
     "output_type": "stream",
     "text": [
      "Copied to folder atS:\\IT IRSR Shared\\RedSwan\\RedSwan\\Master_bcIMC\\TREE\\Total Fund Tree\\2022\\11\\20221110\n",
      "Deleted files under S:\\IT IRSR Shared\\RedSwan\\RedSwan\\Master_bcIMC\\TREE\\Total Fund Tree\\2022\\11\\20221110\\Loading\n",
      "Deleted csv files under S:\\IT IRSR Shared\\RedSwan\\RedSwan\\Master_bcIMC\\TREE\\Total Fund Tree\\2022\\11\\20221110\n",
      "Deleted S:\\IT IRSR Shared\\RedSwan\\RedSwan\\Master_bcIMC\\TREE\\Total Fund Tree\\2022\\11\\20221110\\Total Fund PV Report 20221028.xlsx\n",
      "updated environment file at S:\\IT IRSR Shared\\RedSwan\\RedSwan\\Master_bcIMC\\TREE\\Total Fund Tree\\2022\\11\\20221110\\Loading\\TotalFundHierarchy Prod Load.environment\n"
     ]
    }
   ],
   "source": [
    "lib.total_fund_tree.create_template_folder(from_date,new_date)"
   ]
  },
  {
   "cell_type": "markdown",
   "metadata": {},
   "source": [
    "# Total Fund BMK Tree\n",
    "- all code related to operation in Total Fund BMK Tree folder goes here\n",
    "- S:\\IT IRSR Shared\\RedSwan\\RedSwan\\Master_bcIMC\\TREE\\Total Fund BMK Tree"
   ]
  },
  {
   "cell_type": "markdown",
   "metadata": {},
   "source": [
    "## create template folder"
   ]
  },
  {
   "cell_type": "code",
   "execution_count": 9,
   "metadata": {},
   "outputs": [
    {
     "name": "stdout",
     "output_type": "stream",
     "text": [
      "Copied to folder atS:\\IT IRSR Shared\\RedSwan\\RedSwan\\Master_bcIMC\\TREE\\Total Fund BMK Tree\\2022\\11\\20221110\n",
      "Deleted files under S:\\IT IRSR Shared\\RedSwan\\RedSwan\\Master_bcIMC\\TREE\\Total Fund BMK Tree\\2022\\11\\20221110\\Loading\n",
      "Deleted csv files under S:\\IT IRSR Shared\\RedSwan\\RedSwan\\Master_bcIMC\\TREE\\Total Fund BMK Tree\\2022\\11\\20221110\n",
      "updated environment file at S:\\IT IRSR Shared\\RedSwan\\RedSwan\\Master_bcIMC\\TREE\\Total Fund BMK Tree\\2022\\11\\20221110\\Loading\\TFT BMK RU.environment\n"
     ]
    }
   ],
   "source": [
    "lib.total_fund_bmk_tree.create_template_folder(from_date,new_date)"
   ]
  }
 ],
 "metadata": {
  "kernelspec": {
   "display_name": "Python 3.8.10 ('venv': venv)",
   "language": "python",
   "name": "python3"
  },
  "language_info": {
   "codemirror_mode": {
    "name": "ipython",
    "version": 3
   },
   "file_extension": ".py",
   "mimetype": "text/x-python",
   "name": "python",
   "nbconvert_exporter": "python",
   "pygments_lexer": "ipython3",
   "version": "3.8.10"
  },
  "orig_nbformat": 4,
  "vscode": {
   "interpreter": {
    "hash": "e96bc769563fdec08fdde0c06411e8d2069d9d240993e40f4a81ac35c5e01f10"
   }
  }
 },
 "nbformat": 4,
 "nbformat_minor": 2
}
