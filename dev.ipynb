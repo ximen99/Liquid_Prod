{
 "cells": [
  {
   "cell_type": "code",
   "execution_count": 1,
   "metadata": {},
   "outputs": [
    {
     "data": {
      "text/plain": [
       "WindowsPath('S:/IT IRSR Shared/RedSwan/RedSwan/Master_bcIMC/LIQUID/Liquid')"
      ]
     },
     "execution_count": 1,
     "metadata": {},
     "output_type": "execute_result"
    }
   ],
   "source": [
    "import lib\n",
    "from datetime import date, timedelta\n",
    "import warnings\n",
    "warnings.filterwarnings(\"ignore\")\n",
    "import pandas as pd\n",
    "\n",
    "pd.options.display.float_format = '{:.2f}'.format\n",
    "\n",
    "# last week's validation date \n",
    "from_date = date(2023, 8, 18)\n",
    "# new week's date to work on\n",
    "new_date = from_date + timedelta(days=7)\n",
    "# check environment, if production it should return share drive path\n",
    "lib.liquid.base_path"
   ]
  },
  {
   "cell_type": "code",
   "execution_count": 2,
   "metadata": {},
   "outputs": [
    {
     "data": {
      "text/html": [
       "<div>\n",
       "<style scoped>\n",
       "    .dataframe tbody tr th:only-of-type {\n",
       "        vertical-align: middle;\n",
       "    }\n",
       "\n",
       "    .dataframe tbody tr th {\n",
       "        vertical-align: top;\n",
       "    }\n",
       "\n",
       "    .dataframe thead th {\n",
       "        text-align: right;\n",
       "    }\n",
       "</style>\n",
       "<table border=\"1\" class=\"dataframe\">\n",
       "  <thead>\n",
       "    <tr style=\"text-align: right;\">\n",
       "      <th></th>\n",
       "      <th>ExcludeOverride</th>\n",
       "      <th>ISR_streamName</th>\n",
       "      <th>ModelRuleEffective</th>\n",
       "      <th>SourceSystem</th>\n",
       "      <th>RiskDate</th>\n",
       "      <th>ModelRuleDefault</th>\n",
       "      <th>ModelRuleOverride</th>\n",
       "      <th>AccountingSystemSecId</th>\n",
       "      <th>AssetId</th>\n",
       "      <th>ExchangeCode</th>\n",
       "      <th>...</th>\n",
       "      <th>BCIIssueDate</th>\n",
       "      <th>BCIFXRate</th>\n",
       "      <th>BenchmarkID</th>\n",
       "      <th>PEInvestmentType</th>\n",
       "      <th>DiscountCurve</th>\n",
       "      <th>spreadCurve</th>\n",
       "      <th>LienType</th>\n",
       "      <th>FacilityType</th>\n",
       "      <th>FairSpread</th>\n",
       "      <th>MaturityBucket</th>\n",
       "    </tr>\n",
       "  </thead>\n",
       "  <tbody>\n",
       "    <tr>\n",
       "      <th>0</th>\n",
       "      <td>N</td>\n",
       "      <td>Bayview</td>\n",
       "      <td>CASH</td>\n",
       "      <td>SCD</td>\n",
       "      <td>20230825</td>\n",
       "      <td>CASH</td>\n",
       "      <td>NaN</td>\n",
       "      <td>NaN</td>\n",
       "      <td>NaN</td>\n",
       "      <td>NaN</td>\n",
       "      <td>...</td>\n",
       "      <td>NaN</td>\n",
       "      <td>NaN</td>\n",
       "      <td>MSCI.MC.MSCI996500@rmgBenchmarks</td>\n",
       "      <td>NaN</td>\n",
       "      <td>NaN</td>\n",
       "      <td>NaN</td>\n",
       "      <td>NaN</td>\n",
       "      <td>NaN</td>\n",
       "      <td>NaN</td>\n",
       "      <td>NaN</td>\n",
       "    </tr>\n",
       "  </tbody>\n",
       "</table>\n",
       "<p>1 rows × 191 columns</p>\n",
       "</div>"
      ],
      "text/plain": [
       "  ExcludeOverride ISR_streamName ModelRuleEffective SourceSystem  RiskDate  \\\n",
       "0               N        Bayview               CASH          SCD  20230825   \n",
       "\n",
       "  ModelRuleDefault  ModelRuleOverride  AccountingSystemSecId  AssetId  \\\n",
       "0             CASH                NaN                    NaN      NaN   \n",
       "\n",
       "   ExchangeCode  ... BCIIssueDate BCIFXRate                       BenchmarkID  \\\n",
       "0           NaN  ...          NaN       NaN  MSCI.MC.MSCI996500@rmgBenchmarks   \n",
       "\n",
       "   PEInvestmentType  DiscountCurve  spreadCurve LienType  FacilityType  \\\n",
       "0               NaN            NaN          NaN      NaN           NaN   \n",
       "\n",
       "  FairSpread MaturityBucket  \n",
       "0        NaN            NaN  \n",
       "\n",
       "[1 rows x 191 columns]"
      ]
     },
     "execution_count": 2,
     "metadata": {},
     "output_type": "execute_result"
    }
   ],
   "source": [
    "lib.liquid.get_bayview_data(new_date)"
   ]
  }
 ],
 "metadata": {
  "kernelspec": {
   "display_name": "Python 3.8.10 ('venv': venv)",
   "language": "python",
   "name": "python3"
  },
  "language_info": {
   "codemirror_mode": {
    "name": "ipython",
    "version": 3
   },
   "file_extension": ".py",
   "mimetype": "text/x-python",
   "name": "python",
   "nbconvert_exporter": "python",
   "pygments_lexer": "ipython3",
   "version": "3.8.10"
  },
  "orig_nbformat": 4,
  "vscode": {
   "interpreter": {
    "hash": "e96bc769563fdec08fdde0c06411e8d2069d9d240993e40f4a81ac35c5e01f10"
   }
  }
 },
 "nbformat": 4,
 "nbformat_minor": 2
}
