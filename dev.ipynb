{
 "cells": [
  {
   "cell_type": "code",
   "execution_count": 4,
   "metadata": {},
   "outputs": [
    {
     "data": {
      "text/plain": [
       "WindowsPath('c:/Users/CXimen/OneDrive - BCI/Documents/Liquid_Data_Production_Dev')"
      ]
     },
     "execution_count": 4,
     "metadata": {},
     "output_type": "execute_result"
    }
   ],
   "source": [
    "import lib\n",
    "from lib import utils as ut\n",
    "import pandas as pd\n",
    "from datetime import date, timedelta\n",
    "from pathlib import Path\n",
    "import warnings\n",
    "warnings.filterwarnings('ignore')\n",
    "\n",
    "\n",
    "# last week's validation date\n",
    "from_date = date(2022, 11, 18)   \n",
    "# new week's date to work on\n",
    "new_date = from_date + timedelta(days=7)\n",
    "lib.liquid.base_path\n"
   ]
  },
  {
   "cell_type": "code",
   "execution_count": 5,
   "metadata": {},
   "outputs": [
    {
     "ename": "ValueError",
     "evalue": "Cannot mask with non-boolean array containing NA / NaN values",
     "output_type": "error",
     "traceback": [
      "\u001b[1;31m---------------------------------------------------------------------------\u001b[0m",
      "\u001b[1;31mValueError\u001b[0m                                Traceback (most recent call last)",
      "File \u001b[1;32mc:\\Users\\CXimen\\OneDrive - BCI\\Documents\\Liquid_Data_Production_Dev\\venv\\lib\\site-packages\\pandas\\core\\frame.py:4466\u001b[0m, in \u001b[0;36mDataFrame.query\u001b[1;34m(self, expr, inplace, **kwargs)\u001b[0m\n\u001b[0;32m   4465\u001b[0m \u001b[39mtry\u001b[39;00m:\n\u001b[1;32m-> 4466\u001b[0m     result \u001b[39m=\u001b[39m \u001b[39mself\u001b[39;49m\u001b[39m.\u001b[39;49mloc[res]\n\u001b[0;32m   4467\u001b[0m \u001b[39mexcept\u001b[39;00m \u001b[39mValueError\u001b[39;00m:\n\u001b[0;32m   4468\u001b[0m     \u001b[39m# when res is multi-dimensional loc raises, but this is sometimes a\u001b[39;00m\n\u001b[0;32m   4469\u001b[0m     \u001b[39m# valid query\u001b[39;00m\n",
      "File \u001b[1;32mc:\\Users\\CXimen\\OneDrive - BCI\\Documents\\Liquid_Data_Production_Dev\\venv\\lib\\site-packages\\pandas\\core\\indexing.py:1073\u001b[0m, in \u001b[0;36m_LocationIndexer.__getitem__\u001b[1;34m(self, key)\u001b[0m\n\u001b[0;32m   1072\u001b[0m maybe_callable \u001b[39m=\u001b[39m com\u001b[39m.\u001b[39mapply_if_callable(key, \u001b[39mself\u001b[39m\u001b[39m.\u001b[39mobj)\n\u001b[1;32m-> 1073\u001b[0m \u001b[39mreturn\u001b[39;00m \u001b[39mself\u001b[39;49m\u001b[39m.\u001b[39;49m_getitem_axis(maybe_callable, axis\u001b[39m=\u001b[39;49maxis)\n",
      "File \u001b[1;32mc:\\Users\\CXimen\\OneDrive - BCI\\Documents\\Liquid_Data_Production_Dev\\venv\\lib\\site-packages\\pandas\\core\\indexing.py:1291\u001b[0m, in \u001b[0;36m_LocIndexer._getitem_axis\u001b[1;34m(self, key, axis)\u001b[0m\n\u001b[0;32m   1290\u001b[0m     \u001b[39mreturn\u001b[39;00m \u001b[39mself\u001b[39m\u001b[39m.\u001b[39m_get_slice_axis(key, axis\u001b[39m=\u001b[39maxis)\n\u001b[1;32m-> 1291\u001b[0m \u001b[39melif\u001b[39;00m com\u001b[39m.\u001b[39;49mis_bool_indexer(key):\n\u001b[0;32m   1292\u001b[0m     \u001b[39mreturn\u001b[39;00m \u001b[39mself\u001b[39m\u001b[39m.\u001b[39m_getbool_axis(key, axis\u001b[39m=\u001b[39maxis)\n",
      "File \u001b[1;32mc:\\Users\\CXimen\\OneDrive - BCI\\Documents\\Liquid_Data_Production_Dev\\venv\\lib\\site-packages\\pandas\\core\\common.py:135\u001b[0m, in \u001b[0;36mis_bool_indexer\u001b[1;34m(key)\u001b[0m\n\u001b[0;32m    132\u001b[0m \u001b[39mif\u001b[39;00m lib\u001b[39m.\u001b[39minfer_dtype(key_array) \u001b[39m==\u001b[39m \u001b[39m\"\u001b[39m\u001b[39mboolean\u001b[39m\u001b[39m\"\u001b[39m \u001b[39mand\u001b[39;00m isna(key_array)\u001b[39m.\u001b[39many():\n\u001b[0;32m    133\u001b[0m     \u001b[39m# Don't raise on e.g. [\"A\", \"B\", np.nan], see\u001b[39;00m\n\u001b[0;32m    134\u001b[0m     \u001b[39m#  test_loc_getitem_list_of_labels_categoricalindex_with_na\u001b[39;00m\n\u001b[1;32m--> 135\u001b[0m     \u001b[39mraise\u001b[39;00m \u001b[39mValueError\u001b[39;00m(na_msg)\n\u001b[0;32m    136\u001b[0m \u001b[39mreturn\u001b[39;00m \u001b[39mFalse\u001b[39;00m\n",
      "\u001b[1;31mValueError\u001b[0m: Cannot mask with non-boolean array containing NA / NaN values",
      "\nDuring handling of the above exception, another exception occurred:\n",
      "\u001b[1;31mValueError\u001b[0m                                Traceback (most recent call last)",
      "Cell \u001b[1;32mIn [5], line 1\u001b[0m\n\u001b[1;32m----> 1\u001b[0m lib\u001b[39m.\u001b[39;49mliquid\u001b[39m.\u001b[39;49mcreate_fix_file(new_date)\n",
      "File \u001b[1;32mc:\\Users\\CXimen\\OneDrive - BCI\\Documents\\Liquid_Data_Production_Dev\\src\\lib\\liquid.py:150\u001b[0m, in \u001b[0;36mcreate_fix_file\u001b[1;34m(dt)\u001b[0m\n\u001b[0;32m    147\u001b[0m save_folder_path \u001b[39m=\u001b[39m create_folder_path(base_path, dt) \u001b[39m/\u001b[39m \u001b[39m\"\u001b[39m\u001b[39mFiles\u001b[39m\u001b[39m\"\u001b[39m\n\u001b[0;32m    148\u001b[0m result_folder_path \u001b[39m=\u001b[39m create_folder_path(base_path, dt) \u001b[39m/\u001b[39m \u001b[39m\"\u001b[39m\u001b[39mResults\u001b[39m\u001b[39m\"\u001b[39m\n\u001b[0;32m    149\u001b[0m rejected_bond \u001b[39m=\u001b[39m (\n\u001b[1;32m--> 150\u001b[0m     pd\u001b[39m.\u001b[39;49mread_csv(result_folder_path \u001b[39m/\u001b[39;49m\n\u001b[0;32m    151\u001b[0m                 (\u001b[39m\"\u001b[39;49m\u001b[39mMain_\u001b[39;49m\u001b[39m\"\u001b[39;49m\u001b[39m+\u001b[39;49mut\u001b[39m.\u001b[39;49mdate_to_str(dt)\u001b[39m+\u001b[39;49m\u001b[39m\"\u001b[39;49m\u001b[39m_log.csv\u001b[39;49m\u001b[39m\"\u001b[39;49m))\n\u001b[0;32m    152\u001b[0m     \u001b[39m.\u001b[39;49mquery(\u001b[39m\"\u001b[39;49m\u001b[39m`RMG_PositionStatus`.str.contains(\u001b[39;49m\u001b[39m'\u001b[39;49m\u001b[39mProxied\u001b[39;49m\u001b[39m'\u001b[39;49m\u001b[39m)\u001b[39;49m\u001b[39m\"\u001b[39;49m, engine\u001b[39m=\u001b[39;49m\u001b[39m\"\u001b[39;49m\u001b[39mpython\u001b[39;49m\u001b[39m\"\u001b[39;49m)\n\u001b[0;32m    153\u001b[0m     \u001b[39m.\u001b[39mquery(\u001b[39m\"\u001b[39m\u001b[39m`instrumentType`.str.contains(\u001b[39m\u001b[39m'\u001b[39m\u001b[39mBond\u001b[39m\u001b[39m'\u001b[39m\u001b[39m)\u001b[39m\u001b[39m\"\u001b[39m, engine\u001b[39m=\u001b[39m\u001b[39m\"\u001b[39m\u001b[39mpython\u001b[39m\u001b[39m\"\u001b[39m)\n\u001b[0;32m    154\u001b[0m     [\u001b[39m\"\u001b[39m\u001b[39mBCI_Id\u001b[39m\u001b[39m\"\u001b[39m]\n\u001b[0;32m    155\u001b[0m     \u001b[39m.\u001b[39mtolist()\n\u001b[0;32m    156\u001b[0m )\n\u001b[0;32m    158\u001b[0m \u001b[39mdef\u001b[39;00m \u001b[39mcheck_na\u001b[39m(df):\n\u001b[0;32m    159\u001b[0m     \u001b[39mif\u001b[39;00m df\u001b[39m.\u001b[39mModelRuleEffective\u001b[39m.\u001b[39misna()\u001b[39m.\u001b[39msum() \u001b[39m>\u001b[39m \u001b[39m0\u001b[39m:\n",
      "File \u001b[1;32mc:\\Users\\CXimen\\OneDrive - BCI\\Documents\\Liquid_Data_Production_Dev\\venv\\lib\\site-packages\\pandas\\util\\_decorators.py:331\u001b[0m, in \u001b[0;36mdeprecate_nonkeyword_arguments.<locals>.decorate.<locals>.wrapper\u001b[1;34m(*args, **kwargs)\u001b[0m\n\u001b[0;32m    325\u001b[0m \u001b[39mif\u001b[39;00m \u001b[39mlen\u001b[39m(args) \u001b[39m>\u001b[39m num_allow_args:\n\u001b[0;32m    326\u001b[0m     warnings\u001b[39m.\u001b[39mwarn(\n\u001b[0;32m    327\u001b[0m         msg\u001b[39m.\u001b[39mformat(arguments\u001b[39m=\u001b[39m_format_argument_list(allow_args)),\n\u001b[0;32m    328\u001b[0m         \u001b[39mFutureWarning\u001b[39;00m,\n\u001b[0;32m    329\u001b[0m         stacklevel\u001b[39m=\u001b[39mfind_stack_level(),\n\u001b[0;32m    330\u001b[0m     )\n\u001b[1;32m--> 331\u001b[0m \u001b[39mreturn\u001b[39;00m func(\u001b[39m*\u001b[39;49margs, \u001b[39m*\u001b[39;49m\u001b[39m*\u001b[39;49mkwargs)\n",
      "File \u001b[1;32mc:\\Users\\CXimen\\OneDrive - BCI\\Documents\\Liquid_Data_Production_Dev\\venv\\lib\\site-packages\\pandas\\core\\frame.py:4470\u001b[0m, in \u001b[0;36mDataFrame.query\u001b[1;34m(self, expr, inplace, **kwargs)\u001b[0m\n\u001b[0;32m   4466\u001b[0m     result \u001b[39m=\u001b[39m \u001b[39mself\u001b[39m\u001b[39m.\u001b[39mloc[res]\n\u001b[0;32m   4467\u001b[0m \u001b[39mexcept\u001b[39;00m \u001b[39mValueError\u001b[39;00m:\n\u001b[0;32m   4468\u001b[0m     \u001b[39m# when res is multi-dimensional loc raises, but this is sometimes a\u001b[39;00m\n\u001b[0;32m   4469\u001b[0m     \u001b[39m# valid query\u001b[39;00m\n\u001b[1;32m-> 4470\u001b[0m     result \u001b[39m=\u001b[39m \u001b[39mself\u001b[39;49m[res]\n\u001b[0;32m   4472\u001b[0m \u001b[39mif\u001b[39;00m inplace:\n\u001b[0;32m   4473\u001b[0m     \u001b[39mself\u001b[39m\u001b[39m.\u001b[39m_update_inplace(result)\n",
      "File \u001b[1;32mc:\\Users\\CXimen\\OneDrive - BCI\\Documents\\Liquid_Data_Production_Dev\\venv\\lib\\site-packages\\pandas\\core\\frame.py:3794\u001b[0m, in \u001b[0;36mDataFrame.__getitem__\u001b[1;34m(self, key)\u001b[0m\n\u001b[0;32m   3791\u001b[0m     \u001b[39mreturn\u001b[39;00m \u001b[39mself\u001b[39m\u001b[39m.\u001b[39mwhere(key)\n\u001b[0;32m   3793\u001b[0m \u001b[39m# Do we have a (boolean) 1d indexer?\u001b[39;00m\n\u001b[1;32m-> 3794\u001b[0m \u001b[39mif\u001b[39;00m com\u001b[39m.\u001b[39;49mis_bool_indexer(key):\n\u001b[0;32m   3795\u001b[0m     \u001b[39mreturn\u001b[39;00m \u001b[39mself\u001b[39m\u001b[39m.\u001b[39m_getitem_bool_array(key)\n\u001b[0;32m   3797\u001b[0m \u001b[39m# We are left with two options: a single key, and a collection of keys,\u001b[39;00m\n\u001b[0;32m   3798\u001b[0m \u001b[39m# We interpret tuples as collections only for non-MultiIndex\u001b[39;00m\n",
      "File \u001b[1;32mc:\\Users\\CXimen\\OneDrive - BCI\\Documents\\Liquid_Data_Production_Dev\\venv\\lib\\site-packages\\pandas\\core\\common.py:135\u001b[0m, in \u001b[0;36mis_bool_indexer\u001b[1;34m(key)\u001b[0m\n\u001b[0;32m    131\u001b[0m     na_msg \u001b[39m=\u001b[39m \u001b[39m\"\u001b[39m\u001b[39mCannot mask with non-boolean array containing NA / NaN values\u001b[39m\u001b[39m\"\u001b[39m\n\u001b[0;32m    132\u001b[0m     \u001b[39mif\u001b[39;00m lib\u001b[39m.\u001b[39minfer_dtype(key_array) \u001b[39m==\u001b[39m \u001b[39m\"\u001b[39m\u001b[39mboolean\u001b[39m\u001b[39m\"\u001b[39m \u001b[39mand\u001b[39;00m isna(key_array)\u001b[39m.\u001b[39many():\n\u001b[0;32m    133\u001b[0m         \u001b[39m# Don't raise on e.g. [\"A\", \"B\", np.nan], see\u001b[39;00m\n\u001b[0;32m    134\u001b[0m         \u001b[39m#  test_loc_getitem_list_of_labels_categoricalindex_with_na\u001b[39;00m\n\u001b[1;32m--> 135\u001b[0m         \u001b[39mraise\u001b[39;00m \u001b[39mValueError\u001b[39;00m(na_msg)\n\u001b[0;32m    136\u001b[0m     \u001b[39mreturn\u001b[39;00m \u001b[39mFalse\u001b[39;00m\n\u001b[0;32m    137\u001b[0m \u001b[39mreturn\u001b[39;00m \u001b[39mTrue\u001b[39;00m\n",
      "\u001b[1;31mValueError\u001b[0m: Cannot mask with non-boolean array containing NA / NaN values"
     ]
    }
   ],
   "source": []
  }
 ],
 "metadata": {
  "kernelspec": {
   "display_name": "Python 3.8.10 ('venv': venv)",
   "language": "python",
   "name": "python3"
  },
  "language_info": {
   "codemirror_mode": {
    "name": "ipython",
    "version": 3
   },
   "file_extension": ".py",
   "mimetype": "text/x-python",
   "name": "python",
   "nbconvert_exporter": "python",
   "pygments_lexer": "ipython3",
   "version": "3.8.10"
  },
  "orig_nbformat": 4,
  "vscode": {
   "interpreter": {
    "hash": "e96bc769563fdec08fdde0c06411e8d2069d9d240993e40f4a81ac35c5e01f10"
   }
  }
 },
 "nbformat": 4,
 "nbformat_minor": 2
}
