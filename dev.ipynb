{
 "cells": [
  {
   "cell_type": "code",
   "execution_count": 1,
   "metadata": {},
   "outputs": [
    {
     "data": {
      "text/plain": [
       "WindowsPath('c:/Users/CXimen/OneDrive - BCI/Documents/Liquid_Data_Production_Dev')"
      ]
     },
     "execution_count": 1,
     "metadata": {},
     "output_type": "execute_result"
    }
   ],
   "source": [
    "import lib\n",
    "from lib import utils as ut\n",
    "import pandas as pd\n",
    "from datetime import date, timedelta\n",
    "from pathlib import Path\n",
    "import warnings\n",
    "warnings.filterwarnings('ignore')\n",
    "\n",
    "\n",
    "# last week's validation date\n",
    "from_date = date(2022, 11, 4)   \n",
    "# new week's date to work on\n",
    "new_date = from_date + timedelta(days=7)\n",
    "lib.liquid.base_path\n"
   ]
  },
  {
   "cell_type": "code",
   "execution_count": 3,
   "metadata": {},
   "outputs": [
    {
     "name": "stdout",
     "output_type": "stream",
     "text": [
      "Created folder c:\\Users\\CXimen\\OneDrive - BCI\\Documents\\Liquid_Data_Production_Dev\\Monthly\\20221111\n",
      "Copied file S:\\IT IRSR Shared\\RedSwan\\RedSwan\\Master_bcIMC\\TREE\\Lookthrough for Cube\\2022\\20221111\\LookthroughMapping_20221111.csv to c:\\Users\\CXimen\\OneDrive - BCI\\Documents\\Liquid_Data_Production_Dev\\Monthly\\20221111\n",
      "Copied file S:\\IT IRSR Shared\\RedSwan\\RedSwan\\Master_bcIMC\\TREE\\Total Fund BMK Tree\\2022\\11\\20221111\\Total_Fund_BMK_Tree_20221111 - RD.csv to c:\\Users\\CXimen\\OneDrive - BCI\\Documents\\Liquid_Data_Production_Dev\\Monthly\\20221111\n",
      "Copied file S:\\IT IRSR Shared\\RedSwan\\RedSwan\\Master_bcIMC\\TREE\\Total Fund BMK Tree\\2022\\11\\20221111\\Total_Fund_BMK_Tree_20221111 - RU.csv to c:\\Users\\CXimen\\OneDrive - BCI\\Documents\\Liquid_Data_Production_Dev\\Monthly\\20221111\n",
      "Copied file S:\\IT IRSR Shared\\RedSwan\\RedSwan\\Master_bcIMC\\TREE\\Total Fund Tree\\2022\\11\\20221111\\Total_Fund_Tree _20221111.csv to c:\\Users\\CXimen\\OneDrive - BCI\\Documents\\Liquid_Data_Production_Dev\\Monthly\\20221111\n",
      "replaced \\d{8} with 20221111 in c:\\Users\\CXimen\\OneDrive - BCI\\Documents\\Liquid_Data_Production_Dev\\ProcessStats.csv\n",
      "replaced Weekly|Monthly with Monthly in c:\\Users\\CXimen\\OneDrive - BCI\\Documents\\Liquid_Data_Production_Dev\\ProcessStats.csv\n"
     ]
    }
   ],
   "source": [
    "lib.cubefiles.create_template_folder(new_date,False)"
   ]
  }
 ],
 "metadata": {
  "kernelspec": {
   "display_name": "Python 3.8.10 ('venv': venv)",
   "language": "python",
   "name": "python3"
  },
  "language_info": {
   "codemirror_mode": {
    "name": "ipython",
    "version": 3
   },
   "file_extension": ".py",
   "mimetype": "text/x-python",
   "name": "python",
   "nbconvert_exporter": "python",
   "pygments_lexer": "ipython3",
   "version": "3.8.10"
  },
  "orig_nbformat": 4,
  "vscode": {
   "interpreter": {
    "hash": "e96bc769563fdec08fdde0c06411e8d2069d9d240993e40f4a81ac35c5e01f10"
   }
  }
 },
 "nbformat": 4,
 "nbformat_minor": 2
}
