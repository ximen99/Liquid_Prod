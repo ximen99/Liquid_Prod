{
 "cells": [
  {
   "cell_type": "code",
   "execution_count": 1,
   "metadata": {},
   "outputs": [
    {
     "data": {
      "text/plain": [
       "WindowsPath('c:/Users/CXimen/OneDrive - BCI/Documents/Liquid_Data_Production_Dev')"
      ]
     },
     "execution_count": 1,
     "metadata": {},
     "output_type": "execute_result"
    }
   ],
   "source": [
    "import lib\n",
    "from lib import utils as ut\n",
    "import pandas as pd\n",
    "from datetime import date, timedelta\n",
    "from pathlib import Path\n",
    "import warnings\n",
    "warnings.filterwarnings('ignore')\n",
    "\n",
    "pd.options.display.float_format = '{:.2f}'.format\n",
    "\n",
    "# last week's validation date\n",
    "from_date = date(2022, 12, 30)   \n",
    "# new week's date to work on\n",
    "new_date = from_date + timedelta(days=7)\n",
    "lib.liquid.base_path\n"
   ]
  },
  {
   "cell_type": "code",
   "execution_count": 4,
   "metadata": {},
   "outputs": [
    {
     "ename": "com_error",
     "evalue": "(-2147352567, 'Exception occurred.', (0, 'Microsoft Excel', \"This selection isn't valid. Make sure the copy and paste areas don't overlap unless they are the same size and shape.\", 'xlmain11.chm', 0, -2146827284), None)",
     "output_type": "error",
     "traceback": [
      "\u001b[1;31m---------------------------------------------------------------------------\u001b[0m",
      "\u001b[1;31mcom_error\u001b[0m                                 Traceback (most recent call last)",
      "Cell \u001b[1;32mIn [4], line 1\u001b[0m\n\u001b[1;32m----> 1\u001b[0m lib\u001b[39m.\u001b[39;49mtotal_fund_tree\u001b[39m.\u001b[39;49mupdate_GPF_Managers_MV(new_date)\n",
      "File \u001b[1;32mc:\\Users\\CXimen\\OneDrive - BCI\\Documents\\Liquid_Data_Production_Dev\\src\\lib\\total_fund_tree.py:268\u001b[0m, in \u001b[0;36mupdate_GPF_Managers_MV\u001b[1;34m(to_date)\u001b[0m\n\u001b[0;32m    266\u001b[0m file_name \u001b[39m=\u001b[39m \u001b[39m\"\u001b[39m\u001b[39mGPF Managers Weekly & Monthly MV.xlsx\u001b[39m\u001b[39m\"\u001b[39m\n\u001b[0;32m    267\u001b[0m path \u001b[39m=\u001b[39m create_folder_path(base_path, to_date, \u001b[39mFalse\u001b[39;00m) \u001b[39m/\u001b[39m \u001b[39m\"\u001b[39m\u001b[39mQueries\u001b[39m\u001b[39m\"\u001b[39m\n\u001b[1;32m--> 268\u001b[0m ut\u001b[39m.\u001b[39;49mwork_on_excel(GPF_Managers_MV_excel_operation,\n\u001b[0;32m    269\u001b[0m                  path \u001b[39m/\u001b[39;49m file_name, \u001b[39mNone\u001b[39;49;00m, to_date)\n",
      "File \u001b[1;32mc:\\Users\\CXimen\\OneDrive - BCI\\Documents\\Liquid_Data_Production_Dev\\src\\lib\\utils.py:172\u001b[0m, in \u001b[0;36mwork_on_excel\u001b[1;34m(func, path, save_path, *args, **kwargs)\u001b[0m\n\u001b[0;32m    170\u001b[0m \u001b[39mwith\u001b[39;00m xw\u001b[39m.\u001b[39mApp(visible\u001b[39m=\u001b[39m\u001b[39mFalse\u001b[39;00m) \u001b[39mas\u001b[39;00m app:\n\u001b[0;32m    171\u001b[0m     wb \u001b[39m=\u001b[39m app\u001b[39m.\u001b[39mbooks\u001b[39m.\u001b[39mopen(path)\n\u001b[1;32m--> 172\u001b[0m     func(wb, \u001b[39m*\u001b[39;49margs, \u001b[39m*\u001b[39;49m\u001b[39m*\u001b[39;49mkwargs)\n\u001b[0;32m    173\u001b[0m     wb\u001b[39m.\u001b[39msave(save_path)\n\u001b[0;32m    174\u001b[0m     wb\u001b[39m.\u001b[39mclose()\n",
      "File \u001b[1;32mc:\\Users\\CXimen\\OneDrive - BCI\\Documents\\Liquid_Data_Production_Dev\\src\\lib\\total_fund_tree.py:250\u001b[0m, in \u001b[0;36mGPF_Managers_MV_excel_operation\u001b[1;34m(wb, dt)\u001b[0m\n\u001b[0;32m    248\u001b[0m \u001b[39mif\u001b[39;00m \u001b[39mlen\u001b[39m(new_positions) \u001b[39m>\u001b[39m \u001b[39m0\u001b[39m:\n\u001b[0;32m    249\u001b[0m     sheet\u001b[39m.\u001b[39mrange(\u001b[39mf\u001b[39m\u001b[39m\"\u001b[39m\u001b[39mA\u001b[39m\u001b[39m{\u001b[39;00mlast_row\u001b[39m-\u001b[39m\u001b[39mlen\u001b[39m(new_positions)\u001b[39m+\u001b[39m\u001b[39m1\u001b[39m\u001b[39m}\u001b[39;00m\u001b[39m:D\u001b[39m\u001b[39m{\u001b[39;00mlast_row\u001b[39m}\u001b[39;00m\u001b[39m\"\u001b[39m)\u001b[39m.\u001b[39mcopy()\n\u001b[1;32m--> 250\u001b[0m     sheet\u001b[39m.\u001b[39;49mrange(\u001b[39mf\u001b[39;49m\u001b[39m\"\u001b[39;49m\u001b[39mA\u001b[39;49m\u001b[39m{\u001b[39;49;00mlast_row\u001b[39m}\u001b[39;49;00m\u001b[39m:D\u001b[39;49m\u001b[39m{\u001b[39;49;00mlast_row\u001b[39m}\u001b[39;49;00m\u001b[39m\"\u001b[39;49m)\u001b[39m.\u001b[39;49minsert(\u001b[39m\"\u001b[39;49m\u001b[39mdown\u001b[39;49m\u001b[39m\"\u001b[39;49m)\n\u001b[0;32m    251\u001b[0m     sheet\u001b[39m.\u001b[39mrange(\n\u001b[0;32m    252\u001b[0m         \u001b[39mf\u001b[39m\u001b[39m\"\u001b[39m\u001b[39mA\u001b[39m\u001b[39m{\u001b[39;00mlast_row\u001b[39m+\u001b[39m\u001b[39m1\u001b[39m\u001b[39m}\u001b[39;00m\u001b[39m\"\u001b[39m)\u001b[39m.\u001b[39mvalue \u001b[39m=\u001b[39m mv_df\u001b[39m.\u001b[39mloc[new_positions, \u001b[39m\"\u001b[39m\u001b[39mManager_Name\u001b[39m\u001b[39m\"\u001b[39m]\u001b[39m.\u001b[39mreset_index()\u001b[39m.\u001b[39mvalues\n\u001b[0;32m    253\u001b[0m     last_row \u001b[39m+\u001b[39m\u001b[39m=\u001b[39m \u001b[39mlen\u001b[39m(new_positions)\n",
      "File \u001b[1;32mc:\\Users\\CXimen\\OneDrive - BCI\\Documents\\Liquid_Data_Production_Dev\\venv\\lib\\site-packages\\xlwings\\main.py:2525\u001b[0m, in \u001b[0;36mRange.insert\u001b[1;34m(self, shift, copy_origin)\u001b[0m\n\u001b[0;32m   2507\u001b[0m \u001b[39mdef\u001b[39;00m \u001b[39minsert\u001b[39m(\u001b[39mself\u001b[39m, shift\u001b[39m=\u001b[39m\u001b[39mNone\u001b[39;00m, copy_origin\u001b[39m=\u001b[39m\u001b[39m\"\u001b[39m\u001b[39mformat_from_left_or_above\u001b[39m\u001b[39m\"\u001b[39m):\n\u001b[0;32m   2508\u001b[0m     \u001b[39m\"\"\"\u001b[39;00m\n\u001b[0;32m   2509\u001b[0m \u001b[39m    Insert a cell or range of cells into the sheet.\u001b[39;00m\n\u001b[0;32m   2510\u001b[0m \n\u001b[1;32m   (...)\u001b[0m\n\u001b[0;32m   2523\u001b[0m \n\u001b[0;32m   2524\u001b[0m \u001b[39m    \"\"\"\u001b[39;00m\n\u001b[1;32m-> 2525\u001b[0m     \u001b[39mself\u001b[39;49m\u001b[39m.\u001b[39;49mimpl\u001b[39m.\u001b[39;49minsert(shift, copy_origin)\n",
      "File \u001b[1;32mc:\\Users\\CXimen\\OneDrive - BCI\\Documents\\Liquid_Data_Production_Dev\\venv\\lib\\site-packages\\xlwings\\_xlwindows.py:1316\u001b[0m, in \u001b[0;36mRange.insert\u001b[1;34m(self, shift, copy_origin)\u001b[0m\n\u001b[0;32m   1307\u001b[0m shifts \u001b[39m=\u001b[39m {\n\u001b[0;32m   1308\u001b[0m     \u001b[39m\"\u001b[39m\u001b[39mdown\u001b[39m\u001b[39m\"\u001b[39m: InsertShiftDirection\u001b[39m.\u001b[39mxlShiftDown,\n\u001b[0;32m   1309\u001b[0m     \u001b[39m\"\u001b[39m\u001b[39mright\u001b[39m\u001b[39m\"\u001b[39m: InsertShiftDirection\u001b[39m.\u001b[39mxlShiftToRight,\n\u001b[0;32m   1310\u001b[0m     \u001b[39mNone\u001b[39;00m: \u001b[39mNone\u001b[39;00m,\n\u001b[0;32m   1311\u001b[0m }\n\u001b[0;32m   1312\u001b[0m copy_origins \u001b[39m=\u001b[39m {\n\u001b[0;32m   1313\u001b[0m     \u001b[39m\"\u001b[39m\u001b[39mformat_from_left_or_above\u001b[39m\u001b[39m\"\u001b[39m: InsertFormatOrigin\u001b[39m.\u001b[39mxlFormatFromLeftOrAbove,\n\u001b[0;32m   1314\u001b[0m     \u001b[39m\"\u001b[39m\u001b[39mformat_from_right_or_below\u001b[39m\u001b[39m\"\u001b[39m: InsertFormatOrigin\u001b[39m.\u001b[39mxlFormatFromRightOrBelow,\n\u001b[0;32m   1315\u001b[0m }\n\u001b[1;32m-> 1316\u001b[0m \u001b[39mself\u001b[39;49m\u001b[39m.\u001b[39;49mxl\u001b[39m.\u001b[39;49mInsert(Shift\u001b[39m=\u001b[39;49mshifts[shift], CopyOrigin\u001b[39m=\u001b[39;49mcopy_origins[copy_origin])\n",
      "File \u001b[1;32mc:\\Users\\CXimen\\OneDrive - BCI\\Documents\\Liquid_Data_Production_Dev\\venv\\lib\\site-packages\\xlwings\\_xlwindows.py:109\u001b[0m, in \u001b[0;36mCOMRetryMethodWrapper.__call__\u001b[1;34m(self, *args, **kwargs)\u001b[0m\n\u001b[0;32m    107\u001b[0m \u001b[39mwhile\u001b[39;00m \u001b[39mTrue\u001b[39;00m:\n\u001b[0;32m    108\u001b[0m     \u001b[39mtry\u001b[39;00m:\n\u001b[1;32m--> 109\u001b[0m         v \u001b[39m=\u001b[39m \u001b[39mself\u001b[39;49m\u001b[39m.\u001b[39;49m__method(\u001b[39m*\u001b[39;49margs, \u001b[39m*\u001b[39;49m\u001b[39m*\u001b[39;49mkwargs)\n\u001b[0;32m    110\u001b[0m         \u001b[39mif\u001b[39;00m \u001b[39misinstance\u001b[39m(v, (CDispatch, CoClassBaseClass, DispatchBaseClass)):\n\u001b[0;32m    111\u001b[0m             \u001b[39mreturn\u001b[39;00m COMRetryObjectWrapper(v)\n",
      "File \u001b[1;32m~\\AppData\\Local\\Temp\\2\\gen_py\\3.8\\00020813-0000-0000-C000-000000000046x0x1x9.py:33780\u001b[0m, in \u001b[0;36mRange.Insert\u001b[1;34m(self, Shift, CopyOrigin)\u001b[0m\n\u001b[0;32m  33779\u001b[0m \u001b[39mdef\u001b[39;00m \u001b[39mInsert\u001b[39m(\u001b[39mself\u001b[39m, Shift\u001b[39m=\u001b[39mdefaultNamedOptArg, CopyOrigin\u001b[39m=\u001b[39mdefaultNamedOptArg):\n\u001b[1;32m> 33780\u001b[0m \t\u001b[39mreturn\u001b[39;00m \u001b[39mself\u001b[39;49m\u001b[39m.\u001b[39;49m_ApplyTypes_(\u001b[39m252\u001b[39;49m, \u001b[39m1\u001b[39;49m, (\u001b[39m12\u001b[39;49m, \u001b[39m0\u001b[39;49m), ((\u001b[39m12\u001b[39;49m, \u001b[39m17\u001b[39;49m), (\u001b[39m12\u001b[39;49m, \u001b[39m17\u001b[39;49m)), \u001b[39m'\u001b[39;49m\u001b[39mInsert\u001b[39;49m\u001b[39m'\u001b[39;49m, \u001b[39mNone\u001b[39;49;00m,Shift\n\u001b[0;32m  33781\u001b[0m \t\t, CopyOrigin)\n",
      "File \u001b[1;32mc:\\Users\\CXimen\\OneDrive - BCI\\Documents\\Liquid_Data_Production_Dev\\venv\\lib\\site-packages\\win32com\\client\\__init__.py:572\u001b[0m, in \u001b[0;36mDispatchBaseClass._ApplyTypes_\u001b[1;34m(self, dispid, wFlags, retType, argTypes, user, resultCLSID, *args)\u001b[0m\n\u001b[0;32m    570\u001b[0m \u001b[39mdef\u001b[39;00m \u001b[39m_ApplyTypes_\u001b[39m(\u001b[39mself\u001b[39m, dispid, wFlags, retType, argTypes, user, resultCLSID, \u001b[39m*\u001b[39margs):\n\u001b[0;32m    571\u001b[0m     \u001b[39mreturn\u001b[39;00m \u001b[39mself\u001b[39m\u001b[39m.\u001b[39m_get_good_object_(\n\u001b[1;32m--> 572\u001b[0m         \u001b[39mself\u001b[39;49m\u001b[39m.\u001b[39;49m_oleobj_\u001b[39m.\u001b[39;49mInvokeTypes(dispid, \u001b[39m0\u001b[39;49m, wFlags, retType, argTypes, \u001b[39m*\u001b[39;49margs),\n\u001b[0;32m    573\u001b[0m         user,\n\u001b[0;32m    574\u001b[0m         resultCLSID,\n\u001b[0;32m    575\u001b[0m     )\n",
      "\u001b[1;31mcom_error\u001b[0m: (-2147352567, 'Exception occurred.', (0, 'Microsoft Excel', \"This selection isn't valid. Make sure the copy and paste areas don't overlap unless they are the same size and shape.\", 'xlmain11.chm', 0, -2146827284), None)"
     ]
    }
   ],
   "source": [
    "lib.total_fund_tree.update_GPF_Managers_MV(new_date)"
   ]
  }
 ],
 "metadata": {
  "kernelspec": {
   "display_name": "Python 3.8.10 ('venv': venv)",
   "language": "python",
   "name": "python3"
  },
  "language_info": {
   "codemirror_mode": {
    "name": "ipython",
    "version": 3
   },
   "file_extension": ".py",
   "mimetype": "text/x-python",
   "name": "python",
   "nbconvert_exporter": "python",
   "pygments_lexer": "ipython3",
   "version": "3.8.10"
  },
  "orig_nbformat": 4,
  "vscode": {
   "interpreter": {
    "hash": "e96bc769563fdec08fdde0c06411e8d2069d9d240993e40f4a81ac35c5e01f10"
   }
  }
 },
 "nbformat": 4,
 "nbformat_minor": 2
}
