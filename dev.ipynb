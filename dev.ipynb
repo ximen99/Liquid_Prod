{
 "cells": [
  {
   "cell_type": "code",
   "execution_count": 1,
   "metadata": {},
   "outputs": [
    {
     "data": {
      "text/plain": [
       "WindowsPath('S:/IT IRSR Shared/RedSwan/RedSwan/Master_bcIMC/LIQUID/Liquid')"
      ]
     },
     "execution_count": 1,
     "metadata": {},
     "output_type": "execute_result"
    }
   ],
   "source": [
    "import lib\n",
    "from datetime import date, timedelta\n",
    "import warnings\n",
    "warnings.filterwarnings(\"ignore\")\n",
    "import pandas as pd\n",
    "from lib import utils as ut\n",
    "from pathlib import Path\n",
    "\n",
    "pd.options.display.float_format = '{:.2f}'.format\n",
    "\n",
    "# last week's validation date \n",
    "from_date = date(2024, 3, 8)\n",
    "# new week's date to work on\n",
    "new_date = from_date + timedelta(days=7)\n",
    "# check environment, if production it should return share drive path\n",
    "lib.liquid.BASE_PATH"
   ]
  },
  {
   "cell_type": "code",
   "execution_count": 2,
   "metadata": {},
   "outputs": [
    {
     "data": {
      "text/plain": [
       "FundName\n",
       "ECPCSAA   0.25\n",
       "ECPCSAB   0.51\n",
       "ECPCSAC   0.24\n",
       "Name: percentage, dtype: float64"
      ]
     },
     "execution_count": 2,
     "metadata": {},
     "output_type": "execute_result"
    }
   ],
   "source": [
    "lib.total_fund_tree.get_ecp_scd_percentage()"
   ]
  },
  {
   "cell_type": "code",
   "execution_count": 4,
   "metadata": {},
   "outputs": [
    {
     "data": {
      "text/plain": [
       "array(['EEUROSEC', 'ELIFT', 'EUPPER90', 'ELUMINARX', 'EANCHORAGE',\n",
       "       'ECOATUE', 'EPANTHEON', 'EOCEAN', 'ESMWHISTLER', 'EPACIFIC',\n",
       "       'EISOBOR', 'EISOOCA', 'EISOMAIA', 'EISOSEL', 'EISOCAD', 'EECPF',\n",
       "       'EAMALFIC', 'ECLARETA', 'EGOODWOODPIK', 'EGOODWOODACF', 'ECLARET',\n",
       "       'ENBSFIII', 'ECLARETK', 'LX227686', 'EGOODWOODB', 'ERUBIO',\n",
       "       'LX209709', 'EGARDEN', 'LX222761', 'EAMALFI', 'ECLASS', 'ECARVALC',\n",
       "       'EINDIGOA', 'EINDIGOK', 'ECVCCCS3CI', 'EBLCKROCK', 'E17CAPITAL',\n",
       "       'ESTRUCTURAL', 'EMOJITO', 'EBAYVIEWOFO', 'ESTICKER', 'ECARVALB',\n",
       "       'ETHREEHILLS', 'EPIMCOC', 'EBLCKRCKB', 'EKELLY', 'EENVIRO',\n",
       "       'ESTARMOUNT', 'EENVIROCI', 'ECVCCCS3', 'ECARVAL', 'EBLCKRCKC',\n",
       "       'ECOWEN', 'ECVCCI', 'ECIFCA', 'EECO2', 'EFHCM', 'ETRINITY',\n",
       "       'ENBCO', 'EBAYVIEW', 'ECERBERUS', 'ECPCSA'], dtype=object)"
      ]
     },
     "execution_count": 4,
     "metadata": {},
     "output_type": "execute_result"
    }
   ],
   "source": [
    "df['SCD_SEC_ID'].unique()"
   ]
  }
 ],
 "metadata": {
  "kernelspec": {
   "display_name": "Python 3.8.10 ('venv': venv)",
   "language": "python",
   "name": "python3"
  },
  "language_info": {
   "codemirror_mode": {
    "name": "ipython",
    "version": 3
   },
   "file_extension": ".py",
   "mimetype": "text/x-python",
   "name": "python",
   "nbconvert_exporter": "python",
   "pygments_lexer": "ipython3",
   "version": "3.8.10"
  },
  "orig_nbformat": 4,
  "vscode": {
   "interpreter": {
    "hash": "e96bc769563fdec08fdde0c06411e8d2069d9d240993e40f4a81ac35c5e01f10"
   }
  }
 },
 "nbformat": 4,
 "nbformat_minor": 2
}
