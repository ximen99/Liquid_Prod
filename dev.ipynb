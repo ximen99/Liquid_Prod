{
 "cells": [
  {
   "cell_type": "code",
   "execution_count": 1,
   "metadata": {},
   "outputs": [
    {
     "data": {
      "text/plain": [
       "WindowsPath('S:/IT IRSR Shared/RedSwan/RedSwan/Master_bcIMC/LIQUID/Liquid')"
      ]
     },
     "execution_count": 1,
     "metadata": {},
     "output_type": "execute_result"
    }
   ],
   "source": [
    "import lib\n",
    "from datetime import date, timedelta\n",
    "import warnings\n",
    "warnings.filterwarnings(\"ignore\")\n",
    "import pandas as pd\n",
    "\n",
    "pd.options.display.float_format = '{:.2f}'.format\n",
    "\n",
    "# last week's validation date \n",
    "from_date = date(2023, 9, 8)\n",
    "# new week's date to work on\n",
    "new_date = from_date + timedelta(days=7)\n",
    "# check environment, if production it should return share drive path\n",
    "lib.liquid.base_path"
   ]
  },
  {
   "cell_type": "code",
   "execution_count": 2,
   "metadata": {},
   "outputs": [
    {
     "ename": "ValueError",
     "evalue": "Counterparty \"DSI\" not found in mapping table",
     "output_type": "error",
     "traceback": [
      "\u001b[1;31m---------------------------------------------------------------------------\u001b[0m",
      "\u001b[1;31mValueError\u001b[0m                                Traceback (most recent call last)",
      "\u001b[1;32mc:\\Users\\CXimen\\OneDrive - BCI\\Documents\\Liquid_Data_Production_Dev\\src\\dev.ipynb Cell 2\u001b[0m line \u001b[0;36m1\n\u001b[1;32m----> <a href='vscode-notebook-cell:/c%3A/Users/CXimen/OneDrive%20-%20BCI/Documents/Liquid_Data_Production_Dev/src/dev.ipynb#W1sZmlsZQ%3D%3D?line=0'>1</a>\u001b[0m lib\u001b[39m.\u001b[39;49mrepo\u001b[39m.\u001b[39;49mget_sql_data(new_date)\n",
      "File \u001b[1;32mc:\\Users\\CXimen\\OneDrive - BCI\\Documents\\Liquid_Data_Production_Dev\\src\\lib\\repo.py:58\u001b[0m, in \u001b[0;36mget_sql_data\u001b[1;34m(dt)\u001b[0m\n\u001b[0;32m     56\u001b[0m     \u001b[39mraise\u001b[39;00m \u001b[39mValueError\u001b[39;00m(\u001b[39m\"\u001b[39m\u001b[39mNo data found in database\u001b[39m\u001b[39m\"\u001b[39m)\n\u001b[0;32m     57\u001b[0m df \u001b[39m=\u001b[39m pd\u001b[39m.\u001b[39mconcat([df1, df2])\n\u001b[1;32m---> 58\u001b[0m df \u001b[39m=\u001b[39m clean_data(df, dt)\n\u001b[0;32m     59\u001b[0m \u001b[39mreturn\u001b[39;00m df\n",
      "File \u001b[1;32mc:\\Users\\CXimen\\OneDrive - BCI\\Documents\\Liquid_Data_Production_Dev\\src\\lib\\repo.py:67\u001b[0m, in \u001b[0;36mclean_data\u001b[1;34m(df, dt)\u001b[0m\n\u001b[0;32m     62\u001b[0m \u001b[39mdef\u001b[39;00m \u001b[39mclean_data\u001b[39m(df: pd\u001b[39m.\u001b[39mDataFrame, dt: date) \u001b[39m-\u001b[39m\u001b[39m>\u001b[39m pd\u001b[39m.\u001b[39mDataFrame:\n\u001b[0;32m     63\u001b[0m     countrypartyMap \u001b[39m=\u001b[39m (mds\u001b[39m.\u001b[39mget_counter_party_map(dt)\n\u001b[0;32m     64\u001b[0m                        \u001b[39m.\u001b[39mset_index(\u001b[39m'\u001b[39m\u001b[39mCOUNTERPARTY_INPUT\u001b[39m\u001b[39m'\u001b[39m)\n\u001b[0;32m     65\u001b[0m                        \u001b[39m.\u001b[39mto_dict()\n\u001b[0;32m     66\u001b[0m                        [\u001b[39m'\u001b[39m\u001b[39mCOUNTERPARTY_OUTPUT\u001b[39m\u001b[39m'\u001b[39m])\n\u001b[1;32m---> 67\u001b[0m     df[\u001b[39m'\u001b[39m\u001b[39mcounterparty\u001b[39m\u001b[39m'\u001b[39m] \u001b[39m=\u001b[39m df\u001b[39m.\u001b[39;49mapply(\u001b[39mlambda\u001b[39;49;00m r: clean_counterparty(\n\u001b[0;32m     68\u001b[0m         r[\u001b[39m'\u001b[39;49m\u001b[39mcounterparty\u001b[39;49m\u001b[39m'\u001b[39;49m], countrypartyMap), axis\u001b[39m=\u001b[39;49m\u001b[39m1\u001b[39;49m)\n\u001b[0;32m     69\u001b[0m     \u001b[39mreturn\u001b[39;00m df\n",
      "File \u001b[1;32mc:\\Users\\CXimen\\OneDrive - BCI\\Documents\\Liquid_Data_Production_Dev\\venv\\lib\\site-packages\\pandas\\core\\frame.py:9555\u001b[0m, in \u001b[0;36mDataFrame.apply\u001b[1;34m(self, func, axis, raw, result_type, args, **kwargs)\u001b[0m\n\u001b[0;32m   9544\u001b[0m \u001b[39mfrom\u001b[39;00m \u001b[39mpandas\u001b[39;00m\u001b[39m.\u001b[39;00m\u001b[39mcore\u001b[39;00m\u001b[39m.\u001b[39;00m\u001b[39mapply\u001b[39;00m \u001b[39mimport\u001b[39;00m frame_apply\n\u001b[0;32m   9546\u001b[0m op \u001b[39m=\u001b[39m frame_apply(\n\u001b[0;32m   9547\u001b[0m     \u001b[39mself\u001b[39m,\n\u001b[0;32m   9548\u001b[0m     func\u001b[39m=\u001b[39mfunc,\n\u001b[1;32m   (...)\u001b[0m\n\u001b[0;32m   9553\u001b[0m     kwargs\u001b[39m=\u001b[39mkwargs,\n\u001b[0;32m   9554\u001b[0m )\n\u001b[1;32m-> 9555\u001b[0m \u001b[39mreturn\u001b[39;00m op\u001b[39m.\u001b[39;49mapply()\u001b[39m.\u001b[39m__finalize__(\u001b[39mself\u001b[39m, method\u001b[39m=\u001b[39m\u001b[39m\"\u001b[39m\u001b[39mapply\u001b[39m\u001b[39m\"\u001b[39m)\n",
      "File \u001b[1;32mc:\\Users\\CXimen\\OneDrive - BCI\\Documents\\Liquid_Data_Production_Dev\\venv\\lib\\site-packages\\pandas\\core\\apply.py:746\u001b[0m, in \u001b[0;36mFrameApply.apply\u001b[1;34m(self)\u001b[0m\n\u001b[0;32m    743\u001b[0m \u001b[39melif\u001b[39;00m \u001b[39mself\u001b[39m\u001b[39m.\u001b[39mraw:\n\u001b[0;32m    744\u001b[0m     \u001b[39mreturn\u001b[39;00m \u001b[39mself\u001b[39m\u001b[39m.\u001b[39mapply_raw()\n\u001b[1;32m--> 746\u001b[0m \u001b[39mreturn\u001b[39;00m \u001b[39mself\u001b[39;49m\u001b[39m.\u001b[39;49mapply_standard()\n",
      "File \u001b[1;32mc:\\Users\\CXimen\\OneDrive - BCI\\Documents\\Liquid_Data_Production_Dev\\venv\\lib\\site-packages\\pandas\\core\\apply.py:873\u001b[0m, in \u001b[0;36mFrameApply.apply_standard\u001b[1;34m(self)\u001b[0m\n\u001b[0;32m    872\u001b[0m \u001b[39mdef\u001b[39;00m \u001b[39mapply_standard\u001b[39m(\u001b[39mself\u001b[39m):\n\u001b[1;32m--> 873\u001b[0m     results, res_index \u001b[39m=\u001b[39m \u001b[39mself\u001b[39;49m\u001b[39m.\u001b[39;49mapply_series_generator()\n\u001b[0;32m    875\u001b[0m     \u001b[39m# wrap results\u001b[39;00m\n\u001b[0;32m    876\u001b[0m     \u001b[39mreturn\u001b[39;00m \u001b[39mself\u001b[39m\u001b[39m.\u001b[39mwrap_results(results, res_index)\n",
      "File \u001b[1;32mc:\\Users\\CXimen\\OneDrive - BCI\\Documents\\Liquid_Data_Production_Dev\\venv\\lib\\site-packages\\pandas\\core\\apply.py:889\u001b[0m, in \u001b[0;36mFrameApply.apply_series_generator\u001b[1;34m(self)\u001b[0m\n\u001b[0;32m    886\u001b[0m \u001b[39mwith\u001b[39;00m option_context(\u001b[39m\"\u001b[39m\u001b[39mmode.chained_assignment\u001b[39m\u001b[39m\"\u001b[39m, \u001b[39mNone\u001b[39;00m):\n\u001b[0;32m    887\u001b[0m     \u001b[39mfor\u001b[39;00m i, v \u001b[39min\u001b[39;00m \u001b[39menumerate\u001b[39m(series_gen):\n\u001b[0;32m    888\u001b[0m         \u001b[39m# ignore SettingWithCopy here in case the user mutates\u001b[39;00m\n\u001b[1;32m--> 889\u001b[0m         results[i] \u001b[39m=\u001b[39m \u001b[39mself\u001b[39;49m\u001b[39m.\u001b[39;49mf(v)\n\u001b[0;32m    890\u001b[0m         \u001b[39mif\u001b[39;00m \u001b[39misinstance\u001b[39m(results[i], ABCSeries):\n\u001b[0;32m    891\u001b[0m             \u001b[39m# If we have a view on v, we need to make a copy because\u001b[39;00m\n\u001b[0;32m    892\u001b[0m             \u001b[39m#  series_generator will swap out the underlying data\u001b[39;00m\n\u001b[0;32m    893\u001b[0m             results[i] \u001b[39m=\u001b[39m results[i]\u001b[39m.\u001b[39mcopy(deep\u001b[39m=\u001b[39m\u001b[39mFalse\u001b[39;00m)\n",
      "File \u001b[1;32mc:\\Users\\CXimen\\OneDrive - BCI\\Documents\\Liquid_Data_Production_Dev\\src\\lib\\repo.py:67\u001b[0m, in \u001b[0;36mclean_data.<locals>.<lambda>\u001b[1;34m(r)\u001b[0m\n\u001b[0;32m     62\u001b[0m \u001b[39mdef\u001b[39;00m \u001b[39mclean_data\u001b[39m(df: pd\u001b[39m.\u001b[39mDataFrame, dt: date) \u001b[39m-\u001b[39m\u001b[39m>\u001b[39m pd\u001b[39m.\u001b[39mDataFrame:\n\u001b[0;32m     63\u001b[0m     countrypartyMap \u001b[39m=\u001b[39m (mds\u001b[39m.\u001b[39mget_counter_party_map(dt)\n\u001b[0;32m     64\u001b[0m                        \u001b[39m.\u001b[39mset_index(\u001b[39m'\u001b[39m\u001b[39mCOUNTERPARTY_INPUT\u001b[39m\u001b[39m'\u001b[39m)\n\u001b[0;32m     65\u001b[0m                        \u001b[39m.\u001b[39mto_dict()\n\u001b[0;32m     66\u001b[0m                        [\u001b[39m'\u001b[39m\u001b[39mCOUNTERPARTY_OUTPUT\u001b[39m\u001b[39m'\u001b[39m])\n\u001b[1;32m---> 67\u001b[0m     df[\u001b[39m'\u001b[39m\u001b[39mcounterparty\u001b[39m\u001b[39m'\u001b[39m] \u001b[39m=\u001b[39m df\u001b[39m.\u001b[39mapply(\u001b[39mlambda\u001b[39;00m r: clean_counterparty(\n\u001b[0;32m     68\u001b[0m         r[\u001b[39m'\u001b[39;49m\u001b[39mcounterparty\u001b[39;49m\u001b[39m'\u001b[39;49m], countrypartyMap), axis\u001b[39m=\u001b[39m\u001b[39m1\u001b[39m)\n\u001b[0;32m     69\u001b[0m     \u001b[39mreturn\u001b[39;00m df\n",
      "File \u001b[1;32mc:\\Users\\CXimen\\OneDrive - BCI\\Documents\\Liquid_Data_Production_Dev\\src\\lib\\repo.py:79\u001b[0m, in \u001b[0;36mclean_counterparty\u001b[1;34m(name, map)\u001b[0m\n\u001b[0;32m     77\u001b[0m \u001b[39mif\u001b[39;00m name \u001b[39min\u001b[39;00m \u001b[39mmap\u001b[39m\u001b[39m.\u001b[39mkeys():\n\u001b[0;32m     78\u001b[0m     \u001b[39mreturn\u001b[39;00m \u001b[39mmap\u001b[39m[name]\n\u001b[1;32m---> 79\u001b[0m \u001b[39mraise\u001b[39;00m \u001b[39mValueError\u001b[39;00m(\n\u001b[0;32m     80\u001b[0m     \u001b[39mf\u001b[39m\u001b[39m'\u001b[39m\u001b[39mCounterparty \u001b[39m\u001b[39m\"\u001b[39m\u001b[39m{\u001b[39;00mname\u001b[39m}\u001b[39;00m\u001b[39m\"\u001b[39m\u001b[39m not found in mapping table\u001b[39m\u001b[39m'\u001b[39m)\n",
      "\u001b[1;31mValueError\u001b[0m: Counterparty \"DSI\" not found in mapping table"
     ]
    }
   ],
   "source": [
    "lib.repo.get_sql_data(new_date)"
   ]
  }
 ],
 "metadata": {
  "kernelspec": {
   "display_name": "Python 3.8.10 ('venv': venv)",
   "language": "python",
   "name": "python3"
  },
  "language_info": {
   "codemirror_mode": {
    "name": "ipython",
    "version": 3
   },
   "file_extension": ".py",
   "mimetype": "text/x-python",
   "name": "python",
   "nbconvert_exporter": "python",
   "pygments_lexer": "ipython3",
   "version": "3.8.10"
  },
  "orig_nbformat": 4,
  "vscode": {
   "interpreter": {
    "hash": "e96bc769563fdec08fdde0c06411e8d2069d9d240993e40f4a81ac35c5e01f10"
   }
  }
 },
 "nbformat": 4,
 "nbformat_minor": 2
}
