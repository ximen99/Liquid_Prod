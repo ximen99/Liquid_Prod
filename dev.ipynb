{
 "cells": [
  {
   "cell_type": "code",
   "execution_count": 1,
   "metadata": {},
   "outputs": [],
   "source": [
    "import lib\n",
    "import pandas as pd\n",
    "from datetime import date, timedelta\n",
    "import warnings\n",
    "warnings.filterwarnings('ignore')\n",
    "\n",
    "\n",
    "# last week's validation date\n",
    "from_date = date(2022, 11, 4)   \n",
    "# new week's date to work on\n",
    "new_date = from_date + timedelta(days=6)\n"
   ]
  },
  {
   "cell_type": "code",
   "execution_count": 2,
   "metadata": {},
   "outputs": [
    {
     "name": "stdout",
     "output_type": "stream",
     "text": [
      "Copied to folder at c:\\Users\\CXimen\\OneDrive - BCI\\Documents\\Liquid_Data_Production_Dev\\2022\\11\\11_10\n",
      "Deleted files under c:\\Users\\CXimen\\OneDrive - BCI\\Documents\\Liquid_Data_Production_Dev\\2022\\11\\11_10\\Mapping\n",
      "Deleted files under c:\\Users\\CXimen\\OneDrive - BCI\\Documents\\Liquid_Data_Production_Dev\\2022\\11\\11_10\\Results\n",
      "Deleted csv files under c:\\Users\\CXimen\\OneDrive - BCI\\Documents\\Liquid_Data_Production_Dev\\2022\\11\\11_10\n",
      "Deleted c:\\Users\\CXimen\\OneDrive - BCI\\Documents\\Liquid_Data_Production_Dev\\2022\\11\\11_10\\PV Report Liquids 20221028.xlsx\n",
      "Deleted c:\\Users\\CXimen\\OneDrive - BCI\\Documents\\Liquid_Data_Production_Dev\\2022\\11\\11_10\\Illiquid RMLs\\PV Report Liquids 20221028.xlsx\n",
      "updated date from 20221104 to 20221110 in environment file at c:\\Users\\CXimen\\OneDrive - BCI\\Documents\\Liquid_Data_Production_Dev\\2022\\11\\11_10\\NewArch_LiquidsDerivatives V1 CSV.environment\n",
      "updated positition to Basket_Hedge in environment file at c:\\Users\\CXimen\\OneDrive - BCI\\Documents\\Liquid_Data_Production_Dev\\2022\\11\\11_10\\NewArch_LiquidsDerivatives V1 CSV.environment\n"
     ]
    }
   ],
   "source": [
    "lib.liquid.create_template_folder(from_date,new_date)"
   ]
  },
  {
   "cell_type": "code",
   "execution_count": 2,
   "metadata": {},
   "outputs": [
    {
     "data": {
      "text/plain": [
       "WindowsPath('c:/Users/CXimen/OneDrive - BCI/Documents/Liquid_Data_Production_Dev')"
      ]
     },
     "execution_count": 2,
     "metadata": {},
     "output_type": "execute_result"
    }
   ],
   "source": [
    "lib.liquid.base_path"
   ]
  }
 ],
 "metadata": {
  "kernelspec": {
   "display_name": "Python 3.8.10 ('venv': venv)",
   "language": "python",
   "name": "python3"
  },
  "language_info": {
   "codemirror_mode": {
    "name": "ipython",
    "version": 3
   },
   "file_extension": ".py",
   "mimetype": "text/x-python",
   "name": "python",
   "nbconvert_exporter": "python",
   "pygments_lexer": "ipython3",
   "version": "3.8.10"
  },
  "orig_nbformat": 4,
  "vscode": {
   "interpreter": {
    "hash": "e96bc769563fdec08fdde0c06411e8d2069d9d240993e40f4a81ac35c5e01f10"
   }
  }
 },
 "nbformat": 4,
 "nbformat_minor": 2
}
