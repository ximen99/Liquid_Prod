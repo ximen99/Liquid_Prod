{
 "cells": [
  {
   "cell_type": "code",
   "execution_count": 1,
   "metadata": {},
   "outputs": [
    {
     "data": {
      "text/plain": [
       "WindowsPath('S:/IT IRSR Shared/RedSwan/RedSwan/Master_bcIMC/LIQUID/Liquid')"
      ]
     },
     "execution_count": 1,
     "metadata": {},
     "output_type": "execute_result"
    }
   ],
   "source": [
    "import lib\n",
    "from datetime import date, timedelta\n",
    "import warnings\n",
    "warnings.filterwarnings(\"ignore\")\n",
    "import pandas as pd\n",
    "from lib import utils as ut\n",
    "\n",
    "pd.options.display.float_format = '{:.2f}'.format\n",
    "\n",
    "# last week's validation date \n",
    "from_date = date(2024, 2, 2)\n",
    "# new week's date to work on\n",
    "new_date = from_date + timedelta(days=7)\n",
    "# check environment, if production it should return share drive path\n",
    "lib.liquid.BASE_PATH"
   ]
  },
  {
   "cell_type": "code",
   "execution_count": 4,
   "metadata": {},
   "outputs": [
    {
     "data": {
      "text/html": [
       "<div>\n",
       "<style scoped>\n",
       "    .dataframe tbody tr th:only-of-type {\n",
       "        vertical-align: middle;\n",
       "    }\n",
       "\n",
       "    .dataframe tbody tr th {\n",
       "        vertical-align: top;\n",
       "    }\n",
       "\n",
       "    .dataframe thead th {\n",
       "        text-align: right;\n",
       "    }\n",
       "</style>\n",
       "<table border=\"1\" class=\"dataframe\">\n",
       "  <thead>\n",
       "    <tr style=\"text-align: right;\">\n",
       "      <th></th>\n",
       "      <th>External Trade ID</th>\n",
       "      <th>Volume</th>\n",
       "    </tr>\n",
       "    <tr>\n",
       "      <th>External ID</th>\n",
       "      <th></th>\n",
       "      <th></th>\n",
       "    </tr>\n",
       "  </thead>\n",
       "  <tbody>\n",
       "    <tr>\n",
       "      <th>SW24043145</th>\n",
       "      <td>327.00</td>\n",
       "      <td>73947140.36</td>\n",
       "    </tr>\n",
       "    <tr>\n",
       "      <th>SW24043146</th>\n",
       "      <td>992.00</td>\n",
       "      <td>67588614.53</td>\n",
       "    </tr>\n",
       "    <tr>\n",
       "      <th>SW44375268</th>\n",
       "      <td>383.00</td>\n",
       "      <td>33023221.87</td>\n",
       "    </tr>\n",
       "    <tr>\n",
       "      <th>SW44375278</th>\n",
       "      <td>933.00</td>\n",
       "      <td>23210959.56</td>\n",
       "    </tr>\n",
       "    <tr>\n",
       "      <th>SW63604303</th>\n",
       "      <td>3.00</td>\n",
       "      <td>1425000.00</td>\n",
       "    </tr>\n",
       "    <tr>\n",
       "      <th>SW65965146</th>\n",
       "      <td>5.00</td>\n",
       "      <td>3800000.00</td>\n",
       "    </tr>\n",
       "    <tr>\n",
       "      <th>Total</th>\n",
       "      <td>2643.00</td>\n",
       "      <td>202994936.33</td>\n",
       "    </tr>\n",
       "  </tbody>\n",
       "</table>\n",
       "</div>"
      ],
      "text/plain": [
       "             External Trade ID       Volume\n",
       "External ID                                \n",
       "SW24043145              327.00  73947140.36\n",
       "SW24043146              992.00  67588614.53\n",
       "SW44375268              383.00  33023221.87\n",
       "SW44375278              933.00  23210959.56\n",
       "SW63604303                3.00   1425000.00\n",
       "SW65965146                5.00   3800000.00\n",
       "Total                  2643.00 202994936.33"
      ]
     },
     "execution_count": 4,
     "metadata": {},
     "output_type": "execute_result"
    }
   ],
   "source": [
    "lib.liquid.get_superD_BTRSEQ(date(2024, 2, 9))"
   ]
  }
 ],
 "metadata": {
  "kernelspec": {
   "display_name": "Python 3.8.10 ('venv': venv)",
   "language": "python",
   "name": "python3"
  },
  "language_info": {
   "codemirror_mode": {
    "name": "ipython",
    "version": 3
   },
   "file_extension": ".py",
   "mimetype": "text/x-python",
   "name": "python",
   "nbconvert_exporter": "python",
   "pygments_lexer": "ipython3",
   "version": "3.8.10"
  },
  "orig_nbformat": 4,
  "vscode": {
   "interpreter": {
    "hash": "e96bc769563fdec08fdde0c06411e8d2069d9d240993e40f4a81ac35c5e01f10"
   }
  }
 },
 "nbformat": 4,
 "nbformat_minor": 2
}
