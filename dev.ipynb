{
 "cells": [
  {
   "cell_type": "code",
   "execution_count": 5,
   "metadata": {},
   "outputs": [],
   "source": [
    "import lib\n",
    "from lib import utils as ut\n",
    "import pandas as pd\n",
    "from datetime import date, timedelta\n",
    "from pathlib import Path\n",
    "import warnings\n",
    "warnings.filterwarnings('ignore')\n",
    "\n",
    "pd.options.display.float_format = '{:.2f}'.format\n",
    "\n",
    "# last week's validation date\n",
    "from_date = date(2022, 11, 18)   \n",
    "# new week's date to work on\n",
    "new_date = from_date + timedelta(days=7)\n",
    "lib.liquid.base_path\n",
    "\n",
    "df = lib.liquid.get_all_liquid_except_CIBC()"
   ]
  }
 ],
 "metadata": {
  "kernelspec": {
   "display_name": "Python 3.8.10 ('venv': venv)",
   "language": "python",
   "name": "python3"
  },
  "language_info": {
   "codemirror_mode": {
    "name": "ipython",
    "version": 3
   },
   "file_extension": ".py",
   "mimetype": "text/x-python",
   "name": "python",
   "nbconvert_exporter": "python",
   "pygments_lexer": "ipython3",
   "version": "3.8.10"
  },
  "orig_nbformat": 4,
  "vscode": {
   "interpreter": {
    "hash": "e96bc769563fdec08fdde0c06411e8d2069d9d240993e40f4a81ac35c5e01f10"
   }
  }
 },
 "nbformat": 4,
 "nbformat_minor": 2
}
